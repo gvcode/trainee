{
 "cells": [
  {
   "cell_type": "markdown",
   "metadata": {},
   "source": [
    "# Introdução ao Python II\n",
    "\n",
    "<!--Motivação da aula-->\n",
    "\n",
    "<!--TOC dos temas da aula (pra ajudar os alunos a se acharem na aula)-->\n",
    "\n",
    "<!--Texto (enxuto, objetivo) com os objetivos de aprendizagem principais (o que, principalmente, os alunos tem que sair dessa aula sabendo)-->"
   ]
  },
  {
   "cell_type": "markdown",
   "metadata": {},
   "source": [
    "## OOP\n",
    "\n",
    "<!--Esse é um tópico difícil, com certeza dá para modificar o texto e apresentá-lo de uma maneira mais simples e didática. Também com certeza, há tópicos faltante. É preciso ver o que vale a pena adicionar aqui, e o que é avançado demais/pouco utilizado. Falar com o Theodoro e o Michel, que eles manjam-->\n",
    "<!--Os exemplos precisam ser explicados em markdown-->"
   ]
  },
  {
   "cell_type": "markdown",
   "metadata": {},
   "source": [
    "Começamos com uma [apresentação](assets/materials/oop.pptx).\n",
    "\n",
    "O objetivo de criar uma função era dar um nome à uma operação específica, para que não seja necessário escrever essa operação por extenso toda vez que se precise realizá-la. Além disso, fica muito mais fácil fazer manutenção no código se existe um erro nessa operação.\n",
    "\n",
    "As classes seguem um objetivo similar, mas servem para dar nome a uma estrutura de dados."
   ]
  },
  {
   "cell_type": "markdown",
   "metadata": {},
   "source": [
    "### Classes, Objetos, e Métodos\n",
    "\n",
    "As classes são compostas de:\n",
    "\n",
    "+ **Atributos** ou **Propriedades** (*Attributes* ou *Properties*): São dados ou estados característicos daquela classe. Por exemplo, a classe \"ações\" pode ser modelada como tendo um preço médio, um volume diário, e um ticker.\n",
    "+ **Métodos**: São as funções que são específicos daquela classe, muitas vezes utilizam os próprios atributos da classe para realizar uma operação. Por exemplo, pode-se criar um método na classe \"ações\" que mutliplique o preço médio pelo volume diário para se obter o volume financeiro médio.\n",
    "\n",
    "Mas então, o que são os objetos?\n",
    "\n",
    "+ **Classe** (*class*), estrutura de dados / procedimentos / funções que podem se repetir no programa;\n",
    "+ **Objeto** (*object*), instâncias (exemplos específicos) das classes.\n",
    "\n",
    "Qualquer estrutura que possua múltiplas instâncias pode ser caracterizada como uma classe (*class*), e qualquer instância/exemplo dessa estrutura pode ser um objeto (*object*). Exemplo: ações e PETR4.SA:\n",
    "\n",
    "<!--Salvar como imagem em assets/img (falar com o Ricardo)-->\n",
    "![](https://drive.google.com/uc?export=view&id=1FA_yMqIsoQ34v-ePAyoAJUxGWS0vvwbe)"
   ]
  },
  {
   "cell_type": "markdown",
   "metadata": {},
   "source": [
    "### Sintaxe e Definição\n",
    "\n",
    "Usamos a palavra ***class***, o nome da classe (com a primeira letra em maísculo, por convenção), e \"()\", indicando uma ação (no caso, criar um objeto da classe).\n",
    "\n",
    "Normalmente a definição de uma classe começa pelo método __init__. ele é um método especial, o método construtor, e indica que todas as linhas subordinadas a ele devem ser executadas quando um objeto daquela classe é criado. As linhas que estão subordinadas ao método __init__ são aquelas que estabelecem os atributos.\n",
    "\n",
    "Além disso, a palavra self é uma referência a todos os atributos de um objeto. Os métodos levam como argumento o próprio objeto em si, ou seja, o método que tem self como argumento pode acessar e trabalhar com todos os elementos do objeto em si.\n",
    "\n",
    "Depois do método construtor (__init__), em geral, vêm os métodos ordinários, aqueles que executam ações."
   ]
  },
  {
   "cell_type": "code",
   "execution_count": 5,
   "metadata": {},
   "outputs": [],
   "source": [
    "class aluno():\n",
    "  #criando atributos\n",
    "    def __init__(self, nome, nota1, nota2):\n",
    "        self.nome = nome\n",
    "        self.nota1 = nota1\n",
    "        self.nota2 = nota2\n",
    "        \n",
    "  #criando métodos\n",
    "    def media(self):\n",
    "        return (self.nota1 + self.nota2) / 2"
   ]
  },
  {
   "cell_type": "code",
   "execution_count": 6,
   "metadata": {},
   "outputs": [
    {
     "name": "stdout",
     "output_type": "stream",
     "text": [
      "Michel 8.5\n"
     ]
    }
   ],
   "source": [
    "michel = aluno(nome = \"Michel\", nota1 = 7, nota2 = 10)\n",
    "print(michel.nome, michel.media())"
   ]
  },
  {
   "cell_type": "code",
   "execution_count": 7,
   "metadata": {},
   "outputs": [],
   "source": [
    "class Stocks():\n",
    "    def __init__(self, ticker_name, price_inDolars, volume_inUnits, beta_float,\n",
    "                 divDate_string, enterpriseValue_inDolars, price_inList):\n",
    "        self.ticker = ticker_name # preenchendo name com o valor referente ao argumento full_name\n",
    "        self.price_last = price_inDolars\n",
    "        self.volume_last_day = volume_inUnits\n",
    "        self.beta = beta_float\n",
    "        self.divDate = divDate_string\n",
    "        self.enterpriseValue = enterpriseValue_inDolars\n",
    "        self.price_hist = price_inList\n",
    "        self.portShare = 0# não vem de argumento, sempre uma ação começa com esse valor de argumento\n",
    "\n",
    "    def eatfinVolume(self): # self entra como argumento para que o procedimento possa acessar os atributos e seus valores.\n",
    "        return self.price_last * self.volume_last_day\n",
    "\n",
    "    def addPrice(self, price):\n",
    "        self.price_hist.append(price)\n",
    "\n",
    "    def changeShare(self, newshare):\n",
    "        self.portShare = newshare\n",
    "\n",
    "    def printPrice(self):\n",
    "        print(\"The stock \" + self.ticker + \" has a last price of \" + str(self.price_last))\n",
    "\n",
    "    def __str__(self):\n",
    "        return \"The stock \" + str(self.ticker) + \" has a last price of \" + str(self.price_last)"
   ]
  },
  {
   "cell_type": "code",
   "execution_count": 8,
   "metadata": {},
   "outputs": [
    {
     "name": "stdout",
     "output_type": "stream",
     "text": [
      "PETR4.SA\n",
      "The stock PETR4.SA has a last price of 30.13\n",
      "31.23\n",
      "Brazil\n",
      "The stock PETR4.SA has a last price of 31.23\n"
     ]
    }
   ],
   "source": [
    "petr = Stocks(ticker_name = \"PETR4.SA\",\n",
    "              price_inDolars = 30.13,\n",
    "              volume_inUnits = 93824145,\n",
    "              beta_float = 1.33,\n",
    "              divDate_string = \"Aug 12, 2022\",\n",
    "              enterpriseValue_inDolars = 594060000000,\n",
    "              price_inList = [29.80, 30.39, 29.44])\n",
    "\n",
    "print(petr.ticker)\n",
    "\n",
    "petr.eatfinVolume()\n",
    "\n",
    "petr.printPrice()\n",
    "\n",
    "petr.price_last = 31.23\n",
    "print(petr.price_last)\n",
    "\n",
    "petr.nationality = \"Brazil\"\n",
    "print(petr.nationality)\n",
    "\n",
    "print(petr)"
   ]
  },
  {
   "cell_type": "markdown",
   "metadata": {},
   "source": [
    "## Coleções\n",
    "\n",
    "<!--texto introdutório de o que são coleções-->\n",
    "\n",
    "<!--o conteúdo da aula antiga são bons, mas podem ser reorganizados de uma maneira mais direta na estrutura abaixo. busque fazer melhorias do _flow_ de ensino, e checar se nenhum tema importante está sendo deixado de lado-->"
   ]
  },
  {
   "cell_type": "markdown",
   "metadata": {},
   "source": [
    "O nome coleções vem de \"conjunto\" de dados, e existem quatro tipos diferentes, que servem para objetivos diferentes, baseados em suas características:\n",
    "\n",
    "|  | Ordenado | Mutável | Duplicatas |\n",
    "| --- | --- | --- | --- |\n",
    "| Listas | sim | sim | sim |\n",
    "| Tuples | sim | não | sim |\n",
    "| Sets | não | não | não |\n",
    "| Dicionários | sim | sim | não |\n",
    "\n",
    "Em termos mais simples listas são as mais flexíveis e menos específicas, tuples são listas imutáveis, e dicionários são listas nomeadas. Sets, os mais restritivos, funcionam como o conceito de \"conjunto\" da matemática.\n",
    "\n",
    "Cada coleção tem seus próprios métodos, dêem uma olhada neles nos tutoriais abaixo:\n",
    "\n",
    "- W3Schools: https://www.w3schools.com/python/python_lists.asp (mais simples e sucinto);\n",
    "- Documentação do Python: https://docs.python.org/3/tutorial/datastructures.html#tuples-and-sequences (mais técnico, mais informações)."
   ]
  },
  {
   "cell_type": "markdown",
   "metadata": {},
   "source": [
    "### Listas\n",
    "<!--Texto (enxuto, objetivo) de introdução-->\n",
    "\n",
    "#### Sintaxe e Definição\n",
    "<!--criar com list() ou []. Falar sobre type()-->\n",
    "\n",
    "#### Acessar e Alterar\n",
    "<!--técnincas de indexing, `[]`, `[:]`-->\n",
    "<!--nested lists e como acessar seus elementos-->\n",
    "\n",
    "#### Adicionar, Unir, e Remover\n",
    "<!--adicionar/unir: .append, .extend, `+`/`*`, .insert-->\n",
    "<!--remover: .clear, .pop, .remove, del-->\n",
    "\n",
    "#### Tamanho, Ordem, e Posição\n",
    "<!--length(), .sort, .reverse-->\n",
    "<!--.index e .count-->\n",
    "\n",
    "#### Comparadores\n",
    "<!--`in`/`not in`, ==/!=, is/is not, >/>=/</<=-->\n",
    "\n",
    "#### Loops e Comprehension\n",
    "<!--for, [expression for item in collection], e variações mais complexas (com if, etc)-->"
   ]
  },
  {
   "cell_type": "markdown",
   "metadata": {},
   "source": [
    "### Tuples\n",
    "<!--Texto (enxuto, objetivo) de introdução-->\n",
    "\n",
    "#### Sintaxe e Definição\n",
    "<!--criar com tuple() ou (). Falar sobre type()-->\n",
    "\n",
    "#### Similaridades com Listas\n",
    "<!--Texto sobre as operações de listas que tuples. A sintaxe pro comprehension é tuple(expression for item in collection)-->\n",
    "\n",
    "#### Unpacking\n"
   ]
  },
  {
   "cell_type": "markdown",
   "metadata": {},
   "source": [
    "### Dicts\n",
    "<!--Texto (enxuto, objetivo) de introdução-->\n",
    "\n",
    "#### Sintaxe e Definição\n",
    "<!--criar com dict() ou {} ou .fromkeys. Falar sobre type()-->\n",
    "\n",
    "#### Acessar e Alterar\n",
    "<!--técnincas de indexing com keys, .keys, .values, .items, .get-->\n",
    "<!--.update, .pop, .popitem, .setdefault-->\n",
    "\n",
    "#### Similaridades com Listas\n",
    "<!--Texto sobre as operações de listas que valem pra dicts. A sintaxe pro comprehension é {expression for item in collection}-->"
   ]
  },
  {
   "cell_type": "markdown",
   "metadata": {},
   "source": [
    "<!--Escolha uma frase remetendo pausa e tire print de alguma arte dela em https://patorjk.com/software/taag/. Exemplo:-->\n",
    "\n",
    "<hr>\n",
    "\n",
    "![😎](assets/pause/georgia11.png)\n",
    "\n",
    "<hr>"
   ]
  },
  {
   "cell_type": "markdown",
   "metadata": {},
   "source": [
    "### Sets\n",
    "<!--Texto (enxuto, objetivo) de introdução-->\n",
    "\n",
    "#### Sintaxe e Definição\n",
    "<!--criar com set() . Falar sobre type()-->\n",
    "\n",
    "#### Acessar e Alterar\n",
    "<!--.add-->\n",
    "<!--.discard-->\n",
    "\n",
    "#### Set Operations\n",
    "<!--union (|), intersection (&), update (|=), issub/superset (>, >=, <, <=), isdisjoint, etc-->\n",
    "\n",
    "#### Similaridades com Listas\n",
    "<!--Texto sobre as operações de listas que valem pra dicts. A sintaxe pro comprehension é {expression for item in collection}-->"
   ]
  },
  {
   "cell_type": "markdown",
   "metadata": {},
   "source": [
    "### Funções Sobre Iteráveis\n",
    "<!--Texto (enxuto, objetivo) de o que são iteráveis-->\n",
    "<!--Os exemplos abaixo podem ser alterados, mas o mais importante é adicionar explicação em markdown das funções enumerate, filter, zip, e map-->"
   ]
  },
  {
   "cell_type": "code",
   "execution_count": 9,
   "metadata": {},
   "outputs": [
    {
     "data": {
      "text/plain": [
       "(<enumerate at 0x1f99a36b060>, [(0, 'São Paulo'), (1, 'Flamengo')])"
      ]
     },
     "execution_count": 9,
     "metadata": {},
     "output_type": "execute_result"
    }
   ],
   "source": [
    "my_list = ['São Paulo', 'Flamengo']\n",
    "\n",
    "# o que é um iterável?\n",
    "\n",
    "enumerate(my_list), list(enumerate(my_list))\n",
    "#type(enumerate(my_list))"
   ]
  },
  {
   "cell_type": "code",
   "execution_count": 10,
   "metadata": {},
   "outputs": [
    {
     "name": "stdout",
     "output_type": "stream",
     "text": [
      "Parabéns São Paulo! Você ficou em 1º lugar!\n",
      "Parabéns Flamengo! Você ficou em 2º lugar!\n"
     ]
    }
   ],
   "source": [
    "#sem enumerate:\n",
    "index = 0\n",
    "for i in my_list:\n",
    "    print('Parabéns ' + i + '! Você ficou em ' + str(index + 1) + 'º lugar!')\n",
    "    index += 1"
   ]
  },
  {
   "cell_type": "code",
   "execution_count": 11,
   "metadata": {},
   "outputs": [
    {
     "name": "stdout",
     "output_type": "stream",
     "text": [
      "Parabéns São Paulo! Você ficou em 1º lugar!\n",
      "Parabéns Flamengo! Você ficou em 2º lugar!\n",
      "cof cof Copa do Brasil cof cof\n"
     ]
    }
   ],
   "source": [
    "#com enumerate:\n",
    "for index, i in enumerate(my_list):\n",
    "    print('Parabéns ' + i + '! Você ficou em ' + str(index + 1) + 'º lugar!')\n",
    "\n",
    "print(\"cof cof Copa do Brasil cof cof\")"
   ]
  },
  {
   "cell_type": "code",
   "execution_count": 12,
   "metadata": {},
   "outputs": [
    {
     "name": "stdout",
     "output_type": "stream",
     "text": [
      "[3, 4]\n",
      "[3, 4]\n"
     ]
    }
   ],
   "source": [
    "def maior_que_dois(x):\n",
    "    return x > 2\n",
    "#Ou utilizar uma função anônima \"lambda\": lambda x: x > 2\n",
    "\n",
    "my_list = [1,2,3,4]\n",
    "print(list(filter(maior_que_dois, my_list)))\n",
    "print(list(filter(lambda x: x>2, my_list)))\n"
   ]
  },
  {
   "cell_type": "code",
   "execution_count": 13,
   "metadata": {},
   "outputs": [
    {
     "data": {
      "text/plain": [
       "[False, False, True, True]"
      ]
     },
     "execution_count": 13,
     "metadata": {},
     "output_type": "execute_result"
    }
   ],
   "source": [
    "my_map = list(map(maior_que_dois, my_list)) # map: aplicar uma função para todos os itens\n",
    "my_map"
   ]
  },
  {
   "cell_type": "code",
   "execution_count": 14,
   "metadata": {},
   "outputs": [
    {
     "name": "stdout",
     "output_type": "stream",
     "text": [
      "[1, 2, 3, 4]\n",
      "[False, False, True, True]\n"
     ]
    },
    {
     "data": {
      "text/plain": [
       "[(1, False), (2, False), (3, True), (4, True)]"
      ]
     },
     "execution_count": 14,
     "metadata": {},
     "output_type": "execute_result"
    }
   ],
   "source": [
    "print(my_list)\n",
    "print(my_map)\n",
    "[my_list, my_map]\n",
    "\n",
    "[(my_list[i], my_map[i]) for i in range(4)]\n",
    "list(zip(my_list, my_map))\n",
    "# zip(): une tuplas, mas é um objeto próprio\n",
    "# → precisa fazer tuple(zip()) para ver a tupla mesmo"
   ]
  },
  {
   "cell_type": "markdown",
   "metadata": {},
   "source": [
    "## Variáveis, Novamente\n",
    "\n",
    "Falamos sobre como variáveis são um conjunto nome-valor. Vamos explorar um pouco mais essa ideia.\n",
    "\n",
    "Referência: https://nedbatchelder.com/text/names.html (fonte dos diagramas).\n",
    "\n",
    "Obs: a discussão aqui introduz um conceito teórico, do mundo da Ciência da Computação. Além de ser algo interessante, que vai ajudar você a entenderem como linguagens de programação funcionam, vai ajudar na prática a evitar um tipo específico de erro."
   ]
  },
  {
   "cell_type": "markdown",
   "metadata": {},
   "source": [
    "Considere o código `x = 23`, nós temos o nome \"x\" fazendo referência ao valor (na memória do computador) \"23\":\n",
    "\n",
    "<svg xmlns=\"http://www.w3.org/2000/svg\" xmlns:ev=\"http://www.w3.org/2001/xml-events\" xmlns:xlink=\"http://www.w3.org/1999/xlink\" baseProfile=\"full\" height=\"34.0\" version=\"1.1\" width=\"116.0\" style=\"stroke: #f1f1f1\"><title>x refers to 23</title><defs><marker class=\"arrowend\" id=\"id1\" markerHeight=\"10\" markerWidth=\"10\" orient=\"auto\" refX=\"10\" refY=\"5\" viewBox=\"0,0,10,10\"><path d=\"M 0,0 L 10,5 L 0,10 L 1,5 z\"></path></marker></defs><g transform=\"translate(-81.0,-13.0)\"><polygon class=\"name\" points=\"83,15 115,15 120,30 115,45 83,45\"></polygon><text dy=\".3em\" text-anchor=\"middle\" x=\"99.625\" y=\"30\">x</text><circle class=\"int value\" cx=\"180\" cy=\"30\" r=\"15\"></circle><text dy=\".3em\" text-anchor=\"middle\" x=\"180\" y=\"30\">23</text><path class=\"arrow\" d=\"M 120,30 C 131,30 131,30 142,30 C 153,30 153,30 165,30\" fill=\"none\" marker-end=\"url(#id1)\"></path></g></svg>\n",
    "\n",
    "Se fizermos `y = x`, não criamos um novo objeto, mas temos agora um novo nome apontando para o mesmo valor:\n",
    "\n",
    "<svg xmlns=\"http://www.w3.org/2000/svg\" xmlns:ev=\"http://www.w3.org/2001/xml-events\" xmlns:xlink=\"http://www.w3.org/1999/xlink\" baseProfile=\"full\" height=\"79.0\" version=\"1.1\" width=\"116.0\" style=\"stroke: #f1f1f1\"><title>x and y both refer to 23</title><defs><marker class=\"arrowend\" id=\"id2\" markerHeight=\"10\" markerWidth=\"10\" orient=\"auto\" refX=\"10\" refY=\"5\" viewBox=\"0,0,10,10\"><path d=\"M 0,0 L 10,5 L 0,10 L 1,5 z\"></path></marker></defs><g transform=\"translate(-81.0,-13.0)\"><polygon class=\"name\" points=\"83,15 115,15 120,30 115,45 83,45\"></polygon><text dy=\".3em\" text-anchor=\"middle\" x=\"99.625\" y=\"30\">x</text><polygon class=\"name\" points=\"83,60 115,60 120,75 115,90 83,90\"></polygon><text dy=\".3em\" text-anchor=\"middle\" x=\"99.625\" y=\"75\">y</text><circle class=\"int value\" cx=\"180\" cy=\"52.5\" r=\"15\"></circle><text dy=\".3em\" text-anchor=\"middle\" x=\"180\" y=\"52.5\">23</text><path class=\"arrow\" d=\"M 120,30 C 132,30 132,30 142,37 C 153,43 153,44 165,48\" fill=\"none\" marker-end=\"url(#id2)\"></path><path class=\"arrow\" d=\"M 120,75 C 132,75 132,74 142,67 C 153,61 153,60 165,56\" fill=\"none\" marker-end=\"url(#id2)\"></path></g></svg>\n",
    "\n",
    "Note que poderia ser o contrário, na criação de `y`, criava-se um novo valor (local na memória) para ele, como abaixo, mas não é.\n",
    "\n",
    "<svg xmlns=\"http://www.w3.org/2000/svg\" xmlns:ev=\"http://www.w3.org/2001/xml-events\" xmlns:xlink=\"http://www.w3.org/1999/xlink\" baseProfile=\"full\" height=\"79.0\" version=\"1.1\" width=\"116.0\" style=\"stroke: #f00\"><title>x and y aren’t magically linked</title><defs><marker class=\"arrowend\" id=\"id3\" markerHeight=\"10\" markerWidth=\"10\" orient=\"auto\" refX=\"10\" refY=\"5\" viewBox=\"0,0,10,10\"><path d=\"M 0,0 L 10,5 L 0,10 L 1,5 z\"></path></marker></defs><g transform=\"translate(-81.0,-13.0)\"><polygon class=\"name\" points=\"83,15 115,15 120,30 115,45 83,45\"></polygon><text dy=\".3em\" text-anchor=\"middle\" x=\"99.625\" y=\"30\">x</text><polygon class=\"name\" points=\"83,60 115,60 120,75 115,90 83,90\"></polygon><text dy=\".3em\" text-anchor=\"middle\" x=\"99.625\" y=\"75\">y</text><circle class=\"int value\" cx=\"180\" cy=\"30\" r=\"15\"></circle><text dy=\".3em\" text-anchor=\"middle\" x=\"180\" y=\"30\">23</text><circle class=\"int value\" cx=\"180\" cy=\"75\" r=\"15\"></circle><text dy=\".3em\" text-anchor=\"middle\" x=\"180\" y=\"75\">23</text><path class=\"arrow\" d=\"M 120,30 C 131,30 131,30 142,30 C 153,30 153,30 165,30\" fill=\"none\" marker-end=\"url(#id3)\"></path><path class=\"arrow\" d=\"M 120,75 C 131,75 131,75 142,75 C 153,75 153,75 165,75\" fill=\"none\" marker-end=\"url(#id3)\"></path></g></svg>"
   ]
  },
  {
   "cell_type": "markdown",
   "metadata": {},
   "source": [
    "E se alterarmos a variável `y`, o que pode acontecer?\n",
    "\n",
    "1. O valor (o único que existe) é alterado, e os dois nomes agora fazem referência a esse valor atualizado.\n",
    "2. Cria-se um novo valor para `y`, e agora cada nome se refere a um valor diferente.\n",
    "\n",
    "No Python, neste caso, o que acontece é a segunda opção.\n",
    "\n",
    "Se rodarmos `y = 12`, o que **não acontece** é:\n",
    "\n",
    "<svg xmlns=\"http://www.w3.org/2000/svg\" xmlns:ev=\"http://www.w3.org/2001/xml-events\" xmlns:xlink=\"http://www.w3.org/1999/xlink\" baseProfile=\"full\" height=\"79.0\" version=\"1.1\" width=\"116.0\" style=\"stroke: #f00\"><title>x and y both refer to 23</title><defs><marker class=\"arrowend\" id=\"id2\" markerHeight=\"10\" markerWidth=\"10\" orient=\"auto\" refX=\"10\" refY=\"5\" viewBox=\"0,0,10,10\"><path d=\"M 0,0 L 10,5 L 0,10 L 1,5 z\"></path></marker></defs><g transform=\"translate(-81.0,-13.0)\"><polygon class=\"name\" points=\"83,15 115,15 120,30 115,45 83,45\"></polygon><text dy=\".3em\" text-anchor=\"middle\" x=\"99.625\" y=\"30\">x</text><polygon class=\"name\" points=\"83,60 115,60 120,75 115,90 83,90\"></polygon><text dy=\".3em\" text-anchor=\"middle\" x=\"99.625\" y=\"75\">y</text><circle class=\"int value\" cx=\"180\" cy=\"52.5\" r=\"15\"></circle><text dy=\".3em\" text-anchor=\"middle\" x=\"180\" y=\"52.5\">12</text><path class=\"arrow\" d=\"M 120,30 C 132,30 132,30 142,37 C 153,43 153,44 165,48\" fill=\"none\" marker-end=\"url(#id2)\"></path><path class=\"arrow\" d=\"M 120,75 C 132,75 132,74 142,67 C 153,61 153,60 165,56\" fill=\"none\" marker-end=\"url(#id2)\"></path></g></svg>\n",
    "\n",
    "E sim:\n",
    "\n",
    "<svg xmlns=\"http://www.w3.org/2000/svg\" xmlns:ev=\"http://www.w3.org/2001/xml-events\" xmlns:xlink=\"http://www.w3.org/1999/xlink\" baseProfile=\"full\" height=\"79.0\" version=\"1.1\" width=\"116.0\" style=\"stroke: #f1f1f1\"><title>x and y aren’t magically linked</title><defs><marker class=\"arrowend\" id=\"id3\" markerHeight=\"10\" markerWidth=\"10\" orient=\"auto\" refX=\"10\" refY=\"5\" viewBox=\"0,0,10,10\"><path d=\"M 0,0 L 10,5 L 0,10 L 1,5 z\"></path></marker></defs><g transform=\"translate(-81.0,-13.0)\"><polygon class=\"name\" points=\"83,15 115,15 120,30 115,45 83,45\"></polygon><text dy=\".3em\" text-anchor=\"middle\" x=\"99.625\" y=\"30\">x</text><polygon class=\"name\" points=\"83,60 115,60 120,75 115,90 83,90\"></polygon><text dy=\".3em\" text-anchor=\"middle\" x=\"99.625\" y=\"75\">y</text><circle class=\"int value\" cx=\"180\" cy=\"30\" r=\"15\"></circle><text dy=\".3em\" text-anchor=\"middle\" x=\"180\" y=\"30\">12</text><circle class=\"int value\" cx=\"180\" cy=\"75\" r=\"15\"></circle><text dy=\".3em\" text-anchor=\"middle\" x=\"180\" y=\"75\">23</text><path class=\"arrow\" d=\"M 120,30 C 131,30 131,30 142,30 C 153,30 153,30 165,30\" fill=\"none\" marker-end=\"url(#id3)\"></path><path class=\"arrow\" d=\"M 120,75 C 131,75 131,75 142,75 C 153,75 153,75 165,75\" fill=\"none\" marker-end=\"url(#id3)\"></path></g></svg>\n",
    "\n",
    "Isso é, o valor foi primeiro copiado (para um novo local da memória), e depois alterado. Esse comportamento tem o nome de \"copy-on-modify\".\n",
    "\n",
    "Em oposição:\n",
    "\n",
    "- Poderíamos chamar o comportamento em vermelho de \"copy-on-creation\".\n",
    "- O comportamento da \"opção 2.\" é chamado de \"modify in place\". "
   ]
  },
  {
   "cell_type": "markdown",
   "metadata": {},
   "source": [
    "Mas esse comportamento depende do tipo do objeto. No exemplo acima, o valor foi copiado, porque era imutável. Alguns tipos de valores são mutáveis e são \"modified-in-place\".\n",
    "\n",
    "Vocês viram que listas são mutáveis, vamos ver um exemplo com elas.\n",
    "\n",
    "O código:\n",
    "\n",
    "```\n",
    "nums = [1, 2, 3]\n",
    "tri = nums\n",
    "```\n",
    "\n",
    "Gera:\n",
    "\n",
    "<svg xmlns=\"http://www.w3.org/2000/svg\" xmlns:ev=\"http://www.w3.org/2001/xml-events\" xmlns:xlink=\"http://www.w3.org/1999/xlink\" baseProfile=\"full\" height=\"79.0\" version=\"1.1\" width=\"184.0\" style=\"stroke: #f1f1f1\"><title>nums and tri both refer to the same list</title><defs><marker class=\"arrowend\" id=\"id5\" markerHeight=\"10\" markerWidth=\"10\" orient=\"auto\" refX=\"10\" refY=\"5\" viewBox=\"0,0,10,10\"><path d=\"M 0,0 L 10,5 L 0,10 L 1,5 z\"></path></marker></defs><g transform=\"translate(-55.0,-13.0)\"><polygon class=\"name\" points=\"57,15 115,15 120,30 115,45 57,45\"></polygon><text dy=\".3em\" text-anchor=\"middle\" x=\"86.625\" y=\"30\">nums</text><polygon class=\"name\" points=\"77,60 115,60 120,75 115,90 77,90\"></polygon><text dy=\".3em\" text-anchor=\"middle\" x=\"96.625\" y=\"75\">tri</text><rect class=\"list\" height=\"30\" width=\"24\" x=\"165\" y=\"37.5\"></rect><text dy=\".3em\" text-anchor=\"middle\" x=\"177\" y=\"52.5\">1</text><rect class=\"list\" height=\"30\" width=\"24\" x=\"189\" y=\"37.5\"></rect><text dy=\".3em\" text-anchor=\"middle\" x=\"201\" y=\"52.5\">2</text><rect class=\"list\" height=\"30\" width=\"24\" x=\"213\" y=\"37.5\"></rect><text dy=\".3em\" text-anchor=\"middle\" x=\"225\" y=\"52.5\">3</text><path class=\"arrow\" d=\"M 120,30 C 132,30 132,30 142,37 C 153,43 153,44 165,48\" fill=\"none\" marker-end=\"url(#id5)\"></path><path class=\"arrow\" d=\"M 120,75 C 132,75 132,74 142,67 C 153,61 153,60 165,56\" fill=\"none\" marker-end=\"url(#id5)\"></path></g></svg>\n",
    "\n",
    "E se rodarmos `nums.append(4)`? Listas são mutáveis, então não criaremos uma cópia/um novo valor para `nums`, e sim, **modificaremos o valor a quem `nums` se refere**, in-place:\n",
    "\n",
    "<svg xmlns=\"http://www.w3.org/2000/svg\" xmlns:ev=\"http://www.w3.org/2001/xml-events\" xmlns:xlink=\"http://www.w3.org/1999/xlink\" baseProfile=\"full\" height=\"110.5\" version=\"1.1\" width=\"208.0\"  style=\"stroke: #f1f1f1\"><title>changing the list means both names see the change</title><defs><marker class=\"arrowend\" id=\"id9\" markerHeight=\"10\" markerWidth=\"10\" orient=\"auto\" refX=\"10\" refY=\"5\" viewBox=\"0,0,10,10\"><path d=\"M 0,0 L 10,5 L 0,10 L 1,5 z\"></path></marker></defs><g transform=\"translate(-55.0,-4.0)\"><polygon class=\"name\" points=\"57,37.5 115,37.5 120,52.5 115,67.5 57,67.5\"></polygon><text dy=\".3em\" text-anchor=\"middle\" x=\"86.625\" y=\"52.5\">nums</text><polygon class=\"name\" points=\"77,82.5 115,82.5 120,97.5 115,112.5 77,112.5\"></polygon><text dy=\".3em\" text-anchor=\"middle\" x=\"96.625\" y=\"97.5\">tri</text><rect class=\"list\" height=\"30\" width=\"24\" x=\"165\" y=\"60\"></rect><text dy=\".3em\" text-anchor=\"middle\" x=\"177\" y=\"75\">1</text><rect class=\"list\" height=\"30\" width=\"24\" x=\"189\" y=\"60\"></rect><text dy=\".3em\" text-anchor=\"middle\" x=\"201\" y=\"75\">2</text><rect class=\"list\" height=\"30\" width=\"24\" x=\"213\" y=\"60\"></rect><text dy=\".3em\" text-anchor=\"middle\" x=\"225\" y=\"75\">3</text><rect class=\"list\" height=\"30\" width=\"24\" x=\"237\" y=\"60\"></rect><text dy=\".3em\" text-anchor=\"middle\" x=\"249\" y=\"75\">4</text><path class=\"arrow\" d=\"M 120,52 C 132,52 132,52 142,59 C 153,66 153,66 165,71\" fill=\"none\" marker-end=\"url(#id9)\"></path><path class=\"arrow\" d=\"M 120,97 C 132,97 132,97 142,90 C 153,83 153,83 165,78\" fill=\"none\" marker-end=\"url(#id9)\"></path></g></svg>\n",
    "\n",
    "Essa diferença de comportamento, a depender do tipo do objeto, gera muita confusão. Para _usuários de R_, notem que no R, todos (menos um) os tipos de objetos são imutáveis, e são copied-when-modified, no Python, isso não é verdade.\n",
    "\n",
    "Do artigo do Ned Batchelder:\n",
    "\n",
    "> This Mutable Presto-Chango is the biggest issue people have with Python’s names and values. A value is shared by more than one name, and is modified, and all names see the change.\n",
    "\n",
    "> Keep in mind, this is not a bug in Python, however much you might wish that it worked differently. Many values have more than one name at certain points in your program, and it’s perfectly fine to mutate values and have all the names see the change. The alternative would be for assignment to copy values, and that would make your programs unbearably slow."
   ]
  },
  {
   "cell_type": "markdown",
   "metadata": {},
   "source": [
    "Agora, vocês sabem o mecanismo por trás desse comportamento, e podem evitar cometer erros em relação à isso.\n",
    "\n",
    "Quando vocês vão criar um objeto mutável com base em outro, deve-se perguntar: \"eu quero que esse nome tenha a sua própria cópia independente dos dados, ou quero que ambos os nomes façam referência ao mesmo dado?\".\n",
    "\n",
    "- Se a sua intenção é a segunda, faça `y = x`.\n",
    "- Se é a segunda, os objetos mutáveis tem um método `.copy()` exatamente para isso, faca `y = x.copy()`"
   ]
  },
  {
   "cell_type": "markdown",
   "metadata": {},
   "source": [
    "## Recapitulando {.unnumbered}"
   ]
  },
  {
   "cell_type": "markdown",
   "metadata": {},
   "source": [
    "## Extras"
   ]
  },
  {
   "cell_type": "markdown",
   "metadata": {},
   "source": [
    "### Bibliotecas"
   ]
  },
  {
   "cell_type": "markdown",
   "metadata": {},
   "source": [
    "### Funções Úteis"
   ]
  }
 ],
 "metadata": {
  "kernelspec": {
   "display_name": "Python 3",
   "language": "python",
   "name": "python3"
  },
  "language_info": {
   "codemirror_mode": {
    "name": "ipython",
    "version": 3
   },
   "file_extension": ".py",
   "mimetype": "text/x-python",
   "name": "python",
   "nbconvert_exporter": "python",
   "pygments_lexer": "ipython3",
   "version": "3.12.0"
  }
 },
 "nbformat": 4,
 "nbformat_minor": 2
}
