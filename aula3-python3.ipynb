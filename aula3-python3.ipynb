{
  "cells": [
    {
      "cell_type": "markdown",
      "source": [
        "# Introdução ao Python III"
      ],
      "metadata": {
        "id": "okUug0Xv6fHJ"
      }
    },
    {
      "cell_type": "markdown",
      "metadata": {
        "id": "PmvGNJj_Gneu"
      },
      "source": [
        "## Introdução\n",
        "\n",
        "Até agora vimos sobre como estruturar códigos e escrever de forma que o computador entenda (aula 1) e os princípios básicos de como a linguagem Pyhton foi pensada (aula 2). Aqui nessa aula nos concentraremos nas bibliotecas NumPy e Pandas. Elas oferecem ferramentas poderosas para manipulação e análise de dados, respectivamente.\n",
        "\n",
        "A partir da biblioteca NumPy aprenderemos como manipular dados de forma que cálculos sejam mais fáceis de serem resolvidos - tudo por meio de arrays multidimensionais e funções otimizadas.\n",
        "Já a partir da biblioteca Pandas analisaremos dados de tabelas e planilhas - veremos as funções para manipular, filtrar, agrupar e resumir esses tipos de dados.\n",
        "\n",
        "A forma como veremos esses tipos de dados são duas. Os vetores e os dataframes (e como utilizá-los) é a primeira forma, e essas funções separadas pelos \"tipos de operações\", a segunda.\n",
        "\n",
        "Entendendo a lógica por trás do ferramental que estamos vendo até aqui nas aulas, vai ficar mais fácil pegar o big picture de tudo do trainee e os próximos conteúdos que vocês aprenderão após essa introudção ao Python.\n",
        "\n",
        "<!--Ao longo da aula: adicionar mais referências, especialmente sobre onde expandir os conhecimentos sobre cada tema (VOU TIRAR ESSE LEMBRETE QUANDO ACABAR ESSA AULA)-->"
      ]
    },
    {
      "cell_type": "markdown",
      "metadata": {
        "id": "ApGYvB-HGneu"
      },
      "source": [
        "## Vetores e Dataframes\n",
        "\n",
        "<!--Motivar teoricamente porque estamos interessados em aprender outros tipos de (coleções de) dados, além da lista. O texto abaixo está interessante, mas pode não estar tão didático-->"
      ]
    },
    {
      "cell_type": "markdown",
      "metadata": {
        "id": "OjN38kRNGnev"
      },
      "source": [
        "Como fazemos uma sucessão de adição (multiplicação) ou subtração (divisão) em Pyhton?\n"
      ]
    },
    {
      "cell_type": "markdown",
      "source": [
        "Qual poderia ser a forma de multiplicação (ex. de pedaços de pizza):\n",
        "\n",
        "p = [2/8, 3/8, 5/8] # 1) Fazemos uma lista (de pedaços de pizza) e colocamos que ela é igual a p.\n",
        "Colocamos esse \"igual\" com o intuito de nomearmos um conjunto, no caso uma lista, para escrevermos mais facilmente os próximos comandos envolvendo a lista.\n",
        "print(p * 2) # 2a) Esse print irá multiplicar os números da lista, mas não entre si.\n",
        "\n",
        "Qual é de fato uma forma possível para uma quantidade pequena de termos:\n",
        "\n",
        "p = [2/8, 3/8, 5/8] # 1) Fazemos uma lista e colocamos que ela é igual a l1.\n",
        "Colocamos esse \"igual\" com o intuito de nomearmos um conjunto, no caso uma lista, para escrevermos mais facilmente os próximos comandos da lista.\n",
        "\n",
        "print([i * 2 for i in p]) # 2b) Com esse print iremos multiplicar cada termo da lista por dois, pois colocamos um loop para transformarmos a nossa coleção.\n",
        "(A transformação é multiplicar cada número da lista/coleção por dois.)"
      ],
      "metadata": {
        "id": "9O3Z0FTYd0aO"
      }
    },
    {
      "cell_type": "markdown",
      "source": [
        "Qual poderia ser a forma de divisão (ex. de conversão de alturas de centímetros em metros):\n",
        "\n",
        "a1 = [170, 185, 200] # 1) Fazemos uma lista (alturas fictícias) e colocamos que ela é igual a \"a\".\n",
        "Colocamos esse \"igual\" com o intuito de nomearmos um conjunto, no caso uma lista, para escrevermos mais facilmente os próximos comandos envolvendo a lista.\n",
        "\n",
        "print(a1 / 100) # 2a) Esse print deveria multiplicar os números da lista, mas não entre si. Mas não é possível fazer assim em Pyhton.\n",
        "\n",
        "Qual é de fato uma forma possível para uma quantidade pequena de termos:\n",
        "\n",
        "a1 = [170, 185, 200] # 1) Fazemos uma lista e colocamos que ela é igual a l1.\n",
        "Colocamos esse \"igual\" com o intuito de nomearmos um conjunto, no caso uma lista, para escrevermos mais facilmente os próximos comandos da lista.\n",
        "print([i / 100 for i in a1]) # 2b) Com esse print iremos dividir cada termo da lista por dois, pois colocamos um loop para transformarmos a nossa coleção.\n",
        "(A transformação é dividir cada número da lista/coleção por 100.)"
      ],
      "metadata": {
        "id": "VWJ1AVFUeC_Y"
      }
    },
    {
      "cell_type": "markdown",
      "metadata": {
        "id": "G0HKfMpsGnew"
      },
      "source": [
        "A lista não é multiplicada \"termo-a-termo\" (como poderíamos querer no primeiro print), que chato... Por que?\n",
        "\n",
        "Em Pyhton, as listas só são multiplicadas de forma mais complexa do que simplesmente colocando a operação de multiplicação e os números que queremos multiplicar.\n"
      ]
    },
    {
      "cell_type": "markdown",
      "metadata": {
        "id": "-KbUuyVpGnex"
      },
      "source": [
        "### Vetores\n",
        "\n",
        "Vamos ter que considerar um novo tipo de coleção, os **vetores**!\n",
        "\n",
        "A palavra vetor tem várias definições diferentes, nesta aula, em termos simplistas (!!), pensem em um vetor como uma coleção **homogênea** de dados.\n",
        "\n",
        "Note que, para ser homogênea, todos os elementos devem ser do mesmo tipo. Tendo essa restrição, conseguimos aplicar **operações vetorizadas**, termo-a-termo, muito mais rápidas que usando um loop/comprehension.\n",
        "\n",
        "Ou seja, podemos usar, como melhor método o loop/list comprehension apenas em arays como esses: `[1, \"a\", 3, (1, 2)]. Assim, é possível uma operação termo-a-termo sem ser homogênea, mas com o prejuízo de que essa operação será computada mais devagar do que se as operações fossem feitas em duas partes, separandos os termos para que cada parte fosse homogênea.\n",
        "\n",
        "Note que vetores não podem conter vetores (pois estes tem o tipo \"array\"). Ainda assim, vetores podem ser multi-dimensionais. Pense que são coleções meramente organizadas em linhas/colunas.\n",
        "\n",
        "Vamos conversar mais sobre vetores em breve."
      ]
    },
    {
      "cell_type": "markdown",
      "metadata": {
        "id": "p2nrT3MgGnex"
      },
      "source": [
        "#### Exemplos\n",
        "\n",
        "Veja exemplos abaixo, e se poderão ou não ser entendidos como arrays:\n",
        "\n",
        "- `[1]` poderá.\n",
        "- `[1, 2]` poderá.\n",
        "- `[1, \"a\"]` não poderá, tem elementos de tipos diferentes.\n",
        "- `[1, [1, 2]]` não poderá, tem elementos de tipos diferentes (inteiro e uma coleção).\n",
        "\n",
        "Alguns exemplos mais complexos:\n",
        "\n",
        "- `[[1, 2], [3, 4]]` poderá! Arrays podem \"conter si mesmos\", mas, especialmente, entenda isso como arrays podem ser \"organizados em múltiplas dimensões\". No caso, seria um array bidimensional, uma matriz com linhas e colunas.\n",
        "- `[[1, 2], [3, 4, 5]]` não poderá! Essa é outra novidade, os arrays devem ser \"retangulares\", dentro de cada dimensão, todos os elementos devem ter o mesmo tamanho. Isso ficará mais claro a diante.\n",
        "- E `[[1, 2], [3, \"a\"]]`? Não poderá. Tudo dentro de um array tem que ter o mesmo tipo. Também podemos pensar que, dentro de uma dimensão, tudo deve poder ser entendido como um array.\n",
        "\n",
        "Ok, então, um array é um caso específico de uma lista, é uma lista com duas restrições:\n",
        "\n",
        "- Todos os elementos devem ter o mesmo \"tipo\".\n",
        "- Deve ser retangulares."
      ]
    },
    {
      "cell_type": "markdown",
      "metadata": {
        "id": "Jg-UsrjSGnex"
      },
      "source": [
        "#### Utilidade dos Vetores\n",
        "\n",
        "Por que isso é útil? O que ganhamos com essa perda de generalização?\n",
        "\n",
        "Na vida real, muitas vezes nos deparamos com esse tipo de dado. Em bases de dado, normalmente cada coluna é uma variável, uma coleção de valores de um mesmo tipo. Além disso, são incontáveis os lugares onde matrizes aparecem, e não apenas as bidimensionais.\n",
        "\n",
        "Criar um framework que seja especializado nesses casos gera três benefícios principais:\n",
        "\n",
        "- O clássico trade-off especialização-qualificação, o numpy é **muito** eficiente em realizar operações com esse tipo de dado. E o essa é uma das maiores propagandas que o numpy faz.\n",
        "    - Inclusive, por trás dos panos, a nível técnico, arrays são objetos bem diferentes de listas.\n",
        "- A criação de ferramentas especialmente intuitivas e úteis para o contexto.\n",
        "- Facilitação do escopo, fica muito mais simples e intuitivo elencar as ferramentas que queremos ter para trabalhar.\n",
        "    - Pense em como buscar as ferramentas relevantes para limpar uma base de dados, na documentação dos métodos de listas e bibliotecas math, stat, etc. Versus buscar as ferramentas na documentação do numpy."
      ]
    },
    {
      "cell_type": "markdown",
      "metadata": {
        "id": "qO_K_N46Gnex"
      },
      "source": [
        "### Dataframes\n",
        "\n",
        "Com o conhecimento de o que são vetores, fica fácil de pensar que é muito comum que o nosso dado de interesse seja um conjunto de vetores.\n",
        "\n",
        "A palavra dataframe tem várias definições diferentes, nesta aula, em termos simplistas (!!), ela significa uma coleção de vetores (todos do mesmo tamanho).\n",
        "\n",
        "Também podemos pensar em dataframe como uma estrutura de dados de linhas e colunas, tipo uma planilha do Excel. Ambos têm um dicionário de listas, em que cada lista possui seus próprios nome para identificarmos.\n",
        "\n",
        "Vamos adquirir o conhecimento aplicado sobre dataframes em breve."
      ]
    },
    {
      "cell_type": "markdown",
      "source": [
        "Referências e aprodundamentos iniciais de vetores e dataframes\n",
        "\n",
        "https://www.w3schools.com/ai/ai_vectors.asp,      \n",
        "https://medium.com/analytics-vidhya/what-is-a-vector-5c86fc2b57c1#:~:text=A%20vector%2C%20in%20programming%2C%20is,are%20used%20for%20storing%20data,\n",
        "https://computersciencewiki.org/index.php/Vector\n",
        "\n",
        "https://www.databricks.com/glossary/what-are-dataframes,\n",
        "https://medium.com/@jscvcds/a-beginners-guide-to-dataframes-with-examples-9aa6bf53fc06,\n",
        "https://discovery.cs.illinois.edu/learn/Basics-of-Data-Science-with-Python/Python-for-Data-Science-Introduction-to-DataFrames/\n"
      ],
      "metadata": {
        "id": "8TAGnqQoLTGN"
      }
    },
    {
      "cell_type": "markdown",
      "metadata": {
        "id": "tz8gaFlxGney"
      },
      "source": [
        "## Numpy\n",
        "\n",
        "<!-- Texto (enxuto, objetivo) sobre características básicas do Numpy -->\n",
        "\n",
        "<!-- Existem muuuitas funções do Numpy. O material da aula passada está bom, mas organizar as funções nos \"tipos de operação\" (a estrutura abaixo) facilitará o aprendizado -->\n",
        "\n",
        "<!-- tem que checar na documentação do numpy se não há outras funções/métodos importantes, que queremos falar sobre. Com certeza, tem funções que mereceriam estar pelo menos linkadas aqui -->"
      ]
    },
    {
      "cell_type": "markdown",
      "metadata": {
        "id": "nf-WO6NxGney"
      },
      "source": [
        "O que é Numpy? De acordo com o [site oficial](https://numpy.org/doc/stable/index.html):\n",
        "\n",
        "> NumPy é o pacote fundamental para computação científica em Python. É uma biblioteca Python que fornece um objeto array multidimensional, vários objetos derivados (como arrays mascarados e matrizes) e uma variedade de rotinas para operações rápidas em arrays, incluindo matemática, lógica, manipulação de forma, classificação, seleção, E/S. , transformadas discretas de Fourier, álgebra linear básica, operações estatísticas básicas, simulação aleatória e muito mais.\n",
        "\n",
        "> Como curiosidade, há outras bibliotecas desse tipo, chamadas de vetores de curiosidade. Essas bibliotecas facilitam a manipulação e cálculo de vetores (arrays) e, por isso, são muito usados na área de ciência de dados. Um outro exemplo de biblioteca semelhante ao NumPy é o Jax, desenvolvido pelo Google.\n",
        "\n",
        "Antes de tudo, vamos [instalar](https://numpy.org/install/) e carregar a biblioteca:"
      ]
    },
    {
      "cell_type": "code",
      "execution_count": 1,
      "metadata": {
        "id": "qS7voPS6Gney"
      },
      "outputs": [],
      "source": [
        "import numpy as np"
      ]
    },
    {
      "cell_type": "markdown",
      "metadata": {
        "id": "TD96X59qGney"
      },
      "source": [
        "Obs: exemplo de eficiência de operações vetorizadas no Numpy:"
      ]
    },
    {
      "cell_type": "code",
      "execution_count": 2,
      "metadata": {
        "id": "ydGKyNhDGney",
        "outputId": "c6f563ff-01dd-463a-bd60-d30910545bf4",
        "colab": {
          "base_uri": "https://localhost:8080/"
        }
      },
      "outputs": [
        {
          "output_type": "stream",
          "name": "stdout",
          "text": [
            "3.9 ms ± 1.08 ms per loop (mean ± std. dev. of 7 runs, 100 loops each)\n",
            "279 ms ± 73.8 ms per loop (mean ± std. dev. of 7 runs, 1 loop each)\n"
          ]
        }
      ],
      "source": [
        "n = 1000000\n",
        "a1 = np.arange(n) #criação de lista usando a biblioteca NumPy\n",
        "l1 = list(range(n)) #criação de outra lista usando método padrão de python\n",
        "%timeit a1 * 2 #tempo para ele executar a operação (a1*2) usando a biblioteca\n",
        "%timeit [x * 2 for x in l1] #tempo de execução sem a biblioteca\n",
        "#Observe a diferença entre os tempos de execução para realizar a mesma tarefa!"
      ]
    },
    {
      "cell_type": "markdown",
      "metadata": {
        "id": "ZN4wE1QLGnez"
      },
      "source": [
        "### Criação e Características\n",
        "\n",
        "<!-- buscar uma maneira suave de explicar vetores vs matrizes vs arrays -->"
      ]
    },
    {
      "cell_type": "markdown",
      "metadata": {
        "id": "Cckq54XBGnez"
      },
      "source": [
        "Vamos começar vendo a \"cara\" dos arrays (vetores):"
      ]
    },
    {
      "cell_type": "code",
      "source": [
        "# Criando alguns arrays\n",
        "# Obs: já fizemos a importação na aba de código anterior.\n",
        "# Mas na dúvida, escreva a importação.\n",
        "a1 = np.array([1, 1, 1])\n",
        "a2 = np.array([[1, 0, 1], [3, 4, 1]])\n",
        "a3 = np.array([[[1, 7, 9], [5, 9, 3]], [[3,2,1], [4,5,6]]])\n",
        "for a in [a1, a2, a3]: print(a, \"\\n\")\n",
        "# Aqui fazemos uma lista com todos os vetores.\n",
        "# O texto \"\\n\" é uma sintaxe especial que gera uma linha em branco/vazia"
      ],
      "metadata": {
        "colab": {
          "base_uri": "https://localhost:8080/"
        },
        "id": "q4Nal3E9teUa",
        "outputId": "b65a89fa-d547-40d1-c401-3435b263be64"
      },
      "execution_count": 3,
      "outputs": [
        {
          "output_type": "stream",
          "name": "stdout",
          "text": [
            "[1 1 1] \n",
            "\n",
            "[[1 0 1]\n",
            " [3 4 1]] \n",
            "\n",
            "[[[1 7 9]\n",
            "  [5 9 3]]\n",
            "\n",
            " [[3 2 1]\n",
            "  [4 5 6]]] \n",
            "\n"
          ]
        }
      ]
    },
    {
      "cell_type": "markdown",
      "metadata": {
        "id": "J_5l-FjZGnez"
      },
      "source": [
        "<!-- salvar na pasta assets/img e colocar aqui na sintaxe de markdown -->\n",
        "<img src=\"https://www.plus2net.com/python/images/np-dimensions.jpg\" width=\"400\">"
      ]
    },
    {
      "cell_type": "markdown",
      "metadata": {
        "id": "PokSHm2bGnez"
      },
      "source": [
        "Note que começamos a \"contar\" pelo vetor, depois pelas linhas, depois pelas matrizes, etc.\n",
        "\n",
        "Existem várias maneiras de criar vetores. Listá-los seria muita decoreba, então veja-as em [Extras](#numpy-criação-de-vetores)."
      ]
    },
    {
      "cell_type": "markdown",
      "metadata": {
        "id": "HAOntm-MGnez"
      },
      "source": [
        "#### Características\n",
        "*  `TYPE()`: Quando aplicada a um array (vetor), retornará: `<class 'numpy.ndarray'>`\n",
        "*  `DTYPE`: escrita como `vetor.dtype`, retorna o tipo dos elementos dos vetores, como `int`, para números inteiros ou `float`, para números flutuantes.\n",
        "*  `SHAPE`: escrita como `vetor.shape`, retorna o número de linhas seguido do número de colunas. Resultado: `(n linhas, n colunas)`\n",
        "*  `RANGE` ou `ARANGE`: são métodos para criar arrays dentro de um alcance. O range irá criar uma lista que depois deve ser convertida em um array. Já arange, é um método direto da biblioteca NumPy para criar um array com esse alcance."
      ]
    },
    {
      "cell_type": "code",
      "source": [
        "# Exemplo de array criado com range\n",
        "import numpy as np\n",
        "\n",
        "# Usando range para criar uma lista de números de 0 a 9\n",
        "lista = list(range(10))\n",
        "\n",
        "# Convertendo a lista em um array NumPy\n",
        "vetor = np.array(lista)\n",
        "\n",
        "print(vetor)"
      ],
      "metadata": {
        "id": "9faxXhQswLsy"
      },
      "execution_count": null,
      "outputs": []
    },
    {
      "cell_type": "code",
      "source": [
        "# Exemplo de array criado com arrange\n",
        "# Usando arange para criar um vetor de números de 0 a 9\n",
        "vetor = np.arange(10)\n",
        "\n",
        "print(vetor)"
      ],
      "metadata": {
        "id": "sekz5dAUwMQ1"
      },
      "execution_count": null,
      "outputs": []
    },
    {
      "cell_type": "markdown",
      "source": [],
      "metadata": {
        "id": "PDjq83fBedeo"
      }
    },
    {
      "cell_type": "markdown",
      "source": [
        "*  Formatos dos Vetores\n",
        "1. Vetores Linha: são vetores de formato (1, n). Escritos por: `vetor = [[1, 2, 3]]`\n",
        "2. Vetores Coluna: são vetores de formato (n, 1). Escritos por: `vetor = [[1], [2], [3]]`\n",
        "*  `COPY`: podemos escrever `vetor_cópia = vetor.copy()` para criar uma cópia com os mesmos elementos que podemos editar sem alterar os dados do vetor original.\n",
        "*  `TOLIST()`: escrevemos `lista = vetor.tolist()` para transformar o vetor em uma lista com os mesmos elementos."
      ],
      "metadata": {
        "id": "AfX8vNkVVnOO"
      }
    },
    {
      "cell_type": "markdown",
      "metadata": {
        "id": "Af0jMkh7Gnez"
      },
      "source": [
        "### Tipos de arrays\n",
        "\n",
        "Mais cedo, falamos que todos os elementos de um arrays tem sempre o mesmo \"tipo\". Em termos simplificados, o nome normalmente associado à \"tipo\" é _dtype_.\n",
        "\n",
        "Um elemento (um \"escalar\") pode ter vários tipos, mas os mais comuns são:\n",
        "\n",
        "- `int_`: números inteiros (_integer_).\n",
        "- `float_`: números de ponto flutuante (_floating-point_). O tipo padrão.\n",
        "- `bool_`: valores booleanos (`True` ou `False`).\n",
        "- `str_`: _strings_ de texto.\n",
        "- E outros menos utilizados: `complex_`: números complexos, `object_`: objetos Python genéricos, `datetime64`: datas e horários, `timedelta64`: diferenças entre datas e horários, `category`: categorias ou rótulos.\n",
        "\n",
        "Veja alguns comentários técnicos na seção [Mais Sobre Tipos](#mais-sobre-tipos)."
      ]
    },
    {
      "cell_type": "markdown",
      "metadata": {
        "id": "EjJA6ySpGnez"
      },
      "source": [
        "#### Coerção de Tipos\n",
        "\n",
        "Mas e se eu tentar criar o array `[1, \"a\"]`? O numpy usa _coerção_, ele converte todos os elementos a um mesmo tipo, de acordo com uma lista de prioridade. De maneira simples, _int_ → _float_ → _string_. Você também pode converter um array para outro tipo usando o método `x.astype()`. Veja exemplos abaixo."
      ]
    },
    {
      "cell_type": "code",
      "source": [
        "print(np.array([[1,2], [3.0, 4]]), \"\\n\")\n",
        "print(np.array([[1,2], [3.0, \"4.0\"]]), \"\\n\")\n",
        "print(np.array([[1,2], [3, 4]], dtype = np.complex_), \"\\n\")\n",
        "print(np.array([[1,2], [3, 4]]).astype(str), \"\\n\")"
      ],
      "metadata": {
        "id": "EcJmsFPzwfyd"
      },
      "execution_count": null,
      "outputs": []
    },
    {
      "cell_type": "markdown",
      "metadata": {
        "id": "Tfbe4EwkGne0"
      },
      "source": [
        "#### Mais Informações\n",
        "\n",
        "Para mais informações sobre arrays, como funcionam, como são salvos na memória, veja [API Ref. → Array objects](https://numpy.org/doc/stable/reference/arrays.html). Cuidado, muitos temas técnicos e desnecessários (para o momento).\n",
        "\n",
        "Especialmente, foram ignorados dois tópicos de arrays:\n",
        "\n",
        "- Os _masked arrays_, arrays com valores faltantes, [API Ref. → Array objects → Masked arrays](https://numpy.org/doc/stable/reference/maskedarray.html).\n",
        "- E os _datetime arrays_, arrays de datas, [API Ref. → Array objects → Datetimes and Timedeltas](https://numpy.org/doc/stable/reference/arrays.datetime.html)."
      ]
    },
    {
      "cell_type": "markdown",
      "metadata": {
        "id": "I_Z5xe8CGne0"
      },
      "source": [
        "### Operações Vetorizadas\n",
        "\n",
        "Lembre-se que o ponto mais importante é a vetorização. O numpy define \"funções universais\", funções que podem ser aplicadas de forma vetorizadas.\n",
        "\n",
        "Listar as funções seria muita decoreba, veja-as em [Extras](#numpy-operações-vetorizadas). Abaixo, explicamos algumas das mais úteis.\n",
        "\n",
        "* `np.subtract(a1, a2)` subtrai os núemros de index iguais dos vetores a1 e a2\n",
        "* `np.divide(a1, a2)` divide os números de a1 pelos seus pares de a2\n",
        "* `np.exp(a1)` eleva o número de Euler (2,718) aos números do vetor\n",
        "* `np.log(a1)` retorna o logaritmo natural (log e) de cada elemento da tabela"
      ]
    },
    {
      "cell_type": "markdown",
      "metadata": {
        "id": "8sdAlYohGne0"
      },
      "source": [
        "### Subset\n",
        "\n",
        "A referência básica está em [User guide → Indexing on ndarrays](https://numpy.org/doc/stable/user/basics.indexing.html).\n",
        "\n",
        "A indexação de arrays é feita de forma similar à listas, com `a1[algo]`. A maioria das técnicas disponíveis para listas está disponível aqui também.\n",
        "\n",
        "Essa parte é bem útil, porque lógicas similares de indexação podem ser utilizadas no pandas e em listas."
      ]
    },
    {
      "cell_type": "markdown",
      "metadata": {
        "id": "0kSkkVF1Gne0"
      },
      "source": [
        "#### Subseting Básico\n",
        "\n",
        "Com uma dimensão, é simples. Conseguimos utilizar a técnica de indexes negativos."
      ]
    },
    {
      "cell_type": "code",
      "execution_count": 8,
      "metadata": {
        "id": "egkOAHbiGne0",
        "outputId": "ed5bc6c0-fe41-48d8-f656-034389ef2173",
        "colab": {
          "base_uri": "https://localhost:8080/"
        }
      },
      "outputs": [
        {
          "output_type": "stream",
          "name": "stdout",
          "text": [
            "[1 2 3 4 5 6 7 8 9] \n",
            "\n",
            "1\n",
            "9\n"
          ]
        }
      ],
      "source": [
        "# Usando indexing em Arrays\n",
        "import numpy as np\n",
        "# Definindo o array\n",
        "a1 = np.array([1, 2, 3, 4, 5, 6, 7, 8, 9])\n",
        "# Printando o array e uma linha vazia\n",
        "print(a1, \"\\n\")\n",
        "# Printando os elementos de index 0 e -1\n",
        "print(a1[0])\n",
        "print(a1[-1])"
      ]
    },
    {
      "cell_type": "markdown",
      "metadata": {
        "id": "HzXmrd1RGne0"
      },
      "source": [
        "E com duas dimensões? Agora, temos que informar o que queremos pegar de cada dimensão, `a2[algo1, algo2]`:"
      ]
    },
    {
      "cell_type": "code",
      "source": [
        "# Indexing em matrizes\n",
        "# Criando uma matriz 3x3\n",
        "a2 = np.array([[1, 2, 3], [4, 5, 6], [7, 8, 9]])\n",
        "# Printando a matriz e uma linha vazia\n",
        "print(a2, \"\\n\")\n",
        "#Print do elemento com os index da sua linha e desse elemento dentro da linha\n",
        "print(a2[0, 1])"
      ],
      "metadata": {
        "colab": {
          "base_uri": "https://localhost:8080/"
        },
        "id": "187YC6nwwyXD",
        "outputId": "045f0e5f-3816-4fc4-cd3e-0f7458d5765e"
      },
      "execution_count": 9,
      "outputs": [
        {
          "output_type": "stream",
          "name": "stdout",
          "text": [
            "[[1 2 3]\n",
            " [4 5 6]\n",
            " [7 8 9]] \n",
            "\n",
            "2\n"
          ]
        }
      ]
    },
    {
      "cell_type": "markdown",
      "metadata": {
        "id": "aaR0sjiJGne0"
      },
      "source": [
        "E se eu quiser selecionar mais do que um elemento? Aqui, também é possível utilizar a técnica de slicing `:`."
      ]
    },
    {
      "cell_type": "code",
      "execution_count": 10,
      "metadata": {
        "id": "Rlcsg3XBGne0",
        "outputId": "e6e082bb-48f3-48b7-a081-8a2a7ab315f9",
        "colab": {
          "base_uri": "https://localhost:8080/"
        }
      },
      "outputs": [
        {
          "output_type": "stream",
          "name": "stdout",
          "text": [
            "[2 3]\n",
            "[2 3 4 5 6 7 8 9]\n",
            "[1 2]\n",
            "[1 2 3 4 5 6 7 8 9]\n"
          ]
        }
      ],
      "source": [
        "# Uso de intervalos de index em vetores\n",
        "# Elementos entre 1 a 3\n",
        "print(a1[1:3])\n",
        "# Elementos a partir do 1\n",
        "print(a1[1:])\n",
        "# Elementos até o 2\n",
        "print(a1[:2])\n",
        "# Elementos do início ao fim\n",
        "print(a1[:])"
      ]
    },
    {
      "cell_type": "markdown",
      "metadata": {
        "id": "cLdrFxl8Gne1"
      },
      "source": [
        "Com duas dimensões é a mesma ideia, lembrando que precisamos falar o que queremos pegar de ambas as dimensões, as possibilidades aumentam.\n",
        "\n",
        "<!-- cuidado pra falar demais sobre isso, não deixar amendrontador demais -->"
      ]
    },
    {
      "cell_type": "code",
      "execution_count": 11,
      "metadata": {
        "id": "V73V7y1qGne1",
        "outputId": "c779f34c-f015-4acb-c1c8-e7d894da2cb0",
        "colab": {
          "base_uri": "https://localhost:8080/"
        }
      },
      "outputs": [
        {
          "output_type": "stream",
          "name": "stdout",
          "text": [
            "[1 2]\n",
            "[2 5]\n",
            "[[4 5 6]\n",
            " [7 8 9]]\n"
          ]
        }
      ],
      "source": [
        "# Intervalos em Matrizes\n",
        "# Linha 0, elementos de 0 até 2\n",
        "print(a2[0, 0:2])\n",
        "# Linhas entre 0 até 2, elementos 1\n",
        "print(a2[0:2, 1])\n",
        "# Linhas a partir de 1, elementos do início ao fim\n",
        "print(a2[1:, :])"
      ]
    },
    {
      "cell_type": "markdown",
      "metadata": {
        "id": "LahI7xm9Gne1"
      },
      "source": [
        "Com _n_ dimensões é a mesma ideia, com uma entrada em `[]` para cada dimensão.\n",
        "\n",
        "Se tiver curiosidade, veja dois truques usando `...` e `None` nos índices [aqui](https://numpy.org/doc/stable/user/basics.indexing.html#dimensional-indexing-tools)."
      ]
    },
    {
      "cell_type": "code",
      "execution_count": 12,
      "metadata": {
        "id": "kVhgTbGwGne1",
        "outputId": "9b07b3e5-279b-45be-f9c3-4a91fa0421bd",
        "colab": {
          "base_uri": "https://localhost:8080/"
        }
      },
      "outputs": [
        {
          "output_type": "stream",
          "name": "stdout",
          "text": [
            "24\n",
            "[[0 1 2]\n",
            " [3 4 5]\n",
            " [6 7 8]]\n"
          ]
        }
      ],
      "source": [
        "# Exemplo de indexing com n dimensões\n",
        "import numpy as np\n",
        "# Criando um vetor de alcance 27 (3 ^ 3), e dividindo o em 3 matrizes 3 x 3.\n",
        "a3 = np.arange(3**3).reshape(3, 3, 3)\n",
        "# Exibindo o elemento 0, da linha 2 da matriz 2\n",
        "print(a3[2, 2, 0])\n",
        "# Exibindo todos os elementos de todas as linhas da matriz 0\n",
        "print(a3[0, :, :])"
      ]
    },
    {
      "cell_type": "markdown",
      "metadata": {
        "id": "Kss49QYPGne1"
      },
      "source": [
        "Quando você ficar pica, vai descobrir que dá para omitir dimensões, como abaixo. Mas por enquanto, não inventa, coloque um \"algo\" para cada dimensão, nem que o \"algo\" seja \"selecione tudo\" (`:`)."
      ]
    },
    {
      "cell_type": "code",
      "execution_count": 13,
      "metadata": {
        "id": "_1MMgshxGne1",
        "outputId": "422fe30e-5b73-4f6b-95d4-52aa5e796ad1",
        "colab": {
          "base_uri": "https://localhost:8080/"
        }
      },
      "outputs": [
        {
          "output_type": "stream",
          "name": "stdout",
          "text": [
            "[[[ 0  1  2]\n",
            "  [ 3  4  5]\n",
            "  [ 6  7  8]]\n",
            "\n",
            " [[ 9 10 11]\n",
            "  [12 13 14]\n",
            "  [15 16 17]]\n",
            "\n",
            " [[18 19 20]\n",
            "  [21 22 23]\n",
            "  [24 25 26]]]\n"
          ]
        }
      ],
      "source": [
        "print(a3[0:])"
      ]
    },
    {
      "cell_type": "markdown",
      "metadata": {
        "id": "I9AEav47Gne5"
      },
      "source": [
        "Note que essa noção do subset deixa claro qual é a \"ordem\" dos componentes de um array multidimensional. Isto é, quando pedimos `for i in a3`, o que será passado para `i`? Cada elemento? Cada coluna, cada linha? cada matriz?"
      ]
    },
    {
      "cell_type": "code",
      "source": [
        "# Aqui estamos usando loops para cada sub elementos das etapas\n",
        "# Aqui \"mat\" se refere as matrizes de a3\n",
        "for mat in a3:\n",
        "  # Aqui \"row\" seriam as linhas das matrizes\n",
        "    for row in mat:\n",
        "      # E aqui os elementos dessas linhas\n",
        "        for item in row: print(item, end = \" \")\n",
        "        # Pedimos pra printar os elementos, que chamamos de \"item\""
      ],
      "metadata": {
        "colab": {
          "base_uri": "https://localhost:8080/"
        },
        "id": "pf5XRqzqxhy-",
        "outputId": "920e68ca-7095-446f-8d7b-7680cc53c567"
      },
      "execution_count": 14,
      "outputs": [
        {
          "output_type": "stream",
          "name": "stdout",
          "text": [
            "0 1 2 3 4 5 6 7 8 9 10 11 12 13 14 15 16 17 18 19 20 21 22 23 24 25 26 "
          ]
        }
      ]
    },
    {
      "cell_type": "markdown",
      "metadata": {
        "id": "Rr78NOwvGne5"
      },
      "source": [
        "Vemos que, do array tridimensional `a3`, `mat` são as sub-matrizes, `row` são as linhas de uma sub-matriz, e `item` os elementos de cada linha. Isto é, a ordem é da maior/última/mais alta dimensão para a menor/mais baixa."
      ]
    },
    {
      "cell_type": "markdown",
      "metadata": {
        "id": "st_bkHgYGne5"
      },
      "source": [
        "#### Filter\n",
        "\n",
        "E se os índices que você quer obter estão em uma coleção? Podemos utilizar coleções de inteiros ou booleanos para acessar índices também!"
      ]
    },
    {
      "cell_type": "code",
      "source": [
        "print(a1[np.array([1, 2])]) #a1[[1, 2]]\n",
        "print(a1[np.array([True,False,False,True,False,False,False,True,False])])\n",
        "# False para aqueles que não queremos e True para aqueles desejados"
      ],
      "metadata": {
        "colab": {
          "base_uri": "https://localhost:8080/"
        },
        "id": "raM2xvoYySgb",
        "outputId": "67822f58-63c3-4384-def0-020edfe6a77c"
      },
      "execution_count": 18,
      "outputs": [
        {
          "output_type": "stream",
          "name": "stdout",
          "text": [
            "[2 3]\n",
            "[1 4 8]\n"
          ]
        }
      ]
    },
    {
      "cell_type": "markdown",
      "metadata": {
        "id": "-jf9Jtm5Gne5"
      },
      "source": [
        "Note que para booleanos, o índice-coleção precisa ser do mesmo tamanho da dimensão relevante.\n",
        "\n",
        "O legal é que dá para utilizar isso para criar _filtros_:"
      ]
    },
    {
      "cell_type": "code",
      "execution_count": 17,
      "metadata": {
        "id": "IdUX321MGne6",
        "outputId": "c55d572a-b452-41f0-95fe-37f77ca7496c",
        "colab": {
          "base_uri": "https://localhost:8080/"
        }
      },
      "outputs": [
        {
          "output_type": "stream",
          "name": "stdout",
          "text": [
            "[2 3 4 5 6 7 8 9]\n"
          ]
        }
      ],
      "source": [
        "print(a1[a1 + 1 > 2])"
      ]
    },
    {
      "cell_type": "markdown",
      "metadata": {
        "id": "ErSu_fbhGne6"
      },
      "source": [
        "Existem muitas outras técnicas utilizando essas ferramentas. Veja mais [aqui](https://numpy.org/doc/stable/user/basics.indexing.html#advanced-indexing)."
      ]
    },
    {
      "cell_type": "markdown",
      "metadata": {
        "id": "brzimirSGne6"
      },
      "source": [
        "Falamos apenas sobre um tipo de operação, \"subset\". Exitem vários outros que valem a pena saber, veja mais em [Extras](#numpy-outros-tipos-de-operações)."
      ]
    },
    {
      "cell_type": "markdown",
      "metadata": {
        "id": "Fj5dOB4NGne6"
      },
      "source": [
        "### Repeated Operations"
      ]
    },
    {
      "cell_type": "markdown",
      "source": [
        "*  `NP.WHERE`: Permite atribuir operações quando certos requisitos são atendidos. Sintaxe: `numpy.where(condição, valor_se_verdadeiro, valor_se_falso)`\n"
      ],
      "metadata": {
        "id": "dNKOp7f_TueP"
      }
    },
    {
      "cell_type": "code",
      "source": [
        "# Exemplo de WHERE\n",
        "import numpy as np\n",
        "\n",
        "# Criando um array de exemplo\n",
        "arr = np.array([1, -2, 3, -4, 5])\n",
        "\n",
        "# Usando np.where() para substituir valores negativos por 0\n",
        "resultado = np.where(arr > 0, arr, 0)\n",
        "\n",
        "print(resultado)"
      ],
      "metadata": {
        "id": "xLof5DLvL14J",
        "colab": {
          "base_uri": "https://localhost:8080/"
        },
        "outputId": "921c942a-ab13-427a-be13-e64fa6bb7836"
      },
      "execution_count": null,
      "outputs": [
        {
          "output_type": "stream",
          "name": "stdout",
          "text": [
            "[1 0 3 0 5]\n"
          ]
        }
      ]
    },
    {
      "cell_type": "markdown",
      "source": [
        "*  `FOR`: Método padrão para iterar sobre elementos de listas ou arrays. É em geral mais lento do que `np.where`. Sintaxe: `For x in array operação`"
      ],
      "metadata": {
        "id": "o2WzDs6_MEsr"
      }
    },
    {
      "cell_type": "code",
      "source": [
        "# Exemplo de FOR, com a mesma função do exemplo anterior\n",
        "import numpy as np\n",
        "\n",
        "# Criando um array de exemplo\n",
        "arr = np.array([1, -2, 3, -4, 5])\n",
        "\n",
        "# Criando uma cópia do array para modificar dentro do loop\n",
        "resultado = arr.copy()\n",
        "\n",
        "# Usando um loop for para substituir valores negativos por 0\n",
        "for i in range(len(resultado)):\n",
        "    if resultado[i] < 0:\n",
        "        resultado[i] = 0\n",
        "\n",
        "print(resultado)"
      ],
      "metadata": {
        "id": "5DJ933FQzJxu"
      },
      "execution_count": null,
      "outputs": []
    },
    {
      "cell_type": "markdown",
      "metadata": {
        "id": "1HdbsMoGGne6"
      },
      "source": [
        "**Fim!**\n",
        "\n",
        "Pronto! Vocês aprenderam os primeiros conteúdos de NumPy! Agora, podemos aplicar esse novo jeito de pensar para bases de dados, e conhecer a biblioteca especializada nisso, o Pandas. A partir de agora, pensa sempre sobre os dados vetorizados. Esse conceito é essencial para entender Pandas, uma vez que só assim as funções de manipular, filtrar, agrupar e resumir esses tipos de dados fazem sentido e são programadas.\n",
        "\n"
      ]
    },
    {
      "cell_type": "markdown",
      "metadata": {
        "id": "6xP19iiKGne6"
      },
      "source": [
        "![Screenshot.png](data:image/png;base64,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)"
      ]
    },
    {
      "cell_type": "markdown",
      "metadata": {
        "id": "i30577ODGne6"
      },
      "source": [
        "## Pandas\n",
        "\n",
        "<!-- Texto (enxuto, objetivo) sobre características básicas do Pandas. O texto da aula antiga está grande demais -->\n",
        "\n",
        "<!-- Existem muuuitas funções do Pandas. O material da aula passada está bom, mas organizar as funções nos \"tipos de operação\" (a estrutura abaixo) facilitará o aprendizado -->\n",
        "\n",
        "<!-- tem que checar na documentação do pandas se não há outras funções/métodos importantes, que queremos falar sobre. Com certeza, tem funções que mereceriam estar pelo menos linkadas aqui -->"
      ]
    },
    {
      "cell_type": "code",
      "execution_count": null,
      "metadata": {
        "id": "8VmcYZ7PGne6"
      },
      "outputs": [],
      "source": [
        "import pandas as pd"
      ]
    },
    {
      "cell_type": "markdown",
      "metadata": {
        "id": "6u1-1jARGne6"
      },
      "source": [
        "### Criação e Características"
      ]
    },
    {
      "cell_type": "markdown",
      "source": [
        "import pandas as pd # 1) Esse é sempre o primeiro passo: o de importarmos a biblioteca necessária.\n",
        "\n",
        "df = pd.read_csv('data.csv') #* 2) Esse é outro passo essencial: o de identificarmos qual é a planilha dos dados que vamos usar. Usaremos esse comando bastante daqui para frente. Mas ele só serve para quando temos aquivos externos.\n",
        "\n",
        "print(df.to_string()) 3) Aqui nós fazemos a operação inicial mais importante: pedimos para que seja exibido o objeto DataFrame (df)  convertido em em uma representação de string, formatada como uma tabela.*"
      ],
      "metadata": {
        "id": "mtRj3suucZnY"
      }
    },
    {
      "cell_type": "markdown",
      "metadata": {
        "id": "JA4W5kLJGne7"
      },
      "source": [
        "Antes de continuarmos a falar sobre dataframes, temos que ressaltar que o Pandas tem seu próprio objeto de vetor chamado pd.Series, mas que funciona de forma bem parecida do np.arrayde com uma dimensão."
      ]
    },
    {
      "cell_type": "markdown",
      "source": [
        "print(pd.Series([4, 7, -5, 3])) # 1) Nesse exemplo nós pedimos para os termos 4, 7, -5 e 3 serem exibidos.\n",
        "\n",
        "print(pd.Series([4, 7, -5, 3], index=[\"d\", \"b\", \"a\", \"c\"])) # 2) Nesse exemplo nós definimos que queremos que os mesmos termos do exemplo de cima sejam exibidos com os índices \"d\", \"b\", \"a\" e \"c\", nessa ordem.\n",
        "\n"
      ],
      "metadata": {
        "id": "a1H3ousscP8i"
      }
    },
    {
      "cell_type": "markdown",
      "metadata": {
        "id": "v1nTD_8pGne7"
      },
      "source": [
        "A seguir veremos os métodos shape, types, info, head, tail e dtypes (já vimos eles com NumPy, agora veremos com Pandas, ou seja, manipulando não mais cálculos para serem resolvidos e sim para analisaremos dados de tabelas e planilhas). (Já podemos nos dar um tapinha nas contas e nos sentirmos orgulhosos de quanto vamos aprender até o final dessa aula, sem falar no final das próximas...)\n",
        "\n",
        "Estamos falando de método mas não custa reforçar o que é: eles são usados para realizar operações em objetos ou acessar suas propriedades. Cada  método é uma função que \"pertence\" a um objeto. Eles são escritos de forma padronizada: com o nome da nome do método + ponto final (.) + identificação da variável. (Desconsidere os sinais de adição quando for escrever o método.)\n",
        "\n",
        "Adiantando um pouco sobre uso de cada método. Cada um é útil dependendo do contexto. Dados já estruturados em formato de dicionário ou listas (os exemplos iniciais que estamos usando aqui para apresentar Pandas), os métodos diretos são melhores, pois são mais rápidos e identificam poucas coisas por vez.\n",
        "\n",
        "Já para lermos arquivos que contêm conjuntos de dados maiores e mais complexos, como csv (dados tabulares no geral), é necessário que utilizemos em primeiro lugar um método específico para lê-los, e depois fazermos as devidas personalizações (que veremos nas próximas aulas)."
      ]
    },
    {
      "cell_type": "markdown",
      "source": [
        "A princípio de tudo vamos fazer três colunas simples: nome, idade e cidade de três pessoas diferentes. Nosso objetivo aqui é conhecer o que é necessário para criá-la."
      ],
      "metadata": {
        "id": "yph4NoJTV_FW"
      }
    },
    {
      "cell_type": "code",
      "source": [
        "import pandas as pd\n",
        "\n",
        "# Criando um dicionário com dados\n",
        "data = {\n",
        "    'Nome': ['Sérgio', 'Michelle', 'Catarina'],\n",
        "    'Idade': [20, 35, 45],\n",
        "    'Cidade': ['São Paulo', 'Rio de Janeiro', 'Belo Horizonte']\n",
        "}\n",
        "# Criando o DataFrame\n",
        "df = pd.DataFrame(data)\n",
        "\n",
        "# Exibindo o DataFrame\n",
        "print(df)"
      ],
      "metadata": {
        "colab": {
          "base_uri": "https://localhost:8080/"
        },
        "id": "kfEwXqvJ342r",
        "outputId": "6f845a38-19b1-4538-8b47-d20ec6f00413"
      },
      "execution_count": null,
      "outputs": [
        {
          "output_type": "stream",
          "name": "stdout",
          "text": [
            "       Nome  Idade          Cidade\n",
            "0    Sérgio     20       São Paulo\n",
            "1     Luísa     35  Rio de Janeiro\n",
            "2  Catarina     45  Belo Horizonte\n"
          ]
        }
      ]
    },
    {
      "cell_type": "markdown",
      "metadata": {
        "id": "gsF6vWLNGne7"
      },
      "source": [
        "### Subset\n",
        "\n",
        "Aqui falaremos sobre como trabalhar com parte ou seleção de um conjunto maior de dados. Primeiro vamos ver os principais comandos para manipular as colunas de uma tabela e depois veremos como fazer o mesmo com linhas. Por último veremos sobre como manipular colunas e linhas juntas.\n",
        "<!-- tentar trazer alguma sanidade para os diferentes métodos de fazer coisas parecidas -->\n",
        "<!-- Exemplo: Quando você ficar pica, vai descobrir que dá para omitir dimensões, como abaixo. Mas por enquanto, não inventa, coloque um \"algo\" para cada dimensão, nem que o \"algo\" seja \"selecione tudo\" (`:`). -->\n",
        "\n",
        "#### De Colunas\n",
        "\n"
      ]
    },
    {
      "cell_type": "markdown",
      "source": [
        "columns\n",
        "\n",
        "colunas = df.columns # 1) Aqui nós estamos criando uma varíavel que chamamos de colunas e usando o método .columns acessamos as colunas do nosso DataFrame.\n",
        "\n",
        "print(colunas) # 2) Aqui pedimos para ser as colunas serem impressas."
      ],
      "metadata": {
        "id": "GgQ53QSTXx_n"
      }
    },
    {
      "cell_type": "markdown",
      "source": [
        "key\n",
        "\n",
        "nomes = df['Nome da coluna']\n",
        "\n",
        "print('nome da coluna')\n",
        "\n",
        "Aqui nós criamos uma variável chamada nomes e não especificamos qual é a coluna que queremos acessar. Indicando uma coluna existente, ela aparecerá de output.\n"
      ],
      "metadata": {
        "id": "f6pGJb0EYHFu"
      }
    },
    {
      "cell_type": "markdown",
      "source": [
        ".key\n",
        "\n",
        "Acessa uma coluna (se o nome da coluna não tiver espaços ou caracteres especiais) como um atributo.\n",
        "\n",
        "A forma de printarmos esta coluna é df.key e print, igual o método key.\n",
        "\n",
        "A diferença é que este método não pode ser a coluna tiver espaços, caracteres especiais ou começar com um número, por exemplo"
      ],
      "metadata": {
        "id": "Ihr5L8vdX2vl"
      }
    },
    {
      "cell_type": "markdown",
      "source": [
        "key1, key2\n",
        "\n",
        "subset = df[['nome de uma coluna', 'nome de outra coluna']]\n",
        "\n",
        "print(subset)\n",
        "\n",
        "Este módulo nos ajuda a selecionar mais de uma coluna por vez, retornando um novo DataFrame."
      ],
      "metadata": {
        "id": "jSsodK4LZO4d"
      }
    },
    {
      "cell_type": "markdown",
      "metadata": {
        "id": "lGDm84TpGne7"
      },
      "source": [
        "#### De Linhas\n",
        "\n",
        "Agora vamos começar a brincar um pouco com nossas colunas (iei!). Nosso objetivo aqui é entender como exibir apenas parte de nosso dados.\n"
      ]
    },
    {
      "cell_type": "markdown",
      "source": [
        "shape\n",
        "\n",
        "\n",
        " df.shape()\n",
        "\n",
        " print()\n",
        "\n",
        " Com o método shape nós não precisamos contar o número de linhas e colunas de nossa tabela.Ela conta primeiro as linhas e depois as colunas."
      ],
      "metadata": {
        "id": "wY75RFSwbPG3"
      }
    },
    {
      "cell_type": "markdown",
      "source": [
        "dtype\n",
        "\n",
        "print(\"\\nTipos de Dados de Cada Coluna (dtypes):\\n\", df.dtypes)\n",
        "\n",
        "Com o método dtype nós descobrimos quais partes de nossa tabela é integer (int) e object."
      ],
      "metadata": {
        "id": "2WSwT069hCco"
      }
    },
    {
      "cell_type": "markdown",
      "source": [
        "info\n",
        "\n",
        "print(\"\\nInformações sobre o DataFrame (info):\")\n",
        "\n",
        "df.info()\n",
        "\n",
        "Com o método info nós sabemos de forma estrtura o número total de entradas, o tipo de dados de cada coluna e o uso de memória. Ou seja, um resumo do DataFrame."
      ],
      "metadata": {
        "id": "HzYedpvThRzI"
      }
    },
    {
      "cell_type": "markdown",
      "source": [
        "head\n",
        "\n",
        "print(\"\\nPrimeiras linhas (head):\\n\", df.head(2))  \n",
        "\n",
        "Com o método head nós podemos escolher a quantidade de linhas que aparecem. Importante ressaltar que não escolhemos de qual linha que começa - é sempre da primeira."
      ],
      "metadata": {
        "id": "XCu-mq60hgyH"
      }
    },
    {
      "cell_type": "markdown",
      "source": [
        "sampel\n",
        "\n",
        "print(\"\\nAmostra aleatória (sample):\\n\",\n",
        "\n",
        "df.sample(2))\n",
        "\n",
        "Com o método sample é escolhido aleatoriamente escolher linha(s) dependendo da quantidade que colocamos."
      ],
      "metadata": {
        "id": "ywYm0M95hmsI"
      }
    },
    {
      "cell_type": "markdown",
      "source": [
        "tail\n",
        "\n",
        "print(\"\\nÚltimas linhas (tail):\\n\",\n",
        "\n",
        "df.tail(2))\n",
        "\n",
        "Com o método tail nós podemos escolher a quantidade de linhas que aparecem.\n",
        "Importante ressaltar que não escolhemos de qual linha que começa - é sempre da última e em ordem decrescente. (Quando não especificamos uma quantidade de linhas, por padrão são 5.)"
      ],
      "metadata": {
        "id": "y2RXn9tGhvpW"
      }
    },
    {
      "cell_type": "markdown",
      "source": [
        "filter\n",
        "\n",
        "print(\"Colunas filtradas com 'Nome':\\n\", filtro_nomes)\n",
        "\n",
        "print(\"\\nColunas filtradas com regex 'Idade':\\n\", filtro_salario)\n",
        "\n",
        "Aqui nós estamos usando dois Dataframes: o primeiro filtra colunas com base em uma expressão, e o segundo filtra colunas com base em uma expressão comum.\n",
        "\n",
        "Aplicando essa definição temos que: filtro_nomes é um DataFrame resultante de uma operação que filtra nossa coluna chamada \"Nome\". Já filtro_salario é um DataFrame que filtra colunas com base em uma expressão regular que, neste caso, busca colunas que correspondem à palavra \"Idade\" ou um padrão relacionado. Neste caso, só há uma coluna chamada assim.\n",
        "\n"
      ],
      "metadata": {
        "id": "UxBbl6Vvh00A"
      }
    },
    {
      "cell_type": "markdown",
      "source": [
        ".query\n",
        "\n",
        "filtro_idade = df.query('Idade > 30')\n",
        "\n",
        "Este método filtra os dados de maneira expressiva e legível. Ele suporta operadores como >, <, ==, !=, & (e), | (ou), e ~ (não).\n",
        "\n",
        "(Ele também suporta expr, inplace e kwargs. As duas primeiras significam a expressão filtrada passa como uma string e se True, modifica o DataFrame original, repsectivamente. Já kwargs vimos nos extras da aula 2. Mas para retomar e simplificando muito [!!!, olhem na aula 2 a explicação completa]: são argumentos adicionais para avaliar a expressão.)\n",
        "\n",
        "Para finalizar: no nosso exemplo, queremos o filtro de todas as idades maiores do que 30."
      ],
      "metadata": {
        "id": "oQjuQ0eymu2d"
      }
    },
    {
      "cell_type": "markdown",
      "metadata": {
        "id": "zT3UXGIxGne7"
      },
      "source": [
        "\n",
        "#### Ambos Juntos\n",
        "<!-- loc, iloc -->\n",
        "<!-- apenas fazer referencia (linkar) sobre it e iat -->"
      ]
    },
    {
      "cell_type": "markdown",
      "source": [
        "loc\n",
        "\n",
        "print(\"\\nLinhas 1 e 3 com Nome e Idade:\\n\", resultado_multi)\n",
        "\n",
        "Este método nos ajuda a acessar e manipular dados de linhas e colunas:  apenas uma delas ou ambas.\n",
        "\n",
        "No nosso exemplo, o resultado são as linhas e colunas que foram selecionadas, ou seja, da 1 a 3."
      ],
      "metadata": {
        "id": "jLOQzwPDrGUW"
      }
    },
    {
      "cell_type": "markdown",
      "source": [
        "iloc\n",
        "\n",
        "resultado_fatiamento = df.iloc[:, 0:2]\n",
        "\n",
        "print(\"\\nTodas as linhas e as colunas Nome e Idade:\\n\", resultado_fatiamento)\n",
        "\n",
        "Este método nos permite selecionar dados usando os rótulos das linhas e colunas, em vez de suas posições inteiras. Ou seja, manipulamos os índices baseados em zero da nossa tabela.\n",
        "\n",
        "No nosso exemplo, o que fizemos foi selecionar todas as linhas de um DataFrame e apenas as duas primeiras colunas."
      ],
      "metadata": {
        "id": "f5rQbrbNrHFH"
      }
    },
    {
      "cell_type": "markdown",
      "metadata": {
        "id": "fUdSS5oSGne7"
      },
      "source": [
        "### Operate/Create\n",
        "\n",
        "<!-- criar/deletar/alterar colunas -->\n",
        "<!-- criar/deletar/alterar linhas -->\n",
        "\n",
        "<!-- apenas fazer referencia sobre criar/deletar/alterar células -->\n",
        "<!-- lidar com dados NA -->\n"
      ]
    },
    {
      "cell_type": "markdown",
      "source": [
        "### De Colunas"
      ],
      "metadata": {
        "id": "tWCXxVp-qz_8"
      }
    },
    {
      "cell_type": "markdown",
      "source": [
        "Criar\n",
        "\n",
        "df['Salario'] = [50000, 60000, 70000]\n",
        "\n",
        "\n",
        "print(\"DataFrame após adicionar a coluna 'Salario':\\n\", df)\n",
        "\n",
        "Com esse comando inserimos dados novos. Nesse caso, uma coluna de salário."
      ],
      "metadata": {
        "id": "DR7HTcxywBnp"
      }
    },
    {
      "cell_type": "markdown",
      "source": [
        "Deletar\n",
        "\n",
        "df = df.drop(columns=['Salario'])\n",
        "\n",
        "print(\"\\nDataFrame após deletar a coluna 'Salario':\\n\", df)\n",
        "\n",
        "Com esse comando tiramos alguma coluna. Neste caso, a própria coluna criada anteriomente.\n"
      ],
      "metadata": {
        "id": "LEwZ0wm3wB2f"
      }
    },
    {
      "cell_type": "markdown",
      "source": [
        "Alterar\n",
        "\n",
        "df['Idade'] = df['Idade'] + 5\n",
        "\n",
        "print(\"\\nDataFrame após alterar a coluna 'Idade':\\n\", df)\n",
        "\n",
        "Este comando só é possivel, pois o Pandas consegue ser usado para calcular operações aritméticas em colunas inteiras. Assim, podemos somar ou subtrair os números de uma coluna de nossa tabela de uma vez."
      ],
      "metadata": {
        "id": "bD_nnHf0wCD1"
      }
    },
    {
      "cell_type": "markdown",
      "source": [
        "#### De Linhas\n"
      ],
      "metadata": {
        "id": "9ZPzWOWSv0NK"
      }
    },
    {
      "cell_type": "markdown",
      "source": [
        "Criar\n",
        "\n",
        "nova_linha = pd.DataFrame({'Nome': ['Sofia'], 'Idade': [35]})\n",
        "\n",
        "df = pd.concat([df, nova_linha], ignore_index=True)\n",
        "\n",
        "print(\"DataFrame após adicionar a linha de Sofia:\\n\", df)\n",
        "\n",
        "Este método nos ajuda a concatenar dois ou mais DataFrames. No caso, estamos concatenando o DataFrame original da Sofia com o novo. Mais espeficifamente, estamos criando um novo (primeira linha de código) e desconsiderando a linhas antiga que também se refere a Sofia (segunda linha de código). A nossa alteração específica é em sua idade, podendo ser outro, não espcificamente de número."
      ],
      "metadata": {
        "id": "Gq8FR9FSwEAf"
      }
    },
    {
      "cell_type": "markdown",
      "source": [
        "Deletar\n",
        "\n",
        "df = df.drop(index=1)\n",
        "\n",
        "print(\"\\nDataFrame após deletar a linha de Michelle:\\n\", df)\n",
        "\n",
        "O argumento index=1 indica que você deseja deletar a linha que possui o índice 1. Os índices em pandas são baseados em zero, então index=1 se refere à segunda linha do DataFrame."
      ],
      "metadata": {
        "id": "RVc0jlI_wEOI"
      }
    },
    {
      "cell_type": "markdown",
      "source": [
        "Alterar\n",
        "\n",
        "df.loc[0, 'Idade'] = 26\n",
        "\n",
        "print(\"\\nDataFrame após alterar a idade de Sérgio:\\n\", df)\n",
        "\n",
        "O primeiro elemento, 0, refere-se ao rótulo da linha que você deseja acessar. Neste caso, isso indica que você está se referindo à linha com o índice 0.\n",
        "O segundo elemento, 'Idade', refere-se ao nome da coluna que você deseja alterar. Aqui, você está acessando a coluna chamada 'Idade'. = 26: esta parte do código atribui o valor 26 à célula que corresponde à linha 0 (a primeira linha) na coluna 'Idade'. Assim, você está alterando o valor atual dessa célula para 26."
      ],
      "metadata": {
        "id": "e-Klx7uDwEbk"
      }
    },
    {
      "cell_type": "markdown",
      "metadata": {
        "id": "NYeLRnFiGne7"
      },
      "source": [
        "### Reorder\n",
        "<!-- mais algo? criar um exemplo mais concreto? -->\n",
        "\n",
        "Linhas:\n",
        "\n",
        "```\n",
        "df1.sort_values(by='cases', ascending=False)\n",
        "```\n",
        "\n",
        "ascending=False: Este argumento determina a ordem da classificação. Ao definir ascending=False, indicamos que deseja uma ordem decrescente. Isso significa que os valores mais altos na coluna 'cases' aparecerão primeiro.\n",
        "\n",
        "```\n",
        "df1.reindex(columns=['year', 'cases', 'population', 'country'])\n",
        "```\n",
        "\n",
        "df1: Este é o DataFrame que você está manipulando. Ele contém dados estruturados em linhas e colunas.\n",
        "\n",
        ".sort_values(...): Este é um método do pandas que permite ordenar um DataFrame com base nos valores de uma ou mais colunas.\n",
        "\n",
        "by='cases': Este argumento especifica a coluna pela qual você deseja ordenar o DataFrame. Neste caso, a coluna é chamada 'cases'. Isso significa que o DataFrame será ordenado com base nos valores presentes nessa coluna.\n",
        "\n",
        "ascending=False: Este argumento determina a ordem da classificação. Ao definir ascending=False, você está indicando que deseja uma ordem decrescente. Isso significa que os valores mais altos na coluna 'cases' aparecerão primeiro."
      ]
    },
    {
      "cell_type": "markdown",
      "metadata": {
        "id": "z2_F-UVtGne7"
      },
      "source": [
        "### Rename\n",
        "\n",
        "<!-- mais algo? criar um exemplo mais concreto? -->\n",
        "\n",
        "Linhas:\n",
        "\n",
        "```\n",
        "df1.rename({0: 'Row1', 1: 'Row2', 2: 'Row3', 3: 'Row4', 4: 'Row5', 5: 'Row6'})\n",
        "```\n",
        "\n",
        "Colunas:\n",
        "\n",
        "```\n",
        "df1.rename(columns={'cases': 'new_cases', 'population': 'new_population'}, inplace=False)\n",
        "```\n",
        "\n",
        "df1: Este é o DataFrame que você está manipulando. Ele contém linhas e colunas com dados.\n",
        "\n",
        ".rename(...): Este é um método do pandas que permite renomear as linhas ou colunas de um DataFrame. O método retorna uma nova versão do DataFrame com as alterações especificadas.\n",
        "\n",
        "{0: 'Row1', 1: 'Row2', ...}: Este dicionário especifica as mudanças de nome:\n",
        "\n",
        "As chaves (0, 1, 2, ...) representam os índices originais das linhas do DataFrame.\n",
        "Os valores ('Row1', 'Row2', ...) são os novos nomes que você deseja atribuir a essas linhas."
      ]
    },
    {
      "cell_type": "markdown",
      "metadata": {
        "id": "xzDI1M1YGne7"
      },
      "source": [
        "Assim como na parte de Numpy, alguns tipos de operações mais avançados não foram tratados aqui. Veja-os em [Extras](#pandas-outros-tipos-de-operações). Parte deles serão tratados nas próximas aulas."
      ]
    },
    {
      "cell_type": "markdown",
      "metadata": {
        "id": "PsCGoT8HGne8"
      },
      "source": [
        "### Repeated Operations\n",
        "\n",
        "<!-- aplicar uma mesma operação várias colunas, mais algo? -->\n",
        "\n",
        "import pandas as pd\n",
        "\n",
        "# Criando um DataFrame de exemplo\n",
        "data = {\n",
        "    'Nome': ['Aroldo', 'Cátia', 'Tânia'],\n",
        "    'Salario': [50000, 60000, 70000],\n",
        "    'Bonus': [5000, 7000, 8000]\n",
        "}\n",
        "\n",
        "df = pd.DataFrame(data)\n",
        "\n",
        "print(\"DataFrame original:\\n\", df)\n",
        "\n",
        "# Função para aumentar valores em 10%\n",
        "def aumentar_10_porcento(x):\n",
        "    return x * 1.1\n",
        "\n",
        "# Aplicando a função em várias colunas\n",
        "df[['Salario', 'Bonus']] = df[['Salario', 'Bonus']].apply(aumentar_10_porcento)\n",
        "\n",
        "print(\"\\nDataFrame após aumentar Salario e Bonus em 10%:\\n\", df)\n"
      ]
    },
    {
      "cell_type": "markdown",
      "metadata": {
        "id": "4zFe0thVGne8"
      },
      "source": [
        "## Extras\n",
        "\n",
        "<!-- frizar a importancia de estudar as operações do pandas -->"
      ]
    },
    {
      "cell_type": "markdown",
      "metadata": {
        "id": "0N0_psOYGne8"
      },
      "source": [
        "### NumPy: Criação de Vetores"
      ]
    },
    {
      "cell_type": "markdown",
      "metadata": {
        "id": "1YgNvNGiGne8"
      },
      "source": [
        "#### Vetores Placeholder\n",
        "\n",
        "Também podemos criar arrays com valores comuns, temos várias funções, como:\n",
        "\n",
        "- [numpy.empty](https://numpy.org/doc/stable/reference/generated/numpy.empty.html): cria um array vazio com a forma especificada.\n",
        "- [numpy.ones](https://numpy.org/doc/stable/reference/generated/numpy.ones.html): cria um array preenchido com uns.\n",
        "- [numpy.zeros](https://numpy.org/doc/stable/reference/generated/numpy.zeros.html): cria um array preenchido com zeros.\n",
        "- [numpy.full](https://numpy.org/doc/stable/reference/generated/numpy.full.html): cria um array preenchido com um valor constante.\n",
        "- [numpy.eye](https://numpy.org/doc/stable/reference/generated/numpy.eye.html): cria uma matriz identidade.\n",
        "- [numpy.linspace](https://numpy.org/doc/stable/reference/generated/numpy.linspace.html): cria um array com valores espaçados uniformemente dentro de um intervalo.\n",
        "- [numpy.arange](https://numpy.org/doc/stable/reference/generated/numpy.arange.html): cria um array com valores espaçados uniformemente dentro de um intervalo especificado."
      ]
    },
    {
      "cell_type": "code",
      "execution_count": null,
      "metadata": {
        "id": "1lnC2tCmGne8",
        "outputId": "22faaa48-8a78-4a72-eb9c-d824bd21fd92"
      },
      "outputs": [
        {
          "name": "stdout",
          "output_type": "stream",
          "text": [
            "Empty: \n",
            " [[1.48539705e-313 1.06099790e-313 6.36598738e-314]\n",
            " [4.24399158e-314 8.48798316e-314 1.27319747e-313]] \n",
            "\n",
            "Ones: \n",
            " [[1. 1. 1.]\n",
            " [1. 1. 1.]] \n",
            "\n",
            "Zeros: \n",
            " [[0. 0. 0.]\n",
            " [0. 0. 0.]] \n",
            "\n",
            "Full: \n",
            " [[5 5 5]\n",
            " [5 5 5]] \n",
            "\n",
            "Eye: \n",
            " [[1. 0. 0.]\n",
            " [0. 1. 0.]\n",
            " [0. 0. 1.]] \n",
            "\n",
            "Linspace: \n",
            " [ 0.   2.5  5.   7.5 10. ] \n",
            "\n",
            "Arange: \n",
            " [0 2 4 6 8] \n",
            "\n"
          ]
        }
      ],
      "source": [
        "print(\"Empty: \\n\", np.empty((2, 3)), \"\\n\")\n",
        "print(\"Ones: \\n\", np.ones((2, 3)), \"\\n\")\n",
        "print(\"Zeros: \\n\", np.zeros((2, 3)), \"\\n\")\n",
        "print(\"Full: \\n\", np.full((2, 3), 5), \"\\n\")\n",
        "print(\"Eye: \\n\", np.eye(3), \"\\n\")\n",
        "print(\"Linspace: \\n\", np.linspace(0, 10, num=5), \"\\n\")\n",
        "print(\"Arange: \\n\", np.arange(0, 10, 2), \"\\n\")"
      ]
    },
    {
      "cell_type": "markdown",
      "metadata": {
        "id": "lirVu8OVGne8"
      },
      "source": [
        "#### Vetores Aleatórios\n",
        "\n",
        "O numpy tem uma parte da biblioteca focada na geração de números aleatórios, [numpy.random](https://numpy.org/doc/stable/reference/random/index.html). Se tiver curiosidade, leia mais sobre como computadores geram [números pseudo-aleatórios](https://www.revista-programar.info/artigos/pseudorandom-number-generators-prngs/).\n",
        "\n",
        "Todas as distribuições que você pensar podem ser geradas pelo numpy:\n",
        "\n",
        "- Uniforme: [numpy.random.uniform](https://numpy.org/doc/stable/reference/random/generated/numpy.random.Generator.uniform.html).\n",
        "    - Uniforme 0-1: [numpy.random.random](https://numpy.org/doc/stable/reference/random/generated/numpy.random.Generator.random.html).\n",
        "    - Uniforme discreta A-B: [numpy.random.integers](https://numpy.org/doc/stable/reference/random/generated/numpy.random.Generator.integers.html).\n",
        "- Binomial: [numpy.random.binomial](https://numpy.org/doc/stable/reference/random/generated/numpy.random.Generator.binomial.html).\n",
        "- Normal: [numpy.random.normal](https://numpy.org/doc/stable/reference/random/generated/numpy.random.Generator.normal.html).\n",
        "- Poisson: [numpy.random.poisson](https://numpy.org/doc/stable/reference/random/generated/numpy.random.Generator.poisson.html).\n",
        "- Samplear um array: [numpy.random.choice](https://numpy.org/doc/stable/reference/random/generated/numpy.random.Generator.choice.html)."
      ]
    },
    {
      "cell_type": "markdown",
      "metadata": {
        "id": "3Z0U3GahGne8"
      },
      "source": [
        "#### Vetores Importados\n",
        "\n",
        "Podemos salvar arrays em arquivos, usando funções como:\n",
        "\n",
        "- [numpy.save](https://numpy.org/doc/stable/reference/generated/numpy.save.html): salva como um \"arquivo array\" \".npy\".\n",
        "- [numpy.savetxt](https://numpy.org/doc/stable/reference/generated/numpy.savetxt.html): salva como um arquivo CSV, adequado apenas para arrays 1D e 2D.\n",
        "- [A biblioteca pickle](https://docs.python.org/3/library/pickle.html): uma bilbioteca que consegue \"conservar\" qualquer objeto do python, mas pode ser demorado.\n",
        "\n",
        "Similarmente, podemos importar arquivos, com funções `numpy.load` e `numpy.loadtxt`.\n",
        "\n",
        "Por fim, é comum converter outros objetos em arrays. Veja as funções [numpy.asarray](https://numpy.org/doc/stable/reference/generated/numpy.asarray.html) e [pandas.Series.to_numpy](https://pandas.pydata.org/pandas-docs/version/0.24.0rc1/api/generated/pandas.Series.to_numpy.html)."
      ]
    },
    {
      "cell_type": "markdown",
      "metadata": {
        "id": "oqdAmARLGne8"
      },
      "source": [
        "<!-- É esse tipo de comentário com referências para mais conteúdo que deve ser criado com mais frequência, e nas outras aulas!! -->\n",
        "\n",
        "Para mais informação sobre criação de arrays, veja [API Ref. → Routines → Array creation](https://numpy.org/doc/stable/reference/routines.array-creation.html):\n",
        "\n",
        "- [Criando por forma e valor](https://numpy.org/doc/stable/reference/routines.array-creation.html#from-shape-or-value).\n",
        "- [Criando por dados](https://numpy.org/doc/stable/reference/routines.array-creation.html#from-existing-data), e [API Ref. → Routines → I/O](https://numpy.org/doc/stable/reference/routines.io.html).\n",
        "- [Criando por ranges](https://numpy.org/doc/stable/reference/routines.array-creation.html#numerical-ranges).\n",
        "- [Criando matrizes](https://numpy.org/doc/stable/reference/routines.array-creation.html#building-matrices)."
      ]
    },
    {
      "cell_type": "markdown",
      "metadata": {
        "id": "DGGBad0wGne9"
      },
      "source": [
        "### Numpy: Mais Sobre Tipos\n",
        "\n",
        "Como iniciado na parte de dtype() de Pandas, na realidade, embora exista o conceito de \"número inteiro\", e o Python só defina um tipo de dado _integer_, existem muitas maneiras de representar um número na memória do computador. O numpy se importa com isso, e existem vários tipos para cada um dos conceitos acima.\n",
        "\n",
        "- Por conta disso, o dtype pode aparecer com nomes diferentes como _int64_.\n",
        "- Se você for muito nerd, talvez isso importe para o seu projeto. Para escolher um tipo específico use a função `np.array` com o argumento `dtype = ...`. Leia mais sobre isso [aqui](https://numpy.org/doc/stable/reference/arrays.scalars.html#arrays-scalars-built-in).\n",
        "- O tipo de um array `x` pode ser descoberto com `x.dtype` e `x.dtype.name`."
      ]
    },
    {
      "cell_type": "markdown",
      "metadata": {
        "id": "zWYXda0BGne9"
      },
      "source": [
        "### Numpy: Operações Vetorizadas"
      ]
    },
    {
      "cell_type": "markdown",
      "metadata": {
        "id": "YkGD7pjdGne9"
      },
      "source": [
        "#### Operações Aritméticas\n",
        "<!-- falar sobre min/max, +*-/, mean/median/var/std, sum/prod, cumsum/cumprod, argmax/argmin, round -->\n",
        "\n",
        "Veja mais em [API Ref. → Routines → Mathematical functions](https://numpy.org/doc/stable/reference/routines.math.html)."
      ]
    },
    {
      "cell_type": "code",
      "execution_count": null,
      "metadata": {
        "id": "BTsgEMzXGne9",
        "outputId": "06d0dd64-1f25-4580-ff33-250b4125217a"
      },
      "outputs": [
        {
          "name": "stdout",
          "output_type": "stream",
          "text": [
            "[-3 -3 -3] \n",
            "\n",
            "[0.25 0.4  0.5 ] \n",
            "\n",
            "[ 2.71828183  7.3890561  20.08553692] \n",
            "\n",
            "[1.         1.41421356 1.73205081] \n",
            "\n",
            "[0.84147098 0.90929743 0.14112001] \n",
            "\n",
            "[0.         0.69314718 1.09861229] \n",
            "\n"
          ]
        }
      ],
      "source": [
        "a1, a2 = np.array([1,2,3]), np.array([4,5,6])\n",
        "\n",
        "print(np.subtract(a1, a2), \"\\n\") #a1 + a2\n",
        "print(np.divide(a1, a2), \"\\n\") #a1 * a2\n",
        "print(np.exp(a1), \"\\n\")\n",
        "print(np.sqrt(a1), \"\\n\")\n",
        "print(np.sin(a1), \"\\n\")\n",
        "print(np.log(a1), \"\\n\")"
      ]
    },
    {
      "cell_type": "markdown",
      "metadata": {
        "id": "sQazUB3IGne9"
      },
      "source": [
        "Também considere as constantes abaixo. Mais informações em [API Ref. → Constants](https://numpy.org/doc/stable/reference/constants.html)."
      ]
    },
    {
      "cell_type": "code",
      "execution_count": null,
      "metadata": {
        "id": "kluOrtCqGne9",
        "outputId": "d77c69ee-6ad1-42af-d0f8-4ddd6980bf35"
      },
      "outputs": [
        {
          "data": {
            "text/plain": [
              "(3.141592653589793, 2.718281828459045, nan, inf)"
            ]
          },
          "execution_count": 144,
          "metadata": {},
          "output_type": "execute_result"
        }
      ],
      "source": [
        "np.pi, np.e, np.nan, np.inf"
      ]
    },
    {
      "cell_type": "markdown",
      "metadata": {
        "id": "tMcLz9J9Gne9"
      },
      "source": [
        "#### Operações Matriciais\n",
        "\n",
        "Veja mais em [API Ref. → Routines → Linear algebra](https://numpy.org/doc/stable/reference/routines.linalg.html)."
      ]
    },
    {
      "cell_type": "code",
      "execution_count": null,
      "metadata": {
        "id": "U7EPFxLyGne9",
        "outputId": "bc1b8c5f-91ee-4391-bfd1-38d28134e6cd"
      },
      "outputs": [
        {
          "name": "stdout",
          "output_type": "stream",
          "text": [
            "[[ 4 10]\n",
            " [ 4 18]] \n",
            "\n",
            "[[-4 -7]\n",
            " [ 8 13]] \n",
            "\n",
            "[[  3  10]\n",
            " [ -5 -17]] \n",
            "\n",
            "-1.0 \n",
            "\n",
            "[[ 3.  2.]\n",
            " [-1. -1.]] \n",
            "\n",
            "3.872983346207417 \n",
            "\n",
            "EigResult(eigenvalues=array([ 0.41421356, -2.41421356]), eigenvectors=array([[ 0.95968298, -0.50544947],\n",
            "       [-0.28108464,  0.86285621]])) \n",
            "\n"
          ]
        }
      ],
      "source": [
        "a1, a2 = np.array([(1,2), (-1,-3)]), np.array([(4,5), (-4,-6)]) # Note o uso, indiferenciável, de tuplas\n",
        "\n",
        "print(a1 * a2, \"\\n\")\n",
        "print(np.dot(a1, a2), \"\\n\") #a1 @ a2 (produto escalar)\n",
        "print(np.linalg.matrix_power(a1, 3), \"\\n\") #(potência de matriz)\n",
        "print(np.linalg.det(a1), \"\\n\") #(determinante)\n",
        "print(np.linalg.inv(a1), \"\\n\") #(matriz inversa)\n",
        "print(np.linalg.norm(a1), \"\\n\") #(norma)\n",
        "print(np.linalg.eig(a1), \"\\n\") #(autovalores e autovertores)"
      ]
    },
    {
      "cell_type": "markdown",
      "metadata": {
        "id": "7VzIrmMKGne-"
      },
      "source": [
        "#### Operações com Strings\n",
        "\n",
        "Veja mais em [API Ref. → Routines → String operations](https://numpy.org/doc/stable/reference/routines.char.html)."
      ]
    },
    {
      "cell_type": "code",
      "execution_count": null,
      "metadata": {
        "id": "R7dcNEdiGne-",
        "outputId": "9b3e5281-763e-407b-baac-0ad2ec62e3a2"
      },
      "outputs": [
        {
          "name": "stdout",
          "output_type": "stream",
          "text": [
            "['olá, tudo bem?' 'oi, bem?' 'oopa, bão?'] \n",
            "\n",
            "['oláoláolá' 'oi' 'oopaoopa'] \n",
            "\n",
            "['Olá' 'Oi' 'Oopa'] \n",
            "\n",
            "[1 1 2] \n",
            "\n",
            "[0 0 0] \n",
            "\n"
          ]
        }
      ],
      "source": [
        "a1, a2 = np.array(['olá', 'oi', 'oopa']), np.array([', tudo bem?', ', bem?', ', bão?'])\n",
        "\n",
        "print(np.char.add(a1, a2), \"\\n\")\n",
        "print(np.char.multiply(a1, [3, 1, 2]), \"\\n\")\n",
        "print(np.char.capitalize(a1), \"\\n\")\n",
        "print(np.char.count(a1, 'o'), \"\\n\")\n",
        "print(np.char.find(a1, 'o'), \"\\n\")"
      ]
    },
    {
      "cell_type": "markdown",
      "metadata": {
        "id": "twWomYQ-Gne-"
      },
      "source": [
        "#### Operações Lógicas/de Comparação\n",
        "\n",
        "Veja mais em [API Ref. → Routines → Logic functions](https://numpy.org/doc/stable/reference/routines.logic.html). Também veja operações de sets em [API Ref. → Routines → Set functions](https://numpy.org/doc/stable/reference/routines.set.html)."
      ]
    },
    {
      "cell_type": "code",
      "execution_count": null,
      "metadata": {
        "id": "53nHcK88Gne-",
        "outputId": "e64b908a-b225-4055-acbb-569242f218af"
      },
      "outputs": [
        {
          "name": "stdout",
          "output_type": "stream",
          "text": [
            "[[False False]\n",
            " [ True  True]] \n",
            "\n",
            "False \n",
            "\n",
            "[[False  True]\n",
            " [ True  True]] \n",
            "\n"
          ]
        }
      ],
      "source": [
        "a1, a2 = np.array([(1,2), (-1,-3)]), np.array([(4,5), (-4,-6)])\n",
        "\n",
        "print(np.greater(a1, a2), \"\\n\") #a1 > a2\n",
        "print((a1 == a2).any(), \"\\n\") #note the usage of ()\n",
        "print(np.logical_or(a1 > 1, a2 < 0), \"\\n\") #a1 > 1 or a2 < 0"
      ]
    },
    {
      "cell_type": "markdown",
      "metadata": {
        "id": "hVBEjxIKGne-"
      },
      "source": [
        "#### Operações Estatísticas\n",
        "\n",
        "Veja mais em [API Ref. → Routines → Statistics](https://numpy.org/doc/stable/reference/routines.statistics.html)."
      ]
    },
    {
      "cell_type": "code",
      "execution_count": null,
      "metadata": {
        "id": "25krwFk_Gne-",
        "outputId": "0259b605-1ebc-4602-a79e-5cd69333e5cd"
      },
      "outputs": [
        {
          "name": "stdout",
          "output_type": "stream",
          "text": [
            "0.0014274762281511 \n",
            "\n",
            "0.0025126008047063083 \n",
            "\n",
            "0.9979381079716622 \n",
            "\n",
            "-0.6661109489960002 \n",
            "\n",
            "[[1.         0.89446592]\n",
            " [0.89446592 1.        ]] \n",
            "\n"
          ]
        }
      ],
      "source": [
        "a1 = np.random.normal(0, 1, 100000)\n",
        "a2 = a1 + np.random.normal(0, 0.5, 100000)\n",
        "\n",
        "print(np.mean(a1), \"\\n\")\n",
        "print(np.median(a1), \"\\n\")\n",
        "print(np.std(a1), \"\\n\")\n",
        "print(np.quantile(a1, 0.25), \"\\n\")\n",
        "print(np.corrcoef(a1, a2), \"\\n\")"
      ]
    },
    {
      "cell_type": "markdown",
      "metadata": {
        "id": "IKqG1PBoGne-"
      },
      "source": [
        "### Numpy: Outros Tipos de Operações"
      ]
    },
    {
      "cell_type": "markdown",
      "metadata": {
        "id": "NJMR_tsHGne-"
      },
      "source": [
        "#### Operate/Create\n",
        "\n",
        "Veja os funções:\n",
        "\n",
        "- `append()`, `insert()`, e `delete()`.\n",
        "\n",
        "<!-- criar/deletar/alterar elementos (faltam funções abaixo) -->"
      ]
    },
    {
      "cell_type": "markdown",
      "metadata": {
        "id": "Vz9QDEmyGne_"
      },
      "source": [
        "#### Reorder\n",
        "<!-- .arrange, .sort, .argsort -->"
      ]
    },
    {
      "cell_type": "markdown",
      "metadata": {
        "id": "CImsFH68Gne_"
      },
      "source": [
        "#### Reshape\n",
        "\n",
        "Veja as funções/métodos:\n",
        "\n",
        "- [`.resize()`](https://numpy.org/doc/stable/reference/generated/numpy.resize.html) e [`reshape()`](https://numpy.org/doc/stable/reference/generated/numpy.reshape.html): para alterar a forma de um array, passando a nova forma como uma tupla.\n",
        "- [`transpose()`](https://numpy.org/doc/stable/reference/generated/numpy.transpose.html): transpor arrays.\n",
        "- [`.flatten()`](https://numpy.org/doc/stable/reference/generated/numpy.ndarray.flatten.html) e [`.ravel()`](https://numpy.org/doc/stable/reference/generated/numpy.ravel.html): achatar arrays."
      ]
    },
    {
      "cell_type": "markdown",
      "metadata": {
        "id": "3-1Lyhg-Gne_"
      },
      "source": [
        "#### Combine, Separate e Unite\n",
        "\n",
        "Veja as funções:\n",
        "\n",
        "- [`concatenate()`](https://numpy.org/doc/stable/reference/generated/numpy.concatenate.html).\n",
        "- [`vstack()`](https://numpy.org/doc/stable/reference/generated/numpy.vstack.html),  e [`hstack()`](https://numpy.org/doc/stable/reference/generated/numpy.hstack.html).\n",
        "\n",
        "Em oposição, podemos dividir arrays:\n",
        "\n",
        "- [`.hsplit()`](https://numpy.org/doc/stable/reference/generated/numpy.hsplit.html) e [`.vsplit()`](https://numpy.org/doc/stable/reference/generated/numpy.vsplit.html)."
      ]
    },
    {
      "cell_type": "markdown",
      "metadata": {
        "id": "HZsqNz3jGne_"
      },
      "source": [
        "### Numpy: Funções Universais\n",
        "\n",
        "Existe um último tópico interessante, mas mais avançado. As funções do numpy são bem poderosas e flexíveis. É possível:\n",
        "\n",
        "- Aplicá-las para cada dimensão separadamente -- usando o argumento `axis=`.\n",
        "- Filtrar dimensões para não aplicar -- usando o argumento `where=`\n",
        "- Aplicar de modo a \"acumular\" ou \"reduzir\" o resultado -- usando os métodos `.accumulate()` e `.reduce()`.\n",
        "\n",
        "Aprendam sobre esses tópicos em [Api Ref. ⭢ Universal functions](https://numpy.org/doc/stable/reference/ufuncs.html). Adicionalmente, Também vejam algumas táticas avançadas em [Api Ref. ⭢ Routines ⭢ Functional programming](https://numpy.org/doc/stable/reference/routines.functional.html).\n",
        "\n",
        "Abaixo apresento alguns exemplos sem contexto nenhum."
      ]
    },
    {
      "cell_type": "code",
      "execution_count": null,
      "metadata": {
        "id": "41g9evx-Gne_",
        "outputId": "bed44479-0897-4ded-c0a6-a0782049a158"
      },
      "outputs": [
        {
          "data": {
            "text/plain": [
              "6"
            ]
          },
          "execution_count": 149,
          "metadata": {},
          "output_type": "execute_result"
        }
      ],
      "source": [
        "a1 = np.array([1,2,3])\n",
        "\n",
        "np.add.accumulate(a1)\n",
        "np.add.reduce(a1)"
      ]
    },
    {
      "cell_type": "code",
      "execution_count": null,
      "metadata": {
        "id": "AeXEyY9qGne_",
        "outputId": "afe97abd-9bca-4411-e06f-caf112d2809f"
      },
      "outputs": [
        {
          "name": "stdout",
          "output_type": "stream",
          "text": [
            "[[1 2]\n",
            " [5 7]]\n",
            "[5 7]\n"
          ]
        }
      ],
      "source": [
        "a2 = np.array([[1,2], [4,5]])\n",
        "\n",
        "print(np.add.accumulate(a2, axis = 0))\n",
        "print(np.add.reduce(a2, axis = 0))"
      ]
    },
    {
      "cell_type": "code",
      "execution_count": null,
      "metadata": {
        "id": "dXKIYJnmGne_",
        "outputId": "182882b8-26d9-430a-c949-59c02480abaf"
      },
      "outputs": [
        {
          "name": "stdout",
          "output_type": "stream",
          "text": [
            "3 \n",
            "\n",
            "[1 5] \n",
            "\n"
          ]
        }
      ],
      "source": [
        "where1 = [True, True, False]\n",
        "where2 = [[True, False], [False, True]]\n",
        "\n",
        "print(np.add.reduce(a1, 0, where = where1), \"\\n\")\n",
        "print(np.add.reduce(a2, 0, where = where2), \"\\n\")"
      ]
    },
    {
      "cell_type": "markdown",
      "metadata": {
        "id": "EjofSbHbGne_"
      },
      "source": [
        "### Pandas: Outros Tipos de Operações"
      ]
    },
    {
      "cell_type": "code",
      "execution_count": null,
      "metadata": {
        "id": "f1c_oX_pGne_"
      },
      "outputs": [],
      "source": [
        "# Alguns exemplos:\n",
        "\n",
        "tables_links = {\n",
        "    'df1': 'https://raw.githubusercontent.com/tidyverse/tidyr/c6c126a61f67a10b5ab9ce6bb1d9dbbb7a380bbd/data-raw/table1.csv',\n",
        "    'df2': 'https://raw.githubusercontent.com/tidyverse/tidyr/c6c126a61f67a10b5ab9ce6bb1d9dbbb7a380bbd/data-raw/table2.csv',\n",
        "    'df3': 'https://raw.githubusercontent.com/tidyverse/tidyr/c6c126a61f67a10b5ab9ce6bb1d9dbbb7a380bbd/data-raw/table3.csv',\n",
        "    'df4a': 'https://raw.githubusercontent.com/tidyverse/tidyr/c6c126a61f67a10b5ab9ce6bb1d9dbbb7a380bbd/data-raw/table4a.csv',\n",
        "    'df4b': 'https://raw.githubusercontent.com/tidyverse/tidyr/c6c126a61f67a10b5ab9ce6bb1d9dbbb7a380bbd/data-raw/table4b.csv',\n",
        "    'df5': 'https://raw.githubusercontent.com/tidyverse/tidyr/c6c126a61f67a10b5ab9ce6bb1d9dbbb7a380bbd/data-raw/table6.csv'\n",
        "}\n",
        "\n",
        "for i in tables_links.keys():\n",
        "    globals()[i] = pd.read_csv(tables_links[i])"
      ]
    },
    {
      "cell_type": "markdown",
      "metadata": {
        "id": "yDgg0P9aGnfA"
      },
      "source": [
        "#### Reshape\n",
        "<!-- Mais informaçõa -->"
      ]
    },
    {
      "cell_type": "markdown",
      "metadata": {
        "id": "5nRY0pPpGnfA"
      },
      "source": [
        "Wide to long (melt):"
      ]
    },
    {
      "cell_type": "code",
      "execution_count": null,
      "metadata": {
        "id": "d_10Df8pGnfA",
        "outputId": "24e21979-d9d7-42b6-a5d7-801338828ab0"
      },
      "outputs": [
        {
          "name": "stdout",
          "output_type": "stream",
          "text": [
            "       country    1999    2000\n",
            "0  Afghanistan     745    2666\n",
            "1       Brazil   37737   80488\n",
            "2        China  212258  213766\n"
          ]
        },
        {
          "data": {
            "text/html": [
              "<div>\n",
              "<style scoped>\n",
              "    .dataframe tbody tr th:only-of-type {\n",
              "        vertical-align: middle;\n",
              "    }\n",
              "\n",
              "    .dataframe tbody tr th {\n",
              "        vertical-align: top;\n",
              "    }\n",
              "\n",
              "    .dataframe thead th {\n",
              "        text-align: right;\n",
              "    }\n",
              "</style>\n",
              "<table border=\"1\" class=\"dataframe\">\n",
              "  <thead>\n",
              "    <tr style=\"text-align: right;\">\n",
              "      <th></th>\n",
              "      <th>country</th>\n",
              "      <th>year</th>\n",
              "      <th>cases</th>\n",
              "    </tr>\n",
              "  </thead>\n",
              "  <tbody>\n",
              "    <tr>\n",
              "      <th>0</th>\n",
              "      <td>Afghanistan</td>\n",
              "      <td>1999</td>\n",
              "      <td>745</td>\n",
              "    </tr>\n",
              "    <tr>\n",
              "      <th>1</th>\n",
              "      <td>Brazil</td>\n",
              "      <td>1999</td>\n",
              "      <td>37737</td>\n",
              "    </tr>\n",
              "    <tr>\n",
              "      <th>2</th>\n",
              "      <td>China</td>\n",
              "      <td>1999</td>\n",
              "      <td>212258</td>\n",
              "    </tr>\n",
              "    <tr>\n",
              "      <th>3</th>\n",
              "      <td>Afghanistan</td>\n",
              "      <td>2000</td>\n",
              "      <td>2666</td>\n",
              "    </tr>\n",
              "    <tr>\n",
              "      <th>4</th>\n",
              "      <td>Brazil</td>\n",
              "      <td>2000</td>\n",
              "      <td>80488</td>\n",
              "    </tr>\n",
              "    <tr>\n",
              "      <th>5</th>\n",
              "      <td>China</td>\n",
              "      <td>2000</td>\n",
              "      <td>213766</td>\n",
              "    </tr>\n",
              "  </tbody>\n",
              "</table>\n",
              "</div>"
            ],
            "text/plain": [
              "       country  year   cases\n",
              "0  Afghanistan  1999     745\n",
              "1       Brazil  1999   37737\n",
              "2        China  1999  212258\n",
              "3  Afghanistan  2000    2666\n",
              "4       Brazil  2000   80488\n",
              "5        China  2000  213766"
            ]
          },
          "execution_count": 154,
          "metadata": {},
          "output_type": "execute_result"
        }
      ],
      "source": [
        "print(df4a)\n",
        "pd.melt(df4a, id_vars = [\"country\"], var_name = \"year\", value_name = \"cases\")"
      ]
    },
    {
      "cell_type": "markdown",
      "metadata": {
        "id": "Vn9eJy3WGnfA"
      },
      "source": [
        "Long to wide (pivot)"
      ]
    },
    {
      "cell_type": "code",
      "execution_count": null,
      "metadata": {
        "id": "WFvuG2MAGnfA",
        "outputId": "eb34520e-b2d7-46b8-b424-5d529cc3a741"
      },
      "outputs": [
        {
          "name": "stdout",
          "output_type": "stream",
          "text": [
            "        country  year        type       count\n",
            "0   Afghanistan  1999       cases         745\n",
            "1   Afghanistan  1999  population    19987071\n",
            "2   Afghanistan  2000       cases        2666\n",
            "3   Afghanistan  2000  population    20595360\n",
            "4        Brazil  1999       cases       37737\n",
            "5        Brazil  1999  population   172006362\n",
            "6        Brazil  2000       cases       80488\n",
            "7        Brazil  2000  population   174504898\n",
            "8         China  1999       cases      212258\n",
            "9         China  1999  population  1272915272\n",
            "10        China  2000       cases      213766\n",
            "11        China  2000  population  1280428583\n"
          ]
        },
        {
          "data": {
            "text/html": [
              "<div>\n",
              "<style scoped>\n",
              "    .dataframe tbody tr th:only-of-type {\n",
              "        vertical-align: middle;\n",
              "    }\n",
              "\n",
              "    .dataframe tbody tr th {\n",
              "        vertical-align: top;\n",
              "    }\n",
              "\n",
              "    .dataframe thead th {\n",
              "        text-align: right;\n",
              "    }\n",
              "</style>\n",
              "<table border=\"1\" class=\"dataframe\">\n",
              "  <thead>\n",
              "    <tr style=\"text-align: right;\">\n",
              "      <th></th>\n",
              "      <th>type</th>\n",
              "      <th>cases</th>\n",
              "      <th>population</th>\n",
              "    </tr>\n",
              "    <tr>\n",
              "      <th>country</th>\n",
              "      <th>year</th>\n",
              "      <th></th>\n",
              "      <th></th>\n",
              "    </tr>\n",
              "  </thead>\n",
              "  <tbody>\n",
              "    <tr>\n",
              "      <th rowspan=\"2\" valign=\"top\">Afghanistan</th>\n",
              "      <th>1999</th>\n",
              "      <td>745</td>\n",
              "      <td>19987071</td>\n",
              "    </tr>\n",
              "    <tr>\n",
              "      <th>2000</th>\n",
              "      <td>2666</td>\n",
              "      <td>20595360</td>\n",
              "    </tr>\n",
              "    <tr>\n",
              "      <th rowspan=\"2\" valign=\"top\">Brazil</th>\n",
              "      <th>1999</th>\n",
              "      <td>37737</td>\n",
              "      <td>172006362</td>\n",
              "    </tr>\n",
              "    <tr>\n",
              "      <th>2000</th>\n",
              "      <td>80488</td>\n",
              "      <td>174504898</td>\n",
              "    </tr>\n",
              "    <tr>\n",
              "      <th rowspan=\"2\" valign=\"top\">China</th>\n",
              "      <th>1999</th>\n",
              "      <td>212258</td>\n",
              "      <td>1272915272</td>\n",
              "    </tr>\n",
              "    <tr>\n",
              "      <th>2000</th>\n",
              "      <td>213766</td>\n",
              "      <td>1280428583</td>\n",
              "    </tr>\n",
              "  </tbody>\n",
              "</table>\n",
              "</div>"
            ],
            "text/plain": [
              "type               cases  population\n",
              "country     year                    \n",
              "Afghanistan 1999     745    19987071\n",
              "            2000    2666    20595360\n",
              "Brazil      1999   37737   172006362\n",
              "            2000   80488   174504898\n",
              "China       1999  212258  1272915272\n",
              "            2000  213766  1280428583"
            ]
          },
          "execution_count": 155,
          "metadata": {},
          "output_type": "execute_result"
        }
      ],
      "source": [
        "print(df2)\n",
        "pd.pivot(df2, index = [\"country\", \"year\"], columns = \"type\", values = \"count\")"
      ]
    },
    {
      "cell_type": "markdown",
      "metadata": {
        "id": "7yU68vKSGnfA"
      },
      "source": [
        "#### Separate e Unite"
      ]
    },
    {
      "cell_type": "markdown",
      "metadata": {
        "id": "aroGvWTEGnfA"
      },
      "source": [
        "Separar:"
      ]
    },
    {
      "cell_type": "code",
      "execution_count": null,
      "metadata": {
        "id": "hsdQuLdBGnfA",
        "outputId": "7095e576-b29d-4fe6-926c-b353abe3b78e"
      },
      "outputs": [
        {
          "name": "stdout",
          "output_type": "stream",
          "text": [
            "       country  year               rate\n",
            "0  Afghanistan  1999       745/19987071\n",
            "1  Afghanistan  2000      2666/20595360\n",
            "2       Brazil  1999    37737/172006362\n",
            "3       Brazil  2000    80488/174504898\n",
            "4        China  1999  212258/1272915272\n",
            "5        China  2000  213766/1280428583 \n",
            "\n",
            "       country  year   cases  population\n",
            "0  Afghanistan  1999     745    19987071\n",
            "1  Afghanistan  2000    2666    20595360\n",
            "2       Brazil  1999   37737   172006362\n",
            "3       Brazil  2000   80488   174504898\n",
            "4        China  1999  212258  1272915272\n",
            "5        China  2000  213766  1280428583\n"
          ]
        }
      ],
      "source": [
        "print(df3, \"\\n\")\n",
        "\n",
        "df3[[\"cases\", \"population\"]] = df3[\"rate\"].str.split(\"/\", expand = True)\n",
        "df3 = df3.drop(\"rate\", axis = 1)\n",
        "print(df3)"
      ]
    },
    {
      "cell_type": "markdown",
      "metadata": {
        "id": "SoHf6PCiGnfA"
      },
      "source": [
        "Unir:"
      ]
    },
    {
      "cell_type": "code",
      "execution_count": null,
      "metadata": {
        "id": "Fnro067MGnfB",
        "outputId": "6aa98d9e-f932-4d3f-c2b9-4aab98432e1f"
      },
      "outputs": [
        {
          "name": "stdout",
          "output_type": "stream",
          "text": [
            "       country  century  year               rate\n",
            "0  Afghanistan       19    99       745/19987071\n",
            "1  Afghanistan       20     0      2666/20595360\n",
            "2       Brazil       19    99    37737/172006362\n",
            "3       Brazil       20     0    80488/174504898\n",
            "4        China       19    99  212258/1272915272\n",
            "5        China       20     0  213766/1280428583 \n",
            "\n",
            "       country  year               rate\n",
            "0  Afghanistan   118       745/19987071\n",
            "1  Afghanistan    20      2666/20595360\n",
            "2       Brazil   118    37737/172006362\n",
            "3       Brazil    20    80488/174504898\n",
            "4        China   118  212258/1272915272\n",
            "5        China    20  213766/1280428583\n"
          ]
        }
      ],
      "source": [
        "print(df5, \"\\n\")\n",
        "\n",
        "df5[\"year\"] = df5[\"century\"] + df5[\"year\"]\n",
        "df5 = df5.drop(\"century\", axis = 1)\n",
        "print(df5)"
      ]
    }
  ],
  "metadata": {
    "kernelspec": {
      "display_name": "Python 3",
      "language": "python",
      "name": "python3"
    },
    "language_info": {
      "codemirror_mode": {
        "name": "ipython",
        "version": 3
      },
      "file_extension": ".py",
      "mimetype": "text/x-python",
      "name": "python",
      "nbconvert_exporter": "python",
      "pygments_lexer": "ipython3",
      "version": "3.12.0"
    },
    "colab": {
      "provenance": []
    }
  },
  "nbformat": 4,
  "nbformat_minor": 0
}
