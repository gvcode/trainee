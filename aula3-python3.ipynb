{
 "cells": [
  {
   "cell_type": "markdown",
   "metadata": {},
   "source": [
    "# Introdução ao Python III"
   ]
  },
  {
   "cell_type": "markdown",
   "metadata": {},
   "source": [
    "## Introdução {.unnumbered}\n",
    "\n",
    "<!--Motivação da aula-->\n",
    "\n",
    "<!--TOC dos temas da aula (pra ajudar os alunos a se acharem na aula)-->\n",
    "\n",
    "<!--Texto (enxuto, objetivo) com os objetivos de aprendizagem principais (o que, principalmente, os alunos tem que sair dessa aula sabendo)-->\n",
    "<!--Adiantando: Em termos simplistas, vamos apresentar dois novos tipos de dados, os vetores e os dataframes (e como utilizá-los); Adicionalmente, estudaremos as funções para vetores/dataframes separados pelos \"tipos de operações\", entender essa lógica ajuda a pegar o big picture dos pacotes-->\n",
    "\n",
    "<!--Ao longo da aula: adicionar mais referências, especialmente sobre onde expandir os conhecimentos sobre cada tema-->"
   ]
  },
  {
   "cell_type": "markdown",
   "metadata": {},
   "source": [
    "## Vetores e Dataframes\n",
    "\n",
    "<!--Motivar teoricamente porque estamos interessados em aprender outros tipos de (coleções de) dados, além da lista. O texto abaixo está interessante, mas pode não estar tão didático-->"
   ]
  },
  {
   "cell_type": "markdown",
   "metadata": {},
   "source": [
    "### O Problema\n",
    "\n",
    "Considere o código abaixo:"
   ]
  },
  {
   "cell_type": "code",
   "execution_count": 126,
   "metadata": {},
   "outputs": [
    {
     "name": "stdout",
     "output_type": "stream",
     "text": [
      "[1, 2, 3, 4, 5, 1, 2, 3, 4, 5]\n",
      "[2, 4, 6, 8, 10]\n"
     ]
    }
   ],
   "source": [
    "l1 = [1, 2, 3, 4, 5]\n",
    "print(l1 * 2)\n",
    "print([i * 2 for i in l1])"
   ]
  },
  {
   "cell_type": "markdown",
   "metadata": {},
   "source": [
    "A lista não é multiplicada \"termo-a-termo\", que chato... Porque?\n",
    "\n",
    "Considere a lista `[1, \"a\", 3, (1, 2)]`, como você faria a multiplicação termo-a-termo? Não é óbvio.\n",
    "\n",
    "O problema é que listas não precisam ser **homogêneas**, seus elementos podem ser de tipos diferentes. Como uma mesma operação é definida de maneiras diferentes para cada tipo -- ou as vezes, nem definida está --, não dá para fazer uma operação termo-a-termo."
   ]
  },
  {
   "cell_type": "markdown",
   "metadata": {},
   "source": [
    "### Vetores\n",
    "\n",
    "Vamos ter que considerar um novo tipo de coleção, os **vetores**!\n",
    "\n",
    "A palavra vetor tem várias definições diferentes, nesta aula, em termos simplistas (!!), pensem em um vetor como uma coleção **homogênea** de dados.\n",
    "\n",
    "Note que, para ser homogênea, todos os elementos devem ser do mesmo tipo. Tendo essa restrição, conseguimos aplicar **operações vetorizadas**, termo-a-termo, muito mais rápidas que usando um loop/comprehension.\n",
    "\n",
    "Note que vetores não podem conter vetores (pois estes tem o tipo \"array\"). Ainda assim, vetores podem ser multi-dimensionais. Pense que são coleções meramente organizadas em linhas/colunas.\n",
    "\n",
    "Vamos adquirir o conhecimento aplicado sobre vetores em breve."
   ]
  },
  {
   "cell_type": "markdown",
   "metadata": {},
   "source": [
    "#### Exemplos\n",
    "\n",
    "Veja exemplos abaixo, e se poderão ou não ser entendidos como arrays:\n",
    "\n",
    "- `[1]` poderá.\n",
    "- `[1, 2]` poderá.\n",
    "- `[1, \"a\"]` não poderá, tem elementos de tipos diferentes.\n",
    "- `[1, [1, 2]]` não poderá, tem elementos de tipos diferentes (inteiro e uma coleção).\n",
    "\n",
    "Alguns exemplos mais complexos:\n",
    "\n",
    "- `[[1, 2], [3, 4]]` poderá! Arrays podem \"conter si mesmos\", mas, especialmente, entenda isso como arrays podem ser \"organizados em múltiplas dimensões\". No caso, seria um array bidimensional, uma matriz com linhas e colunas.\n",
    "- `[[1, 2], [3, 4, 5]]` não poderá! Essa é outra novidade, os arrays devem ser \"retangulares\", dentro de cada dimensão, todos os elementos devem ter o memso tamanho. Isso ficará mais claro a diante.\n",
    "- E `[[1, 2], [3, \"a\"]]`? Não poderá. Tudo dentro de um array tem que ter o mesmo tipo. Também podemos pensar que, dentro de uma dimensão, tudo deve poder ser entendida como um array.\n",
    "\n",
    "Ok, então, um array é um caso específico de uma lista, é uma lista com duas restrições:\n",
    "\n",
    "- Todos os elementos devem ter o mesmo \"tipo\".\n",
    "- Deve ser retangulares."
   ]
  },
  {
   "cell_type": "markdown",
   "metadata": {},
   "source": [
    "#### Utilidade dos Vetores\n",
    "\n",
    "Porque isso é útil? O que ganhamos com essa perda de generalização?\n",
    "\n",
    "Na vida real, muitas vezes nos deparamos com esse tipo de dado. Em bases de dado, normalmente cada coluna é uma variável, uma coleção de valores de um mesmo tipo. Além disso, são incontáveis os lugares onde matrizes aparecem, e não apenas as bidimensionais.\n",
    "\n",
    "Criar um framework que seja especializado nesses casos gera três benefícios principais:\n",
    "\n",
    "- O clássico trade-off especialização-qualificação, o numpy é **muito** eficiente em realizar operações com esse tipo de dado. E o essa é uma das maiores propagandas que o numpy faz.\n",
    "    - Inclusive, por trás dos panos, a nível técnico, arrays são objetos bem diferentes de listas.\n",
    "- A criação de ferramentas especialmente intuitivas e úteis para o contexto.\n",
    "- Facilitação do escopo, fica muito mais simples e intuitivo elencar as ferramentas que queremos ter para trabalhar.\n",
    "    - Pense em como buscar as ferramentas relevantes para limpar uma base de dados, na documentação dos métodos de listas e bibliotecas math, stat, etc. Versus buscar as ferramentas na documentação do numpy."
   ]
  },
  {
   "cell_type": "markdown",
   "metadata": {},
   "source": [
    "### Dataframes\n",
    "\n",
    "Com o conhecimento de o que são vetores, fica fácil de pensar que é muito comum que o nosso dado de interesse seja um conjunto de vetores.\n",
    "\n",
    "A palavra dataframe tem várias definições diferentes, nesta aula, em termos simplistas (!!), ela significa uma coleção de vetores (todos do mesmo tamanho).\n",
    "\n",
    "Vamos adquirir o conhecimento aplicado sobre dataframes em breve."
   ]
  },
  {
   "cell_type": "markdown",
   "metadata": {},
   "source": [
    "## Numpy\n",
    "\n",
    "<!-- Texto (enxuto, objetivo) sobre características básicas do Numpy -->\n",
    "\n",
    "<!-- Existem muuuitas funções do Numpy. O material da aula passada está bom, mas organizar as funções nos \"tipos de operação\" (a estrutura abaixo) facilitará o aprendizado -->\n",
    "\n",
    "<!-- tem que checar na documentação do numpy se não há outras funções/métodos importantes, que queremos falar sobre. Com certeza, tem funções que mereceriam estar pelo menos linkadas aqui -->"
   ]
  },
  {
   "cell_type": "markdown",
   "metadata": {},
   "source": [
    "O que é Numpy? De acordo com o [site oficial](https://numpy.org/doc/stable/index.html):\n",
    "\n",
    "> NumPy is the fundamental package for scientific computing in Python. It is a Python library that provides a multidimensional array object, various derived objects (such as masked arrays and matrices), and an assortment of routines for fast operations on arrays, including mathematical, logical, shape manipulation, sorting, selecting, I/O, discrete Fourier transforms, basic linear algebra, basic statistical operations, random simulation and much more.\n",
    "\n",
    "<!-- falar de outras bibliotecas de vetores de curiosidade, jax -->\n",
    "\n",
    "Antes de tudo, vamos [instalar](https://numpy.org/install/) e carregar a biblioteca:"
   ]
  },
  {
   "cell_type": "code",
   "execution_count": 127,
   "metadata": {},
   "outputs": [],
   "source": [
    "import numpy as np"
   ]
  },
  {
   "cell_type": "markdown",
   "metadata": {},
   "source": [
    "Obs: exemplo de eficiência de operações vetorizadas no Numpy:"
   ]
  },
  {
   "cell_type": "code",
   "execution_count": 128,
   "metadata": {},
   "outputs": [
    {
     "name": "stdout",
     "output_type": "stream",
     "text": [
      "1.89 ms ± 139 µs per loop (mean ± std. dev. of 7 runs, 1,000 loops each)\n",
      "78.9 ms ± 1.25 ms per loop (mean ± std. dev. of 7 runs, 10 loops each)\n"
     ]
    }
   ],
   "source": [
    "n = 1000000\n",
    "a1 = np.arange(n)\n",
    "l1 = list(range(n))\n",
    "%timeit a1 * 2\n",
    "%timeit [x * 2 for x in l1]"
   ]
  },
  {
   "cell_type": "markdown",
   "metadata": {},
   "source": [
    "### Criação e Características\n",
    "\n",
    "<!-- buscar uma maneira suave de explicar vetores vs matrizes vs arrays -->"
   ]
  },
  {
   "cell_type": "markdown",
   "metadata": {},
   "source": [
    "Vamos começar vendo a \"cara\" dos arrays:"
   ]
  },
  {
   "cell_type": "code",
   "execution_count": 129,
   "metadata": {},
   "outputs": [
    {
     "name": "stdout",
     "output_type": "stream",
     "text": [
      "[1 1 1] \n",
      "\n",
      "[[1 0 1]\n",
      " [3 4 1]] \n",
      "\n",
      "[[[1 7 9]\n",
      "  [5 9 3]]\n",
      "\n",
      " [[3 2 1]\n",
      "  [4 5 6]]] \n",
      "\n"
     ]
    }
   ],
   "source": [
    "a1 = np.array([1, 1, 1])\n",
    "a2 = np.array([[1, 0, 1], [3, 4, 1]])\n",
    "a3 = np.array([[[1, 7, 9], [5, 9, 3]], [[3,2,1], [4,5,6]]])\n",
    "for a in [a1, a2, a3]: print(a, \"\\n\")"
   ]
  },
  {
   "cell_type": "markdown",
   "metadata": {},
   "source": [
    "<!-- salvar na pasta assets/img e colocar aqui na sintaxe de markdown -->\n",
    "<img src=\"https://www.plus2net.com/python/images/np-dimensions.jpg\" width=\"400\">"
   ]
  },
  {
   "cell_type": "markdown",
   "metadata": {},
   "source": [
    "Note que começamos a \"contar\" pelo vetor, depois pelas linhas, depois pelas matrizes, etc.\n",
    "\n",
    "Existem várias maneiras de criar vetores. Listá-los seria muita decoreba, então veja-as em [Extras](#numpy-criação-de-vetores)."
   ]
  },
  {
   "cell_type": "markdown",
   "metadata": {},
   "source": [
    "#### Características\n",
    "<!-- range, shape, type(), dtype -->\n",
    "<!-- falar vetores linha vs vetores coluna -->\n",
    "<!-- Adicionalmente: .copy (ver seção \"Variáveis, Novamente\" da aula passada!) .tolist -->"
   ]
  },
  {
   "cell_type": "markdown",
   "metadata": {},
   "source": [
    "### Tipos de arrays\n",
    "\n",
    "Mais cedo, falamos que todos os elementos de um arrays tem sempre o mesmo \"tipo\". Em termos simplificados, o nome normalmente associado à \"tipo\" é _dtype_.\n",
    "\n",
    "Um elemento (um \"escalar\") pode ter vários tipos, mas os mais comuns são:\n",
    "\n",
    "- `int_`: números inteiros (_integer_).\n",
    "- `float_`: números de ponto flutuante (_floating-point_). O tipo padrão.\n",
    "- `bool_`: valores booleanos (`True` ou `False`).\n",
    "- `str_`: _strings_ de texto.\n",
    "- E outros menos utilizados: `complex_`: números complexos, `object_`: objetos Python genéricos, `datetime64`: datas e horários, `timedelta64`: diferenças entre datas e horários, `category`: categorias ou rótulos.\n",
    "\n",
    "Veja alguns comentários técnicos na seção [Mais Sobre Tipos](#mais-sobre-tipos)."
   ]
  },
  {
   "cell_type": "markdown",
   "metadata": {},
   "source": [
    "#### Coerção de Tipos\n",
    "\n",
    "Mas e se eu tentar criar o array `[1, \"a\"]`? O numpy usa _coerção_, ele converte todos os elementos a um mesmo tipo, de acordo com uma lista de prioridade. De maneira simples, _int_ → _float_ → _string_. Você também pode converter um array para outro tipo usando o método `x.astype()`. Veja exemplos abaixo."
   ]
  },
  {
   "cell_type": "code",
   "execution_count": 130,
   "metadata": {},
   "outputs": [
    {
     "name": "stdout",
     "output_type": "stream",
     "text": [
      "[[1. 2.]\n",
      " [3. 4.]] \n",
      "\n",
      "[['1' '2']\n",
      " ['3.0' '4.0']] \n",
      "\n",
      "[[1.+0.j 2.+0.j]\n",
      " [3.+0.j 4.+0.j]] \n",
      "\n",
      "[['1' '2']\n",
      " ['3' '4']] \n",
      "\n"
     ]
    }
   ],
   "source": [
    "print(np.array([[1,2], [3.0, 4]]), \"\\n\")\n",
    "print(np.array([[1,2], [3.0, \"4.0\"]]), \"\\n\")\n",
    "print(np.array([[1,2], [3, 4]], dtype = np.complex_), \"\\n\")\n",
    "print(np.array([[1,2], [3, 4]]).astype(str), \"\\n\")"
   ]
  },
  {
   "cell_type": "markdown",
   "metadata": {},
   "source": [
    "#### Mais Informações\n",
    "\n",
    "Para mais informações sobre arrays, como funcionam, como são salvos na memória, veja [API Ref. → Array objects](https://numpy.org/doc/stable/reference/arrays.html). Cuidado, muitos temas técnicos e desnecessários (para o momento).\n",
    "\n",
    "Especialmente, foram ignorados dois tópicos de arrays:\n",
    "\n",
    "- Os _masked arrays_, arrays com valores faltantes, [API Ref. → Array objects → Masked arrays](https://numpy.org/doc/stable/reference/maskedarray.html).\n",
    "- E os _datetime arrays_, arrays de datas, [API Ref. → Array objects → Datetimes and Timedeltas](https://numpy.org/doc/stable/reference/arrays.datetime.html)."
   ]
  },
  {
   "cell_type": "markdown",
   "metadata": {},
   "source": [
    "### Operações Vetorizadas \n",
    "\n",
    "Lembre-se que o ponto mais importante é a vetorização. O numpy define \"funções universais\", funções que podem ser aplicadas de forma vetorizadas.\n",
    "\n",
    "Listar as funções seria muita decoreba, veja-as em [Extras](#numpy-operações-vetorizadas). Abaixo, explicamos algumas das mais úteis.\n",
    "\n",
    "<!-- Selecinar as que achar mais úteis e explicá-las BREVEMENTE. até pra deixar a aula mais concreta -->"
   ]
  },
  {
   "cell_type": "markdown",
   "metadata": {},
   "source": [
    "### Subset\n",
    "\n",
    "A referência básica está em [User guide → Indexing on ndarrays](https://numpy.org/doc/stable/user/basics.indexing.html).\n",
    "\n",
    "A indexação de arrays é feita de forma similar à listas, com `a1[algo]`. A maioria das técnicas disponíveis para listas está disponível aqui também.\n",
    "\n",
    "Essa parte é bem útil, porque lógicas similares de indexação podem ser utilizadas no pandas e em listas.\n",
    "\n",
    "<!-- fazer paralelo com listas -->\n",
    "<!-- fazer alguma visualização -->"
   ]
  },
  {
   "cell_type": "markdown",
   "metadata": {},
   "source": [
    "#### Subseting Básico\n",
    "\n",
    "Com uma dimensão, é simples. Conseguimos utilizar a técnica de indexes negativos."
   ]
  },
  {
   "cell_type": "code",
   "execution_count": 131,
   "metadata": {},
   "outputs": [
    {
     "name": "stdout",
     "output_type": "stream",
     "text": [
      "[1 2 3 4 5 6 7 8 9] \n",
      "\n",
      "1\n",
      "9\n"
     ]
    }
   ],
   "source": [
    "import numpy as np\n",
    "a1 = np.array([1, 2, 3, 4, 5, 6, 7, 8, 9])\n",
    "print(a1, \"\\n\")\n",
    "\n",
    "print(a1[0])\n",
    "print(a1[-1])"
   ]
  },
  {
   "cell_type": "markdown",
   "metadata": {},
   "source": [
    "E com duas dimensões? Agora, temos que informar o que queremos pegar de cada dimensão, `a2[algo1, algo2]`:"
   ]
  },
  {
   "cell_type": "code",
   "execution_count": 132,
   "metadata": {},
   "outputs": [
    {
     "name": "stdout",
     "output_type": "stream",
     "text": [
      "[[1 2 3]\n",
      " [4 5 6]\n",
      " [7 8 9]] \n",
      "\n",
      "2\n"
     ]
    }
   ],
   "source": [
    "a2 = np.array([[1, 2, 3], [4, 5, 6], [7, 8, 9]])\n",
    "print(a2, \"\\n\")\n",
    "\n",
    "print(a2[0, 1])"
   ]
  },
  {
   "cell_type": "markdown",
   "metadata": {},
   "source": [
    "E se eu quiser selecionar mais do que um elemento? Aqui, também é possível utilizar a técnica de slicing `:`."
   ]
  },
  {
   "cell_type": "code",
   "execution_count": 133,
   "metadata": {},
   "outputs": [
    {
     "name": "stdout",
     "output_type": "stream",
     "text": [
      "[2 3]\n",
      "[2 3 4 5 6 7 8 9]\n",
      "[1 2]\n",
      "[1 2 3 4 5 6 7 8 9]\n"
     ]
    }
   ],
   "source": [
    "print(a1[1:3])\n",
    "print(a1[1:])\n",
    "print(a1[:2])\n",
    "print(a1[:])"
   ]
  },
  {
   "cell_type": "markdown",
   "metadata": {},
   "source": [
    "Com duas dimensões é a mesma ideia, lembrando que precisamos falar o que queremos pegar de ambas as dimensões, as possibilidades aumentam.\n",
    "\n",
    "<!-- cuidado pra falar demais sobre isso, não deixar amendrontador demais -->"
   ]
  },
  {
   "cell_type": "code",
   "execution_count": 134,
   "metadata": {},
   "outputs": [
    {
     "name": "stdout",
     "output_type": "stream",
     "text": [
      "[1 2]\n",
      "[2 5]\n",
      "[[4 5 6]\n",
      " [7 8 9]]\n"
     ]
    }
   ],
   "source": [
    "print(a2[0, 0:2])\n",
    "print(a2[0:2, 1])\n",
    "print(a2[1:, :])"
   ]
  },
  {
   "cell_type": "markdown",
   "metadata": {},
   "source": [
    "Com _n_ dimensões é a mesma ideia, com uma entrada em `[]` para cada dimensão.\n",
    "\n",
    "Se tiver curiosidade, veja dois truques usando `...` e `None` nos índices [aqui](https://numpy.org/doc/stable/user/basics.indexing.html#dimensional-indexing-tools)."
   ]
  },
  {
   "cell_type": "code",
   "execution_count": 135,
   "metadata": {},
   "outputs": [
    {
     "name": "stdout",
     "output_type": "stream",
     "text": [
      "24\n",
      "[[0 1 2]\n",
      " [3 4 5]\n",
      " [6 7 8]]\n"
     ]
    }
   ],
   "source": [
    "import numpy as np\n",
    "a3 = np.arange(3**3).reshape(3, 3, 3)\n",
    "\n",
    "print(a3[2, 2, 0])\n",
    "print(a3[0, :, :])"
   ]
  },
  {
   "cell_type": "markdown",
   "metadata": {},
   "source": [
    "Quando você ficar pica, vai descobrir que dá para omitir dimensões, como abaixo. Mas por enquanto, não inventa, coloque um \"algo\" para cada dimensão, nem que o \"algo\" seja \"selecione tudo\" (`:`)."
   ]
  },
  {
   "cell_type": "code",
   "execution_count": 136,
   "metadata": {},
   "outputs": [
    {
     "name": "stdout",
     "output_type": "stream",
     "text": [
      "[[[ 0  1  2]\n",
      "  [ 3  4  5]\n",
      "  [ 6  7  8]]\n",
      "\n",
      " [[ 9 10 11]\n",
      "  [12 13 14]\n",
      "  [15 16 17]]\n",
      "\n",
      " [[18 19 20]\n",
      "  [21 22 23]\n",
      "  [24 25 26]]]\n"
     ]
    }
   ],
   "source": [
    "print(a3[0:])"
   ]
  },
  {
   "cell_type": "markdown",
   "metadata": {},
   "source": [
    "Note que essa noção do subset deixa claro qual é a \"ordem\" dos componentes de um array multidimensional. Isto é, quando pedimos `for i in a3`, o que será passado para `i`? Cada elemento? Cada coluna, cada linha? cada matriz?"
   ]
  },
  {
   "cell_type": "code",
   "execution_count": 137,
   "metadata": {},
   "outputs": [
    {
     "name": "stdout",
     "output_type": "stream",
     "text": [
      "0 1 2 3 4 5 6 7 8 9 10 11 12 13 14 15 16 17 18 19 20 21 22 23 24 25 26 "
     ]
    }
   ],
   "source": [
    "for mat in a3:\n",
    "    for row in mat:\n",
    "        for item in row: print(item, end = \" \")"
   ]
  },
  {
   "cell_type": "markdown",
   "metadata": {},
   "source": [
    "Vemos que, do array tridimensional `a3`, `i` são as sub-matrizes, `j` são as linhas de uma sub-matriz, e `i` os elementos de cada linha. Isto é, a ordem é da maior/última/mais alta dimensão para a menor/mais baixa."
   ]
  },
  {
   "cell_type": "markdown",
   "metadata": {},
   "source": [
    "#### Filter\n",
    "\n",
    "E se os índices que você quer obter estão em uma coleção? Podemos utilizar coleções de inteiros ou booleanos para acessar índices também!"
   ]
  },
  {
   "cell_type": "code",
   "execution_count": 138,
   "metadata": {},
   "outputs": [
    {
     "name": "stdout",
     "output_type": "stream",
     "text": [
      "[2 3]\n",
      "[1 4 8]\n"
     ]
    }
   ],
   "source": [
    "print(a1[np.array([1, 2])]) #a1[[1, 2]]\n",
    "print(a1[np.array([True, False, False, True, False, False, False, True, False])])"
   ]
  },
  {
   "cell_type": "markdown",
   "metadata": {},
   "source": [
    "Note que para booleanos, o índice-coleção precisa ser do mesmo tamanho da dimensão relevante.\n",
    "\n",
    "O legal, é que da para utilizar isso para criar _filtros_:"
   ]
  },
  {
   "cell_type": "code",
   "execution_count": 139,
   "metadata": {},
   "outputs": [
    {
     "name": "stdout",
     "output_type": "stream",
     "text": [
      "[2 3 4 5 6 7 8 9]\n"
     ]
    }
   ],
   "source": [
    "print(a1[a1 + 1 > 2])"
   ]
  },
  {
   "cell_type": "markdown",
   "metadata": {},
   "source": [
    "Existem muitas outras técnicas utilizando essas ferramentas. Veja mais [aqui](https://numpy.org/doc/stable/user/basics.indexing.html#advanced-indexing)."
   ]
  },
  {
   "cell_type": "markdown",
   "metadata": {},
   "source": [
    "Falamos apenas sobre um tipo de operação, \"subset\". Exitem vários outros que valem a pena saber, veja mais em [Extras](#numpy-outros-tipos-de-operações)."
   ]
  },
  {
   "cell_type": "markdown",
   "metadata": {},
   "source": [
    "### Repeated Operations\n",
    "<!-- np.where, for loops, fazer referência às funções universais, mais alguma coisa? -->"
   ]
  },
  {
   "cell_type": "markdown",
   "metadata": {},
   "source": [
    "**Fim!**\n",
    "\n",
    "Pronto! Vocês aprenderam o básico de numpy! Agora, podemos aplicar esse novo jeito de pensar para bases de dados, e conhecer a biblioteca especializada nisso, o pandas. Especialmente, relembre do que aprendemos, sobre a maneira de se pensar em dados vetorizados.\n",
    "\n",
    "Lembre de ver os temas [extras](#extras) depois."
   ]
  },
  {
   "cell_type": "markdown",
   "metadata": {},
   "source": [
    "<!--Escolha uma frase remetendo pausa e tire print de alguma arte dela em https://patorjk.com/software/taag/. Exemplo:-->\n",
    "\n",
    "<hr>\n",
    "\n",
    "![😎](assets/pause/georgia11.png)\n",
    "\n",
    "<hr>"
   ]
  },
  {
   "cell_type": "markdown",
   "metadata": {},
   "source": [
    "## Pandas\n",
    "\n",
    "<!-- Texto (enxuto, objetivo) sobre características básicas do Pandas. O texto da aula antiga está grande demais -->\n",
    "\n",
    "<!-- Existem muuuitas funções do Pandas. O material da aula passada está bom, mas organizar as funções nos \"tipos de operação\" (a estrutura abaixo) facilitará o aprendizado -->\n",
    "\n",
    "<!-- tem que checar na documentação do pandas se não há outras funções/métodos importantes, que queremos falar sobre. Com certeza, tem funções que mereceriam estar pelo menos linkadas aqui -->"
   ]
  },
  {
   "cell_type": "code",
   "execution_count": 140,
   "metadata": {},
   "outputs": [],
   "source": [
    "import pandas as pd"
   ]
  },
  {
   "cell_type": "markdown",
   "metadata": {},
   "source": [
    "### Criação e Características"
   ]
  },
  {
   "cell_type": "markdown",
   "metadata": {},
   "source": [
    "Antes de falar sobre dataframes, o Pandas tem seu próprio objeto de vetor (porque sim), o `pd.Series`, mas é bem parecido com um `np.array` de uma dimensão."
   ]
  },
  {
   "cell_type": "code",
   "execution_count": 141,
   "metadata": {},
   "outputs": [
    {
     "name": "stdout",
     "output_type": "stream",
     "text": [
      "0    4\n",
      "1    7\n",
      "2   -5\n",
      "3    3\n",
      "dtype: int64\n",
      "d    4\n",
      "b    7\n",
      "a   -5\n",
      "c    3\n",
      "dtype: int64\n"
     ]
    }
   ],
   "source": [
    "print(pd.Series([4, 7, -5, 3]))\n",
    "print(pd.Series([4, 7, -5, 3], index=[\"d\", \"b\", \"a\", \"c\"]))"
   ]
  },
  {
   "cell_type": "markdown",
   "metadata": {},
   "source": [
    "<!-- criação de dataframes falar dos vários métodos (e qual é mais útil), com base em dicionários, em arrays/listas, em arquivos (criar um aquivo de exemplo em assets/materials) -->\n",
    "\n",
    "<!-- características: shape, types, info, head, tail, dtypes, shape -->\n",
    "<!-- .copy() ver aula passada! -->"
   ]
  },
  {
   "cell_type": "markdown",
   "metadata": {},
   "source": [
    "### Subset\n",
    "\n",
    "<!-- tentar trazer alguma sanidade para os diferentes métodos de fazer coisas parecidas -->\n",
    "<!-- Exemplo: Quando você ficar pica, vai descobrir que dá para omitir dimensões, como abaixo. Mas por enquanto, não inventa, coloque um \"algo\" para cada dimensão, nem que o \"algo\" seja \"selecione tudo\" (`:`). -->\n",
    "\n",
    "#### De Colunas\n",
    "<!-- .columns, ['key'], .key, [[key1, key2]] -->\n"
   ]
  },
  {
   "cell_type": "markdown",
   "metadata": {},
   "source": [
    "#### De Linhas\n",
    "<!-- head, tail, sample,  -->\n",
    "<!-- [filtro] e .query -->\n"
   ]
  },
  {
   "cell_type": "markdown",
   "metadata": {},
   "source": [
    "\n",
    "#### Ambos Juntos\n",
    "<!-- loc, iloc -->\n",
    "<!-- apenas fazer referencia (linkar) sobre it e iat -->"
   ]
  },
  {
   "cell_type": "markdown",
   "metadata": {},
   "source": [
    "### Operate/Create\n",
    "\n",
    "<!-- criar/deletar/alterar colunas -->\n",
    "<!-- criar/deletar/alterar linhas -->\n",
    "\n",
    "<!-- apenas fazer referencia sobre criar/deletar/alterar células -->\n",
    "<!-- lidar com dados NA -->\n"
   ]
  },
  {
   "cell_type": "markdown",
   "metadata": {},
   "source": [
    "### Reorder\n",
    "<!-- mais algo? criar um exemplo mais concreto? -->\n",
    "\n",
    "Linhas:\n",
    "\n",
    "```\n",
    "df1.sort_values(by='cases', ascending=False)\n",
    "```\n",
    "\n",
    "Colunas:\n",
    "\n",
    "```\n",
    "df1.reindex(columns=['year', 'cases', 'population', 'country'])\n",
    "```"
   ]
  },
  {
   "cell_type": "markdown",
   "metadata": {},
   "source": [
    "### Rename\n",
    "\n",
    "<!-- mais algo? criar um exemplo mais concreto? -->\n",
    "\n",
    "Linhas:\n",
    "\n",
    "```\n",
    "df1.rename({0: 'Row1', 1: 'Row2', 2: 'Row3', 3: 'Row4', 4: 'Row5', 5: 'Row6'})\n",
    "```\n",
    "\n",
    "Colunas:\n",
    "\n",
    "```\n",
    "df1.rename(columns={'cases': 'new_cases', 'population': 'new_population'}, inplace=False)\n",
    "```"
   ]
  },
  {
   "cell_type": "markdown",
   "metadata": {},
   "source": [
    "Assim como na parte de Numpy, alguns tipos de operações mais avançados não foram tratados aqui. Veja-os em [Extras](#pandas-outros-tipos-de-operações). Parte deles serão tratados nas próximas aulas."
   ]
  },
  {
   "cell_type": "markdown",
   "metadata": {},
   "source": [
    "### Repeated Operations\n",
    "\n",
    "<!-- aplicar uma mesma operação várias colunas, mais algo? -->"
   ]
  },
  {
   "cell_type": "markdown",
   "metadata": {},
   "source": [
    "<div class=\"double-hrule\"></div>\n",
    "\n",
    "## Recapitulando {.unnumbered}\n",
    "\n",
    "<!--Adicionar texto de recapitulando. Em parágrafos, primeiro sobre os principais objetivos de aprendizagem, depois sobre os conceitos teóricos aprendidos, e por fim, dos conceitos \"decoreba\" aprendidos-->"
   ]
  },
  {
   "cell_type": "markdown",
   "metadata": {},
   "source": [
    "## Extras\n",
    "\n",
    "<!-- frizar a importancia de estudar as operações do pandas -->"
   ]
  },
  {
   "cell_type": "markdown",
   "metadata": {},
   "source": [
    "### Numpy: Criação de Vetores"
   ]
  },
  {
   "cell_type": "markdown",
   "metadata": {},
   "source": [
    "#### Vetores Placeholder\n",
    "\n",
    "Também podemos criar arrays com valores comuns, temos várias funções, como:\n",
    "\n",
    "- [numpy.empty](https://numpy.org/doc/stable/reference/generated/numpy.empty.html): cria um array vazio com a forma especificada.\n",
    "- [numpy.ones](https://numpy.org/doc/stable/reference/generated/numpy.ones.html): cria um array preenchido com uns.\n",
    "- [numpy.zeros](https://numpy.org/doc/stable/reference/generated/numpy.zeros.html): cria um array preenchido com zeros.\n",
    "- [numpy.full](https://numpy.org/doc/stable/reference/generated/numpy.full.html): cria um array preenchido com um valor constante.\n",
    "- [numpy.eye](https://numpy.org/doc/stable/reference/generated/numpy.eye.html): cria uma matriz identidade.\n",
    "- [numpy.linspace](https://numpy.org/doc/stable/reference/generated/numpy.linspace.html): cria um array com valores espaçados uniformemente dentro de um intervalo.\n",
    "- [numpy.arange](https://numpy.org/doc/stable/reference/generated/numpy.arange.html): cria um array com valores espaçados uniformemente dentro de um intervalo especificado."
   ]
  },
  {
   "cell_type": "code",
   "execution_count": 142,
   "metadata": {},
   "outputs": [
    {
     "name": "stdout",
     "output_type": "stream",
     "text": [
      "Empty: \n",
      " [[1.48539705e-313 1.06099790e-313 6.36598738e-314]\n",
      " [4.24399158e-314 8.48798316e-314 1.27319747e-313]] \n",
      "\n",
      "Ones: \n",
      " [[1. 1. 1.]\n",
      " [1. 1. 1.]] \n",
      "\n",
      "Zeros: \n",
      " [[0. 0. 0.]\n",
      " [0. 0. 0.]] \n",
      "\n",
      "Full: \n",
      " [[5 5 5]\n",
      " [5 5 5]] \n",
      "\n",
      "Eye: \n",
      " [[1. 0. 0.]\n",
      " [0. 1. 0.]\n",
      " [0. 0. 1.]] \n",
      "\n",
      "Linspace: \n",
      " [ 0.   2.5  5.   7.5 10. ] \n",
      "\n",
      "Arange: \n",
      " [0 2 4 6 8] \n",
      "\n"
     ]
    }
   ],
   "source": [
    "print(\"Empty: \\n\", np.empty((2, 3)), \"\\n\")\n",
    "print(\"Ones: \\n\", np.ones((2, 3)), \"\\n\")\n",
    "print(\"Zeros: \\n\", np.zeros((2, 3)), \"\\n\")\n",
    "print(\"Full: \\n\", np.full((2, 3), 5), \"\\n\")\n",
    "print(\"Eye: \\n\", np.eye(3), \"\\n\")\n",
    "print(\"Linspace: \\n\", np.linspace(0, 10, num=5), \"\\n\")\n",
    "print(\"Arange: \\n\", np.arange(0, 10, 2), \"\\n\")"
   ]
  },
  {
   "cell_type": "markdown",
   "metadata": {},
   "source": [
    "#### Vetores Aleatórios\n",
    "\n",
    "O numpy tem uma parte da biblioteca focada na geração de números aleatórios, [numpy.random](https://numpy.org/doc/stable/reference/random/index.html). Se tiver curiosidade, leia mais sobre como computadores geram [números pseudo-aleatórios](https://www.revista-programar.info/artigos/pseudorandom-number-generators-prngs/).\n",
    "\n",
    "Todas as distribuições que você pensar podem ser geradas pelo numpy:\n",
    "\n",
    "- Uniforme: [numpy.random.uniform](https://numpy.org/doc/stable/reference/random/generated/numpy.random.Generator.uniform.html).\n",
    "    - Uniforme 0-1: [numpy.random.random](https://numpy.org/doc/stable/reference/random/generated/numpy.random.Generator.random.html).\n",
    "    - Uniforme discreta A-B: [numpy.random.integers](https://numpy.org/doc/stable/reference/random/generated/numpy.random.Generator.integers.html).\n",
    "- Binomial: [numpy.random.binomial](https://numpy.org/doc/stable/reference/random/generated/numpy.random.Generator.binomial.html).\n",
    "- Normal: [numpy.random.normal](https://numpy.org/doc/stable/reference/random/generated/numpy.random.Generator.normal.html).\n",
    "- Poisson: [numpy.random.poisson](https://numpy.org/doc/stable/reference/random/generated/numpy.random.Generator.poisson.html).\n",
    "- Samplear um array: [numpy.random.choice](https://numpy.org/doc/stable/reference/random/generated/numpy.random.Generator.choice.html)."
   ]
  },
  {
   "cell_type": "markdown",
   "metadata": {},
   "source": [
    "#### Vetores Importados\n",
    "\n",
    "Podemos salvar arrays em arquivos, usando funções como:\n",
    "\n",
    "- [numpy.save](https://numpy.org/doc/stable/reference/generated/numpy.save.html): salva como um \"arquivo array\" \".npy\".\n",
    "- [numpy.savetxt](https://numpy.org/doc/stable/reference/generated/numpy.savetxt.html): salva como um arquivo CSV, adequado apenas para arrays 1D e 2D.\n",
    "- [A biblioteca pickle](https://docs.python.org/3/library/pickle.html): uma bilbioteca que consegue \"conservar\" qualquer objeto do python, mas pode ser demorado.\n",
    "\n",
    "Similarmente, podemos importar arquivos, com funções `numpy.load` e `numpy.loadtxt`.\n",
    "\n",
    "Por fim, é comum converter outros objetos em arrays. Veja as funções [numpy.asarray](https://numpy.org/doc/stable/reference/generated/numpy.asarray.html) e [pandas.Series.to_numpy](https://pandas.pydata.org/pandas-docs/version/0.24.0rc1/api/generated/pandas.Series.to_numpy.html)."
   ]
  },
  {
   "cell_type": "markdown",
   "metadata": {},
   "source": [
    "<!-- É esse tipo de comentário com referências para mais conteúdo que deve ser criado com mais frequência, e nas outras aulas!! -->\n",
    "\n",
    "Para mais informação sobre criação de arrays, veja [API Ref. → Routines → Array creation](https://numpy.org/doc/stable/reference/routines.array-creation.html):\n",
    "\n",
    "- [Criando por forma e valor](https://numpy.org/doc/stable/reference/routines.array-creation.html#from-shape-or-value).\n",
    "- [Criando por dados](https://numpy.org/doc/stable/reference/routines.array-creation.html#from-existing-data), e [API Ref. → Routines → I/O](https://numpy.org/doc/stable/reference/routines.io.html).\n",
    "- [Criando por ranges](https://numpy.org/doc/stable/reference/routines.array-creation.html#numerical-ranges).\n",
    "- [Criando matrizes](https://numpy.org/doc/stable/reference/routines.array-creation.html#building-matrices)."
   ]
  },
  {
   "cell_type": "markdown",
   "metadata": {},
   "source": [
    "### Numpy: Mais Sobre Tipos\n",
    "\n",
    "Na realidade, embora exista o conceito de \"número inteiro\", e o Python só defina um tipo de dado _integer_, existem muitas maneiras de representar um número na memória do computador. O numpy se importa com isso, e existem vários tipos para cada um dos conceitos acima.\n",
    "\n",
    "- Por conta disso, o dtype pode aparecer com nomes diferentes como _int64_.\n",
    "- Se você for muito nerd, talvez isso importe para o seu projeto. Para escolher um tipo específico use a função `np.array` com o argumento `dtype = ...`. Leia mais sobre isso [aqui](https://numpy.org/doc/stable/reference/arrays.scalars.html#arrays-scalars-built-in).\n",
    "- O tipo de um array `x` pode ser descoberto com `x.dtype` e `x.dtype.name`."
   ]
  },
  {
   "cell_type": "markdown",
   "metadata": {},
   "source": [
    "### Numpy: Operações Vetorizadas"
   ]
  },
  {
   "cell_type": "markdown",
   "metadata": {},
   "source": [
    "#### Operações Aritméticas\n",
    "<!-- falar sobre min/max, +*-/, mean/median/var/std, sum/prod, cumsum/cumprod, argmax/argmin, round -->\n",
    "\n",
    "Veja mais em [API Ref. → Routines → Mathematical functions](https://numpy.org/doc/stable/reference/routines.math.html)."
   ]
  },
  {
   "cell_type": "code",
   "execution_count": 143,
   "metadata": {},
   "outputs": [
    {
     "name": "stdout",
     "output_type": "stream",
     "text": [
      "[-3 -3 -3] \n",
      "\n",
      "[0.25 0.4  0.5 ] \n",
      "\n",
      "[ 2.71828183  7.3890561  20.08553692] \n",
      "\n",
      "[1.         1.41421356 1.73205081] \n",
      "\n",
      "[0.84147098 0.90929743 0.14112001] \n",
      "\n",
      "[0.         0.69314718 1.09861229] \n",
      "\n"
     ]
    }
   ],
   "source": [
    "a1, a2 = np.array([1,2,3]), np.array([4,5,6])\n",
    "\n",
    "print(np.subtract(a1, a2), \"\\n\") #a1 + a2\n",
    "print(np.divide(a1, a2), \"\\n\") #a1 * a2\n",
    "print(np.exp(a1), \"\\n\")\n",
    "print(np.sqrt(a1), \"\\n\")\n",
    "print(np.sin(a1), \"\\n\")\n",
    "print(np.log(a1), \"\\n\")"
   ]
  },
  {
   "cell_type": "markdown",
   "metadata": {},
   "source": [
    "Também considere as constantes abaixo. Mais informações em [API Ref. → Constants](https://numpy.org/doc/stable/reference/constants.html)."
   ]
  },
  {
   "cell_type": "code",
   "execution_count": 144,
   "metadata": {},
   "outputs": [
    {
     "data": {
      "text/plain": [
       "(3.141592653589793, 2.718281828459045, nan, inf)"
      ]
     },
     "execution_count": 144,
     "metadata": {},
     "output_type": "execute_result"
    }
   ],
   "source": [
    "np.pi, np.e, np.nan, np.inf"
   ]
  },
  {
   "cell_type": "markdown",
   "metadata": {},
   "source": [
    "#### Operações Matriciais\n",
    "\n",
    "Veja mais em [API Ref. → Routines → Linear algebra](https://numpy.org/doc/stable/reference/routines.linalg.html)."
   ]
  },
  {
   "cell_type": "code",
   "execution_count": 145,
   "metadata": {},
   "outputs": [
    {
     "name": "stdout",
     "output_type": "stream",
     "text": [
      "[[ 4 10]\n",
      " [ 4 18]] \n",
      "\n",
      "[[-4 -7]\n",
      " [ 8 13]] \n",
      "\n",
      "[[  3  10]\n",
      " [ -5 -17]] \n",
      "\n",
      "-1.0 \n",
      "\n",
      "[[ 3.  2.]\n",
      " [-1. -1.]] \n",
      "\n",
      "3.872983346207417 \n",
      "\n",
      "EigResult(eigenvalues=array([ 0.41421356, -2.41421356]), eigenvectors=array([[ 0.95968298, -0.50544947],\n",
      "       [-0.28108464,  0.86285621]])) \n",
      "\n"
     ]
    }
   ],
   "source": [
    "a1, a2 = np.array([(1,2), (-1,-3)]), np.array([(4,5), (-4,-6)]) # Note o uso, indiferenciável, de tuplas\n",
    "\n",
    "print(a1 * a2, \"\\n\")\n",
    "print(np.dot(a1, a2), \"\\n\") #a1 @ a2 (produto escalar)\n",
    "print(np.linalg.matrix_power(a1, 3), \"\\n\") #(potência de matriz)\n",
    "print(np.linalg.det(a1), \"\\n\") #(determinante)\n",
    "print(np.linalg.inv(a1), \"\\n\") #(matriz inversa)\n",
    "print(np.linalg.norm(a1), \"\\n\") #(norma)\n",
    "print(np.linalg.eig(a1), \"\\n\") #(autovalores e autovertores)"
   ]
  },
  {
   "cell_type": "markdown",
   "metadata": {},
   "source": [
    "#### Operações com Strings\n",
    "\n",
    "Veja mais em [API Ref. → Routines → String operations](https://numpy.org/doc/stable/reference/routines.char.html)."
   ]
  },
  {
   "cell_type": "code",
   "execution_count": 146,
   "metadata": {},
   "outputs": [
    {
     "name": "stdout",
     "output_type": "stream",
     "text": [
      "['olá, tudo bem?' 'oi, bem?' 'oopa, bão?'] \n",
      "\n",
      "['oláoláolá' 'oi' 'oopaoopa'] \n",
      "\n",
      "['Olá' 'Oi' 'Oopa'] \n",
      "\n",
      "[1 1 2] \n",
      "\n",
      "[0 0 0] \n",
      "\n"
     ]
    }
   ],
   "source": [
    "a1, a2 = np.array(['olá', 'oi', 'oopa']), np.array([', tudo bem?', ', bem?', ', bão?'])\n",
    "\n",
    "print(np.char.add(a1, a2), \"\\n\")\n",
    "print(np.char.multiply(a1, [3, 1, 2]), \"\\n\")\n",
    "print(np.char.capitalize(a1), \"\\n\")\n",
    "print(np.char.count(a1, 'o'), \"\\n\")\n",
    "print(np.char.find(a1, 'o'), \"\\n\")"
   ]
  },
  {
   "cell_type": "markdown",
   "metadata": {},
   "source": [
    "#### Operações Lógicas/de Comparação\n",
    "\n",
    "Veja mais em [API Ref. → Routines → Logic functions](https://numpy.org/doc/stable/reference/routines.logic.html). Também veja operações de sets em [API Ref. → Routines → Set functions](https://numpy.org/doc/stable/reference/routines.set.html)."
   ]
  },
  {
   "cell_type": "code",
   "execution_count": 147,
   "metadata": {},
   "outputs": [
    {
     "name": "stdout",
     "output_type": "stream",
     "text": [
      "[[False False]\n",
      " [ True  True]] \n",
      "\n",
      "False \n",
      "\n",
      "[[False  True]\n",
      " [ True  True]] \n",
      "\n"
     ]
    }
   ],
   "source": [
    "a1, a2 = np.array([(1,2), (-1,-3)]), np.array([(4,5), (-4,-6)])\n",
    "\n",
    "print(np.greater(a1, a2), \"\\n\") #a1 > a2\n",
    "print((a1 == a2).any(), \"\\n\") #note the usage of ()\n",
    "print(np.logical_or(a1 > 1, a2 < 0), \"\\n\") #a1 > 1 or a2 < 0"
   ]
  },
  {
   "cell_type": "markdown",
   "metadata": {},
   "source": [
    "#### Operações Estatísticas\n",
    "\n",
    "Veja mais em [API Ref. → Routines → Statistics](https://numpy.org/doc/stable/reference/routines.statistics.html)."
   ]
  },
  {
   "cell_type": "code",
   "execution_count": 148,
   "metadata": {},
   "outputs": [
    {
     "name": "stdout",
     "output_type": "stream",
     "text": [
      "0.0014274762281511 \n",
      "\n",
      "0.0025126008047063083 \n",
      "\n",
      "0.9979381079716622 \n",
      "\n",
      "-0.6661109489960002 \n",
      "\n",
      "[[1.         0.89446592]\n",
      " [0.89446592 1.        ]] \n",
      "\n"
     ]
    }
   ],
   "source": [
    "a1 = np.random.normal(0, 1, 100000)\n",
    "a2 = a1 + np.random.normal(0, 0.5, 100000)\n",
    "\n",
    "print(np.mean(a1), \"\\n\")\n",
    "print(np.median(a1), \"\\n\")\n",
    "print(np.std(a1), \"\\n\")\n",
    "print(np.quantile(a1, 0.25), \"\\n\")\n",
    "print(np.corrcoef(a1, a2), \"\\n\")"
   ]
  },
  {
   "cell_type": "markdown",
   "metadata": {},
   "source": [
    "### Numpy: Outros Tipos de Operações"
   ]
  },
  {
   "cell_type": "markdown",
   "metadata": {},
   "source": [
    "#### Operate/Create\n",
    "\n",
    "Veja os funções:\n",
    "\n",
    "- `append()`, `insert()`, e `delete()`.\n",
    "\n",
    "<!-- criar/deletar/alterar elementos (faltam funções abaixo) -->"
   ]
  },
  {
   "cell_type": "markdown",
   "metadata": {},
   "source": [
    "#### Reorder\n",
    "<!-- .arrange, .sort, .argsort -->"
   ]
  },
  {
   "cell_type": "markdown",
   "metadata": {},
   "source": [
    "#### Reshape\n",
    "\n",
    "Veja as funções/métodos:\n",
    "\n",
    "- [`.resize()`](https://numpy.org/doc/stable/reference/generated/numpy.resize.html) e [`reshape()`](https://numpy.org/doc/stable/reference/generated/numpy.reshape.html): para alterar a forma de um array, passando a nova forma como uma tupla.\n",
    "- [`transpose()`](https://numpy.org/doc/stable/reference/generated/numpy.transpose.html): transpor arrays.\n",
    "- [`.flatten()`](https://numpy.org/doc/stable/reference/generated/numpy.ndarray.flatten.html) e [`.ravel()`](https://numpy.org/doc/stable/reference/generated/numpy.ravel.html): achatar arrays."
   ]
  },
  {
   "cell_type": "markdown",
   "metadata": {},
   "source": [
    "#### Combine, Separate e Unite\n",
    "\n",
    "Veja as funções:\n",
    "\n",
    "- [`concatenate()`](https://numpy.org/doc/stable/reference/generated/numpy.concatenate.html).\n",
    "- [`vstack()`](https://numpy.org/doc/stable/reference/generated/numpy.vstack.html),  e [`hstack()`](https://numpy.org/doc/stable/reference/generated/numpy.hstack.html).\n",
    "\n",
    "Em oposição, podemos dividir arrays:\n",
    "\n",
    "- [`.hsplit()`](https://numpy.org/doc/stable/reference/generated/numpy.hsplit.html) e [`.vsplit()`](https://numpy.org/doc/stable/reference/generated/numpy.vsplit.html)."
   ]
  },
  {
   "cell_type": "markdown",
   "metadata": {},
   "source": [
    "### Numpy: Funções Universais\n",
    "\n",
    "Existe um último tópico interessante, mas mais avançado. As funções do numpy são bem poderosas e flexíveis. É possível:\n",
    "\n",
    "- Aplicá-las para cada dimensão separadamente -- usando o argumento `axis=`.\n",
    "- Filtrar dimensões para não aplicar -- usando o argumento `where=`\n",
    "- Aplicar de modo a \"acumular\" ou \"reduzir\" o resultado -- usando os métodos `.accumulate()` e `.reduce()`.\n",
    "\n",
    "Aprendam sobre esses tópicos em [Api Ref. ⭢ Universal functions](https://numpy.org/doc/stable/reference/ufuncs.html). Adicionalmente, Também vejam algumas táticas avançadas em [Api Ref. ⭢ Routines ⭢ Functional programming](https://numpy.org/doc/stable/reference/routines.functional.html).\n",
    "\n",
    "Abaixo apresento alguns exemplos sem contexto nenhum."
   ]
  },
  {
   "cell_type": "code",
   "execution_count": 149,
   "metadata": {},
   "outputs": [
    {
     "data": {
      "text/plain": [
       "6"
      ]
     },
     "execution_count": 149,
     "metadata": {},
     "output_type": "execute_result"
    }
   ],
   "source": [
    "a1 = np.array([1,2,3])\n",
    "\n",
    "np.add.accumulate(a1)\n",
    "np.add.reduce(a1)"
   ]
  },
  {
   "cell_type": "code",
   "execution_count": 150,
   "metadata": {},
   "outputs": [
    {
     "name": "stdout",
     "output_type": "stream",
     "text": [
      "[[1 2]\n",
      " [5 7]]\n",
      "[5 7]\n"
     ]
    }
   ],
   "source": [
    "a2 = np.array([[1,2], [4,5]])\n",
    "\n",
    "print(np.add.accumulate(a2, axis = 0))\n",
    "print(np.add.reduce(a2, axis = 0))"
   ]
  },
  {
   "cell_type": "code",
   "execution_count": 152,
   "metadata": {},
   "outputs": [
    {
     "name": "stdout",
     "output_type": "stream",
     "text": [
      "3 \n",
      "\n",
      "[1 5] \n",
      "\n"
     ]
    }
   ],
   "source": [
    "where1 = [True, True, False]\n",
    "where2 = [[True, False], [False, True]]\n",
    "\n",
    "print(np.add.reduce(a1, 0, where = where1), \"\\n\")\n",
    "print(np.add.reduce(a2, 0, where = where2), \"\\n\")"
   ]
  },
  {
   "cell_type": "markdown",
   "metadata": {},
   "source": [
    "### Pandas: Outros Tipos de Operações"
   ]
  },
  {
   "cell_type": "code",
   "execution_count": 153,
   "metadata": {},
   "outputs": [],
   "source": [
    "# Alguns exemplos:\n",
    "\n",
    "tables_links = {\n",
    "    'df1': 'https://raw.githubusercontent.com/tidyverse/tidyr/c6c126a61f67a10b5ab9ce6bb1d9dbbb7a380bbd/data-raw/table1.csv',\n",
    "    'df2': 'https://raw.githubusercontent.com/tidyverse/tidyr/c6c126a61f67a10b5ab9ce6bb1d9dbbb7a380bbd/data-raw/table2.csv',\n",
    "    'df3': 'https://raw.githubusercontent.com/tidyverse/tidyr/c6c126a61f67a10b5ab9ce6bb1d9dbbb7a380bbd/data-raw/table3.csv',\n",
    "    'df4a': 'https://raw.githubusercontent.com/tidyverse/tidyr/c6c126a61f67a10b5ab9ce6bb1d9dbbb7a380bbd/data-raw/table4a.csv',\n",
    "    'df4b': 'https://raw.githubusercontent.com/tidyverse/tidyr/c6c126a61f67a10b5ab9ce6bb1d9dbbb7a380bbd/data-raw/table4b.csv',\n",
    "    'df5': 'https://raw.githubusercontent.com/tidyverse/tidyr/c6c126a61f67a10b5ab9ce6bb1d9dbbb7a380bbd/data-raw/table6.csv'\n",
    "}\n",
    "\n",
    "for i in tables_links.keys():\n",
    "    globals()[i] = pd.read_csv(tables_links[i])"
   ]
  },
  {
   "cell_type": "markdown",
   "metadata": {},
   "source": [
    "#### Reshape\n",
    "<!-- Mais informaçõa -->"
   ]
  },
  {
   "cell_type": "markdown",
   "metadata": {},
   "source": [
    "Wide to long (melt):"
   ]
  },
  {
   "cell_type": "code",
   "execution_count": 154,
   "metadata": {},
   "outputs": [
    {
     "name": "stdout",
     "output_type": "stream",
     "text": [
      "       country    1999    2000\n",
      "0  Afghanistan     745    2666\n",
      "1       Brazil   37737   80488\n",
      "2        China  212258  213766\n"
     ]
    },
    {
     "data": {
      "text/html": [
       "<div>\n",
       "<style scoped>\n",
       "    .dataframe tbody tr th:only-of-type {\n",
       "        vertical-align: middle;\n",
       "    }\n",
       "\n",
       "    .dataframe tbody tr th {\n",
       "        vertical-align: top;\n",
       "    }\n",
       "\n",
       "    .dataframe thead th {\n",
       "        text-align: right;\n",
       "    }\n",
       "</style>\n",
       "<table border=\"1\" class=\"dataframe\">\n",
       "  <thead>\n",
       "    <tr style=\"text-align: right;\">\n",
       "      <th></th>\n",
       "      <th>country</th>\n",
       "      <th>year</th>\n",
       "      <th>cases</th>\n",
       "    </tr>\n",
       "  </thead>\n",
       "  <tbody>\n",
       "    <tr>\n",
       "      <th>0</th>\n",
       "      <td>Afghanistan</td>\n",
       "      <td>1999</td>\n",
       "      <td>745</td>\n",
       "    </tr>\n",
       "    <tr>\n",
       "      <th>1</th>\n",
       "      <td>Brazil</td>\n",
       "      <td>1999</td>\n",
       "      <td>37737</td>\n",
       "    </tr>\n",
       "    <tr>\n",
       "      <th>2</th>\n",
       "      <td>China</td>\n",
       "      <td>1999</td>\n",
       "      <td>212258</td>\n",
       "    </tr>\n",
       "    <tr>\n",
       "      <th>3</th>\n",
       "      <td>Afghanistan</td>\n",
       "      <td>2000</td>\n",
       "      <td>2666</td>\n",
       "    </tr>\n",
       "    <tr>\n",
       "      <th>4</th>\n",
       "      <td>Brazil</td>\n",
       "      <td>2000</td>\n",
       "      <td>80488</td>\n",
       "    </tr>\n",
       "    <tr>\n",
       "      <th>5</th>\n",
       "      <td>China</td>\n",
       "      <td>2000</td>\n",
       "      <td>213766</td>\n",
       "    </tr>\n",
       "  </tbody>\n",
       "</table>\n",
       "</div>"
      ],
      "text/plain": [
       "       country  year   cases\n",
       "0  Afghanistan  1999     745\n",
       "1       Brazil  1999   37737\n",
       "2        China  1999  212258\n",
       "3  Afghanistan  2000    2666\n",
       "4       Brazil  2000   80488\n",
       "5        China  2000  213766"
      ]
     },
     "execution_count": 154,
     "metadata": {},
     "output_type": "execute_result"
    }
   ],
   "source": [
    "print(df4a)\n",
    "pd.melt(df4a, id_vars = [\"country\"], var_name = \"year\", value_name = \"cases\")"
   ]
  },
  {
   "cell_type": "markdown",
   "metadata": {},
   "source": [
    "Long to wide (pivot)"
   ]
  },
  {
   "cell_type": "code",
   "execution_count": 155,
   "metadata": {},
   "outputs": [
    {
     "name": "stdout",
     "output_type": "stream",
     "text": [
      "        country  year        type       count\n",
      "0   Afghanistan  1999       cases         745\n",
      "1   Afghanistan  1999  population    19987071\n",
      "2   Afghanistan  2000       cases        2666\n",
      "3   Afghanistan  2000  population    20595360\n",
      "4        Brazil  1999       cases       37737\n",
      "5        Brazil  1999  population   172006362\n",
      "6        Brazil  2000       cases       80488\n",
      "7        Brazil  2000  population   174504898\n",
      "8         China  1999       cases      212258\n",
      "9         China  1999  population  1272915272\n",
      "10        China  2000       cases      213766\n",
      "11        China  2000  population  1280428583\n"
     ]
    },
    {
     "data": {
      "text/html": [
       "<div>\n",
       "<style scoped>\n",
       "    .dataframe tbody tr th:only-of-type {\n",
       "        vertical-align: middle;\n",
       "    }\n",
       "\n",
       "    .dataframe tbody tr th {\n",
       "        vertical-align: top;\n",
       "    }\n",
       "\n",
       "    .dataframe thead th {\n",
       "        text-align: right;\n",
       "    }\n",
       "</style>\n",
       "<table border=\"1\" class=\"dataframe\">\n",
       "  <thead>\n",
       "    <tr style=\"text-align: right;\">\n",
       "      <th></th>\n",
       "      <th>type</th>\n",
       "      <th>cases</th>\n",
       "      <th>population</th>\n",
       "    </tr>\n",
       "    <tr>\n",
       "      <th>country</th>\n",
       "      <th>year</th>\n",
       "      <th></th>\n",
       "      <th></th>\n",
       "    </tr>\n",
       "  </thead>\n",
       "  <tbody>\n",
       "    <tr>\n",
       "      <th rowspan=\"2\" valign=\"top\">Afghanistan</th>\n",
       "      <th>1999</th>\n",
       "      <td>745</td>\n",
       "      <td>19987071</td>\n",
       "    </tr>\n",
       "    <tr>\n",
       "      <th>2000</th>\n",
       "      <td>2666</td>\n",
       "      <td>20595360</td>\n",
       "    </tr>\n",
       "    <tr>\n",
       "      <th rowspan=\"2\" valign=\"top\">Brazil</th>\n",
       "      <th>1999</th>\n",
       "      <td>37737</td>\n",
       "      <td>172006362</td>\n",
       "    </tr>\n",
       "    <tr>\n",
       "      <th>2000</th>\n",
       "      <td>80488</td>\n",
       "      <td>174504898</td>\n",
       "    </tr>\n",
       "    <tr>\n",
       "      <th rowspan=\"2\" valign=\"top\">China</th>\n",
       "      <th>1999</th>\n",
       "      <td>212258</td>\n",
       "      <td>1272915272</td>\n",
       "    </tr>\n",
       "    <tr>\n",
       "      <th>2000</th>\n",
       "      <td>213766</td>\n",
       "      <td>1280428583</td>\n",
       "    </tr>\n",
       "  </tbody>\n",
       "</table>\n",
       "</div>"
      ],
      "text/plain": [
       "type               cases  population\n",
       "country     year                    \n",
       "Afghanistan 1999     745    19987071\n",
       "            2000    2666    20595360\n",
       "Brazil      1999   37737   172006362\n",
       "            2000   80488   174504898\n",
       "China       1999  212258  1272915272\n",
       "            2000  213766  1280428583"
      ]
     },
     "execution_count": 155,
     "metadata": {},
     "output_type": "execute_result"
    }
   ],
   "source": [
    "print(df2)\n",
    "pd.pivot(df2, index = [\"country\", \"year\"], columns = \"type\", values = \"count\")"
   ]
  },
  {
   "cell_type": "markdown",
   "metadata": {},
   "source": [
    "#### Separate e Unite"
   ]
  },
  {
   "cell_type": "markdown",
   "metadata": {},
   "source": [
    "Separar:"
   ]
  },
  {
   "cell_type": "code",
   "execution_count": 156,
   "metadata": {},
   "outputs": [
    {
     "name": "stdout",
     "output_type": "stream",
     "text": [
      "       country  year               rate\n",
      "0  Afghanistan  1999       745/19987071\n",
      "1  Afghanistan  2000      2666/20595360\n",
      "2       Brazil  1999    37737/172006362\n",
      "3       Brazil  2000    80488/174504898\n",
      "4        China  1999  212258/1272915272\n",
      "5        China  2000  213766/1280428583 \n",
      "\n",
      "       country  year   cases  population\n",
      "0  Afghanistan  1999     745    19987071\n",
      "1  Afghanistan  2000    2666    20595360\n",
      "2       Brazil  1999   37737   172006362\n",
      "3       Brazil  2000   80488   174504898\n",
      "4        China  1999  212258  1272915272\n",
      "5        China  2000  213766  1280428583\n"
     ]
    }
   ],
   "source": [
    "print(df3, \"\\n\")\n",
    "\n",
    "df3[[\"cases\", \"population\"]] = df3[\"rate\"].str.split(\"/\", expand = True)\n",
    "df3 = df3.drop(\"rate\", axis = 1)\n",
    "print(df3)"
   ]
  },
  {
   "cell_type": "markdown",
   "metadata": {},
   "source": [
    "Unir:"
   ]
  },
  {
   "cell_type": "code",
   "execution_count": 157,
   "metadata": {},
   "outputs": [
    {
     "name": "stdout",
     "output_type": "stream",
     "text": [
      "       country  century  year               rate\n",
      "0  Afghanistan       19    99       745/19987071\n",
      "1  Afghanistan       20     0      2666/20595360\n",
      "2       Brazil       19    99    37737/172006362\n",
      "3       Brazil       20     0    80488/174504898\n",
      "4        China       19    99  212258/1272915272\n",
      "5        China       20     0  213766/1280428583 \n",
      "\n",
      "       country  year               rate\n",
      "0  Afghanistan   118       745/19987071\n",
      "1  Afghanistan    20      2666/20595360\n",
      "2       Brazil   118    37737/172006362\n",
      "3       Brazil    20    80488/174504898\n",
      "4        China   118  212258/1272915272\n",
      "5        China    20  213766/1280428583\n"
     ]
    }
   ],
   "source": [
    "print(df5, \"\\n\")\n",
    "\n",
    "df5[\"year\"] = df5[\"century\"] + df5[\"year\"]\n",
    "df5 = df5.drop(\"century\", axis = 1)\n",
    "print(df5)"
   ]
  },
  {
   "cell_type": "markdown",
   "metadata": {},
   "source": [
    "#### Combine\n",
    "<!-- Mais explicação. explicar os tipos de merge (left, inner, outer) -->\n",
    "\n",
    "Veja a função:\n",
    "- [`.concat()`](https://pandas.pydata.org/pandas-docs/stable/reference/api/pandas.concat.html?highlight=concat#pandas.concat)\n",
    "\n",
    "Veja as funções abaixo para [unir dataframes](https://pandas.pydata.org/pandas-docs/stable/user_guide/merging.html) de maneiras diferentes:\n",
    "\n",
    "**Standard Joins:**\n",
    "\n",
    "- [`.merge()`]()\n",
    "\n",
    "\n",
    "**Filtering Joints:**\n",
    "\n",
    "- [`.isin()`](https://pandas.pydata.org/pandas-docs/stable/reference/api/pandas.DataFrame.isin.html?highlight=isin#pandas.DataFrame.isin)\n"
   ]
  },
  {
   "cell_type": "markdown",
   "metadata": {},
   "source": [
    "#### Aggregate\n",
    "\n",
    "<!-- pro futuro -->"
   ]
  }
 ],
 "metadata": {
  "kernelspec": {
   "display_name": "Python 3",
   "language": "python",
   "name": "python3"
  },
  "language_info": {
   "codemirror_mode": {
    "name": "ipython",
    "version": 3
   },
   "file_extension": ".py",
   "mimetype": "text/x-python",
   "name": "python",
   "nbconvert_exporter": "python",
   "pygments_lexer": "ipython3",
   "version": "3.12.0"
  }
 },
 "nbformat": 4,
 "nbformat_minor": 2
}
