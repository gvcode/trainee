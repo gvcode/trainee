{
 "cells": [
  {
   "cell_type": "markdown",
   "metadata": {},
   "source": [
    "# CD: Projetos"
   ]
  },
  {
   "cell_type": "markdown",
   "metadata": {},
   "source": [
    "# Introdução\n",
    "\n",
    "<!--Motivação da aula-->\n",
    "\n",
    "<!--TOC dos temas da aula (pra ajudar os alunos a se acharem na aula)-->\n",
    "\n",
    "<!--Texto (enxuto, objetivo) com os objetivos de aprendizagem principais (o que, principalmente, os alunos tem que sair dessa aula sabendo)-->\n",
    "\n",
    "<!--Ao longo da aula: adicionar mais referências, especialmente sobre onde expandir os conhecimentos sobre cada tema-->"
   ]
  },
  {
   "cell_type": "markdown",
   "metadata": {},
   "source": [
    "## Organização de um Script"
   ]
  },
  {
   "cell_type": "markdown",
   "metadata": {},
   "source": [
    "Nas aulas passadas, vocês aprenderam as etapas de um projeto de ciência de dados:\n",
    "\n",
    "<img src=\"https://d33wubrfki0l68.cloudfront.net/571b056757d68e6df81a3e3853f54d3c76ad6efc/32d37/diagrams/data-science.png\" height=\"200\">"
   ]
  },
  {
   "cell_type": "markdown",
   "metadata": {},
   "source": [
    "Mas como nós organizamos essas etapas na prática? Normalmente nas seguintes seções:\n",
    "\n",
    "- Introdução:\n",
    "    - Descrição do problema.\n",
    "    - Descrição dos dados (fontes, questões técnicas, etc.).\n",
    "    - Setup do código (importar módulos, definir funções, etc.).\n",
    "- Importar e arrumar:\n",
    "    - Importar os dados **[importar]**.\n",
    "    - Transformá-los em um dataframe, especificamente um dataframe tidy **[arrumar]**.\n",
    "    - Lidar com NAs **[arrumar]**.\n",
    "- Pré-processamento dos daods:\n",
    "    - Analisar cada variável, seu tipo, valores NA/NaN, e mais:\n",
    "        - Variáveis categóricas -- categorias, distribuição **[visualizar]**..\n",
    "        - Variáveis numéricas -- range, distribuição **[vis.]**.\n",
    "    - Corrigir problemas observados **[transformar]**.\n",
    "- Análise exploratória:\n",
    "    - Explorar a relação entre as variáveis, especialmente entre os x's e os y's.\n",
    "    - Y binário: distribuição condicional em cada x **[vis.]**.\n",
    "    - Y contínuo: distribuição conjunta em cada x **[vis.]**.\n",
    "    - Conseguir insights sobre o problema e transformar/criar variáveis para a modelagem **[trans.]**.\n",
    "- Modelagem:\n",
    "    - Dividir base em treino e teste, balancear os dados **[trans.]**.\n",
    "    - Definir os modelos e aplicá-los. Variar os hiperparâmetros **[modelar]**.\n",
    "    - Visualizar os resultados **[vis.]**.\n",
    "    - Adquirir insights, transformar os dados de acordo, e remodelar **[trans.]** **[modelar]**.\n",
    "- Comunicar:\n",
    "    - Gerar uma visualização final com os pontos principais do processo e principais resultados **[vis.]**.\n",
    "    - Comunicar os resultados **[comunicar]**.\n",
    "\n",
    "Note como a circularidade no organograma fica evidente."
   ]
  },
  {
   "cell_type": "markdown",
   "metadata": {},
   "source": [
    "Na aula de hoje, iremos juntar tudo que vocês aprenderam nas aulas passadas, aplicando os conhecimentos em um exemplo concreto, seguindo o _workflow_ acima.\n",
    "\n",
    "Essa é a aula mais importante para o trabalho final, então prestem extra atenção."
   ]
  },
  {
   "cell_type": "markdown",
   "metadata": {},
   "source": [
    "## Exemplo de Script\n",
    "\n",
    "Este exemplo será um projeto completo, portanto está em um [arquivo separado](assets\\materials\\project_example.ipynb)."
   ]
  },
  {
   "cell_type": "markdown",
   "metadata": {},
   "source": [
    "<div class=\"double-hrule\"></div>\n",
    "\n",
    "## Recapitulando {.unnumbered}\n",
    "\n",
    "<!--Adicionar texto de recapitulando. Em parágrafos, primeiro sobre os principais objetivos de aprendizagem, depois sobre os conceitos teóricos aprendidos, e por fim, dos conceitos \"decoreba\" aprendidos-->"
   ]
  },
  {
   "cell_type": "markdown",
   "metadata": {},
   "source": [
    "## Extras\n",
    "\n",
    "<!-- pensar em extras para colocar. outros tipos/organizações de projetos? -->"
   ]
  }
 ],
 "metadata": {
  "language_info": {
   "name": "python"
  }
 },
 "nbformat": 4,
 "nbformat_minor": 2
}
