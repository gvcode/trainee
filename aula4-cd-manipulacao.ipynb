{
 "cells": [
  {
   "cell_type": "markdown",
   "metadata": {},
   "source": [
    "# CD: Manipulação"
   ]
  },
  {
   "cell_type": "markdown",
   "metadata": {},
   "source": [
    "# Introdução {.unumbered}\n",
    "\n",
    "<!--Motivação da aula-->\n",
    "\n",
    "<!--TOC dos temas da aula (pra ajudar os alunos a se acharem na aula)-->\n",
    "\n",
    "<!--Texto (enxuto, objetivo) com os objetivos de aprendizagem principais (o que, principalmente, os alunos tem que sair dessa aula sabendo)-->\n",
    "\n",
    "<!--Ao longo da aula: adicionar mais referências, especialmente sobre onde expandir os conhecimentos sobre cada tema-->\n",
    "\n",
    "<!-- comentar sobre como agora, vamos aplicar o modo de pensar da aula passada, de saber os \"tipos de operações existentes\", e desenvolver a habilidade de olhar pra um dataset, e saber quais operações aplicar -->\n",
    "\n",
    "Esta aula marca uma divisão no curso de trainee. Até agora, vocês estavam aprendendo várias ferramentas úteis, mas sem um objetivo específico além de simplesmente aprender a programar em Python. Nesta aula, vamos apresentar o objetivo, vocês irão aprender a realizar \"projetos de Ciência de Dados\"."
   ]
  },
  {
   "cell_type": "markdown",
   "metadata": {},
   "source": [
    "## Ciência de Dados"
   ]
  },
  {
   "cell_type": "markdown",
   "metadata": {},
   "source": [
    "### A Ciência de Dados\n",
    "\n",
    "A Ciência de Dados é um campo gigante, que nasceu via uma demanda de expandir a estatística para vias de \"learn from data\", \"more emphasis on data preparation and presentation rather than statistical modeling\", e \"emphasis on prediction rather than inference\". Atualmente, o termo não é super bem definido, e o campo tem muita intersecção com outras disciplinas.\n",
    "\n",
    "De acordo com a Wikipedia:\n",
    "\n",
    "> Data science is an interdisciplinary academic field that uses statistics, scientific computing, scientific methods, processes, algorithms and systems to extract or extrapolate knowledge and insights from data.\n",
    "\n",
    "Fontes: [\"50 Years of Data Science\" (2017)](https://www.tandfonline.com/doi/full/10.1080/10618600.2017.1384734) e [Wikipedia](https://en.wikipedia.org/wiki/Data_science)."
   ]
  },
  {
   "cell_type": "markdown",
   "metadata": {},
   "source": [
    "### As etapas de um projeto\n",
    "\n",
    "Mais interessante que ficar tentando definir a disciplina, vamos entendê-la na prática. Como a aula é minha, e eu faço o que eu quiser, vou utilizar a explicação do livro [\"R for Data Science\"](https://r4ds.had.co.nz/index.html).\n",
    "\n",
    "Um projeto comum, no geral, se parece como abaixo. Veja uma breve explicação de cada tópico.\n",
    "\n",
    "<img src=\"https://d33wubrfki0l68.cloudfront.net/571b056757d68e6df81a3e3853f54d3c76ad6efc/32d37/diagrams/data-science.png\" height=\"200\">"
   ]
  },
  {
   "cell_type": "markdown",
   "metadata": {},
   "source": [
    "#### Importing\n",
    "\n",
    "A primeira etapa é a importação. Alguns comentários:\n",
    "\n",
    "- Os dados podem vir de várias fontes, como arquivos locais, bancos de dados, APIs (application programming interface), ou de sites (via web scrapping).\n",
    "- Os dados podem estar em vários formatos como CSV, Excel, JSON, entre outros. É interessante ter um conhecimento básico de como cada um funciona.\n",
    "- Cada tipo de fonte tem uma maneira diferente de se interagir, e cada formato exige sua própria função. Para os casos mais simples, o pandas (e qualquer outra biblioteca de dataframes), tem funções para I/O.\n",
    "\n",
    "Não vamos entrar em detalhes nesse tema. Não é algo super extenso nem complexo, e existem muitas referências online. Uma das mais completas que achei foi [esse tutorial da RealPython](https://realpython.com/pandas-read-write-files/)."
   ]
  },
  {
   "cell_type": "markdown",
   "metadata": {},
   "source": [
    "#### Tidy\n",
    "\n",
    "A próxima etapa é arrumar, _tidy_, os dados. Vamos falar sobre isso com mais detalhe, mas existe uma noção bem específica do que são dados arrumados, _tidy data_.\n",
    "\n",
    "As três próximas etapas existem dentro de um ciclo."
   ]
  },
  {
   "cell_type": "markdown",
   "metadata": {},
   "source": [
    "#### Transform\n",
    "\n",
    "Mesmo com dados já arrumados, ainda temos o interesse de transformá-los, para conseguir obter insights novos da mesma base de dados. Na aula de hoje, vamos dar alguns exemplos de interesses, e este tema ficará mais claro.\n",
    "\n",
    "Visualizar e modelar os dados trará novos insights e novas demandas, de modo que estamos constantemente transformando os dados para criar novas visualizações e modelagens.\n",
    "\n",
    "_Tidy_ e _transform_ juntos são chamados de _data wrangling_."
   ]
  },
  {
   "cell_type": "markdown",
   "metadata": {},
   "source": [
    "#### Visualize\n",
    "\n",
    "Aqui, serei preguiçoso, o texto do Hadley Wickham é muito bom:\n",
    "\n",
    "> Visualisation is a fundamentally human activity. A good visualisation will show you things that you did not expect, or raise new questions about the data. A good visualisation might also hint that you’re asking the wrong question, or you need to collect different data. Visualisations can surprise you, but don’t scale particularly well because they require a human to interpret them."
   ]
  },
  {
   "cell_type": "markdown",
   "metadata": {},
   "source": [
    "#### Model\n",
    "\n",
    "Um modelo é, em termos simplificados e a depender do contexto, um conjunto de hipóteses sobre o mundo -- sobre o processo gerador dos dados --, acrescido com um método matemático e computacional de estimar esse processo.\n",
    "\n",
    "> Models are a fundamentally mathematical or computational tool, so they generally scale well. (...) But every model makes assumptions, and by its very nature a model cannot question its own assumptions. That means a model cannot fundamentally surprise you."
   ]
  },
  {
   "cell_type": "markdown",
   "metadata": {},
   "source": [
    "#### Comunication\n",
    "\n",
    "O último passo é comunicação. As linguagens de programação provém ferramentas para expor seus resultados. O próprio Jupyter Notebook onde esta aula foi escrita é um exemplo disso. Mas existem muitas outras ferramentas mais avançadas para criar reports, livros, páginas na web, aplicativos, etc. No curso de trainee, não iremos cobrir essa etapa com detalhe."
   ]
  },
  {
   "cell_type": "markdown",
   "metadata": {},
   "source": [
    "Por fim, dos últimos comentários. Primeiro, e a programação?\n",
    "\n",
    "> Surrounding all these tools is programming. Programming is a cross-cutting tool that you use in every part of the project. You don’t need to be an expert programmer to be a data scientist, but learning more about programming pays off because becoming a better programmer allows you to automate common tasks, and solve new problems with greater ease.\n",
    "\n",
    "E o que falta?\n",
    "\n",
    "No curso do trainee iremos explicar todas as etapas (fora comunicação), mas é só isso que você precisará? Não, cada projeto exige seu conhecimento específico, em cada tema, cada disciplina, existem conceitos próprios que entrarão em alguma das etapas aqui descritas. Mas tudo bem, o importante é vocês saberem a base, e conseguirão ir atrás do adicional por conta própria."
   ]
  },
  {
   "cell_type": "markdown",
   "metadata": {},
   "source": [
    "O caminho é o seguinte:\n",
    "\n",
    "- Na aula de hoje, aprenderemos as etapas de tidy e transform.\n",
    "- Na aula 5, aprenderemos a etapa visualize.\n",
    "- Na aula 6, aprenderemos a etapa model.\n",
    "- Por fim, na aula 7, juntaremos tudo, aprendendo como fazer um projeto completo. Adicionalmente, aprenderemos como organizar um script para tal."
   ]
  },
  {
   "cell_type": "markdown",
   "metadata": {},
   "source": [
    "### Data Wrangle e Tidy Data"
   ]
  },
  {
   "cell_type": "markdown",
   "metadata": {},
   "source": [
    "### Tidy"
   ]
  },
  {
   "cell_type": "markdown",
   "metadata": {},
   "source": [
    "#### Tidy data\n",
    "\n",
    "Dados podem ser representados de várias maneiras, veja os exemplos abaixo. Nenhuma delas é necessariamente melhor que as outras, são organizações diferentes.\n",
    "\n",
    "<img src=\"https://imgur.com/XA7JWwS.png\" height=\"400\">\n",
    "\n",
    "<img src=\"https://imgur.com/nN0ouP9.png\" height=\"400\">"
   ]
  },
  {
   "cell_type": "markdown",
   "metadata": {},
   "source": [
    "Para ciência de dados, será útil utilizar uma organização específica, chamada de \"tidy dataset\". Três regras a definem:\n",
    "\n",
    "- Cada variável deve ter sua própria coluna.\n",
    "- Cada observação deve ter sua própria linha.\n",
    "- Cada valor deve ter sua própria célula.\n",
    "\n",
    "<img src=\"https://d33wubrfki0l68.cloudfront.net/6f1ddb544fc5c69a2478e444ab8112fb0eea23f8/91adc/images/tidy-1.png\" height=\"200\">"
   ]
  },
  {
   "cell_type": "markdown",
   "metadata": {},
   "source": [
    "Quais são os benefícios de organizar dados assim?\n",
    "\n",
    "- A consistência de utilizar uma mesma organização, independente de qual, é muito útil, especialmente porque facilita entender as ferramentas que trabalharão com ela.\n",
    "- A arrumação tidy é intuitiva, e é utilizada de maneira muito natural nas ferramentas, muitaz vezes vetorizadas, de visualização e modelagem."
   ]
  },
  {
   "cell_type": "markdown",
   "metadata": {},
   "source": [
    "#### Arrumando datasets\n",
    "\n",
    "Agora que já entendemos o que é tidy data, podemos adquirir a habilidade de olhar para um dataset e, sabendo onde queremos chegar, elencar quais são as alterações a serem feitas -- \"remover esta linha\", \"dividir essa coluna no meio\".\n",
    "\n",
    "Após elencar quais alterações devem ser feitas, é simples fazer a ponte de quais _manipulações de dados você quer fazer_ -- \"subset linhas\" e \"separar colunas\".\n",
    "\n",
    "Por fim, só falta relembrar como é o código que aplica essa manipulação. Essa é a parte mais simples! É só voltar na aula passada, pesquisar na internet, _ver no chat_, ou perguntar para o seu amigo preferido!\n",
    "\n",
    "Tendo as duas primeiras habilidades, você tem tudo o que precisa para pesquisar, e não há problema nenhum em ter que pesquisar, o problema é ter que pesquisar , e não saber como!. Agora, se você só sabe a terceira, você não precisa pesquisar, mas _não sabe o que você não precisa pesquisar_, o que não é especialmente útil.\n",
    "\n",
    "Se você quiser ficar insano no pandas, rever a aula passada três vezes por dia, deitado numa banheira congelada, será ótimo, você ficará eficiênte muito rápidamente. Mas não precisa, essa eficiência vem com o tempo, e o mais importante é saber a lógica de  \"o que precisa alterar\" e \"quais são as manipulações que existem\"."
   ]
  },
  {
   "cell_type": "markdown",
   "metadata": {},
   "source": [
    "Ok, sem mais delongas, vamos aprender a elencar alterações, vamos ver uns exemplos [vide o PPT](assets\\materials\\manipulacao.pptx)."
   ]
  },
  {
   "cell_type": "markdown",
   "metadata": {},
   "source": [
    "Qual foi a receitinha de bolo que aprendemos? (hmm bolo 😋). Recebemos um dataset, e:\n",
    "\n",
    "- Arrumar os dados para o formato data frame.\n",
    "    - Todas as colunas são homogêneas?\n",
    "        - Remover linhas \"ruins\", converter valores.\n",
    "    - Todas as colunas são do mesmo tamanho?\n",
    "        - Remover linhas \"ruins\".\n",
    "- Arrumar os dados para o formato tidy.\n",
    "    - Toda coluna é uma variável?\n",
    "        - Remover colunas \"ruins\".\n",
    "        - Separar/unir colunas colunas.\n",
    "    - Toda linha é uma observação?\n",
    "        - Quais são as variáveis que definem uma observação?\n",
    "        - Pivot e melt.\n",
    "    - Toda célula é um valor?\n",
    "        - Transformar dados \"ruins\" em NA.\n",
    "        - Lidar com dados NA.\n",
    "- Tenho mais de um dataset? Deixá-los tidy e então realizaram algum merge."
   ]
  },
  {
   "cell_type": "markdown",
   "metadata": {},
   "source": [
    "### Transform\n",
    "\n",
    "Após arrumarmos um dataset, ainda aplicaremos transformações com base nas demandas da fase de visualização e modelagem.\n",
    "\n",
    "- Manipular linhas.\n",
    "    - Sorting.\n",
    "    - Sampling.\n",
    "    - Filtrar observações.\n",
    "- Transformar/criar colunas:\n",
    "    - Alterar a unidade de uma variável.\n",
    "    - Normalizar variáveis.\n",
    "    - Agrupar as categorias de uma variável categórica.\n",
    "    - Corrigir/formatar texto de variáveis string.\n",
    "    - Manipular datas.\n",
    "    - Criar novas colunas a partir de operações com múltiplas outras Exemplos: salário semanal * semanas trabalhadas; idade ao quadrado.\n",
    "    - Criar uma coluna para ajudar em um plot.\n",
    "\n",
    "Todas essas operações são factíveis de serem feitas com base na aula passada de pandas. Vocês verão muitos exemplos dessa etapa na aula 6."
   ]
  },
  {
   "cell_type": "markdown",
   "metadata": {},
   "source": [
    "<!--Escolha uma frase remetendo pausa e tire print de alguma arte dela em https://patorjk.com/software/taag/. Exemplo:-->\n",
    "\n",
    "<hr>\n",
    "\n",
    "![😎](assets/pause/georgia11.png)\n",
    "\n",
    "<hr>"
   ]
  },
  {
   "cell_type": "markdown",
   "metadata": {},
   "source": [
    "## Data Wrangle com Pandas"
   ]
  },
  {
   "cell_type": "markdown",
   "metadata": {},
   "source": [
    "<!-- Adicionar uns exemplos de data wrangle, especialmente usando as operações que não foram ensinadas na aula passada (reshape, separate/unite, e combine) -->"
   ]
  },
  {
   "cell_type": "markdown",
   "metadata": {},
   "source": [
    "<div class=\"double-hrule\"></div>\n",
    "\n",
    "## Recapitulando {.unnumbered}\n",
    "\n",
    "<!--Adicionar texto de recapitulando. Em parágrafos, primeiro sobre os principais objetivos de aprendizagem, depois sobre os conceitos teóricos aprendidos, e por fim, dos conceitos \"decoreba\" aprendidos-->"
   ]
  },
  {
   "cell_type": "markdown",
   "metadata": {},
   "source": [
    "## Extras\n",
    "\n",
    "<!--tem que ver o que vem pra ca. talvez mais exemplos?-->"
   ]
  }
 ],
 "metadata": {
  "kernelspec": {
   "display_name": "Python 3",
   "language": "python",
   "name": "python3"
  },
  "language_info": {
   "name": "python",
   "version": "3.12.0"
  }
 },
 "nbformat": 4,
 "nbformat_minor": 2
}
