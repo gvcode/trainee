{
 "cells": [
  {
   "cell_type": "markdown",
   "metadata": {},
   "source": [
    "<!-- fazer um script que passe por todas as etapas, do jeito que foram descritas no material da aula -->\n",
    "<!-- escolher uma base de dados bastante problemática -->"
   ]
  },
  {
   "cell_type": "markdown",
   "metadata": {},
   "source": [
    "# Introdução"
   ]
  },
  {
   "cell_type": "markdown",
   "metadata": {},
   "source": [
    "Relembrando, essa seção deve conter:\n",
    "\n",
    "- Descrição do problema.\n",
    "- Descrição dos dados (fontes, questões técnicas, etc.).\n",
    "- Setup do código (importar módulos, definir funções, etc.)."
   ]
  },
  {
   "cell_type": "markdown",
   "metadata": {},
   "source": [
    "<!-- \n",
    "https://www.kaggle.com/code/ryotapy/used-car-prices + alterações\n",
    "\n",
    "Features\t\t\t| Description\n",
    "--------------------|--------------------------\n",
    "Name\t\t\t\t| Brand and model of the car\n",
    "Location\t\t\t| City in which the car was listed\n",
    "Year\t\t\t\t| Year of manufacturing\n",
    "Kilometers driven\t| Total kilometers driven in the car by the previous owners (in km)\n",
    "Fuel type\t\t\t| ?\n",
    "Transmission type\t| ?\n",
    "Owners\t\t\t\t| ?\n",
    "Mileage\t\t\t\t| Standard mileage offered by the car company in kmpl or km/kg\n",
    "Engine\t\t\t\t| Displacement volume of the engine in CC.\n",
    "Power\t\t\t\t| Maximum power of the engine in bhp.\n",
    "Seats\t\t\t\t| Number of seats in the car.\n",
    "New_Price\t\t\t| Price of a new car of the same model.\n",
    "Price\t\t\t\t| Price of the used car in INR Lakhs.\n",
    "-->"
   ]
  },
  {
   "cell_type": "markdown",
   "metadata": {},
   "source": [
    "# Importar e Arrumar\n",
    "\n",
    "<!-- assets\\data\\car.xlsx -->"
   ]
  },
  {
   "cell_type": "markdown",
   "metadata": {},
   "source": [
    "Relembrando, essa seção deve conter:\n",
    "\n",
    "- Importar os dados **[importar]**.\n",
    "- Transformá-los em um dataframe, especificamente um dataframe tidy **[arrumar]**.\n",
    "- Lidar com NAs **[arrumar]**."
   ]
  },
  {
   "cell_type": "markdown",
   "metadata": {},
   "source": [
    "# Pré-processamento dos Dados"
   ]
  },
  {
   "cell_type": "markdown",
   "metadata": {},
   "source": [
    "Relembrando, essa seção deve conter:\n",
    "\n",
    "- Analisar cada variável, seu tipo, valores NA/NaN, e mais:\n",
    "    - Variáveis categóricas -- categorias, distribuição **[visualizar]**..\n",
    "    - Variáveis numéricas -- range, distribuição **[vis.]**.\n",
    "- Corrigir problemas observados **[transformar]**."
   ]
  },
  {
   "cell_type": "markdown",
   "metadata": {},
   "source": [
    "# Análise Exploratória"
   ]
  },
  {
   "cell_type": "markdown",
   "metadata": {},
   "source": [
    "Relembrando, essa seção deve conter:\n",
    "\n",
    "- Explorar a relação entre as variáveis, especialmente entre os x's e os y's.\n",
    "- Y binário: distribuição condicional em cada x **[vis.]**.\n",
    "- Y contínuo: distribuição conjunta em cada x **[vis.]**.\n",
    "- Conseguir insights sobre o problema e transformar/criar variáveis para a modelagem **[trans.]**."
   ]
  },
  {
   "cell_type": "markdown",
   "metadata": {},
   "source": [
    "# Modelagem"
   ]
  },
  {
   "cell_type": "markdown",
   "metadata": {},
   "source": [
    "Relembrando, essa seção deve conter:\n",
    "\n",
    "- Dividir base em treino e teste, balancear os dados **[trans.]**.\n",
    "- Definir os modelos e aplicá-los. Variar os hiperparâmetros **[modelar]**.\n",
    "- Visualizar os resultados **[vis.]**.\n",
    "- Adquirir insights, transformar os dados de acordo, e remodelar **[trans.]** **[modelar]**."
   ]
  },
  {
   "cell_type": "markdown",
   "metadata": {},
   "source": [
    "# Comunicar"
   ]
  },
  {
   "cell_type": "markdown",
   "metadata": {},
   "source": [
    "Relembrando, essa seção deve conter:\n",
    "\n",
    "- Gerar uma visualização final com os pontos principais do processo e principais resultados **[vis.]**.\n",
    "- Comunicar os resultados **[comunicar]**."
   ]
  }
 ],
 "metadata": {
  "language_info": {
   "name": "python"
  }
 },
 "nbformat": 4,
 "nbformat_minor": 2
}
