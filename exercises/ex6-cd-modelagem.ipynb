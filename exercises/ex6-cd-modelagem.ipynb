{
 "cells": [
  {
   "cell_type": "markdown",
   "metadata": {},
   "source": [
    "# Ciência de Dados: Modelagem - Exercícios\n",
    "\n",
    "Esta é a lista de exercício referente a aula 6 do processo de trainee GVCode.\n",
    "\n",
    "**Como abordar a lista:**\n",
    "\n",
    "A correção é feita com base no seu esforço, e não com base na facilidade com o conteúdo ou % de acerto. Respostas que não foram testadas, ou que não indicam originalidade, tem sua nota penalizada. Por outro lado, respostas imprecisas ou com erros obscuros não são penalizadas, desde que estejam bem explicadas. Portanto, responda com suas palavras, explicando *o que fez e o porque*.\n",
    "\n",
    "Adicionalmente, a ideia é errar! Os avaliadores dispõem do tempo deles para ajudá-los a entender o que fizeram de errado. Aproveite essa disponibilidade, e se permita errar. Por favor, não ocupe o tempo com questões copiadas de Chat-GPT e similares.\n",
    "\n",
    "Os veteranos da entidade estão 100% disponíveis para ajudá-los a responder exercícios onde tenham aparecido dúvidas. Por favor, não exite em nos chamar!"
   ]
  },
  {
   "cell_type": "markdown",
   "metadata": {},
   "source": [
    "**Detalhes da entrega:**\n",
    "\n",
    "- Os exercícios devem ser entregues através da atividade no Google Classroom, dia **20/11 às 23:59**.\n",
    "- Permitimos entregas até 5 dias depois, mas a nota será penalizada.\n",
    "- O arquivo deve ser nomeado como \"_ex[#aula]\\_[nome]\\_[sobrenome].ipynb_\", exemplo: ex1_ricado_castro. Use letras minúsculas, e apenas o último sobrenome.\n",
    "\n",
    "**Detalhes da lista:**\n",
    "\n",
    "- Os exercícios obrigatórios valem 10 pontos, e os bônus valem 3 pontos.\n",
    "- As respostas devem ser feitas nesse mesmo arquivo, preenchendo as células de código e/ou texto após os enunciados. Simplesmente apague os comentário \"[sua resposta aqui]\" e coloque sua resposta no lugar. Não crie células novas.\n",
    "- Funções devem retornar o resultado com `return`, e não com `print`. Também não se deve usar a função `input`, os argumentos devem ser passados como argumentos da função.\n",
    "- Evite usar conhecimentos de aulas futuras."
   ]
  },
  {
   "cell_type": "markdown",
   "metadata": {},
   "source": [
    "## Exercícios Obrigatórios"
   ]
  },
  {
   "cell_type": "markdown",
   "metadata": {},
   "source": [
    "### Exercício 1 - Tipos de Aprendizado\n",
    "\n",
    "Para cada um dos problemas de modelagem abaixo, diga se são problemas de aprendizado supervisionado ou não supervisionado. Escreva uma breve justificativa (~1 linha).\n",
    "\n",
    "1. Detecção de fraudes em transações financeiras.\n",
    "1. Agrupamento de documentos em tópicos semânticos.\n",
    "1. Previsão da temperatura diária com base em dados meteorológicos históricos.\n",
    "1. Análise de nível (discreto) de satisfação do consumidor com base no comentário deixado.\n",
    "1. Análise de nível (contínuo) de satisfação do consumidor com base no comentário deixado.\n",
    "1. Segmentação de clientes com base em histórico de compras."
   ]
  },
  {
   "cell_type": "markdown",
   "metadata": {},
   "source": [
    "- Item $1.$:\n",
    "\n",
    "[sua resposta aqui]\n",
    "\n",
    "\n",
    "- Item $2.$:\n",
    "\n",
    "[sua resposta aqui]\n",
    "\n",
    "\n",
    "- Item $3.$:\n",
    "\n",
    "[sua resposta aqui]\n",
    "\n",
    "\n",
    "- Item $4.$:\n",
    "\n",
    "[sua resposta aqui]\n",
    "\n",
    "\n",
    "- Item $5.$:\n",
    "\n",
    "[sua resposta aqui]\n",
    "\n",
    "\n",
    "- Item $6.$:\n",
    "\n",
    "[sua resposta aqui]"
   ]
  },
  {
   "cell_type": "markdown",
   "metadata": {},
   "source": [
    "### Exercício 2 - Regressão ou Classificação\n",
    "\n",
    "Para os exemplos que colocou como supervisionado no exercício 1, conte quais são de regressão e classificação. Escreva uma breve justificativa (~1 linha)."
   ]
  },
  {
   "cell_type": "code",
   "execution_count": null,
   "metadata": {},
   "outputs": [],
   "source": [
    "- Item $1.$:\n",
    "\n",
    "[sua resposta aqui]\n",
    "\n",
    "\n",
    "- Item $4.$:\n",
    "\n",
    "[sua resposta aqui]"
   ]
  },
  {
   "cell_type": "markdown",
   "metadata": {},
   "source": [
    "### Exercício 3 - Erros do Tipo I e II\n",
    "\n",
    "Na aula, falamos sobre algumas métricas de performance para modelos de regressão, mas não falamos sobre métricas para classificação. O objetivo deste exercício é ensinar algumas para vocês.\n",
    "\n",
    "Considere o conceito de verdadeiro positivo/negativo, e falso positivo/negativo. Após fazer um modelo, podemos ver quanto de cada geramos, e organizar esses valores em uma matriz, a matriz de confusão:\n",
    "\n",
    "<img src=\"https://miro.medium.com/v2/resize:fit:712/1*Z54JgbS4DUwWSknhDCvNTQ.png\">\n",
    "\n",
    "\n",
    "Qual das entradas da M.C. equivale ao erro do tipo I? E ao erro do tipo II?"
   ]
  },
  {
   "cell_type": "markdown",
   "metadata": {},
   "source": [
    "- Erro do tipo I:\n",
    "\n",
    "[sua resposta aqui]\n",
    "\n",
    "- Erro do tipo II:\n",
    "\n",
    "[sua resposta aqui]"
   ]
  },
  {
   "cell_type": "markdown",
   "metadata": {},
   "source": [
    "### Exercício 4 - Estudando Variáveis I\n",
    "\n",
    "Dentro do contexto da questão 3, considere as taxas abaixo:\n",
    "\n",
    "1. % dos positivos corretamente classificados\n",
    "2. % dos negativos corretamente classificados\n",
    "3. % de acerto nos classificados como positivo\n",
    "4. % de acerto nos classificados como negativo\n",
    "5. % de valores verdadeiros em relação ao total\n",
    "\n",
    "Escreva a fórmula matemática de cada uma, tem termos de TP, FP, FN, TN. As respostas devem ser fórmulas do tipo TP/(TP + TN). De modo breve (~1 linha), o que cada taxa conta sobre a performance/as qualidades do modelo?"
   ]
  },
  {
   "cell_type": "markdown",
   "metadata": {},
   "source": [
    "- Item $1.$:\n",
    "\n",
    "[sua resposta aqui]\n",
    "\n",
    "\n",
    "- Item $2.$:\n",
    "\n",
    "[sua resposta aqui]\n",
    "\n",
    "\n",
    "- Item $3.$:\n",
    "\n",
    "[sua resposta aqui]\n",
    "\n",
    "\n",
    "- Item $4.$:\n",
    "\n",
    "[sua resposta aqui]\n",
    "\n",
    "\n",
    "- Item $5.$:\n",
    "\n",
    "[sua resposta aqui]"
   ]
  },
  {
   "cell_type": "markdown",
   "metadata": {},
   "source": [
    "## Exercícios Bônus"
   ]
  },
  {
   "cell_type": "markdown",
   "metadata": {},
   "source": [
    "### Exercício 5 - Hyperparâmetros I\n",
    "\n",
    "Nos próximos exercícios, você aprenderá um pouco mais sobre hyperparâmetros.\n",
    "\n",
    "Considere o modelo de decision tree, em termos simplificados:\n",
    "\n",
    "- Se $x$ for maior que $s$, o valor predito será $v_1$,\n",
    "- Se $x$ for menor ou igual a $s$, o valor predito será $v_2$.\n",
    "\n",
    "O modelo olhará para os dados, e tentará escolher o melhor split $s$ possível, bem como os valores $v_1$ e $v_2$, minimizando o erro $Y_\\text{real} - Y_\\text{predito}$.\n",
    "\n",
    "O modelo acima faz apenas um 'corte', mas podemos deixar o modelo ser mais flexível, e permitir fazer mais cortes, e termos algo como:\n",
    "\n",
    "- Se $x$ for maior que $s_1$, o valor predito será $v_1$,\n",
    "- Se $x$ for menor ou igual a $s_1$:\n",
    "  - Se $s_2 > x \\leq s_1$, o valor predito será $v_2$,\n",
    "  - Se $x \\leq s_2$, o valor predito será $v_3$,\n",
    "\n",
    "O número de \"cortes\" possíveis é a \"profundidade máxima\", e é um hyperparâmetro do modelo, um que o pesquisador pode escolher para dar mais ou menos flexibilidade.\n",
    "\n",
    "Agora, como você, como pesquisador, decide qual é a profundidade máxima que você quer utilizar? Relembre da aula:\n",
    "\n",
    "> Como escolher o conjunto [a família de modelos]: O que parece fazer mais sentido? O que se adapta melhor aos dados disponíveis? O que gera os ‘melhores’ resultados?\n",
    "\n",
    "> Como escolher [um hyperparâmetro]? Da mesma forma que escolhemos a “família de modelos”."
   ]
  },
  {
   "cell_type": "markdown",
   "metadata": {},
   "source": [
    "Com base no texto acima, screva um breve texto respondendo as questões abaixo:\n",
    "\n",
    "1. Na aula, comentamos sobre a questão de under e over fitting, e a relação desses problemas com o nível de complexidade de um modelo. Como você enxerga os modelos acima à luz dessa discussão?\n",
    "2. Com base em seu raciocínio anterior, qual modelo você escolheria (considerando somente essas 3 opções)?"
   ]
  },
  {
   "cell_type": "code",
   "execution_count": null,
   "metadata": {},
   "outputs": [
    {
     "data": {
      "image/png": "[encoded data removed]",
      "text/plain": [
       "<Figure size 1400x500 with 3 Axes>"
      ]
     },
     "metadata": {},
     "output_type": "display_data"
    }
   ],
   "source": [
    "mandioquinha_frita_hmm()"
   ]
  },
  {
   "cell_type": "markdown",
   "metadata": {},
   "source": [
    "- Item $1.$:\n",
    "\n",
    "[sua resposta aqui]\n",
    "\n",
    "\n",
    "- Item $2.$:\n",
    "\n",
    "[sua resposta aqui]"
   ]
  },
  {
   "cell_type": "markdown",
   "metadata": {},
   "source": [
    "### Exercício 6 - Hyperparâmetros II\n",
    "\n",
    "O objetivo do exercício anterior é desenvolver a habilidade transformar \"entendi o que é  ohyperparâmetro\" (algo que eu 'dei de graça' na explicação do começo), em \"entendi o que é o papel do hyperparâmetro\".\n",
    "\n",
    "Nesse exercício, coloque esse aprendizado em palavras.\n",
    "\n",
    "1. Especialmente, como você explicaria **o papel** do hyperparâmetro de profundidade máxima?\n",
    "2. Em termos simplificados, como você diria que um pesquisador deve escolhê-lo?"
   ]
  },
  {
   "cell_type": "markdown",
   "metadata": {},
   "source": [
    "- Item $1.$:\n",
    "\n",
    "[sua resposta aqui]\n",
    "\n",
    "\n",
    "- Item $2.$:\n",
    "\n",
    "[sua resposta aqui]"
   ]
  },
  {
   "cell_type": "markdown",
   "metadata": {},
   "source": [
    "---\n",
    "\n",
    "De curiosidade, abaixo está a função utilizada para fazer o plot acima.\n",
    "\n",
    "Observação importante: o nome faz referência à melhor comida de bar, quem discordar pode marcar de sair na mão comigo (ricardo)."
   ]
  },
  {
   "cell_type": "code",
   "execution_count": null,
   "metadata": {},
   "outputs": [],
   "source": [
    "# Import the necessary modules and libraries\n",
    "import matplotlib.pyplot as plt\n",
    "import numpy as np\n",
    "from sklearn.tree import DecisionTreeRegressor\n",
    "\n",
    "# Create a random dataset\n",
    "rng = np.random.RandomState(1)\n",
    "X = np.sort(5 * rng.rand(80, 1), axis=0)\n",
    "y = np.sin(X).ravel()\n",
    "y[::5] += 3 * (0.5 - rng.rand(16))\n",
    "\n",
    "X_test = np.arange(0.0, 5.0, 0.01)[:, np.newaxis]\n",
    "\n",
    "# Fit regression model\n",
    "depths = (1, 2, 5)\n",
    "models = map(lambda d: DecisionTreeRegressor(max_depth=d).fit(X, y), depths)\n",
    "ys_pred = list(map(lambda mod: mod.predict(X_test), models))\n",
    "\n",
    "# Plot the results\n",
    "def mandioquinha_frita_hmm():\n",
    "  fig, axs = plt.subplots(1, 3, figsize=(14, 5))\n",
    "  colors = [\"cornflowerblue\", \"yellowgreen\", \"red\"]\n",
    "\n",
    "  for i in range(len(ys_pred)):\n",
    "    axs[i].scatter(X, y, s=20, edgecolor=\"black\", c=\"darkorange\")\n",
    "    axs[i].plot(X_test, ys_pred[i], color=colors[i], linewidth=2, alpha=0.6)\n",
    "    axs[i].set_xlabel(\"x\")\n",
    "    axs[i].set_ylabel(\"y\")\n",
    "    axs[i].set_title(f\"Decision Tree Regression (max_depth={depths[i]})\")\n",
    "\n",
    "  plt.tight_layout()\n",
    "  plt.show()"
   ]
  }
 ],
 "metadata": {
  "kernelspec": {
   "display_name": "Python 3",
   "language": "python",
   "name": "python3"
  },
  "language_info": {
   "codemirror_mode": {
    "name": "ipython",
    "version": 3
   },
   "file_extension": ".py",
   "mimetype": "text/x-python",
   "name": "python",
   "nbconvert_exporter": "python",
   "pygments_lexer": "ipython3",
   "version": "3.12.0"
  }
 },
 "nbformat": 4,
 "nbformat_minor": 2
}
