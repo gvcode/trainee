{
 "cells": [
  {
   "cell_type": "markdown",
   "metadata": {},
   "source": [
    "# Introdução ao Python II - Exercícios\n",
    "\n",
    "Esta é a lista de exercício referente a aula 2 do processo de trainee GVCode.\n",
    "\n",
    "**Como abordar a lista:**\n",
    "\n",
    "A correção é feita com base no seu esforço, e não com base na facilidade com o conteúdo ou % de acerto. Respostas que não foram testadas, ou que não indicam originalidade, tem sua nota penalizada. Por outro lado, respostas imprecisas ou com erros obscuros não são penalizadas, desde que estejam bem explicadas. Portanto, responda com suas palavras, explicando *o que fez e o porque*.\n",
    "\n",
    "Adicionalmente, a ideia é errar! Os avaliadores dispôem do tempo deles para ajudá-los a entender o que fizeram de errado. Aproveite essa disponibilidade, e se permita errar. Por favor, não ocupe o tempo com questões copiadas de Chat-GPT e similares.\n",
    "\n",
    "Os veteranos da entidade estão 100% disponíveis para ajudá-los a responder exercícios onde tenham aparecido dúvidas. Por favor, não exite em nos chamar!"
   ]
  },
  {
   "cell_type": "markdown",
   "metadata": {},
   "source": [
    "**Detalhes da entrega:**\n",
    "\n",
    "- Os exercícios devem ser entregues através da atividade no Google Classroom, dia 24 às 23:59.\n",
    "- Permitimos entregas até 5 dias depois, mas a nota será penalizada.\n",
    "- O arquivo deve ser nomeado como \"_ex[#aula]\\_[nome]\\_[sobrenome].ipynb_\", exemplo: ex1_ricado_castro. Use letras minúsculas, e apenas o último sobrenome.\n",
    "\n",
    "**Detalhes da lista:**\n",
    "\n",
    "- Os exercícios obrigatórios valem 10 pontos, e os bônus valem 3 pontos.\n",
    "- As respostas devem ser feitas nesse mesmo arquivo, preenchendo as células de código e/ou texto após os enunciados. Simplesmente apague os comentário \"[sua resposta aqui]\" e coloque sua resposta no lugar. Não crie células novas.\n",
    "- Funções devem retornar o resultado com `return`, e não com `print`. Também não se deve usar a função `input`, os argumentos devem ser passados como argumentos da função.\n",
    "- Evite usar conhecimentos de aulas futuras."
   ]
  },
  {
   "cell_type": "markdown",
   "metadata": {},
   "source": [
    "## Questões Obrigatórias"
   ]
  },
  {
   "cell_type": "markdown",
   "metadata": {},
   "source": [
    "Nessa lista, _talvez_ será necessário que você use a biblioteca \"math\", \"operator\", e \"random\"."
   ]
  },
  {
   "cell_type": "code",
   "execution_count": 46,
   "metadata": {},
   "outputs": [],
   "source": [
    "import math\n",
    "import operator\n",
    "import random as rd\n",
    "\n",
    "rd.seed(20242)"
   ]
  },
  {
   "cell_type": "markdown",
   "metadata": {},
   "source": [
    "### Questão 1 - OOP\n",
    "\n",
    "Neste exercício, você deve criar uma classe chamada `BankAccount`. Os detalhes estarão a critério de vocês, mas para guiar a criação, considerem:\n",
    "\n",
    "1. A classe tem que \"ter\" um saldo. Como isso seria implementado, é um atributo, ou um método? Porque (brevemente)?\n",
    "2. A classe tem que \"ter\" uma maneira de alterar (pra mais ou pra menos) o saldo. Como isso seria implementado, é um atributo, ou um método? Porque (brevemente)?\n",
    "\n",
    "Fora isso, queremos ver a criatividade de vocês, especialmente no que tange utilizar conceitos de OOP. Alguma sugestões:\n",
    "\n",
    "- Haver uma forma de predizer o saldo futuro com base em uma taxa de juros?\n",
    "- Checagens nas operações para garantir que o saldo sempre \"faça sentido\"?\n",
    "- Criar um histórico de transações?\n",
    "- ..."
   ]
  },
  {
   "cell_type": "markdown",
   "metadata": {},
   "source": [
    "- Item $1.$:\n",
    "\n",
    "[sua resposta aqui]\n",
    "\n",
    "- Item $2.$:\n",
    "\n",
    "[sua resposta aqui]"
   ]
  },
  {
   "cell_type": "code",
   "execution_count": null,
   "metadata": {},
   "outputs": [],
   "source": [
    "# Definição da classe:\n",
    "\n",
    "# [sua resposta aqui]"
   ]
  },
  {
   "cell_type": "markdown",
   "metadata": {},
   "source": [
    "### Questão 2 - Métodos com Listas\n",
    "\n",
    "Neste exercício, vamos estudar conceitos mais aplicados de métodos de listas:\n",
    "\n",
    "1. Crie uma lista `x` com os elementos: `'maçã'`, `'banana'`, `'laranja'`, `'abacaxi'`, e `'melancia'`. Adicione `'morango'` na posição 2 da lista.\n",
    "3. Crie uma nova lista `x_sub` com os primeiros 3, e o último elemento da lista original. Tente fazer em uma linha!\n",
    "4. Agora, vamos criar duas novas listas, `x_sub_rev` -- `x_sub` invertida -- e `x_sub_sort` -- `x_sub` ordenada de maneira decrescente.\n",
    "    - O método `.reverse()` e `.sort()` retornam algo? Que consequência isso gera para seu código? Se refira à discussão na seção de \"Variáveis, Novamente\" da aula.\n",
    "5. Compare se `x_sub_rev` e `x_sub_sort` são iguais. Cheque se `'laranja'` está em `x_sub`. Brevemente explique a diferença dos operadores `==` e `in`. "
   ]
  },
  {
   "cell_type": "code",
   "execution_count": 45,
   "metadata": {},
   "outputs": [],
   "source": [
    "# Item 1.:\n",
    "\n",
    "# [sua resposta aqui]\n",
    "\n",
    "\n",
    "# Item 2.:\n",
    "\n",
    "# [sua resposta aqui]\n",
    "\n",
    "\n",
    "# Item 3.:\n",
    "\n",
    "# [sua resposta aqui]\n",
    "\n",
    "\n",
    "# Item 4.:\n",
    "\n",
    "# [sua resposta aqui]"
   ]
  },
  {
   "cell_type": "markdown",
   "metadata": {},
   "source": [
    "- Item $4.$:\n",
    "\n",
    "[sua resposta aqui]\n",
    "\n",
    "\n",
    "- Item $5.$:\n",
    "\n",
    "[sua resposta aqui]"
   ]
  },
  {
   "cell_type": "markdown",
   "metadata": {},
   "source": [
    "### Questão 3 - Listas e Loops\n",
    "\n",
    "Neste exercício vamos resolver um mesmo problema simples de maneiras diferentes. Queremos escrever uma `get_divisibles_*(l, d)`, que receba uma lista `l` e retorne uma lista com seus elementos divisíveis por `d`.\n",
    "\n",
    "1. `get_divisibles_loop`: Use um loop, com `if` e `.append()`.\n",
    "2. `get_divisibles_filter`: Use `filter()`.\n",
    "3. `get_divisibles_listcomp`: Use uma compreensão de lista.\n",
    "4. `get_divisibles_dictcomp`: Dessa vez, retorne um dicionário, com _keys_ `item k`, onde `k` é a posição do elemento na lista original. Use uma compreensão de dicionário e `enumerate()`.\n",
    "\n",
    "Você gostou mais de alguma abordagem?"
   ]
  },
  {
   "cell_type": "code",
   "execution_count": null,
   "metadata": {},
   "outputs": [],
   "source": [
    "# Item 1.:\n",
    "\n",
    "# [sua resposta aqui]\n",
    "\n",
    "\n",
    "# Item 2.:\n",
    "\n",
    "# [sua resposta aqui]\n",
    "\n",
    "\n",
    "# Item 3.:\n",
    "\n",
    "# [sua resposta aqui]\n",
    "\n",
    "\n",
    "# Item 4.:\n",
    "\n",
    "# [sua resposta aqui]"
   ]
  },
  {
   "cell_type": "markdown",
   "metadata": {},
   "source": [
    "### Questão 4 - Map e Zip\n",
    "\n",
    "Nesse exercício, vamos explorar mais sobre `map()` e `zip()`, e como lidar com funções que recebem quantidades arbitrárias de argumentos.\n",
    "\n",
    "1. Crie uma função `lists_multiply2(l1, l2)`, que receba duas listas com números reais, deixe ambas com o comprimento da menor, e depois multiplique seus membros (par a par). O resultado deve ser uma lista. Você precisa usar a função `map`.\n",
    "2. Crie uma função `lists_multiply3(l1, l2, l3)`, que tenha o mesmo comportamento da anterior, mas agora \"multiplique seus membros trio a trio\". Além de `map()`, você precisa usar `zip()`.\n",
    "\n",
    "Em 2. foque em generalizar sua resposta da 1. Agora, não vale mais a pena repetir os nomes `l1`, `l2`, e `l3` toda hora. Como podemos evitar isso? Dicas:\n",
    "\n",
    "- A ideia mais fundamental é juntar argumentos similares em uma coleção, o que permite aplicar a mesma operação à todas, usando `map()`. Aí, pense em cada operação individualmente (tem ir de pouco a pouco).\n",
    "- Qual operação queremos aplicar para conseguir o menor tamanho entre todas?\n",
    "- Qual operação queremos aplicar para selecionar apenas os primeiros elementos de cada lista?\n",
    "- Como podemos juntar as três listas acima em uma coleção trio a trio?\n",
    "- Qual operação que queremos aplicar para multiplicar cada trio?\n",
    "\n",
    "Comente seu código com seu raciocínio.\n",
    "\n",
    "Obs: tudo bem se você repetir os nomes da lista na hora do `zip()`."
   ]
  },
  {
   "cell_type": "code",
   "execution_count": null,
   "metadata": {},
   "outputs": [],
   "source": [
    "# Item 1.:\n",
    "\n",
    "# [sua resposta aqui]\n",
    "\n",
    "\n",
    "# Item 2.:\n",
    "\n",
    "# [sua resposta aqui]"
   ]
  },
  {
   "cell_type": "markdown",
   "metadata": {},
   "source": [
    "## Exercícios Bônus"
   ]
  },
  {
   "cell_type": "markdown",
   "metadata": {},
   "source": [
    "### Questão 5 - Map, Zip, e `*`\n",
    "\n",
    "Vamos continuar o exercício anterior, para o nível mais alto de generalização. Crie uma função `lists_multiplyk`, que tenha o mesmo comportamento das anteriores, mas agora receba uma quantidade arbitrária de listas, e multiplique seus membros \"k a k\" (onde 'k' é desconhecido).\n",
    "\n",
    "Existem duas questões-guia principais:\n",
    "\n",
    "- A única novidade é \"como podemos escrever uma função que receba uma quantidade arbitrária de argumentos?\", é a única lógica que muda em relação às funções anteriores.\n",
    "- Note que não é mais possível repetir os nomes da lista na hora do `zip()`, como podemos contornar isso?.\n",
    "\n",
    "Explique intuitivamente o que é a operação que sua função está fazendo para lidar com esses pontos."
   ]
  },
  {
   "cell_type": "code",
   "execution_count": 51,
   "metadata": {},
   "outputs": [],
   "source": [
    "# Resposta:\n",
    "\n",
    "# [sua resposta aqui]"
   ]
  },
  {
   "cell_type": "markdown",
   "metadata": {},
   "source": [
    "- Intuição:\n",
    "\n",
    "[sua resposta aqui]"
   ]
  },
  {
   "cell_type": "markdown",
   "metadata": {},
   "source": [
    "### Questão 6 - Funções Wrapper\n",
    "\n",
    "Nesse exercício, você aprenderá sobre criar uma função que \"embrulha\" outra.\n",
    "\n",
    "Crie uma função chamada `random_comparator`, que receba uma variável que pode assumir os nomes destas distribuições: 'randint', 'uniform', ou 'gauss'. A função deverá sortear um número aleatório com a distribuição escolhida, utilizando as funções do pacote random de mesmo nome.\n",
    "\n",
    "Essas funções requerem outros argumentos, como 'mu' e 'sigma' para o caso de `rd.gauss`. Como esses argumentos devem ser passados?\n",
    "\n",
    "O resultado deve ser uma lista contendo o número sorteado, e a média teórica da distribuição escolhida. Dica: para randint e uniform, a média é (início - fim)/2. Para gauss, é o parâmetro \"mu\"."
   ]
  },
  {
   "cell_type": "code",
   "execution_count": null,
   "metadata": {},
   "outputs": [],
   "source": [
    "# Resposta:\n",
    "\n",
    "# [sua resposta aqui]"
   ]
  }
 ],
 "metadata": {
  "kernelspec": {
   "display_name": "Python 3",
   "language": "python",
   "name": "python3"
  },
  "language_info": {
   "codemirror_mode": {
    "name": "ipython",
    "version": 3
   },
   "file_extension": ".py",
   "mimetype": "text/x-python",
   "name": "python",
   "nbconvert_exporter": "python",
   "pygments_lexer": "ipython3",
   "version": "3.12.0"
  }
 },
 "nbformat": 4,
 "nbformat_minor": 2
}
