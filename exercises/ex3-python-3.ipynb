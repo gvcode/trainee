{
 "cells": [
  {
   "cell_type": "markdown",
   "metadata": {},
   "source": [
    "# Introdução ao Python III - Exercícios\n",
    "\n",
    "Esta é a lista de exercício referente a aula 3 do processo de trainee GVCode.\n",
    "\n",
    "**Como abordar a lista:**\n",
    "\n",
    "A correção é feita com base no seu esforço, e não com base na facilidade com o conteúdo ou % de acerto. Respostas que não foram testadas, ou que não indicam originalidade, tem sua nota penalizada. Por outro lado, respostas imprecisas ou com erros obscuros não são penalizadas, desde que estejam bem explicadas. Portanto, responda com suas palavras, explicando *o que fez e o porque*.\n",
    "\n",
    "Adicionalmente, a ideia é errar! Os avaliadores dispôem do tempo deles para ajudá-los a entender o que fizeram de errado. Aproveite essa disponibilidade, e se permita errar. Por favor, não ocupe o tempo com questões copiadas de Chat-GPT e similares.\n",
    "\n",
    "Os veteranos da entidade estão 100% disponíveis para ajudá-los a responder exercícios onde tenham aparecido dúvidas. Por favor, não exite em nos chamar!"
   ]
  },
  {
   "cell_type": "markdown",
   "metadata": {},
   "source": [
    "**Detalhes da entrega:**\n",
    "\n",
    "- Os exercícios devem ser entregues através da atividade no Google Classroom, dia 31/10 às 23:59.\n",
    "- Permitimos entregas até 5 dias depois, mas a nota será penalizada.\n",
    "- O arquivo deve ser nomeado como \"_ex[#aula]\\_[nome]\\_[sobrenome].ipynb_\", exemplo: ex1_ricado_castro. Use letras minúsculas, e apenas o último sobrenome.\n",
    "\n",
    "**Detalhes da lista:**\n",
    "\n",
    "- Os exercícios obrigatórios valem 10 pontos, e os bônus valem 3 pontos.\n",
    "- As respostas devem ser feitas nesse mesmo arquivo, preenchendo as células de código e/ou texto após os enunciados. Simplesmente apague os comentário \"[sua resposta aqui]\" e coloque sua resposta no lugar. Não crie células novas.\n",
    "- Funções devem retornar o resultado com `return`, e não com `print`. Também não se deve usar a função `input`, os argumentos devem ser passados como argumentos da função.\n",
    "- Evite usar conhecimentos de aulas futuras."
   ]
  },
  {
   "cell_type": "markdown",
   "metadata": {},
   "source": [
    "Nessa lista, você utilizará as seguintes bibliotecas e objetos:"
   ]
  },
  {
   "cell_type": "code",
   "execution_count": null,
   "metadata": {},
   "outputs": [],
   "source": [
    "import numpy as np\n",
    "import pandas as pd"
   ]
  },
  {
   "cell_type": "code",
   "execution_count": null,
   "metadata": {},
   "outputs": [],
   "source": [
    "left = pd.DataFrame({\n",
    "    'key1': ['K0', 'K0', 'K1', 'K2'],\n",
    "    'key2': ['K0', 'K1', 'K0', 'K1'],\n",
    "    'A': ['A0', 'A1', 'A2', 'A3'],\n",
    "    'B': ['B0', 'B1', 'B2', 'B3']\n",
    "})\n",
    "    \n",
    "right = pd.DataFrame({\n",
    "    'key1': ['K0', 'K1', 'K1', 'K2'],\n",
    "    'key2': ['K0', 'K0', 'K0', 'K0'],\n",
    "    'C': ['C0', 'C1', 'C2', 'C3'],\n",
    "    'D': ['D0', 'D1', 'D2', 'D3']\n",
    "})\n",
    "\n",
    "tables_links = {\n",
    "    'df_peng': 'https://raw.githubusercontent.com/allisonhorst/palmerpenguins/main/inst/extdata/penguins.csv',\n",
    "    'df_energy': 'https://raw.githubusercontent.com/victor-laube/dados-aula3/main/data.csv',\n",
    "    'df2': 'https://raw.githubusercontent.com/tidyverse/tidyr/c6c126a61f67a10b5ab9ce6bb1d9dbbb7a380bbd/data-raw/table2.csv',\n",
    "    'df4a': 'https://raw.githubusercontent.com/tidyverse/tidyr/c6c126a61f67a10b5ab9ce6bb1d9dbbb7a380bbd/data-raw/table4a.csv'\n",
    "}\n",
    "\n",
    "for i in tables_links.keys():\n",
    "    globals()[i] = pd.read_csv(tables_links[i])"
   ]
  },
  {
   "cell_type": "markdown",
   "metadata": {},
   "source": [
    "## Questões Obrigatórias"
   ]
  },
  {
   "cell_type": "markdown",
   "metadata": {},
   "source": [
    "### Questão 1 - Numpy: Creating, Operationg\n",
    "\n",
    "1. Crie dois vetores de tamanho $1000$, com valores aleatórios. O primeiro segue uma distribuição normal com média $0.5$ e desvio padrão $2$ ($N(0.5, 2)$), enquanto o segundo segue uma $N(0, 1)$. Multiplique os vetores termo-a-termo, e tire a variância do resultado. Extra: quanto você acha que a variância deveria ser?\n",
    "2. Considere o vetor `np.arange(5**2)`, reorganize-o em uma matrix $5 \\times 5$. Escreva todas as maneiras que você conseguir de acessar os dois primeiros elementos da última coluna (sem filters). Qual você prefere, porque?\n",
    "3. Considere o vetor anterior, e tire a média de cada linha. Acesse elementos das linhas cujas médias são maiores que $10$, e da última coluna."
   ]
  },
  {
   "cell_type": "code",
   "execution_count": null,
   "metadata": {},
   "outputs": [],
   "source": [
    "# Item 1.:\n",
    "\n",
    "# [sua resposta aqui]\n",
    "\n",
    "\n",
    "# Item 2.:\n",
    "\n",
    "# [sua resposta aqui]\n",
    "\n",
    "\n",
    "# Item 3.:\n",
    "\n",
    "# [sua resposta aqui]"
   ]
  },
  {
   "cell_type": "markdown",
   "metadata": {},
   "source": [
    "### Questão 2 - Pandas: Subsetting (colunas) e Renaming\n",
    "\n",
    "Nessa questão, use o dataframe `df_peng`.\n",
    "\n",
    "1. Selecione apenas as colunas que acabam em \"mm\" de `df_peng`.\n",
    "2. Multiplique as colunas que acabam em \"mm\" por $10$, renomeie-as se julgar necessário. Tente usar os métodos de aplicar operações em várias colunas ao mesmo tempo."
   ]
  },
  {
   "cell_type": "code",
   "execution_count": null,
   "metadata": {},
   "outputs": [],
   "source": [
    "# Item 1.:\n",
    "\n",
    "# [sua resposta aqui]\n",
    "\n",
    "\n",
    "# Item 2.:\n",
    "\n",
    "# [sua resposta aqui]"
   ]
  },
  {
   "cell_type": "markdown",
   "metadata": {},
   "source": [
    "### Questão 3 - Pandas: Subsetting (linhas) e Reordering\n",
    "\n",
    "Nessa questão, use o dataframe `df_peng`.\n",
    "\n",
    "1. Retorne uma lista contento a média e o desvio padrão do peso corporal de pinguins da espécie Chinstrap, que moram na ilha Dream e sejam do sexo feminino.\n",
    "2. Retorne a contagem (uma _int_) de pinguins do sexo sexo masculino, que apresentam tamanho de bico maior que 50 e são do ano 2009.\n",
    "3. Reordene o dataframe na ordem `bill_length_mm`, `body_mass_g`, `bill_depth_mm`."
   ]
  },
  {
   "cell_type": "code",
   "execution_count": null,
   "metadata": {},
   "outputs": [],
   "source": [
    "# Item 1.:\n",
    "\n",
    "# [sua resposta aqui]\n",
    "\n",
    "\n",
    "# Item 2.:\n",
    "\n",
    "# [sua resposta aqui]\n",
    "\n",
    "\n",
    "# Item 3.:\n",
    "\n",
    "# [sua resposta aqui]"
   ]
  },
  {
   "cell_type": "markdown",
   "metadata": {},
   "source": [
    "### Questão 4 - Pandas: Operating\n",
    "\n",
    "Nessa questão, use o dataframe `df_peng`.\n",
    "\n",
    "1. Crie uma nova coluna chamada \"date\" que inclua o ano e mês de cada observação em formato *datetime* e, sem seguida, defina ela como *index*. Retorne o data frame alterado.\n",
    "2. Crie uma nova coluna chamada \"bill_length_prop\" com os valores de `bill_length_mm` em termos proporcionais ao valor máximo de `bill_length_mm`."
   ]
  },
  {
   "cell_type": "markdown",
   "metadata": {},
   "source": [
    "### Questão 5 - Pandas: Aggregating\n",
    "\n",
    "Nessa questão, use o dataframe `df_energy`.\n",
    "\n",
    "1. Calcule a média da energia solar produzida em cada país, durante o período de janeiro 2010 até dezembro 2015, retornando um pandas Series. Dica: utilize a função groupby.\n",
    "2. Calcule a média da energia solar produzida em cada conjunto país-mês, durante o período de janeiro 2010 até dezembro 2015, retornando um pandas Series.\n",
    "3. Retorne o ano (uma _int_) em que houve o menor registro de produção de energia por combustíveis fósseis no México."
   ]
  },
  {
   "cell_type": "code",
   "execution_count": null,
   "metadata": {},
   "outputs": [],
   "source": [
    "# Item 1.:\n",
    "\n",
    "# [sua resposta aqui]\n",
    "\n",
    "\n",
    "# Item 2.:\n",
    "\n",
    "# [sua resposta aqui]\n",
    "\n",
    "\n",
    "# Item 3.:\n",
    "\n",
    "# [sua resposta aqui]"
   ]
  },
  {
   "cell_type": "markdown",
   "metadata": {},
   "source": [
    "## Exercícios Bônus"
   ]
  },
  {
   "cell_type": "markdown",
   "metadata": {},
   "source": [
    "### Questão 6 - Pandas: Reshaping\n",
    "\n",
    "Na seção \"Extra\" da aula, foram apresentadas as operações de transformar um dado \"comprido para largo\" e \"largo para comprido\", respectivamente, com os dataframes `df4a` e `df2`.\n",
    "\n",
    "1. Refaça as duas operações usando as funções apresentadas. Para cada uma, explique o que cada um dos argumentos utilizados.\n",
    "2. Descreva, em termos intuitivos, o que cada uma das operações faz. Explique como é a relação entre colunas e \"variáveis\", no antes e depois, para ajudar na sua explicação."
   ]
  },
  {
   "cell_type": "code",
   "execution_count": null,
   "metadata": {},
   "outputs": [],
   "source": [
    "# Item 1.:\n",
    "\n",
    "# [sua resposta aqui]"
   ]
  },
  {
   "cell_type": "markdown",
   "metadata": {},
   "source": [
    "- Item $1.$:\n",
    "\n",
    "[sua resposta aqui]\n",
    "\n",
    "\n",
    "- Item $2.$:\n",
    "\n",
    "[sua resposta aqui]"
   ]
  },
  {
   "cell_type": "markdown",
   "metadata": {},
   "source": [
    "### Questão 7 - Pandas: Combining\n",
    "\n",
    "Nessa questão, use os dataframes `df_left` e `df_right`. As colunas `key` e `key2` identificam cada observação dos datasets, isto é, linhas com os mesmos valores de `key1` **e** de `key2` \"pertencem\" à mesma observação.\n",
    "\n",
    "1. Junte as colunas dos dataframes, respeitando as observações. Faça-o quatro vezes:\n",
    "    - Mantenha apenas as observações que estão presentes em ambos os dataframes.\n",
    "    - Mantenha todas as observações do dataframe `df_left`.\n",
    "    - Mantenha todas as observações do dataframe `df_right`.\n",
    "    - Mantenha todas as observações de ambos os dataframes.\n",
    "2. Qual é o nome de cada um dos tipos de merge feitos? Cite exemplos de situações em que cada um deles seria útil, no tipo de atividade que você costuma encontrar na graduação/trabalho/etc. "
   ]
  },
  {
   "cell_type": "code",
   "execution_count": null,
   "metadata": {},
   "outputs": [],
   "source": [
    "# Item 1.:\n",
    "\n",
    "# [sua resposta aqui]"
   ]
  },
  {
   "cell_type": "markdown",
   "metadata": {},
   "source": [
    "- Item $2.$:\n",
    "\n",
    "[sua resposta aqui]"
   ]
  }
 ],
 "metadata": {
  "language_info": {
   "name": "python"
  }
 },
 "nbformat": 4,
 "nbformat_minor": 2
}
