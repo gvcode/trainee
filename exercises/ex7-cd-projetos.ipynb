{
 "cells": [
  {
   "cell_type": "markdown",
   "metadata": {},
   "source": [
    "# Ciência de Dados: Projetos - Exercícios\n",
    "\n",
    "Esta é a lista de exercício referente a aula 7 do processo de trainee GVCode.\n",
    "\n",
    "**Como abordar a lista:**\n",
    "\n",
    "A correção é feita com base no seu esforço, e não com base na facilidade com o conteúdo ou % de acerto. Respostas que não foram testadas, ou que não indicam originalidade, tem sua nota penalizada. Por outro lado, respostas imprecisas ou com erros obscuros não são penalizadas, desde que estejam bem explicadas. Portanto, responda com suas palavras, explicando *o que fez e o porque*.\n",
    "\n",
    "Adicionalmente, a ideia é errar! Os avaliadores dispõem do tempo deles para ajudá-los a entender o que fizeram de errado. Aproveite essa disponibilidade, e se permita errar. Por favor, não ocupe o tempo com questões copiadas de Chat-GPT e similares.\n",
    "\n",
    "Os veteranos da entidade estão 100% disponíveis para ajudá-los a responder exercícios onde tenham aparecido dúvidas. Por favor, não exite em nos chamar!"
   ]
  },
  {
   "cell_type": "markdown",
   "metadata": {},
   "source": [
    "**Detalhes da entrega:**\n",
    "\n",
    "- Os exercícios devem ser entregues através da atividade no Google Classroom, dia **28/11 às 23:59**.\n",
    "- Permitimos entregas até 5 dias depois, mas a nota será penalizada.\n",
    "- O arquivo deve ser nomeado como \"_ex[#aula]\\_[nome]\\_[sobrenome].ipynb_\", exemplo: ex1_ricado_castro. Use letras minúsculas, e apenas o último sobrenome.\n",
    "\n",
    "**Detalhes da lista:**\n",
    "\n",
    "- Os exercícios obrigatórios valem 10 pontos, e os bônus valem 3 pontos.\n",
    "- As respostas devem ser feitas nesse mesmo arquivo, preenchendo as células de código e/ou texto após os enunciados. Simplesmente apague os comentário \"[sua resposta aqui]\" e coloque sua resposta no lugar. Não crie células novas.\n",
    "- Funções devem retornar o resultado com `return`, e não com `print`. Também não se deve usar a função `input`, os argumentos devem ser passados como argumentos da função.\n",
    "- Evite usar conhecimentos de aulas futuras."
   ]
  },
  {
   "cell_type": "markdown",
   "metadata": {},
   "source": [
    "## Exercícios Obrigatórios"
   ]
  },
  {
   "cell_type": "markdown",
   "metadata": {},
   "source": [
    "Nessse exercício, utilizaremos um dataset para fazer um mini projeto de ciência de dados.\n",
    "\n",
    "Disponível em: https://www.kaggle.com/datasets/fedesoriano/stroke-prediction-dataset.\n",
    "\n",
    "**Sobre os dados:**\n",
    "\n",
    "According to the World Health Organization (WHO) stroke is the 2nd leading cause of death globally, responsible for approximately 11% of total deaths.\n",
    "\n",
    "This dataset is used to predict whether a patient is likely to get stroke based on the input parameters like gender, age, various diseases, and smoking status. Each row in the data provides relevant information about the patient."
   ]
  },
  {
   "cell_type": "markdown",
   "metadata": {},
   "source": [
    "### Exercício 0\n",
    "\n",
    "Abaixo, coloque o script inteiro que foi utilizado para responder as perguntas abaixo."
   ]
  },
  {
   "cell_type": "code",
   "execution_count": null,
   "metadata": {},
   "outputs": [],
   "source": [
    "# Resposta:\n",
    "\n",
    "# [sua resposta aqui]"
   ]
  },
  {
   "cell_type": "markdown",
   "metadata": {},
   "source": [
    "### Exercício 1\n",
    "\n",
    "Analisando os valores das linhas, quais modificações seriam necessárias para que o modelo de predição possa ser aplicado?"
   ]
  },
  {
   "cell_type": "markdown",
   "metadata": {},
   "source": [
    "- Resposta:\n",
    "\n",
    "[sua resposta aqui]"
   ]
  },
  {
   "cell_type": "markdown",
   "metadata": {},
   "source": [
    "### Exercício 2\n",
    "\n",
    "De que formas é possível tratar as variáveis categóricas? Qual é mais adequada para cada coluna?"
   ]
  },
  {
   "cell_type": "markdown",
   "metadata": {},
   "source": [
    "- Resposta:\n",
    "\n",
    "[sua resposta aqui]"
   ]
  },
  {
   "cell_type": "markdown",
   "metadata": {},
   "source": [
    "### Exercício 3\n",
    "\n",
    "Quais são as maneiras de lidar com as observações com valores nulos? Qual estratégia você utilizaria nesse caso?"
   ]
  },
  {
   "cell_type": "markdown",
   "metadata": {},
   "source": [
    "- Resposta:\n",
    "\n",
    "[sua resposta aqui]"
   ]
  },
  {
   "cell_type": "markdown",
   "metadata": {},
   "source": [
    "### Exercício 4\n",
    "\n",
    "Existem mais observações de “derrame” do que com “não derrame”? Se sim, que problemas isso geraria e como deve ser feito o balanceamento?"
   ]
  },
  {
   "cell_type": "markdown",
   "metadata": {},
   "source": [
    "- Resposta:\n",
    "\n",
    "[sua resposta aqui]"
   ]
  },
  {
   "cell_type": "markdown",
   "metadata": {},
   "source": [
    "### Exercício 5\n",
    "\n",
    "Que comportamentos e tendências podem ser observados nos dados através de uma análise exploratória? Cite pelo menos 2 insights relevantes."
   ]
  },
  {
   "cell_type": "markdown",
   "metadata": {},
   "source": [
    "- Resposta:\n",
    "\n",
    "[sua resposta aqui]"
   ]
  },
  {
   "cell_type": "markdown",
   "metadata": {},
   "source": [
    "### Exercício 6\n",
    "\n",
    "Liste ao menos 3 técnicas de feature selection para determinar a sua escolha de variáveis para o modelo. Quais foram escolhidas?"
   ]
  },
  {
   "cell_type": "markdown",
   "metadata": {},
   "source": [
    "- Resposta:\n",
    "\n",
    "[sua resposta aqui]"
   ]
  },
  {
   "cell_type": "markdown",
   "metadata": {},
   "source": [
    "### Exercício 7\n",
    "\n",
    "Desenvolva modelos utilizando regressão linear, decision trees, support vector machines (SVM) e ensemble."
   ]
  },
  {
   "cell_type": "markdown",
   "metadata": {},
   "source": [
    "Responda no exercício 0."
   ]
  },
  {
   "cell_type": "markdown",
   "metadata": {},
   "source": [
    "### Exercício 8\n",
    "\n",
    "Quais são as métricas disponíveis para testar a performance de modelos de classificação? Dos modelos acima, qual que apresentou o melhor desempenho?"
   ]
  },
  {
   "cell_type": "markdown",
   "metadata": {},
   "source": [
    "- Resposta:\n",
    "\n",
    "[sua resposta aqui]"
   ]
  },
  {
   "cell_type": "markdown",
   "metadata": {},
   "source": [
    "### Exercício 9\n",
    "\n",
    "O que pode ser feito para testar se o modelo está “overfittado”? No caso do modelo com melhor desempenho, ele está apresentando esse problema? "
   ]
  },
  {
   "cell_type": "markdown",
   "metadata": {},
   "source": [
    "- Resposta:\n",
    "\n",
    "[sua resposta aqui]"
   ]
  },
  {
   "cell_type": "markdown",
   "metadata": {},
   "source": [
    "## Exercícios Bônus"
   ]
  },
  {
   "cell_type": "markdown",
   "metadata": {},
   "source": [
    "Faça o mesmo, mas com o dataset abaixo.\n",
    "\n",
    "Disponível em: https://www.kaggle.com/datasets/saurabhbagchi/dish-network-hackathon?select=Train_Dataset.csv\n",
    "\n",
    "**Sobre os dados:**\n",
    "\n",
    "A non-banking financial institution (NBFI) or non-bank financial company (NBFC) is a Financial Institution that does not have a full banking license or is not supervised by a national or international banking regulatory agency. NBFC facilitates bank-related financial services, such as investment, risk pooling, contractual savings, and market brokering.\n",
    "\n",
    "An NBFI is struggling to mark profits due to an increase in defaults in the vehicle loan category. The company aims to determine the client’s loan repayment abilities and understand the relative importance of each parameter contributing to a borrower’s ability to repay the loan."
   ]
  },
  {
   "cell_type": "markdown",
   "metadata": {},
   "source": [
    "### Exercício 0\n",
    "\n",
    "Abaixo, coloque o script inteiro que foi utilizado para responder as perguntas abaixo."
   ]
  },
  {
   "cell_type": "code",
   "execution_count": null,
   "metadata": {},
   "outputs": [],
   "source": [
    "# Resposta:\n",
    "\n",
    "#[sua resposta aqui]"
   ]
  },
  {
   "cell_type": "markdown",
   "metadata": {},
   "source": [
    "### Exercício 1\n",
    "\n",
    "Analisando os valores das linhas, quais modificações seriam necessárias para que o modelo de predição possa ser aplicado?"
   ]
  },
  {
   "cell_type": "markdown",
   "metadata": {},
   "source": [
    "- Resposta:\n",
    "\n",
    "[sua resposta aqui]"
   ]
  },
  {
   "cell_type": "markdown",
   "metadata": {},
   "source": [
    "### Exercício 2\n",
    "\n",
    "De que formas é possível tratar as variáveis categóricas? Qual é mais adequada para cada coluna?"
   ]
  },
  {
   "cell_type": "markdown",
   "metadata": {},
   "source": [
    "- Resposta:\n",
    "\n",
    "[sua resposta aqui]"
   ]
  },
  {
   "cell_type": "markdown",
   "metadata": {},
   "source": [
    "### Exercício 3\n",
    "\n",
    "Quais são as maneiras de lidar com as observações com valores nulos? Qual estratégia você utilizaria nesse caso?"
   ]
  },
  {
   "cell_type": "markdown",
   "metadata": {},
   "source": [
    "- Resposta:\n",
    "\n",
    "[sua resposta aqui]"
   ]
  },
  {
   "cell_type": "markdown",
   "metadata": {},
   "source": [
    "### Exercício 4\n",
    "\n",
    "Existem mais observações de “derrame” do que com “não derrame”? Se sim, que problemas isso geraria e como deve ser feito o balanceamento?"
   ]
  },
  {
   "cell_type": "markdown",
   "metadata": {},
   "source": [
    "- Resposta:\n",
    "\n",
    "[sua resposta aqui]"
   ]
  },
  {
   "cell_type": "markdown",
   "metadata": {},
   "source": [
    "### Exercício 5\n",
    "\n",
    "Que comportamentos e tendências podem ser observados nos dados através de uma análise exploratória? Cite pelo menos 2 insights relevantes."
   ]
  },
  {
   "cell_type": "markdown",
   "metadata": {},
   "source": [
    "- Resposta:\n",
    "\n",
    "[sua resposta aqui]"
   ]
  },
  {
   "cell_type": "markdown",
   "metadata": {},
   "source": [
    "### Exercício 6\n",
    "\n",
    "Liste ao menos 3 técnicas de feature selection para determinar a sua escolha de variáveis para o modelo. Quais foram escolhidas?"
   ]
  },
  {
   "cell_type": "markdown",
   "metadata": {},
   "source": [
    "- Resposta:\n",
    "\n",
    "[sua resposta aqui]"
   ]
  },
  {
   "cell_type": "markdown",
   "metadata": {},
   "source": [
    "### Exercício 7\n",
    "\n",
    "Desenvolva modelos utilizando regressão linear, decision trees, support vector machines (SVM) e ensemble.\n"
   ]
  },
  {
   "cell_type": "markdown",
   "metadata": {},
   "source": [
    "- Resposta:\n",
    "\n",
    "[sua resposta aqui]"
   ]
  },
  {
   "cell_type": "markdown",
   "metadata": {},
   "source": [
    "### Exercício 8\n",
    "\n",
    "Quais são as métricas disponíveis para testar a performance de modelos de classificação? Dos modelos acima, qual que apresentou o melhor desempenho?\n"
   ]
  },
  {
   "cell_type": "markdown",
   "metadata": {},
   "source": [
    "- Resposta:\n",
    "\n",
    "[sua resposta aqui]"
   ]
  },
  {
   "cell_type": "markdown",
   "metadata": {},
   "source": [
    "### Exercício 9\n",
    "\n",
    "O que pode ser feito para testar se o modelo está “overfittado”? No caso do modelo com melhor desempenho, ele está apresentando esse problema?  \n"
   ]
  },
  {
   "cell_type": "markdown",
   "metadata": {},
   "source": [
    "- Resposta:\n",
    "\n",
    "[sua resposta aqui]"
   ]
  }
 ],
 "metadata": {
  "kernelspec": {
   "display_name": "Python 3",
   "language": "python",
   "name": "python3"
  },
  "language_info": {
   "codemirror_mode": {
    "name": "ipython",
    "version": 3
   },
   "file_extension": ".py",
   "mimetype": "text/x-python",
   "name": "python",
   "nbconvert_exporter": "python",
   "pygments_lexer": "ipython3",
   "version": "3.12.0"
  }
 },
 "nbformat": 4,
 "nbformat_minor": 2
}
