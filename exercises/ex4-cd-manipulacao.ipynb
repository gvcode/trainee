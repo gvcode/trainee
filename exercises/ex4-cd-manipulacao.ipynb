{
 "cells": [
  {
   "cell_type": "markdown",
   "metadata": {},
   "source": [
    "# Ciência de Dados: Manipulação - Exercícios\n",
    "\n",
    "Esta é a lista de exercício referente a aula 4 do processo de trainee GVCode.\n",
    "\n",
    "**Como abordar a lista:**\n",
    "\n",
    "A correção é feita com base no seu esforço, e não com base na facilidade com o conteúdo ou % de acerto. Respostas que não foram testadas, ou que não indicam originalidade, tem sua nota penalizada. Por outro lado, respostas imprecisas ou com erros obscuros não são penalizadas, desde que estejam bem explicadas. Portanto, responda com suas palavras, explicando *o que fez e o porque*.\n",
    "\n",
    "Adicionalmente, a ideia é errar! Os avaliadores dispôem do tempo deles para ajudá-los a entender o que fizeram de errado. Aproveite essa disponibilidade, e se permita errar. Por favor, não ocupe o tempo com questões copiadas de Chat-GPT e similares.\n",
    "\n",
    "Os veteranos da entidade estão 100% disponíveis para ajudá-los a responder exercícios onde tenham aparecido dúvidas. Por favor, não exite em nos chamar!"
   ]
  },
  {
   "cell_type": "markdown",
   "metadata": {},
   "source": [
    "**Detalhes da entrega:**\n",
    "\n",
    "- Os exercícios devem ser entregues através da atividade no Google Classroom, dia 7/11 às 23:59.\n",
    "- Permitimos entregas até 5 dias depois, mas a nota será penalizada.\n",
    "- O arquivo deve ser nomeado como \"_ex[#aula]\\_[nome]\\_[sobrenome].ipynb_\", exemplo: ex1_ricado_castro. Use letras minúsculas, e apenas o último sobrenome.\n",
    "\n",
    "**Detalhes da lista:**\n",
    "\n",
    "- Os exercícios obrigatórios valem 10 pontos, e os bônus valem 3 pontos.\n",
    "- As respostas devem ser feitas nesse mesmo arquivo, preenchendo as células de código e/ou texto após os enunciados. Simplesmente apague os comentário \"[sua resposta aqui]\" e coloque sua resposta no lugar. Não crie células novas.\n",
    "- Funções devem retornar o resultado com `return`, e não com `print`. Também não se deve usar a função `input`, os argumentos devem ser passados como argumentos da função.\n",
    "- Evite usar conhecimentos de aulas futuras."
   ]
  },
  {
   "cell_type": "markdown",
   "metadata": {},
   "source": [
    "Nessa lista, você utilizará as seguintes bibliotecas e objetos:"
   ]
  },
  {
   "cell_type": "code",
   "execution_count": null,
   "metadata": {},
   "outputs": [],
   "source": [
    "import pandas as pd"
   ]
  },
  {
   "cell_type": "markdown",
   "metadata": {},
   "source": [
    "## Questões Obrigatórias"
   ]
  },
  {
   "cell_type": "markdown",
   "metadata": {},
   "source": [
    "### Questão 1 - Tidying Teórico\n",
    "\n",
    "O arquivo [ex4-brazil_brazil2.xlsx](../assets/data/ex4-brazil_brazil2.xlsx) contém informações do PIB e população do Brasil e do infame _Brasil 2_. Os dados são reais e retirados do IBGE e, obviamente, do _IBGE 2_.\n",
    "\n",
    "Comece com a planílha Brasil. Com base nos passos ensinados em aula, elenque, em português (ex: \"remover a linha #3\"), quais são as manipulações que devem ser feitas na base, para obter dados _tidy_ ao final. Faça isso no bloco de texto abaixo.\n",
    "\n",
    "Obs: note que o conjuntos de manipulações que deve ser utilizado é único (graças à definição de dados tidy ser bastante específica), mas a ordem dessas manipulações não. Várias ordens diferentes estarão corretas."
   ]
  },
  {
   "cell_type": "markdown",
   "metadata": {},
   "source": [
    "- Resposta:\n",
    "\n",
    "[sua resposta aqui]"
   ]
  },
  {
   "cell_type": "markdown",
   "metadata": {},
   "source": [
    "### Questão 2 - Tidying Aplicado"
   ]
  },
  {
   "cell_type": "markdown",
   "metadata": {},
   "source": [
    "Escreva o código que aplica as transformações como você descreveu na questão anterior. Lembre de checar se seu resultado está realmente tidy. Explique como cada operação se relaciona com cada manipulação que você descreveu na questão anterior."
   ]
  },
  {
   "cell_type": "code",
   "execution_count": null,
   "metadata": {},
   "outputs": [],
   "source": [
    "# Resposta:\n",
    "\n",
    "# [sua resposta aqui]"
   ]
  },
  {
   "cell_type": "markdown",
   "metadata": {},
   "source": [
    "### Questão 3 - Lidando Com NAs\n",
    "\n",
    "Veja o dataset em [ex4-investment.xlsx](../assets/data/ex4-investment.xlsx). Ele contém informações comparando o retorno de uma firma e o investimento feito em estrutura dos ambientes presenciais da firma.\n",
    "\n",
    "Temos as seguintes colunas:\n",
    "\n",
    "- Ano.\n",
    "- InvTotal: o investimento total em estrutura \"presencial\".\n",
    "- PropA e PropB: a parte de InvTotal direcionada à cada uma das plantas da firma, A e B.\n",
    "- Retorno: o retorno total da firma.\n",
    "- PIB e mm: duas características de conjuntura do país, o PIB, e os milímetros de chuva no ano.\n",
    "\n",
    "Estude os dados. Responda as perguntas abaixo.\n",
    "\n",
    "1. Qual a origem dos NAs nas colunas PropA e PropB? Como você preencheria-os?\n",
    "2. Cite duas possíveis maneiras de preencher os NAs na couna PIB e mm.\n",
    "3. Dentre as duas opções acima, qual a mais adequada para a coluna mm? e Retorno? Se sua resposta foi diferente para cada uma, explique o porquê.\n",
    "4. A coluna Retorno permite uma terceira abordagem que não era possível nas colunas acima. Qual é essa abordagem? Discuta prós e contras dela em relação às outras.\n",
    "5. Preencha todos os NAs com as operações que você julgou mais adequadas.\n",
    "\n",
    "Obs: para responder as questões, cite a intuição que o contexto dos dados te dá."
   ]
  },
  {
   "cell_type": "markdown",
   "metadata": {},
   "source": [
    "- Item $1.$:\n",
    "\n",
    "[sua resposta aqui]\n",
    "\n",
    "\n",
    "- Item $2.$:\n",
    "\n",
    "[sua resposta aqui]\n",
    "\n",
    "\n",
    "- Item $3.$:\n",
    "\n",
    "[sua resposta aqui]\n",
    "\n",
    "\n",
    "- Item $4.$:\n",
    "\n",
    "[sua resposta aqui]"
   ]
  },
  {
   "cell_type": "code",
   "execution_count": null,
   "metadata": {},
   "outputs": [],
   "source": [
    "# Item 5.:\n",
    "\n",
    "# [sua resposta aqui]"
   ]
  },
  {
   "cell_type": "markdown",
   "metadata": {},
   "source": [
    "### Questão 4 - Repeated Operations\n",
    "\n",
    "Com base no dataset do Brasil 2, aplique as seguintes operações:\n",
    "\n",
    "1. Normalize todas as variáveis numéricas (várias abordagens, explique a sua).\n",
    "2. Crie uma coluna que indique o quartil da variação: do volume e deflator do PIB, corrente e anterior (isto é, quatro colunas).\n",
    "3. Altere a coluna de ano para um formato de data."
   ]
  },
  {
   "cell_type": "code",
   "execution_count": null,
   "metadata": {},
   "outputs": [],
   "source": [
    "# Item 1.:\n",
    "\n",
    "# [sua resposta aqui]\n",
    "\n",
    "\n",
    "# Item 2.:\n",
    "\n",
    "# [sua resposta aqui]\n",
    "\n",
    "\n",
    "# Item 3.:\n",
    "\n",
    "# [sua resposta aqui]"
   ]
  },
  {
   "cell_type": "markdown",
   "metadata": {},
   "source": [
    "## Exercícios Bônus"
   ]
  },
  {
   "cell_type": "markdown",
   "metadata": {},
   "source": [
    "### Questão 5 - Importando Dados\n",
    "\n",
    "Nessa questão, falaremos sobre os diferentes tipos de arquivos que podem carregar dados tabulares. Sem conhecê-los, não saberemos importá-los.\n",
    "\n",
    "A extenção de um arquivo, o `***` em `filename.***` indica ao computador como ele deve ser interpretado. Vocês já conhecem o formato do excel, `.xlsx`, ou mais antigamente, `.xls`. Vocês também conhecem o arquivo comum de texto, `.txt`, e sabem que, em cima deste, existe o formato de dados tabulares `.csv`.\n",
    "\n",
    "Essa questão se baseará em três exemplos:\n",
    "\n",
    "- O arquivo `sample-data.tsv`, no repositório [Disaster_Vulnerability_Map](https://github.com/ccusa/Disaster_Vulnerability_Map) no github.\n",
    "- O PIB dos EUA em formato `JSON` neste [arquivo em página da web](https://api.worldbank.org/v2/countries/USA/indicators/NY.GDP.MKTP.CD?per_page=5000&format=json).\n",
    "- A PNAD Contínua - Pesquisa Nacional por Amostra de Domicílios Contínua - de 2024T2, em um \"fixed-width file\" `.txt`. Também busque pelo dicionário (que explica o que é cada variável).\n",
    "\n",
    "A partir disso, faça/responda os itens abaixo:\n",
    "\n",
    "1. Baixe os três arquivos. Note que isso é parte do desafio: como baixar um arquivo do GitHub? Como baixar um arquivo de uma página web? Onde encontro os dados da PNADc?\n",
    "2. Descreva, com suas palavras, o que é um arquivo `.tsv`, `.json`, e um \"fixed-width file\".\n",
    "3. Importe os três arquivos para um pandas dataframe."
   ]
  },
  {
   "cell_type": "markdown",
   "metadata": {},
   "source": [
    "- Item $2.$:\n",
    "\n",
    "[gabarito...]"
   ]
  },
  {
   "cell_type": "code",
   "execution_count": null,
   "metadata": {},
   "outputs": [],
   "source": [
    "# Item 3.:\n",
    "\n",
    "# [gabarito...]"
   ]
  },
  {
   "cell_type": "markdown",
   "metadata": {},
   "source": [
    "### Questão 6 - Merging, Novamente\n",
    "\n",
    "Imagine que você quer realizar um estudo comparando o Brasil com seu gêmeo do mal. Para isso, note que será interessante ter, para cada ano, os valores do Brasil e do Brasil 2 lado a lado, cada variável em sua coluna.\n",
    "\n",
    "Obs: a planílha Brasil 2 já está limpa, mas pode vir a ter nomes de coluna diferentes dos que você escolheu para o dado tidy do Brasil.\n",
    "\n",
    "Realize:\n",
    "\n",
    "1. Um merge onde o resultado apresenta uma linha para cada ano em que se tem informações do Brasil.\n",
    "2. Um merge onde o resultado apresenta uma linha para cada ano em que se tem informações do Brasil e do Brasil 2 (ao mesmo tempo).\n",
    "3. Um merge onde o resultado apresente uma linha para cada ano onde se tenha informações do Brasil ou do brasil 2."
   ]
  },
  {
   "cell_type": "code",
   "execution_count": null,
   "metadata": {},
   "outputs": [],
   "source": [
    "# Item 1.:\n",
    "\n",
    "data2 = pd.read_excel(\"ex4-brazil_brazil2.xlsx\", sheet_name=\"Brasil 2\")\n",
    "data.merge(data2, how='left', on='Ano')\n",
    "\n",
    "\n",
    "# Item 2.:\n",
    "\n",
    "data.merge(data2, how='inner', on='Ano')\n",
    "\n",
    "\n",
    "# Item 3.:\n",
    "\n",
    "data.merge(data2, how='outer', on='Ano')"
   ]
  }
 ],
 "metadata": {
  "language_info": {
   "name": "python"
  }
 },
 "nbformat": 4,
 "nbformat_minor": 2
}
