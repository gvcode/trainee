{
 "cells": [
  {
   "cell_type": "markdown",
   "metadata": {},
   "source": [
    "# Ciência de Dados: Visualização - Exercícios\n",
    "\n",
    "Esta é a lista de exercício referente a aula 5 do processo de trainee GVCode.\n",
    "\n",
    "**Como abordar a lista:**\n",
    "\n",
    "A correção é feita com base no seu esforço, e não com base na facilidade com o conteúdo ou % de acerto. Respostas que não foram testadas, ou que não indicam originalidade, tem sua nota penalizada. Por outro lado, respostas imprecisas ou com erros obscuros não são penalizadas, desde que estejam bem explicadas. Portanto, responda com suas palavras, explicando *o que fez e o porque*.\n",
    "\n",
    "Adicionalmente, a ideia é errar! Os avaliadores dispôem do tempo deles para ajudá-los a entender o que fizeram de errado. Aproveite essa disponibilidade, e se permita errar. Por favor, não ocupe o tempo com questões copiadas de Chat-GPT e similares.\n",
    "\n",
    "Os veteranos da entidade estão 100% disponíveis para ajudá-los a responder exercícios onde tenham aparecido dúvidas. Por favor, não exite em nos chamar!"
   ]
  },
  {
   "cell_type": "markdown",
   "metadata": {},
   "source": [
    "**Detalhes da entrega:**\n",
    "\n",
    "- Os exercícios devem ser entregues através da atividade no Google Classroom, dia **14/11 às 23:59**.\n",
    "- Permitimos entregas até 5 dias depois, mas a nota será penalizada.\n",
    "- O arquivo deve ser nomeado como \"_ex[#aula]\\_[nome]\\_[sobrenome].ipynb_\", exemplo: ex1_ricado_castro. Use letras minúsculas, e apenas o último sobrenome.\n",
    "\n",
    "**Detalhes da lista:**\n",
    "\n",
    "- Os exercícios obrigatórios valem 10 pontos, e os bônus valem 3 pontos.\n",
    "- As respostas devem ser feitas nesse mesmo arquivo, preenchendo as células de código e/ou texto após os enunciados. Simplesmente apague os comentário \"[sua resposta aqui]\" e coloque sua resposta no lugar. Não crie células novas.\n",
    "- Funções devem retornar o resultado com `return`, e não com `print`. Também não se deve usar a função `input`, os argumentos devem ser passados como argumentos da função.\n",
    "- Evite usar conhecimentos de aulas futuras."
   ]
  },
  {
   "cell_type": "markdown",
   "metadata": {},
   "source": [
    "Nessa lista, você utilizará as seguintes bibliotecas e objetos:"
   ]
  },
  {
   "cell_type": "code",
   "execution_count": null,
   "metadata": {},
   "outputs": [],
   "source": [
    "import numpy as np\n",
    "import pandas as pd\n",
    "import matplotlib.pyplot as plt\n",
    "\n",
    "np.random.seed(51)"
   ]
  },
  {
   "cell_type": "markdown",
   "metadata": {},
   "source": [
    "Lembre-se de utilizar o estilo OO do matplotlib, isto é, explicitamente criar figuras e eixos, e chamar métodos a partir deles -- `fig, ax = ...` e `ax.plot(...)`, por exemplo."
   ]
  },
  {
   "cell_type": "markdown",
   "metadata": {},
   "source": [
    "## Exercícios Obrigatórios"
   ]
  },
  {
   "cell_type": "markdown",
   "metadata": {},
   "source": [
    "### Exercício 1 - Um Pouco de Tudo I\n",
    "\n",
    "Nos três primeiros exercícios, você irá fazer um gráfico representativo, onde \"brincaremos\" com a maioria das funcionalidades que vimos no matplotlib.\n",
    "\n",
    "Utilizaremos o dataframe abaixo, que contêm o preço de duas ações, \"A\" e \"B\". Obs: se você não saberia fazer o dict-comprehension que o criou, estude novamente o tema, vide a questão 3 da lista 2.\n",
    "\n",
    "1. Crie novas colunas com a variação percentual por mês de cada ação.\n",
    "2. Crie um gráfico de linhas + pontos com os preços, e um gráfico de barras (agrupadas) com as variações percentuais.\n",
    "    - Ambos devem estar na mesma figura, através de subplots.\n",
    "    - Estilize todas as estéticas envolvidas: cores dos pontos/linhas/barras, espessura e traço das linhas, marcador dos pontos, alpha das barras, etc. Sim, vai ficar bem brega, mas quanto mais você brincar com as possibilidades, melhor.\n",
    "    - Não se preocupe com a formatação dos eixos, rótulos, etc. No momento, apenas os dados importam."
   ]
  },
  {
   "cell_type": "code",
   "execution_count": null,
   "metadata": {},
   "outputs": [],
   "source": [
    "data_stocks = pd.DataFrame({\n",
    "    f'{key}': np.random.normal(10, sd, size=10)\n",
    "        for key, sd\n",
    "        in zip([\"sA\", \"sB\"], [1, 5])\n",
    "})\n",
    "\n",
    "data_stocks.index.name = \"mons\"\n",
    "data_stocks = round(data_stocks,2)"
   ]
  },
  {
   "cell_type": "code",
   "execution_count": null,
   "metadata": {},
   "outputs": [],
   "source": [
    "# Item 1.:\n",
    "\n",
    "# [sua resposta aqui]\n",
    "\n",
    "\n",
    "# Item 2.:\n",
    "\n",
    "# [sua resposta aqui]"
   ]
  },
  {
   "cell_type": "markdown",
   "metadata": {},
   "source": [
    "### Exercício 2 - Um Pouco de Tudo II\n",
    "\n",
    "Vamos reutilizar o gráfico criado no exercício anterior. Agora, falar um pouco mais sobre estética.\n",
    "\n",
    "1. No dataframe das variações, a primeira linha é `NaN`, de modo que o gráfico começa em `x=1`, não no `x=0`. Como isso dificulta a análise do gráfico? Corrija esse problema.\n",
    "2. Altere os rótulos dos eixos, títulos dos subplots, e título da figura para algo mais descritivo. Coloque algum deles em negrito.\n",
    "3. Em ambos os eixos, faça com que haja uma linha de grade a cada `0.5`, um tick a cada `0.25`, e uma label a cada unidade. Coloque as labels em um ângulo de 45 graus.\n",
    "4. Escreva o código que salvaria a figura como um `.png`."
   ]
  },
  {
   "cell_type": "code",
   "execution_count": null,
   "metadata": {},
   "outputs": [],
   "source": [
    "# Item 1.:\n",
    "\n",
    "# [sua resposta aqui]\n",
    "\n",
    "\n",
    "# Item 2.:\n",
    "\n",
    "# [sua resposta aqui]\n",
    "\n",
    "\n",
    "# Item 3.:\n",
    "\n",
    "# [sua resposta aqui]\n",
    "\n",
    "\n",
    "# Item 4.:\n",
    "\n",
    "# [sua resposta aqui]"
   ]
  },
  {
   "cell_type": "markdown",
   "metadata": {},
   "source": [
    "### Exercício 3 - Um Pouco de Tudo III\n",
    "\n",
    "Vamos reutilizar o gráfico criado no exercício anterior. Agora, falar um pouco mais sobre adicionar estatísticas descritivas à um gráfico.\n",
    "\n",
    "1. Adicione uma linha horizontal no gráfico de barras na média das variações.\n",
    "2. Identifique o ponto máximo do preço de cada ação adicione um marcador no gráfico de linhas, bem como uma linha pontilhada vertical e horizontal para indicar o valor dos eixos de cada um dos dois pontos.\n",
    "3. No gráfico das variações, coloque uma caixa de texto que informe sobre o desvio padrão da variação das duas ações."
   ]
  },
  {
   "cell_type": "code",
   "execution_count": null,
   "metadata": {},
   "outputs": [],
   "source": [
    "# Item 1.:\n",
    "\n",
    "# [sua resposta aqui]\n",
    "\n",
    "\n",
    "# Item 2.:\n",
    "\n",
    "# [sua resposta aqui]\n",
    "\n",
    "\n",
    "# Item 3.:\n",
    "\n",
    "# [sua resposta aqui]"
   ]
  },
  {
   "cell_type": "markdown",
   "metadata": {},
   "source": [
    "### Exercício 4 - Estudando Variáveis I\n",
    "\n",
    "Neste exercício, vamos dar atenção à etapa de estudar as variáveis de um dataset, tanto individualmente, quanto relaçÕes entre as variáveis. Vamos utilizar o dataframe abaixo.\n",
    "\n",
    "1. Plote um histograma para `age`. O que está estranho nele? Que outro gráfico você pode plotar para seguir a análise e tentar identificar o problema? Se o problema estiver associada à observações \"estranhas\", remova-as.\n",
    "2. Estude a relação entre `sex` e `income`. Faça uma tabela com estatística(s) descritiva(s) e grafico(s). Justifique suas escolhas de tabela(s) e gráfico(s). O que você consegue dizer sobre a relação entre as duas variáveis?"
   ]
  },
  {
   "cell_type": "code",
   "execution_count": null,
   "metadata": {},
   "outputs": [],
   "source": [
    "data_income = pd.DataFrame()\n",
    "\n",
    "k = 100\n",
    "n = 1000\n",
    "\n",
    "def trans_age(x):\n",
    "    return 5 * x - 0.05 * x**2\n",
    "\n",
    "def trans_sex(sex):\n",
    "    dens = np.where(\n",
    "        sex == 'f',\n",
    "        np.random.beta(0.5, 0.5, n), \n",
    "        np.random.beta(2, 2, n)\n",
    "    )\n",
    "    return dens * 80\n",
    "\n",
    "data_income['sex'] = np.random.choice(['m', 'f'], n)\n",
    "data_income['age'] = trans_sex(data_income['sex'])\n",
    "\n",
    "data_income['income'] = np.random.normal(0, 10, n) + trans_age(data_income['age'])\n",
    "data_income['income'] = np.maximum(data_income['income'], 0)\n",
    "\n",
    "data_income.loc[k, 'age'] = data_income.loc[k, 'age'] * 10"
   ]
  },
  {
   "cell_type": "code",
   "execution_count": null,
   "metadata": {},
   "outputs": [],
   "source": [
    "# Item 1.:\n",
    "\n",
    "# [sua resposta aqui]\n",
    "\n",
    "\n",
    "# Item 2.:\n",
    "\n",
    "# [sua resposta aqui]"
   ]
  },
  {
   "cell_type": "markdown",
   "metadata": {},
   "source": [
    "### Exercício 5 - Estudando Variáveis II\n",
    "\n",
    "Agora, vamos buscar entender melhor as relações entre as variáveis. Note que você terá que estudar relações \"contínua ~ contínua\" com \"contínua ~ categórica\".\n",
    "\n",
    "1. Estude a relação entre `age` e `income`. Justifique sua escolha de gráfico. O que você consegue dizer sobre a relação entre as duas variáveis?\n",
    "2. Estude a relação entre `age` e `sex`. Justifique sua escolha de gráfico. O que você consegue dizer sobre a relação entre as duas variáveis?\n",
    "3. Com base nos resultados acima, revise a sua análise da relação entre `sex` e `income`.\n",
    "4. Comente sobre o que estes dois exercícios te ensinaram sobre a importância de realizar uma boa vizualização de dados."
   ]
  },
  {
   "cell_type": "code",
   "execution_count": null,
   "metadata": {},
   "outputs": [],
   "source": [
    "# Item 1.:\n",
    "\n",
    "# [sua resposta aqui]\n",
    "\n",
    "\n",
    "# Item 2.:\n",
    "\n",
    "# [sua resposta aqui]\n",
    "\n",
    "\n",
    "# Item 3.:\n",
    "\n",
    "# [sua resposta aqui]\n",
    "\n",
    "\n",
    "# Item 4.:\n",
    "\n",
    "# [sua resposta aqui]"
   ]
  },
  {
   "cell_type": "markdown",
   "metadata": {},
   "source": [
    "### Exercício 6 - Sumarizações Avançadas\n",
    "\n",
    "Neste exercício, você irá praticar sumarizações de dados com o pandas.\n",
    "\n",
    "1. Usando `data_income`, obtenha a média e o desvio padrão da coluna `income`, para cada combinação de `sex` e `race`.\n",
    "2. Faça o mesmo, mas agora calcule estatísticas customizadas: média ao quadrado, e média sobre desvio padrão.\n",
    "3. Generalize sua resposta do item 2 para funcionar com qualquer conjuto de colunas. Especificamente, calcule as estatísticas para as colunas `age` e `income`, ou (extra), para todas as colunas numéricas."
   ]
  },
  {
   "cell_type": "code",
   "execution_count": null,
   "metadata": {},
   "outputs": [],
   "source": [
    "data_income['race'] = np.random.choice(['white', 'black', 'asian', 'other'], n)"
   ]
  },
  {
   "cell_type": "code",
   "execution_count": null,
   "metadata": {},
   "outputs": [],
   "source": [
    "# Item 1.:\n",
    "\n",
    "# [sua resposta aqui]\n",
    "\n",
    "\n",
    "# Item 2.:\n",
    "\n",
    "# [sua resposta aqui]\n",
    "\n",
    "\n",
    "# Item 3.:\n",
    "\n",
    "# [sua resposta aqui]"
   ]
  },
  {
   "cell_type": "markdown",
   "metadata": {},
   "source": [
    "## Exercícios Bônus"
   ]
  },
  {
   "cell_type": "markdown",
   "metadata": {},
   "source": [
    "### Exercício 7 - Múltiplas Séries\n",
    "\n",
    "Neste exercício, você irá praticar a criação de gráficos com múltiplas séries. Muitas vezes, criamos esses gráficos na mão, repetindo uma função do matplotlib e apenas mudando o argumento `label` ou `ax`. Aqui, vamos aprender uma prática mais programática, isto é, suas respostas devem evitar isso, usando loops ou funções feitas para esse tipo de desafio.\n",
    "\n",
    "Use os datasets `data_cars` e `data_cars_wide` abaixo. Estudaremos a relação de quantidade ao longo do tempo.\n",
    "\n",
    "1. Com `data_cars`, plote um gráfico de linhas com uma linha para cada marca.\n",
    "2. Faça o mesmo com o `data_cars_wide`.\n",
    "3. Com `data_cars`, plote um gráfico com um subplot para cada marca.\n",
    "4. Faça o mesmo com o `data_cars_wide`."
   ]
  },
  {
   "cell_type": "code",
   "execution_count": null,
   "metadata": {},
   "outputs": [],
   "source": [
    "data_cars = pd.read_csv('https://raw.githubusercontent.com/selva86/datasets/refs/heads/master/norway_new_car_sales_by_make.csv')\n",
    "\n",
    "data_cars = data_cars[data_cars['Make'].str.len() <= 3]\n",
    "\n",
    "date_str = [data_cars[col].astype(str) for col in ['Year', 'Month']]\n",
    "data_cars['YearMon'] = pd.to_datetime(date_str[0] + date_str[1], format='%Y%m')\n",
    "\n",
    "data_cars = data_cars.drop(['Year', 'Month', 'Pct'], axis = 1)\n",
    "\n",
    "data_cars_wide = data_cars\\\n",
    "    .pivot_table(index = 'YearMon', columns = 'Make', values = 'Quantity')\\\n",
    "    .reset_index()\n",
    "\n",
    "data_cars"
   ]
  },
  {
   "cell_type": "code",
   "execution_count": null,
   "metadata": {},
   "outputs": [],
   "source": [
    "# Item 1.:\n",
    "\n",
    "# [sua resposta aqui]\n",
    "\n",
    "\n",
    "# Item 2.:\n",
    "\n",
    "# [sua resposta aqui]\n",
    "\n",
    "\n",
    "# Item 3.:\n",
    "\n",
    "# [sua resposta aqui]\n",
    "\n",
    "\n",
    "# Item 4.:\n",
    "\n",
    "# [sua resposta aqui]"
   ]
  },
  {
   "cell_type": "markdown",
   "metadata": {},
   "source": [
    "### Exercício 8 - Gráficos Interessantes\n",
    "\n",
    "1. Descreva que é um gráfico de linha com intervalo de confiança, quando pode ser útil, e code um exemplo. Use [esta referência](https://matplotlib.org/stable/gallery/lines_bars_and_markers/fill_between_demo.html#example-confidence-bands).\n",
    "2. Descreva o que é um gráfico com errorbar, quando pode ser útil, e code um exemplo. Use [esta referência](https://matplotlib.org/stable/gallery/statistics/errorbar_features.html#sphx-glr-gallery-statistics-errorbar-features-py).\n",
    "3. Descreva o que é um violinplot, quando pode ser útil, e code um exemplo com base no exercício 4/5. Use [esta](https://matplotlib.org/stable/gallery/statistics/violinplot.html#sphx-glr-gallery-statistics-violinplot-py) e [esta](https://matplotlib.org/stable/gallery/statistics/boxplot_vs_violin.html#sphx-glr-gallery-statistics-boxplot-vs-violin-py) referência."
   ]
  },
  {
   "cell_type": "markdown",
   "metadata": {},
   "source": [
    "- Item $1$.:\n",
    "\n",
    "[sua resposta aqui]\n",
    "\n",
    "\n",
    "- Item $2$.:\n",
    "\n",
    "[sua resposta aqui]\n",
    "\n",
    "\n",
    "- Item $3$.:\n",
    "\n",
    "[sua resposta aqui]"
   ]
  },
  {
   "cell_type": "code",
   "execution_count": null,
   "metadata": {},
   "outputs": [],
   "source": [
    "# Item 1.:\n",
    "\n",
    "# [sua resposta aqui]\n",
    "\n",
    "\n",
    "# Item 2.:\n",
    "\n",
    "# [sua resposta aqui]\n",
    "\n",
    "\n",
    "# Item 3.:\n",
    "\n",
    "# [sua resposta aqui]\n",
    "\n",
    "\n",
    "# Item 4.:\n",
    "\n",
    "# [sua resposta aqui]"
   ]
  }
 ],
 "metadata": {
  "language_info": {
   "name": "python"
  }
 },
 "nbformat": 4,
 "nbformat_minor": 2
}
