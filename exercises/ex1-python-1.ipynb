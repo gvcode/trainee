{
 "cells": [
  {
   "cell_type": "markdown",
   "metadata": {},
   "source": [
    "# Introdução ao Python I - Exercícios\n",
    "\n",
    "Esta é a lista de exercício referente a aula 1 do processo de trainee GVCode.\n",
    "\n",
    "**Como abordar a lista:**\n",
    "\n",
    "A correção é feita com base no seu esforço, e não com base na facilidade com o conteúdo ou % de acerto. Respostas que não foram testadas, ou que não indicam originalidade, tem sua nota penalizada. Por outro lado, respostas imprecisas ou com erros obscuros não são penalizadas, desde que estejam bem explicadas. Portanto, responda com suas palavras, explicando *o que fez e o porque*.\n",
    "\n",
    "Adicionalmente, a ideia é errar! Os avaliadores dispôem do tempo deles para ajudá-los a entender o que fizeram de errado. Aproveite essa disponibilidade, e se permita errar. Por favor, não ocupe o tempo com questões copiadas de Chat-GPT e similares.\n",
    "\n",
    "Os veteranos da entidade estão 100% disponíveis para ajudá-los a responder exercícios onde tenham aparecido dúvidas. Por favor, não exite em nos chamar!"
   ]
  },
  {
   "cell_type": "markdown",
   "metadata": {},
   "source": [
    "**Detalhes da entrega:**\n",
    "\n",
    "- Os exercícios devem ser entregues através da atividade no Google Classroom, dia 20/10 às 23:59.\n",
    "- Permitimos entregas até 5 dias depois, mas a nota será penalizada.\n",
    "- O arquivo deve ser nomeado como \"_ex[#aula]\\_[nome]\\_[sobrenome].ipynb_\", exemplo: ex1_ricado_castro. Use letras minúsculas, e apenas o último sobrenome.\n",
    "\n",
    "**Detalhes da lista:**\n",
    "\n",
    "- Os exercícios obrigatórios valem 10 pontos, e os bônus valem 3 pontos.\n",
    "- As respostas devem ser feitas nesse mesmo arquivo, preenchendo as células de código e/ou texto após os enunciados. Simplesmente apague os comentário \"[sua resposta aqui]\" e coloque sua resposta no lugar. Não crie células novas.\n",
    "- Funções devem retornar o resultado com `return`, e não com `print`. Também não se deve usar a função `input`, os argumentos devem ser passados como argumentos da função.\n",
    "- Evite usar conhecimentos de aulas futuras."
   ]
  },
  {
   "cell_type": "markdown",
   "metadata": {},
   "source": [
    "Vamos dar mais detalhes sobre o que são bibliotecas na aual 2. Por enquanto, são básicamente conjuntos de funções que você pode importar e utilzar no seu código. Nessa lista, será necessário que você use a biblioteca \"math\" e \"operator\". Rode o código abaixo para importá-las. Para usar as funções, basta chamar elas com `math.nome_da_funcao()` ou `operator.nome_da_funcao()`."
   ]
  },
  {
   "cell_type": "code",
   "execution_count": null,
   "metadata": {},
   "outputs": [],
   "source": [
    "import math\n",
    "import operator"
   ]
  },
  {
   "cell_type": "markdown",
   "metadata": {},
   "source": [
    "## Questões Obrigatórias"
   ]
  },
  {
   "cell_type": "markdown",
   "metadata": {},
   "source": [
    "### Questão 1 - Comportamentos de Operadores\n",
    "\n",
    "Na aula, vocês aprenderam sobre _tipos_ de valores, e operadores. Nesta questão vocês irão aprender sobre dois comportamentos de operadores com relação ao _tipo_ de seus argumentos.\n",
    "\n",
    "1. O primeiro comportamento explica o resultado do código abaixo. Explique-o com suas próprias palavras.\n",
    "\n",
    "```python\n",
    "1 + 0.5\n",
    "1 + True\n",
    "1 + \"2\"\n",
    "```\n",
    "\n",
    "Esse comportamento não é aplicado na última linha. Tente pesquisar quais são as regras, isto é, com quais naturezas de argumentos ele ocorre e com quais não?\n",
    "\n",
    "2. O segundo comportamento explica a diferença entre os resultados abaixo. Explique-o com suas próprias palavras. Porque é útil isso acontecer?\n",
    "\n",
    "```python\n",
    "1 + 1\n",
    "\"a\" + \"b\"\n",
    "\n",
    "3 * 2\n",
    "\"a\" * 2\n",
    "```\n",
    "\n",
    "Você consegue achar outro exemplo de diferença como a acima?"
   ]
  },
  {
   "cell_type": "markdown",
   "metadata": {},
   "source": [
    "- Item $1.$:\n",
    "\n",
    "[sua resposta aqui]\n",
    "\n",
    "- Item $2.$:\n",
    "\n",
    "[sua resposta aqui]"
   ]
  },
  {
   "cell_type": "markdown",
   "metadata": {},
   "source": [
    "### Questão 2 - Precedência de Operadores\n",
    "\n",
    "Na aula vocês viram rapidamente sobre precedência de operadores. Vamos praticar isso um pouco mais.\n",
    "\n",
    "Para cada uma das linhas abaixo, descreva a ordem na qual as operações são realizadas:\n",
    "\n",
    "1. `5 + 1 * 2 / 4 ** 3 ** 2`\n",
    "2. `4 <= 6 > 3 and not 2 == 2 or False`\n",
    "3. `True or (1 / 0)`\n",
    "\n",
    "Lembre-se de comentar:\n",
    "\n",
    "- Sobre operadores que tem a mesma precedência, o que é avaliado primeiro é o da esquerda ou o da direita.\n",
    "- Sobre todas as operações. $1.$ tem 4 operações, e $2.$ tem 6 operações.\n",
    "- Em $3.$, são todas as operações que são realizadas? Porque faz sentido ser dessa forma? Explique esse comportamento em suas palavras. Pesquise sobre qual o seu nome."
   ]
  },
  {
   "cell_type": "markdown",
   "metadata": {},
   "source": [
    "- Item $1.$:\n",
    "\n",
    "[sua resposta aqui]\n",
    "\n",
    "- Item $2.$:\n",
    "\n",
    "[sua resposta aqui]\n",
    "\n",
    "- Item $3.$:\n",
    "\n",
    "[sua resposta aqui]"
   ]
  },
  {
   "cell_type": "markdown",
   "metadata": {},
   "source": [
    "### Questão 3 - Operadores e If Else\n",
    "\n",
    "Agora uma questão mais direta, para treinar o uso de operadores e control flow, no geral. Você deve escrever duas funções que recebem três argumentos, `a`, `b`, e `c`. O comportamento de cada está descrito abaixo.\n",
    "\n",
    "1. Se `c` for maior que $0$, então o resultado será igual a `c`. Caso contrário, o resultado será verdadeiro se: `a` estiver entre $3$ e $7$ (contando $3$ e $7$); e `b - 1` elevado a `a` for menor que $20$; e `b` não for divisível por $4$. A função deve-se chamar `check_condition`.\n",
    "2. Considere que cada argumento é o tamanho de um lado de um triângulo. A função deve retornar $1$ se o triângulo for equilátero, $2$ se for escaleno, e $3$ se for isóceles. Se quiser ir além faça retornar $-1$ se esses tamanhos não definirem um triângulo válido. A função deve-se chamar `typeof_triangle`."
   ]
  },
  {
   "cell_type": "code",
   "execution_count": null,
   "metadata": {},
   "outputs": [],
   "source": [
    "# Item 1.:\n",
    "\n",
    "# [sua resposta aqui]\n",
    "\n",
    "\n",
    "# Item 2.:\n",
    "\n",
    "# [sua resposta aqui]"
   ]
  },
  {
   "cell_type": "markdown",
   "metadata": {},
   "source": [
    "### Questão 4 - Diferenças Entre Loops\n",
    "\n",
    "Na aula, vocês aprenderam sobre loops, vamos aprender mais sobre a diferença entre eles.\n",
    "\n",
    "Implementaremos um algorítmo de aproximação de raízes quadradas, usando o [método Babilônico](https://en.wikipedia.org/wiki/Methods_of_computing_square_roots#Heron's_method).\n",
    "\n",
    "Seja $s$ o número que se quer a raiz, podemos approximá-la chutando um valor inicial $root_0 = ...$, e atualizando esse 'chute' várias vezes:\n",
    "\n",
    "$$\n",
    "root_{n+1} = \\frac{1}{2} \\left(root_n + \\frac{s}{root_n}\\right)\n",
    "$$\n",
    "\n",
    "Vocês devem escrever um loop que implemente o método, e que pare quando:\n",
    "\n",
    "- O erro for pequeno: $|\\sqrt{s} - root| \\leq 0.001$, isto é, `abs(math.sqrt(s) - root) <= 0.001`.\n",
    "- Tenham passado muitas iterações: `iter > 100`.\n",
    "\n",
    "Vocês farão isso em três versões:\n",
    "\n",
    "1. Um loop `while True`, que use uma condição `if` que leve a um `break`, para parar o loop.\n",
    "2. Um loop `while`, que use a condição do while para parar o loop.\n",
    "3. Um loop `for iter in range(100)`, e que use uma condição `if` que leve a um `break`, para parar o loop.\n",
    "\n",
    "Explique, com suas palavras, a diferença entre os três loops. Qual é mais _flexível_ e qual é menos? Qual você pensa ser mais adequado para o problema.\n",
    "\n",
    "Use o código abaixo e complete-o com sua resposta. Use as condições `abs(math.sqrt(s) - root) <= 0.001` e `iter > 100` onde necessário."
   ]
  },
  {
   "cell_type": "code",
   "execution_count": null,
   "metadata": {},
   "outputs": [],
   "source": [
    "s = 49\n",
    "root = 8.5\n",
    "\n",
    "# Loop `while True` 1.:\n",
    "\n",
    "#[sua resposta aqui]\n",
    "\n",
    "\n",
    "# Loop `while` 2.:\n",
    "\n",
    "#[sua resposta aqui]\n",
    "\n",
    "\n",
    "# Loop `for iter in range(100)` 3.:\n",
    "\n",
    "#[sua resposta aqui]"
   ]
  },
  {
   "cell_type": "markdown",
   "metadata": {},
   "source": [
    "- Comparação dos loops:\n",
    "\n",
    "[sua resposta aqui]"
   ]
  },
  {
   "cell_type": "markdown",
   "metadata": {},
   "source": [
    "### Questão 5 - Fábricas de Funções, Argumentos Padrão, e Funções Anônimas\n",
    "\n",
    "Na aula vimos que funções no Python podem:\n",
    "\n",
    "- Receber uma função como argumento.\n",
    "- Retornar uma função como resultado, que então poderíamos salvar à uma variável.\n",
    "\n",
    "Neste exercício, vamos trabalhar com esses conceitos. Adicionalmente, também usaremos argumentos padrão e funções anônimas (lambda).\n",
    "\n",
    "Estamos interessados em criar funções de um número $x$, que dependam de parâmetros $a$ e $b$ Por exemplo:\n",
    "\n",
    "$$\n",
    "f(x;~ a, b) = a + \\frac{x}{b}\\\\\n",
    "f(x;~ a, b) = a * \\frac{x}{b}\\\\\n",
    "f(x;~ a, b) = a^\\frac{x}{b}\n",
    "$$\n",
    "\n",
    "Isto é, queremos definir uma função que cria outras funções, que passa uma função para `return`. Essa tipo de função é chamado de \"fábrica\" de funções.\n",
    "\n",
    "Note que a função $f$, varia, podendo ser $+$, $*$, ^ (exponenciação), etc. No python, podemos passar esses operadores como argumentos para a fábrica, via `operator.add`, `operator.mul`, `operator.pow`, etc.\n",
    "\n",
    "Para esse exercício, responda/resolva os seguintes pontos:\n",
    "\n",
    "1. Pense e responda: quais argumentos a fábrica deve receber? E quais argumentos a função retornada deve receber?\n",
    "2. Crie a fábrica de funções. O argumento relacionado à $b$ deve ter um valor padrão de 100.\n",
    "3. Usando a fábrica, crie a função $f(x) = 2^{x}$. Use `operator.pow`. Calcule $f(3)$.\n",
    "4. Usando a fábrica, crie a função $f(x) = \\frac{1}{(x / 5)}$. Passe a função $f$ para a fábrica como uma função anônima (lambda). Calcule $f(3)$."
   ]
  },
  {
   "cell_type": "markdown",
   "metadata": {},
   "source": [
    "- Item $1.$:\n",
    "\n",
    "[sua resposta aqui]"
   ]
  },
  {
   "cell_type": "code",
   "execution_count": null,
   "metadata": {},
   "outputs": [],
   "source": [
    "# Item 2.:\n",
    "\n",
    "#[sua resposta aqui]\n",
    "\n",
    "\n",
    "# Item 3.:\n",
    "\n",
    "#[sua resposta aqui]\n",
    "\n",
    "\n",
    "# Item 4.:\n",
    "\n",
    "#[sua resposta aqui]"
   ]
  },
  {
   "cell_type": "markdown",
   "metadata": {},
   "source": [
    "## Exercícios Bônus"
   ]
  },
  {
   "cell_type": "markdown",
   "metadata": {},
   "source": [
    "### Questão 6 - Try e Except\n",
    "\n",
    "Crie uma função chamada `division_calculator` que receba dois parâmetros, `numerator` e `denominator`, e realize a divisão do numerador pelo denominador. A função deve lidar com possíveis erros de entrada e divisão por zero usando blocos try-except.\n",
    "\n",
    "Tente pensar em todos os erros possíveis que um usuário (burrinho) possa cometer ao interagir com a função. Por exemplo, provalmente queremos que `numerator` seja um número."
   ]
  },
  {
   "cell_type": "code",
   "execution_count": null,
   "metadata": {},
   "outputs": [],
   "source": [
    "# Resposta:\n",
    "\n",
    "# [sua resposta aqui]"
   ]
  },
  {
   "cell_type": "markdown",
   "metadata": {},
   "source": [
    "### Questão 7 - Rafatoração de If Else\n",
    "\n",
    "Nesse exercício, aprenderemos sobre refatoração de código. Refatorar código é o processo de reorganizar um programa de computador sem alterar seu comportamento.\n",
    "\n",
    "A cadeia `if else` abaixo está correta, mas ineficiente e confusa:\n",
    "\n",
    "```python\n",
    "import math\n",
    "\n",
    "x = 7\n",
    "\n",
    "if x % 2 == 0 and x <= 100:\n",
    "    if x % 4 == 0:\n",
    "        print(\"Divisible by 4\")\n",
    "    else:\n",
    "        print(\"Not divisible by 4\")\n",
    "    if math.sqrt(x) % 1 == 0:\n",
    "        print(\"Is perfect square\")\n",
    "elif x % 2 == 0 and x > 100:\n",
    "    if x % 10 == 0:\n",
    "        print(\"Divisible by 10\")\n",
    "    else:\n",
    "        print(\"Not divisible by 10\")\n",
    "    if math.sqrt(x) % 1 == 0:\n",
    "        print(\"Is perfect square\")    \n",
    "elif x % 2 != 0 and x <= 100:\n",
    "    if x % 3 == 0:\n",
    "        print(\"Divisible by 3\")\n",
    "    else:\n",
    "        print(\"Not divisible by 3\")\n",
    "    if math.sqrt(x) % 1 == 0:\n",
    "        print(\"Is perfect square\")    \n",
    "elif x % 2 != 0 and x > 100:\n",
    "    if x % 15 == 0:\n",
    "        print(\"Divisible by 15\")\n",
    "    else:\n",
    "        print(\"Not divisible by 15\")\n",
    "    if math.sqrt(x) % 1 == 0:\n",
    "        print(\"Is perfect square\")    \n",
    "```\n",
    "\n",
    "Existêm três problemas principais, diga quais. A seguir, corrija esses problemas, de forma que ele faça a mesma coisa, mas de forma mais eficiente e clara."
   ]
  },
  {
   "cell_type": "markdown",
   "metadata": {},
   "source": [
    "- Problemas:\n",
    "\n",
    "[sua resposta aqui]"
   ]
  },
  {
   "cell_type": "code",
   "execution_count": null,
   "metadata": {},
   "outputs": [],
   "source": [
    "# Código melhorado:\n",
    "\n",
    "# [sua resposta aqui]"
   ]
  }
 ],
 "metadata": {
  "language_info": {
   "name": "python"
  }
 },
 "nbformat": 4,
 "nbformat_minor": 2
}
