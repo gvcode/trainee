{
  "cells": [
    {
      "cell_type": "markdown",
      "metadata": {
        "id": "3eXpgdu3SRyX"
      },
      "source": [
        "# Introdução ao Python II"
      ]
    },
    {
      "cell_type": "markdown",
      "metadata": {
        "id": "mXLFimyvSRyY"
      },
      "source": [
        "## Introdução {.unumbered}\n",
        "\n",
        "<!--Motivação da aula-->\n",
        "Esta aula aborda mais alguns conceitos básicos de python:\n",
        "<!--TOC dos temas da aula (pra ajudar os alunos a se acharem na aula)-->\n",
        "1. OOP: O que é? E como funciona?\n",
        "2. Coleções: Quais os tipos?\n",
        "3. Variáveis: Como aplicá-las?\n",
        "<!--Texto (enxuto, objetivo) com os objetivos de aprendizagem principais (o que, principalmente, os alunos tem que sair dessa aula sabendo)-->\n",
        "\n",
        "<!--Ao longo da aula: adicionar mais referências, especialmente sobre onde expandir os conhecimentos sobre cada tema-->"
      ]
    },
    {
      "cell_type": "markdown",
      "metadata": {
        "id": "81HUXx0zSRyZ"
      },
      "source": [
        "## OOP: O que é? E como funciona?\n",
        "\n",
        "> O Objeto como foco de estudo\n",
        "\n",
        "\n",
        "\n",
        "<!--Esse é um tópico difícil, com certeza dá para modificar o texto e apresentá-lo de uma maneira mais simples e didática. Também com certeza, há tópicos faltante. É preciso ver o que vale a pena adicionar aqui, e o que é avançado demais/pouco utilizado. Falar com o Theodoro e o Michel, que eles manjam-->\n",
        "<!--Os exemplos precisam ser explicados em markdown-->"
      ]
    },
    {
      "cell_type": "markdown",
      "metadata": {
        "id": "k7NAxcyFSRyZ"
      },
      "source": [
        "Começamos com uma [apresentação](assets/materials/oop.pptx).\n",
        "\n",
        "O objetivo de criar uma função era dar um nome à uma operação específica, para que não seja necessário escrever essa operação por extenso toda vez que se precise realizá-la. Além disso, fica muito mais fácil fazer manutenção no código se existe um erro nessa operação.\n",
        "\n",
        "As classes seguem um objetivo similar, mas servem para dar nome a uma estrutura de dados."
      ]
    },
    {
      "cell_type": "markdown",
      "metadata": {
        "id": "zxDDGAMtSRyZ"
      },
      "source": [
        "### Objetos, Classes e Métodos\n",
        "\n",
        "Quais os elementos da OOP?\n",
        "+ **Objeto** (*object*) é uma entidade que possui um comportamento específico;\n",
        "+ **Classe** (*class*) é uma estrutura que define as características e o comportamento dos objetos;\n",
        "+ **Atributos** ou **Propriedades** (*Attributes* ou *Properties*): São dados ou estados característicos daquela classe. Por exemplo, \"preço médio\", \"volume diário\" e \"ticker\" são propriedades da classe *stocks* (ações);\n",
        "+ **Métodos**: São as funções que são específicos daquela classe, muitas vezes utilizam os próprios atributos da classe para realizar uma operação. Por exemplo, pode-se criar um método na classe \"ações\" que mutliplique o preço médio pelo volume diário para se obter o volume financeiro médio.\n",
        "\n",
        "\n",
        "<!--Salvar como imagem em assets/img (falar com o Ricardo)-->\n",
        "![](https://drive.google.com/uc?export=view&id=1FA_yMqIsoQ34v-ePAyoAJUxGWS0vvwbe)"
      ]
    },
    {
      "cell_type": "markdown",
      "metadata": {
        "id": "LkQaG-ILSRya"
      },
      "source": [
        "### Sintaxe e Definição\n",
        "\n",
        "Para criar uma classe no python, usamos a palavra ***class***, o nome da classe (com a primeira letra em maísculo, por convenção), e \"()\", indicando uma ação (no caso, criar um objeto da classe):\n",
        "\"class algo()\"\n",
        "\n",
        "Normalmente, a definição de uma classe começa pelo método __init__. ele é um método especial, o método construtor, e indica que todas as linhas subordinadas a ele devem ser executadas quando um objeto daquela classe é criado. As linhas que estão subordinadas ao método __init__ são aquelas que estabelecem os atributos.\n",
        "\n",
        "Além disso, a palavra self é uma referência a todos os atributos de um objeto. Os métodos levam como argumento o próprio objeto em si, ou seja, o método que tem self como argumento pode acessar e trabalhar com todos os elementos do objeto em si.\n",
        "\n",
        "Depois do método construtor (__init__), em geral, vêm os métodos ordinários, aqueles que executam ações."
      ]
    },
    {
      "cell_type": "code",
      "execution_count": null,
      "metadata": {
        "id": "MolUAylKSRya"
      },
      "outputs": [],
      "source": [
        "#supondo que queremos calcular a média das notas 1 e 2 pertencentes a um aluno específico\n",
        "#aqui criamos uma classe e deixamos em aberto os atributos que o 'aluno' deve ter\n",
        "class aluno():\n",
        "  #criando os atributos (nome e notas) da classe aluno\n",
        "    def __init__(self, nome, nota1, nota2):\n",
        "        self.nome = nome\n",
        "        self.nota1 = nota1\n",
        "        self.nota2 = nota2\n",
        "\n",
        "  #criando métodos para determinar a média desse aluno\n",
        "    def media(self):\n",
        "        return (self.nota1 + self.nota2) / 2"
      ]
    },
    {
      "cell_type": "code",
      "execution_count": null,
      "metadata": {
        "id": "eZGBt4waSRyb",
        "outputId": "eabd6935-fa79-4f30-a23f-5fd538a51831",
        "colab": {
          "base_uri": "https://localhost:8080/"
        }
      },
      "outputs": [
        {
          "output_type": "stream",
          "name": "stdout",
          "text": [
            "Michel 8.5\n"
          ]
        }
      ],
      "source": [
        "#damos um nome e notas para calcular a média dessa pessoa\n",
        "michel = aluno(nome = \"Michel\", nota1 = 7, nota2 = 10)\n",
        "#pedimos para o programa exibir o resultado\n",
        "print(michel.nome, michel.media())"
      ]
    },
    {
      "cell_type": "code",
      "source": [
        "#O que é o `self` que víamos na definição da classe? É só um \"placeholder\" para o nome do objeto. Quando criamos um objeto, com um nome, dessa classe, é como se os métodos virassem:\n",
        "\n",
        "def __init__(nome, nota1, nota2):\n",
        "  michel.nome = nome\n",
        "  michel.nota1 = nota1\n",
        "  michel.nota2 = nota2\n",
        "\n",
        "def media():\n",
        "  return (michel.nota1 + michel.nota2) / 2"
      ],
      "metadata": {
        "id": "hPeYWwhx88Ek"
      },
      "execution_count": null,
      "outputs": []
    },
    {
      "cell_type": "code",
      "execution_count": null,
      "metadata": {
        "id": "9CSeU3skSRyc"
      },
      "outputs": [],
      "source": [
        "#Exemplo mais elaborado sobre ações\n",
        "#determinando as características/atributos das ações que vamos estudar\n",
        "class Stocks():\n",
        "    def __init__(self, ticker_name, price_inDolars, volume_inUnits, beta_float,\n",
        "                 divDate_string, enterpriseValue_inDolars, price_inList):\n",
        "        self.ticker = ticker_name # preenchendo name com o valor referente ao argumento full_name\n",
        "        self.price_last = price_inDolars\n",
        "        self.volume_last_day = volume_inUnits\n",
        "        self.beta = beta_float\n",
        "        self.divDate = divDate_string\n",
        "        self.enterpriseValue = enterpriseValue_inDolars\n",
        "        self.price_hist = price_inList\n",
        "        self.portShare = 0# não vem de argumento, sempre uma ação começa com esse valor de argumento\n",
        "\n",
        "    def eatfinVolume(self): # self entra como argumento para que o procedimento possa acessar os atributos e seus valores.\n",
        "        return self.price_last * self.volume_last_day\n",
        "\n",
        "    def addPrice(self, price):\n",
        "        self.price_hist.append(price)\n",
        "\n",
        "    def changeShare(self, newshare):\n",
        "        self.portShare = newshare\n",
        "\n",
        "#Aqui pedimos para o código exibir a ação e seus atributos\n",
        "\n",
        "    def printPrice(self):\n",
        "        print(\"The stock \" + self.ticker + \" has a last price of \" + str(self.price_last))\n",
        "\n",
        "    def __str__(self):\n",
        "        return \"The stock \" + str(self.ticker) + \" has a last price of \" + str(self.price_last)"
      ]
    },
    {
      "cell_type": "code",
      "execution_count": null,
      "metadata": {
        "id": "2WReYcvpSRyc",
        "outputId": "4436a0ab-2262-4d17-f355-c8a576edf9fb",
        "colab": {
          "base_uri": "https://localhost:8080/"
        }
      },
      "outputs": [
        {
          "output_type": "stream",
          "name": "stdout",
          "text": [
            "PETR4.SA\n",
            "The stock PETR4.SA has a last price of 30.13\n",
            "31.23\n",
            "Brazil\n",
            "The stock PETR4.SA has a last price of 31.23\n"
          ]
        }
      ],
      "source": [
        "#Dando valores e nomes aos atributos\n",
        "petr = Stocks(ticker_name = \"PETR4.SA\",\n",
        "              price_inDolars = 30.13,\n",
        "              volume_inUnits = 93824145,\n",
        "              beta_float = 1.33,\n",
        "              divDate_string = \"Aug 12, 2022\",\n",
        "              enterpriseValue_inDolars = 594060000000,\n",
        "              price_inList = [29.80, 30.39, 29.44])\n",
        "\n",
        "#Exibindo os dados encontrados:\n",
        "print(petr.ticker)\n",
        "\n",
        "petr.eatfinVolume()\n",
        "\n",
        "petr.printPrice()\n",
        "\n",
        "petr.price_last = 31.23\n",
        "print(petr.price_last)\n",
        "\n",
        "petr.nationality = \"Brazil\"\n",
        "print(petr.nationality)\n",
        "\n",
        "print(petr)"
      ]
    },
    {
      "cell_type": "markdown",
      "metadata": {
        "id": "5SIs7AatSRyd"
      },
      "source": [
        "## Coleções: Quais os tipos?\n",
        "\n",
        "> Transformando vários itens em uma variável\n",
        "<!--texto introdutório de o que são coleções-->\n",
        "\n",
        "<!--o conteúdo da aula antiga são bons, mas podem ser reorganizados de uma maneira mais direta na estrutura abaixo. busque fazer melhorias do _flow_ de ensino, e checar se nenhum tema importante está sendo deixado de lado-->\n",
        "\n",
        "<!--criar texto para fazer a ponte que coleções são na verdade classes, com seus métodos!-->"
      ]
    },
    {
      "cell_type": "markdown",
      "metadata": {
        "id": "AxwG-Jw5SRyd"
      },
      "source": [
        "Quais os tipos de coleções?\n",
        "- Listas\n",
        "- Tuplas\n",
        "- Sets\n",
        "- Dicionários\n",
        "\n",
        "O nome coleções vem de \"conjunto\" de dados, e existem quatro tipos diferentes, que servem para objetivos diferentes, baseados em suas características:\n",
        "\n",
        "|  | Ordenado | Mutável | Duplicatas |\n",
        "| --- | --- | --- | --- |\n",
        "| Listas | sim | sim | sim |\n",
        "| Tuples | sim | não | sim |\n",
        "| Sets | não | não | não |\n",
        "| Dicionários | sim | sim | não |\n",
        "\n",
        "Em termos mais simples listas são as mais flexíveis e menos específicas, tuples são listas imutáveis, e dicionários são listas nomeadas. Sets, os mais restritivos, funcionam como o conceito de \"conjunto\" da matemática.\n",
        "\n",
        "Cada coleção tem seus próprios métodos, dêem uma olhada neles nos tutoriais abaixo:\n",
        "\n",
        "- W3Schools: https://www.w3schools.com/python/python_lists.asp (mais simples e sucinto);\n",
        "- Documentação do Python: https://docs.python.org/3/tutorial/datastructures.html#tuples-and-sequences (mais técnico, mais informações)."
      ]
    },
    {
      "cell_type": "markdown",
      "metadata": {
        "id": "CPoavNvRSRyd"
      },
      "source": [
        "### Listas\n",
        " São estruturas de dados que servem para transformar um grupo de itens em uma só variável.\n",
        "\n",
        "#### Sintaxe e Definição\n",
        "\n",
        "\n",
        "*   Podemos criar uma lista de duas formas: definindo-a diretamente por meio de\n",
        "\"nome_qualquer_da_lista = [item1, item2, ..., itemx]\", só colocando os itens dentro dos colchetes; ou também podemos transformar outros iteráveis (como bibliotecas e tuplas, que veremos mais tarde) em listas com \"nome_qualquer_da_nova_lista = list(nome_do_iterável)\". Simplificando: list = [ ] ou list( )\n",
        "*  Para saber qual o tipo/ classe de algum objeto no código, utilizamos \"type(nome_do_objeto)\". Por exemplo, ao escrever \"print(type(objeto))\", sendo objeto uma lista, devemos ter como retorno: \"<class 'list'>\"\n",
        "\n",
        "#### Acessar e Alterar\n",
        "\n",
        "1.   Técnicas de indexing [] e [:]\n",
        "\n",
        "*   Podemos acessar itens específicos das listas atribuindo-lhes números, de acordo com a ordem que aparecem na lista usando [número]. Por exemplo, em lista = [João, Pedro, Carlos] podemos selecionar o objeto João e exibí-lo com print(lista[0]). Seguindo essa lógica, Pedro representa o elemento 1 e Carlos o elemento 2.\n",
        "*  Também podemos acessar intervalos dentro das listas com [número1:número2]. Exemplo: em lista = [a,b,c,d,e], podemos acessar e exibir as letras de \"a\" a \"d\" com print(lista[0:3])\n",
        "\n",
        "2. Nested lists\n",
        "\n",
        "*   É quando temos listas com outras sublistas dentro delas como objetos. lista = [[a,b,c], [1,2,3], [x,y,z]]\n",
        "*   Acessamos as sublistas assim como fazemos para objetos numa lista normal, mas para acessar objetos de dentro das sublistas utilizamos outro método. Ex: para exibir a letra \"b\" da primeira sublista no exemplo anterior, temos print(lista[0][1]). Em resumo, apenas adicionamos o número referente ao elemento que queremos acessar da sublista ao lado do número que representa a sublista.\n",
        "\n",
        "#### Adicionar, Unir, e Remover\n",
        "1. Para adicionar elementos a uma lista ou unir várias listas, temos diferentes métodos:\n",
        "\n",
        "*   método APPEND: escrevemos \"lista.append(item)\" para adicionar um item ao final da lista. ex: lista = [1,2] --> lista.append(3) --> lista = [1,2,3]\n",
        "*   método INSERT: escrevemos \"lista.insert(posição, item)\" para adicionar um item em uma posição específica. ex: lista = [a,b,c] --> lista.insert(1, x) --> lista = [a,x,b,c] elemento x adicionado na posição 1.\n",
        "*   método EXTEND: escrevemos \"lista1.extend(lista2)\" para adicionar os elementos da lista2 na lista1. ex: lista1 = [1,2] e lista2 = [3,4] --> lista1.extend(lista2) --> lista1 = [1,2,3,4]\n",
        "*   método \"+\": escrevemos \"lista3 = lista1 + lista2\" para criar uma nova lista com os elementos de outras listas. ex: lista1 = [1,2] e lista2 = [3,4] --> lista3 = lista1 + lista2 --> lista3 = [1,2,3,4]\n",
        "\n",
        "2. Para remover itens das listas:\n",
        "*    método CLEAR: escrevemos list.clear() pra remover todos os elementos da lista, deixando-a vazia.\n",
        "*    método POP: escrevemos list.pop(número_do_item) para remover um item da lista chamando-o pelo seu número ou index dentro da lista.\n",
        "*    método REMOVE: escrevemos list.remove(item) para remover um item da lista chamando-o pelo nome.\n",
        "*    método DEL: escrevemos del list[número_do_item] para remover um item da lista pelo seu index, assim como em pop, porém podemos também remover um itervalo utilizando del list[index1:index2].\n",
        "\n",
        "#### Tamanho, Ordem, e Posição\n",
        "\n",
        "*   função LENGTH: utilizamos len(lista) para saber quantos itens há dentro de uma lista. ex: print(len(lista)) --> retorno: número de itens da lista\n",
        "*   função SORT: utilizamos lista.sort() para reorganizar uma lista com números em ordem crescente\n",
        "*   função REVERSE: utilizamos lista.reverse() com o mesmo objetivo de sort, mas em ordem decrescente\n",
        "*   função INDEX: utilizamos lista.index(item) para descobrir o index/ número na lista do item\n",
        "*   função COUNT: utilizamos lista.count(item) para descobrir quantas vezes o mesmo item aparece dentro de uma lista.\n",
        "* OBSERVAÇÃO: lembre-se que para exigir um retorno/ uma resposta do programa é necessário escrever print, assim como no exemplo dado na função length, se não o código vai apenas fazer alterações sem exibir nada!\n",
        "\n",
        "\n",
        "#### Comparadores\n",
        "\n",
        "*   OPERADOR \"==\" e \"!=\": \"==\" verifica se duas listas são iguais, tem elementos e quantidades similares. \"!=\" é o contrário, verifica se listas são diferentes. Ex: lista1 = [1,2] e lista2 = [1,2] e lista3 = [3,4] --> print(lista1 == lista2) e print(lista2 == lista3) --> retornos: True e False\n",
        "*   OPERADOR \">\", \">=\", \"<\" e \"<=\": verificam se as listas com números são menores, maiores ou iguais. Elas comparam elemento por elemento na ordem que aparecem e não o total, se uma delas tiver mais elementos e tiver elementos iguais a outra, a com mais elementos será considerada a maior. Ex: lista1 = [1,2,4], lista2 = [1,3,2] e lista3 = [1,2,4,5] --> print(lista1 > lista2) e print(lista1 < lista3) --> retornos: False e True\n",
        "*   OPERADOR \"IS\" e \"IS NOT\": verificam se as listas se referem ao mesmo objeto na memória ou não. É complicado e não é a mesma coisa que \"==\" e \"!=\". Listas com os mesmos elementos não são necessariamente a mesma coisa. EX: lista1 = [1,2] e lista2 = lista1 e lista3 = [1,2] --> print(lista1 is lista2) e print(lista1 is lista3) --> retornos: True e False\n",
        "*   OPERADOR \"IN\" e \"NOT IN\": verificam se um item está ou não em uma lista. Não é possível comparar listas com elementos de dentro de outra listas, a menos que a lista seja literalmente uma objeto ou sublista de dentro da outra lista. (meio confuso, mas vc vai entender, confia) ex: lista1 = [1,2] e lista2 = [1] --> print(1 in lista1) e print(lista2 in lista1) --> retornos: True e False\n",
        "\n",
        "#### Loops e Comprehension\n",
        "\n",
        "1.   Loops: funções que criam uma repetição de outros códigos\n",
        "\n",
        "*    FOR: utilizamos \"for\" para iterar (gerar uma repetição) sobre elementos de uma lista. ex: lista = [1, 2, 3, 4] --> for item in minha_lista: print(item) --> retorno: 1, 2, 3, 4. Neste exemplo, o for vai fazer o código repetir o print para cada uma dos itens de dentro da lista.\n",
        "*    WHILE: utilizamos \"while\" para repetir o código enquanto uma condição específica for verdadeira. ex: contador = 0 --> while contador < 5: print(contador) contador += 1 --> retorno: 0, 1, 2, 3, 4\n",
        "*    BREAK: utilizamos \"break\" para quebrar um loop\n",
        "*    CONTINUE: utilizamos \"continue\" para pular para outra iteração do código\n",
        "\n",
        "2.   Comprehension: Criação de listas a partir de funções curtas, geralmente com uso de for\n",
        "\n",
        "*    FOR: (de novo ele?) utilizamos o for para que uma função se repita e forme os elementos de uma nova lista\n",
        "*    IF: utilizamos if para estabelecer uma condição que deve ser atendida para que o código rode\n",
        "\n",
        "#### Alguns exemplos:\n",
        "\n"
      ]
    },
    {
      "cell_type": "code",
      "source": [
        "#Exemplo: Criado listas a partir de []\n",
        "lista = [1, 2, 5] # definindo a lista com os itens \"1\", \"2\" e \"5\"\n",
        "print(lista) #Exibindo a lista\n",
        "print(type(lista)) #Exibindo o tipo/ a classe do objeto criado, no caso uma lista"
      ],
      "metadata": {
        "id": "5N1XUZBviES5",
        "colab": {
          "base_uri": "https://localhost:8080/"
        },
        "outputId": "39c99367-dc46-44b7-d5e9-c5341d4e74e5"
      },
      "execution_count": null,
      "outputs": [
        {
          "output_type": "stream",
          "name": "stdout",
          "text": [
            "[1, 2, 5]\n",
            "<class 'list'>\n"
          ]
        }
      ]
    },
    {
      "cell_type": "code",
      "source": [
        "#Exemplo: Criando listas a partir de list()\n",
        "text = 'Python' #Texto como objeto que servirá de exemplo\n",
        "text_list = list(text) #Transformando o texto em uma lista\n",
        "print(text_list) #Exibindo a nova lista criada\n",
        "print(type(text_list)) #Exbindo o tipo/ a classe do objeto criado, no caso uma lista"
      ],
      "metadata": {
        "id": "RF7DH1upZ5xe",
        "colab": {
          "base_uri": "https://localhost:8080/"
        },
        "outputId": "aa0be7f1-d571-495c-af3b-ed462f5c5d6e"
      },
      "execution_count": null,
      "outputs": [
        {
          "output_type": "stream",
          "name": "stdout",
          "text": [
            "['P', 'y', 't', 'h', 'o', 'n']\n",
            "<class 'list'>\n"
          ]
        }
      ]
    },
    {
      "cell_type": "code",
      "source": [
        "#Exemplo: Uso de BREAK e CONTINUE\n",
        "for i in range(5): # Gera números até ou menores que 5\n",
        "    if i == 3:\n",
        "        break  # Sai do loop quando i for igual a 3\n",
        "    print(i)\n",
        "# Output: 0 1 2\n",
        "\n",
        "for i in range(5):\n",
        "    if i == 2:\n",
        "        continue  # Pula o valor 2 e continua\n",
        "    print(i)\n",
        "# Output: 0 1 3 4"
      ],
      "metadata": {
        "colab": {
          "base_uri": "https://localhost:8080/"
        },
        "id": "9-kIL0j4AMyv",
        "outputId": "a5465064-c93a-4d10-d330-b07a7d532451"
      },
      "execution_count": null,
      "outputs": [
        {
          "output_type": "stream",
          "name": "stdout",
          "text": [
            "0\n",
            "1\n",
            "2\n",
            "0\n",
            "1\n",
            "3\n",
            "4\n"
          ]
        }
      ]
    },
    {
      "cell_type": "code",
      "source": [
        "#Exemplo de Comprehension List bem simples\n",
        "quadrados = [] # Criando lista vazia\n",
        "for x in range(1, 6): # Elementos serão os números entre 1 até 6\n",
        "    quadrados.append(x**2) # Elevamos os itens dentro da lista ao quadrado\n",
        "print(quadrados) # Exibindo o resultado"
      ],
      "metadata": {
        "colab": {
          "base_uri": "https://localhost:8080/"
        },
        "id": "A79NuojJDBNp",
        "outputId": "6ea21df2-bc79-4cc8-c9c1-d41f8914f4a3"
      },
      "execution_count": null,
      "outputs": [
        {
          "output_type": "stream",
          "name": "stdout",
          "text": [
            "[1, 4, 9, 16, 25]\n"
          ]
        }
      ]
    },
    {
      "cell_type": "markdown",
      "metadata": {
        "id": "tEtc11mISRyd"
      },
      "source": [
        "### Tuples\n",
        "Semelhantes às listas, porém são imutáveis: não é possível alterar seus itens umas vez criadas.\n",
        "\n",
        "#### Sintaxe e Definição\n",
        "*   Para criar uma tupla, escrevemos \"nome_da_tupla = (itens)\", igual às listas, mas substituindo as chaves por parênteses.\n",
        "*   Podemos usar \"type()\" para identificar uma tupla no código, que vai retornar \"<class 'tuple'>\"\n",
        "#### Similaridades com Listas\n",
        "*   Como tuplas são imutáveis, não é possível utilizar as mesmas funções que utilizamos para modificar a ordem ou os itens das listas. Contudo, nós podemos gerar uma tupla através de uma lista, ou transformar uma tupla em lista para criar outra tupla modificada em cima disso.\n",
        "*   Não existe Tuple Comprehension direta como no caso das listas. Para criar fazer uma comprehension usamos a sintaxe \"tupla = tuple(insert_formulinhas_mágicas_here)\"\n",
        "\n",
        "#### Unpacking\n",
        "*   É uma técnica na qual atribuímos uma variável a cada item de dentro da tupla, como se fossem coordenadas. Para fazer isso, basta chamar a lista criada e dar nomes às variáveis. ex: tupla = (1,2,3) --> tupla = a, b, c --> a= 1; b=2; c = 3."
      ]
    },
    {
      "cell_type": "code",
      "source": [
        "# Exemplo de modificação de tuplas\n",
        "# Tupla original\n",
        "minha_tupla = (1, 2, 3, 4)\n",
        "\n",
        "# Convertendo a tupla para uma lista\n",
        "minha_lista = list(minha_tupla)\n",
        "\n",
        "# Modificando a lista\n",
        "minha_lista.append(5)\n",
        "\n",
        "# Transformando em Tupla novamente\n",
        "minha_tupla2 = tuple(minha_lista)\n",
        "\n",
        "# Mostrando o resultado\n",
        "print(minha_tupla2)"
      ],
      "metadata": {
        "colab": {
          "base_uri": "https://localhost:8080/"
        },
        "id": "xmiuDk5mL3tS",
        "outputId": "3f1be82e-a096-4d27-c014-b4a3d7424d3e"
      },
      "execution_count": null,
      "outputs": [
        {
          "output_type": "stream",
          "name": "stdout",
          "text": [
            "(1, 2, 3, 4, 5)\n"
          ]
        }
      ]
    },
    {
      "cell_type": "code",
      "source": [
        "# Exemplo unpacking\n",
        "# Tupla com três elementos\n",
        "minha_tupla = (10, 20, 30)\n",
        "\n",
        "# Unpacking: cada elemento da tupla é atribuído a uma variável\n",
        "pão, de, batata = minha_tupla\n",
        "\n",
        "# Exibindo os valores atribuídos\n",
        "print(pão)\n",
        "print(de)\n",
        "print(batata)\n"
      ],
      "metadata": {
        "colab": {
          "base_uri": "https://localhost:8080/"
        },
        "id": "Bx4maEmkPgul",
        "outputId": "942633e1-1cb1-4387-9f87-4dcce7209076"
      },
      "execution_count": null,
      "outputs": [
        {
          "output_type": "stream",
          "name": "stdout",
          "text": [
            "10\n",
            "20\n",
            "30\n"
          ]
        }
      ]
    },
    {
      "cell_type": "markdown",
      "metadata": {
        "id": "TTS7Lh8qSRyd"
      },
      "source": [
        "### Dicts\n",
        "Dicionários são estruturas de dados que também armazenam itens dentro de si, mas que são acessáveis por chaves.\n",
        "\n",
        "#### Sintaxe e Definição\n",
        "*   Para criar uma biblioteca usamos \"dicionário = {chaves:itens}\" ou \"dicionário = dict(chaves:itens)\". Há também a sintaxe \".fromkeys\", que associa uma sequência de chaves a um valor dado.\n",
        "*   Neste caso, \"type()\" retornará \"<class 'dict'>\"\n",
        "\n",
        "#### Similaridades com Listas\n",
        " Algumas operacoes que sao validas tanto para listas quanto para bibliotecas:\n",
        "*   Para remover itens de dicts, podemos usar os metodos .pop, del e clear(), extamente como nas listas, mas utilizando as chaves para se referir aos elementos.\n",
        "*   Tambem e possivel fazer dicts comprehension. Escrevemos: dicionario = {expressao_que_gera_valores_para_as_chaves}\n",
        "\n",
        "#### Acessar e Alterar\n",
        "1.   Tecnicas de indexing:\n",
        "*   .KEYS: podemos escrever nome_biblioteca.keys() para acessar todas as suas chaves.\n",
        "*   .VALUES: de forma contrária, se quisermos acessar os valores aos quais as chaves se referem, escrevemos nome_biblioteca.values()\n",
        "*   .ITENS: retorna todos os pares de valores e chaves: nome_biblioteca.itens()\n",
        "*   .GET: retorna o valor de uma chave específica e retorna \"none\" se a chave não existir: nome_biblioteca.get(chave)\n",
        "2.   Alterando os valores das bibliotecas:\n",
        "*   .UPDATE: adiciona chaves e atualiza valores de chaves que já existiam, como se fosse uma sobreposição de bibliotecas. biblioteca_original.update(biblioteca_nova)\n",
        "*   .POP: assim como nas listas, escrevemos nome_biblioteca.pop(chave) para retirar um dos elementos da biblioteca e retornar o seu valor.\n",
        "*   .POPITEM: retira o último par chave-valor na ordem da lista e retorna esse mesmo par. Sua sintaxe é nome_biblioteca.popitem()\n",
        "*   .SETDEFAULT: podemos escrever nome_biblioteca.setdefault(chave, valor) para adicionar uma nova chave e valor à biblioteca. Se a chave já existir, retorna apenas o valor original associado à ela, independente do valor que foi escrito no setdefaut."
      ]
    },
    {
      "cell_type": "code",
      "source": [
        "#Exemplo de dicts comprehension:\n",
        "quadrados = {x: x**2 for x in range(5)}\n",
        "print(quadrados)\n",
        "print(quadrados.keys())"
      ],
      "metadata": {
        "colab": {
          "base_uri": "https://localhost:8080/"
        },
        "id": "wAbEUNU8f4yr",
        "outputId": "62d317ea-087c-4fc8-af76-65624be77eaa"
      },
      "execution_count": null,
      "outputs": [
        {
          "output_type": "stream",
          "name": "stdout",
          "text": [
            "{0: 0, 1: 1, 2: 4, 3: 9, 4: 16}\n",
            "dict_keys([0, 1, 2, 3, 4])\n"
          ]
        }
      ]
    },
    {
      "cell_type": "markdown",
      "metadata": {
        "id": "Mh69Lb0SSRyd"
      },
      "source": [
        "### Sets\n",
        " É uma estrutura que carrega dados únicos (não se repetem) e desordenados (não podem ser acessados por índice como nas listas). É possível modificá-la e é útil quando precisamos de itens não repetentes e a ordem desses elementos é irrelevante. Sua sintaxe é \"nome_set = {itens}\".\n",
        "\n",
        "#### Sintaxe e Definição\n",
        "*   Para criar um set, podemos transformar outras coleções ou estruturas (como strings (textos), tuplas, listas, etc) para criar um novo set por meio de novo_set = set(nome_da_lista/string/tupla).\n",
        "*   type() retornará <class 'set'>\n",
        "\n",
        "#### Similaridades com Listas\n",
        "*   Assim como nas listas, podemos usar comprehension, unir, ver interseções e diferenças entre os sets.\n",
        "*   A sintaxe para criar sets a partir de funções (comprehension) é: set = {expressão for item in iterável}\n",
        "\n",
        "#### Acessar e Alterar\n",
        "*   .ADD: escrevemos nome_set.add(item) para adicionar um item ao set.\n",
        "*   .DISCARD: escrevemos nome_set.discard(item) para remover um item do set\n",
        "\n",
        "#### Set Operations\n",
        "\n",
        "*   .UNION ou (|): há dois modos de unir dois sets em um novo set, podemos escrever \"set3 = set1.union(set2)\" ou \"set3 = set1 | set2\"\n",
        "*   .INTERSECCTION ou (&): para retornar um set com os elementos comuns entre dois outros sets, escrevemos \"set1.intersection(set2)\" ou \"set1 & set2\"\n",
        "*   .UPDATE ou (|=): adiciona os elementos de um set a outro, modificando o set original. \"set1.update(set2)\" ou set1 |= set2\n",
        "*   .ISSUBSET ou (<) ou (<=): verifica (retorna True ou False) se todos elementos estão contidos em outro subset. \"set1.issubset(set2)\" ou \"set1 <= set2\", se retorno for True, então set1 é subconjunto de set2.\n",
        "*   .ISSUPERSET ou (>) ou (>=): faz o contrário do issubset, verifica se todos os elementos de outro set estão contidos no set analizado. \"set1.issuperset(set2)\" ou \"set1 >= set2\", se retorno for True, então set1 é superconjunto de set2.\n",
        "*   .ISDISJOINT: verifica se dois sets não têm elementos comuns. \"set1 = {1, 2, 3}\", \"set2 = {4, 5, 6}\" --> \"print(set1.isdisjoint(set2))\" --> retorno: \"True\" (não têm elementos em comum)\n",
        "*   .DIFFERENCE ou (-): retorna um novo set dos elementos que estão em um set mas não na outro. \"set1.difference(set2)\" ou \"set1 - set2\"\n",
        "*   .SYMMETRIC_DIFFERENCE ou (^): retorna um novo set contendo os elementos que estão em apenas uma dos sets \"set1.symmetric_difference(set2)\" ou \"set1 ^ set2\"\n",
        "\n"
      ]
    },
    {
      "cell_type": "markdown",
      "metadata": {
        "id": "-XbVNBjGSRye"
      },
      "source": [
        "<!--Escolha uma frase remetendo pausa e tire print de alguma arte dela em https://patorjk.com/software/taag/. Exemplo:-->\n",
        "\n",
        "<hr>\n",
        "\n",
        "![😎](/content/Ministeriodoalmoço.jpeg) https://www.google.com/imgres?q=ministerio%20do%20almoco&imgurl=https%3A%2F%2Fpbs.twimg.com%2Fmedia%2FF3rtX5XXkAEqNCi.jpg&imgrefurl=https%3A%2F%2Ftwitter.com%2Fshitpostverdade%2Fstatus%2F1691925611843838058&docid=LzZFPTgHumXpaM&tbnid=rX-WLDZZp56rlM&vet=12ahUKEwi1zK2vsY-JAxV7pZUCHTBPNroQM3oECGoQAA..i&w=1122&h=736&hcb=2&itg=1&ved=2ahUKEwi1zK2vsY-JAxV7pZUCHTBPNroQM3oECGoQAA\n",
        "<hr>"
      ]
    },
    {
      "cell_type": "markdown",
      "metadata": {
        "id": "hsDgvIkYSRye"
      },
      "source": [
        "### Funções Sobre Iteráveis\n",
        "<!--Texto (enxuto, objetivo) de o que são iteráveis-->\n",
        "<!--Os exemplos abaixo podem ser alterados, mas o mais importante é adicionar explicação em markdown das funções enumerate, filter, zip, e map-->"
      ]
    },
    {
      "cell_type": "code",
      "execution_count": null,
      "metadata": {
        "id": "9G4sZ-q6SRye",
        "outputId": "967859cb-fca5-4bfc-844c-ae9d0f6eb1ae",
        "colab": {
          "base_uri": "https://localhost:8080/"
        }
      },
      "outputs": [
        {
          "output_type": "execute_result",
          "data": {
            "text/plain": [
              "(<enumerate at 0x7e7ff6f7fec0>, [(0, 'São Paulo'), (1, 'Flamengo')])"
            ]
          },
          "metadata": {},
          "execution_count": 5
        }
      ],
      "source": [
        "my_list = ['São Paulo', 'Flamengo']\n",
        "\n",
        "enumerate(my_list), list(enumerate(my_list))\n",
        "#type(enumerate(my_list))"
      ]
    },
    {
      "cell_type": "code",
      "execution_count": null,
      "metadata": {
        "id": "1SBZsRqASRye",
        "outputId": "6571b30b-d8ef-427e-b76b-750e567bc245",
        "colab": {
          "base_uri": "https://localhost:8080/"
        }
      },
      "outputs": [
        {
          "output_type": "stream",
          "name": "stdout",
          "text": [
            "Parabéns São Paulo! Você ficou em 1º lugar!\n",
            "Parabéns Flamengo! Você ficou em 2º lugar!\n"
          ]
        }
      ],
      "source": [
        "#sem enumerate:\n",
        "index = 0\n",
        "for i in my_list:\n",
        "    print('Parabéns ' + i + '! Você ficou em ' + str(index + 1) + 'º lugar!')\n",
        "    index += 1"
      ]
    },
    {
      "cell_type": "code",
      "execution_count": null,
      "metadata": {
        "id": "ZPUAwqyGSRye",
        "outputId": "47e7c311-491f-4f3d-a4cf-3312837126f8",
        "colab": {
          "base_uri": "https://localhost:8080/"
        }
      },
      "outputs": [
        {
          "output_type": "stream",
          "name": "stdout",
          "text": [
            "Parabéns São Paulo! Você ficou em 1º lugar!\n",
            "Parabéns Flamengo! Você ficou em 2º lugar!\n",
            "cof cof Copa do Brasil cof cof\n"
          ]
        }
      ],
      "source": [
        "#com enumerate:\n",
        "for index, i in enumerate(my_list):\n",
        "    print('Parabéns ' + i + '! Você ficou em ' + str(index + 1) + 'º lugar!')\n",
        "\n",
        "print(\"cof cof Copa do Brasil cof cof\")"
      ]
    },
    {
      "cell_type": "code",
      "execution_count": null,
      "metadata": {
        "id": "Ri3-muzGSRyf",
        "outputId": "8c69fbc2-8574-4f44-8b37-fe4db567aab5",
        "colab": {
          "base_uri": "https://localhost:8080/"
        }
      },
      "outputs": [
        {
          "output_type": "stream",
          "name": "stdout",
          "text": [
            "[3, 4]\n",
            "[3, 4]\n"
          ]
        }
      ],
      "source": [
        "def maior_que_dois(x):\n",
        "    return x > 2\n",
        "#Ou utilizar uma função anônima \"lambda\": lambda x: x > 2\n",
        "\n",
        "my_list = [1,2,3,4]\n",
        "print(list(filter(maior_que_dois, my_list)))\n",
        "print(list(filter(lambda x: x>2, my_list)))\n"
      ]
    },
    {
      "cell_type": "code",
      "execution_count": null,
      "metadata": {
        "id": "1k4i-hiASRyf",
        "outputId": "01897863-0015-4769-d602-fd5c75e4aa0e",
        "colab": {
          "base_uri": "https://localhost:8080/"
        }
      },
      "outputs": [
        {
          "output_type": "execute_result",
          "data": {
            "text/plain": [
              "[False, False, True, True]"
            ]
          },
          "metadata": {},
          "execution_count": 9
        }
      ],
      "source": [
        "my_map = list(map(maior_que_dois, my_list)) # map: aplicar uma função para todos os itens\n",
        "my_map"
      ]
    },
    {
      "cell_type": "code",
      "execution_count": null,
      "metadata": {
        "id": "x7A1JLhaSRyf",
        "outputId": "8c07d1e2-cfc1-43bd-db99-eb45bf6b349d",
        "colab": {
          "base_uri": "https://localhost:8080/"
        }
      },
      "outputs": [
        {
          "output_type": "stream",
          "name": "stdout",
          "text": [
            "[1, 2, 3, 4]\n",
            "[False, False, True, True]\n"
          ]
        },
        {
          "output_type": "execute_result",
          "data": {
            "text/plain": [
              "[(1, False), (2, False), (3, True), (4, True)]"
            ]
          },
          "metadata": {},
          "execution_count": 10
        }
      ],
      "source": [
        "print(my_list)\n",
        "print(my_map)\n",
        "[my_list, my_map]\n",
        "\n",
        "[(my_list[i], my_map[i]) for i in range(4)]\n",
        "list(zip(my_list, my_map))\n",
        "# zip(): une tuplas, mas é um objeto próprio\n",
        "# → precisa fazer tuple(zip()) para ver a tupla mesmo"
      ]
    },
    {
      "cell_type": "markdown",
      "metadata": {
        "id": "ChS09lOrSRyf"
      },
      "source": [
        "## Variáveis: Como aplicá-las?\n",
        "\n",
        ">"
      ]
    },
    {
      "cell_type": "markdown",
      "source": [
        "Falamos sobre como variáveis são um conjunto nome-valor. Vamos explorar um pouco mais essa ideia.\n",
        "\n",
        "Referência: https://nedbatchelder.com/text/names.html (fonte dos diagramas).\n",
        "\n",
        "Obs: a discussão aqui introduz um conceito teórico, do mundo da Ciência da Computação. Além de ser algo interessante, que vai ajudar você a entenderem como linguagens de programação funcionam, vai ajudar na prática a evitar um tipo específico de erro."
      ],
      "metadata": {
        "id": "Yr6crFGN69zc"
      }
    },
    {
      "cell_type": "markdown",
      "metadata": {
        "id": "pTWaA0NlSRyg"
      },
      "source": [
        "Considere o código `x = 23`, nós temos o nome \"x\" fazendo referência ao valor (na memória do computador) \"23\":\n",
        "\n",
        "<svg xmlns=\"http://www.w3.org/2000/svg\" xmlns:ev=\"http://www.w3.org/2001/xml-events\" xmlns:xlink=\"http://www.w3.org/1999/xlink\" baseProfile=\"full\" height=\"34.0\" version=\"1.1\" width=\"116.0\" style=\"stroke: #f1f1f1\"><title>x refers to 23</title><defs><marker class=\"arrowend\" id=\"id1\" markerHeight=\"10\" markerWidth=\"10\" orient=\"auto\" refX=\"10\" refY=\"5\" viewBox=\"0,0,10,10\"><path d=\"M 0,0 L 10,5 L 0,10 L 1,5 z\"></path></marker></defs><g transform=\"translate(-81.0,-13.0)\"><polygon class=\"name\" points=\"83,15 115,15 120,30 115,45 83,45\"></polygon><text dy=\".3em\" text-anchor=\"middle\" x=\"99.625\" y=\"30\">x</text><circle class=\"int value\" cx=\"180\" cy=\"30\" r=\"15\"></circle><text dy=\".3em\" text-anchor=\"middle\" x=\"180\" y=\"30\">23</text><path class=\"arrow\" d=\"M 120,30 C 131,30 131,30 142,30 C 153,30 153,30 165,30\" fill=\"none\" marker-end=\"url(#id1)\"></path></g></svg>\n",
        "\n",
        "Se fizermos `y = x`, não criamos um novo objeto, mas temos agora um novo nome apontando para o mesmo valor:\n",
        "\n",
        "<svg xmlns=\"http://www.w3.org/2000/svg\" xmlns:ev=\"http://www.w3.org/2001/xml-events\" xmlns:xlink=\"http://www.w3.org/1999/xlink\" baseProfile=\"full\" height=\"79.0\" version=\"1.1\" width=\"116.0\" style=\"stroke: #f1f1f1\"><title>x and y both refer to 23</title><defs><marker class=\"arrowend\" id=\"id2\" markerHeight=\"10\" markerWidth=\"10\" orient=\"auto\" refX=\"10\" refY=\"5\" viewBox=\"0,0,10,10\"><path d=\"M 0,0 L 10,5 L 0,10 L 1,5 z\"></path></marker></defs><g transform=\"translate(-81.0,-13.0)\"><polygon class=\"name\" points=\"83,15 115,15 120,30 115,45 83,45\"></polygon><text dy=\".3em\" text-anchor=\"middle\" x=\"99.625\" y=\"30\">x</text><polygon class=\"name\" points=\"83,60 115,60 120,75 115,90 83,90\"></polygon><text dy=\".3em\" text-anchor=\"middle\" x=\"99.625\" y=\"75\">y</text><circle class=\"int value\" cx=\"180\" cy=\"52.5\" r=\"15\"></circle><text dy=\".3em\" text-anchor=\"middle\" x=\"180\" y=\"52.5\">23</text><path class=\"arrow\" d=\"M 120,30 C 132,30 132,30 142,37 C 153,43 153,44 165,48\" fill=\"none\" marker-end=\"url(#id2)\"></path><path class=\"arrow\" d=\"M 120,75 C 132,75 132,74 142,67 C 153,61 153,60 165,56\" fill=\"none\" marker-end=\"url(#id2)\"></path></g></svg>\n",
        "\n",
        "Note que poderia ser o contrário, na criação de `y`, criava-se um novo valor (local na memória) para ele, como abaixo, mas não é.\n",
        "\n",
        "<svg xmlns=\"http://www.w3.org/2000/svg\" xmlns:ev=\"http://www.w3.org/2001/xml-events\" xmlns:xlink=\"http://www.w3.org/1999/xlink\" baseProfile=\"full\" height=\"79.0\" version=\"1.1\" width=\"116.0\" style=\"stroke: #f00\"><title>x and y aren’t magically linked</title><defs><marker class=\"arrowend\" id=\"id3\" markerHeight=\"10\" markerWidth=\"10\" orient=\"auto\" refX=\"10\" refY=\"5\" viewBox=\"0,0,10,10\"><path d=\"M 0,0 L 10,5 L 0,10 L 1,5 z\"></path></marker></defs><g transform=\"translate(-81.0,-13.0)\"><polygon class=\"name\" points=\"83,15 115,15 120,30 115,45 83,45\"></polygon><text dy=\".3em\" text-anchor=\"middle\" x=\"99.625\" y=\"30\">x</text><polygon class=\"name\" points=\"83,60 115,60 120,75 115,90 83,90\"></polygon><text dy=\".3em\" text-anchor=\"middle\" x=\"99.625\" y=\"75\">y</text><circle class=\"int value\" cx=\"180\" cy=\"30\" r=\"15\"></circle><text dy=\".3em\" text-anchor=\"middle\" x=\"180\" y=\"30\">23</text><circle class=\"int value\" cx=\"180\" cy=\"75\" r=\"15\"></circle><text dy=\".3em\" text-anchor=\"middle\" x=\"180\" y=\"75\">23</text><path class=\"arrow\" d=\"M 120,30 C 131,30 131,30 142,30 C 153,30 153,30 165,30\" fill=\"none\" marker-end=\"url(#id3)\"></path><path class=\"arrow\" d=\"M 120,75 C 131,75 131,75 142,75 C 153,75 153,75 165,75\" fill=\"none\" marker-end=\"url(#id3)\"></path></g></svg>"
      ]
    },
    {
      "cell_type": "markdown",
      "metadata": {
        "id": "O1T5EB-eSRyg"
      },
      "source": [
        "E se alterarmos a variável `y`, o que pode acontecer?\n",
        "\n",
        "1. O valor (o único que existe) é alterado, e os dois nomes agora fazem referência a esse valor atualizado.\n",
        "2. Cria-se um novo valor para `y`, e agora cada nome se refere a um valor diferente.\n",
        "\n",
        "No Python, neste caso, o que acontece é a segunda opção.\n",
        "\n",
        "Se rodarmos `y = 12`, o que **não acontece** é:\n",
        "\n",
        "<svg xmlns=\"http://www.w3.org/2000/svg\" xmlns:ev=\"http://www.w3.org/2001/xml-events\" xmlns:xlink=\"http://www.w3.org/1999/xlink\" baseProfile=\"full\" height=\"79.0\" version=\"1.1\" width=\"116.0\" style=\"stroke: #f00\"><title>x and y both refer to 23</title><defs><marker class=\"arrowend\" id=\"id2\" markerHeight=\"10\" markerWidth=\"10\" orient=\"auto\" refX=\"10\" refY=\"5\" viewBox=\"0,0,10,10\"><path d=\"M 0,0 L 10,5 L 0,10 L 1,5 z\"></path></marker></defs><g transform=\"translate(-81.0,-13.0)\"><polygon class=\"name\" points=\"83,15 115,15 120,30 115,45 83,45\"></polygon><text dy=\".3em\" text-anchor=\"middle\" x=\"99.625\" y=\"30\">x</text><polygon class=\"name\" points=\"83,60 115,60 120,75 115,90 83,90\"></polygon><text dy=\".3em\" text-anchor=\"middle\" x=\"99.625\" y=\"75\">y</text><circle class=\"int value\" cx=\"180\" cy=\"52.5\" r=\"15\"></circle><text dy=\".3em\" text-anchor=\"middle\" x=\"180\" y=\"52.5\">12</text><path class=\"arrow\" d=\"M 120,30 C 132,30 132,30 142,37 C 153,43 153,44 165,48\" fill=\"none\" marker-end=\"url(#id2)\"></path><path class=\"arrow\" d=\"M 120,75 C 132,75 132,74 142,67 C 153,61 153,60 165,56\" fill=\"none\" marker-end=\"url(#id2)\"></path></g></svg>\n",
        "\n",
        "E sim:\n",
        "\n",
        "<svg xmlns=\"http://www.w3.org/2000/svg\" xmlns:ev=\"http://www.w3.org/2001/xml-events\" xmlns:xlink=\"http://www.w3.org/1999/xlink\" baseProfile=\"full\" height=\"79.0\" version=\"1.1\" width=\"116.0\" style=\"stroke: #f1f1f1\"><title>x and y aren’t magically linked</title><defs><marker class=\"arrowend\" id=\"id3\" markerHeight=\"10\" markerWidth=\"10\" orient=\"auto\" refX=\"10\" refY=\"5\" viewBox=\"0,0,10,10\"><path d=\"M 0,0 L 10,5 L 0,10 L 1,5 z\"></path></marker></defs><g transform=\"translate(-81.0,-13.0)\"><polygon class=\"name\" points=\"83,15 115,15 120,30 115,45 83,45\"></polygon><text dy=\".3em\" text-anchor=\"middle\" x=\"99.625\" y=\"30\">x</text><polygon class=\"name\" points=\"83,60 115,60 120,75 115,90 83,90\"></polygon><text dy=\".3em\" text-anchor=\"middle\" x=\"99.625\" y=\"75\">y</text><circle class=\"int value\" cx=\"180\" cy=\"30\" r=\"15\"></circle><text dy=\".3em\" text-anchor=\"middle\" x=\"180\" y=\"30\">12</text><circle class=\"int value\" cx=\"180\" cy=\"75\" r=\"15\"></circle><text dy=\".3em\" text-anchor=\"middle\" x=\"180\" y=\"75\">23</text><path class=\"arrow\" d=\"M 120,30 C 131,30 131,30 142,30 C 153,30 153,30 165,30\" fill=\"none\" marker-end=\"url(#id3)\"></path><path class=\"arrow\" d=\"M 120,75 C 131,75 131,75 142,75 C 153,75 153,75 165,75\" fill=\"none\" marker-end=\"url(#id3)\"></path></g></svg>\n",
        "\n",
        "Isso é, o valor foi primeiro copiado (para um novo local da memória), e depois alterado. Esse comportamento tem o nome de \"copy-on-modify\".\n",
        "\n",
        "Em oposição:\n",
        "\n",
        "- Poderíamos chamar o comportamento em vermelho de \"copy-on-creation\".\n",
        "- O comportamento da \"opção 2.\" é chamado de \"modify in place\"."
      ]
    },
    {
      "cell_type": "markdown",
      "metadata": {
        "id": "nsX_Q2e-SRyg"
      },
      "source": [
        "Mas esse comportamento depende do tipo do objeto. No exemplo acima, o valor foi copiado, porque era imutável. Alguns tipos de valores são mutáveis e são \"modified-in-place\".\n",
        "\n",
        "Vocês viram que listas são mutáveis, vamos ver um exemplo com elas.\n",
        "\n",
        "O código:\n",
        "\n",
        "```\n",
        "nums = [1, 2, 3]\n",
        "tri = nums\n",
        "```\n",
        "\n",
        "Gera:\n",
        "\n",
        "<svg xmlns=\"http://www.w3.org/2000/svg\" xmlns:ev=\"http://www.w3.org/2001/xml-events\" xmlns:xlink=\"http://www.w3.org/1999/xlink\" baseProfile=\"full\" height=\"79.0\" version=\"1.1\" width=\"184.0\" style=\"stroke: #f1f1f1\"><title>nums and tri both refer to the same list</title><defs><marker class=\"arrowend\" id=\"id5\" markerHeight=\"10\" markerWidth=\"10\" orient=\"auto\" refX=\"10\" refY=\"5\" viewBox=\"0,0,10,10\"><path d=\"M 0,0 L 10,5 L 0,10 L 1,5 z\"></path></marker></defs><g transform=\"translate(-55.0,-13.0)\"><polygon class=\"name\" points=\"57,15 115,15 120,30 115,45 57,45\"></polygon><text dy=\".3em\" text-anchor=\"middle\" x=\"86.625\" y=\"30\">nums</text><polygon class=\"name\" points=\"77,60 115,60 120,75 115,90 77,90\"></polygon><text dy=\".3em\" text-anchor=\"middle\" x=\"96.625\" y=\"75\">tri</text><rect class=\"list\" height=\"30\" width=\"24\" x=\"165\" y=\"37.5\"></rect><text dy=\".3em\" text-anchor=\"middle\" x=\"177\" y=\"52.5\">1</text><rect class=\"list\" height=\"30\" width=\"24\" x=\"189\" y=\"37.5\"></rect><text dy=\".3em\" text-anchor=\"middle\" x=\"201\" y=\"52.5\">2</text><rect class=\"list\" height=\"30\" width=\"24\" x=\"213\" y=\"37.5\"></rect><text dy=\".3em\" text-anchor=\"middle\" x=\"225\" y=\"52.5\">3</text><path class=\"arrow\" d=\"M 120,30 C 132,30 132,30 142,37 C 153,43 153,44 165,48\" fill=\"none\" marker-end=\"url(#id5)\"></path><path class=\"arrow\" d=\"M 120,75 C 132,75 132,74 142,67 C 153,61 153,60 165,56\" fill=\"none\" marker-end=\"url(#id5)\"></path></g></svg>\n",
        "\n",
        "E se rodarmos `nums.append(4)`? Listas são mutáveis, então não criaremos uma cópia/um novo valor para `nums`, e sim, **modificaremos o valor a quem `nums` se refere**, in-place:\n",
        "\n",
        "<svg xmlns=\"http://www.w3.org/2000/svg\" xmlns:ev=\"http://www.w3.org/2001/xml-events\" xmlns:xlink=\"http://www.w3.org/1999/xlink\" baseProfile=\"full\" height=\"110.5\" version=\"1.1\" width=\"208.0\"  style=\"stroke: #f1f1f1\"><title>changing the list means both names see the change</title><defs><marker class=\"arrowend\" id=\"id9\" markerHeight=\"10\" markerWidth=\"10\" orient=\"auto\" refX=\"10\" refY=\"5\" viewBox=\"0,0,10,10\"><path d=\"M 0,0 L 10,5 L 0,10 L 1,5 z\"></path></marker></defs><g transform=\"translate(-55.0,-4.0)\"><polygon class=\"name\" points=\"57,37.5 115,37.5 120,52.5 115,67.5 57,67.5\"></polygon><text dy=\".3em\" text-anchor=\"middle\" x=\"86.625\" y=\"52.5\">nums</text><polygon class=\"name\" points=\"77,82.5 115,82.5 120,97.5 115,112.5 77,112.5\"></polygon><text dy=\".3em\" text-anchor=\"middle\" x=\"96.625\" y=\"97.5\">tri</text><rect class=\"list\" height=\"30\" width=\"24\" x=\"165\" y=\"60\"></rect><text dy=\".3em\" text-anchor=\"middle\" x=\"177\" y=\"75\">1</text><rect class=\"list\" height=\"30\" width=\"24\" x=\"189\" y=\"60\"></rect><text dy=\".3em\" text-anchor=\"middle\" x=\"201\" y=\"75\">2</text><rect class=\"list\" height=\"30\" width=\"24\" x=\"213\" y=\"60\"></rect><text dy=\".3em\" text-anchor=\"middle\" x=\"225\" y=\"75\">3</text><rect class=\"list\" height=\"30\" width=\"24\" x=\"237\" y=\"60\"></rect><text dy=\".3em\" text-anchor=\"middle\" x=\"249\" y=\"75\">4</text><path class=\"arrow\" d=\"M 120,52 C 132,52 132,52 142,59 C 153,66 153,66 165,71\" fill=\"none\" marker-end=\"url(#id9)\"></path><path class=\"arrow\" d=\"M 120,97 C 132,97 132,97 142,90 C 153,83 153,83 165,78\" fill=\"none\" marker-end=\"url(#id9)\"></path></g></svg>\n",
        "\n",
        "Essa diferença de comportamento, a depender do tipo do objeto, gera muita confusão. Para _usuários de R_, notem que no R, todos (menos um) os tipos de objetos são imutáveis, e são copied-when-modified, no Python, isso não é verdade.\n",
        "\n",
        "Do artigo do Ned Batchelder:\n",
        "\n",
        "> This Mutable Presto-Chango is the biggest issue people have with Python’s names and values. A value is shared by more than one name, and is modified, and all names see the change.\n",
        "\n",
        "> Keep in mind, this is not a bug in Python, however much you might wish that it worked differently. Many values have more than one name at certain points in your program, and it’s perfectly fine to mutate values and have all the names see the change. The alternative would be for assignment to copy values, and that would make your programs unbearably slow."
      ]
    },
    {
      "cell_type": "markdown",
      "metadata": {
        "id": "i5OVKp9_SRyg"
      },
      "source": [
        "Agora, vocês sabem o mecanismo por trás desse comportamento, e podem evitar cometer erros em relação à isso.\n",
        "\n",
        "Quando vocês vão criar um objeto mutável com base em outro, deve-se perguntar: \"eu quero que esse nome tenha a sua própria cópia independente dos dados, ou quero que ambos os nomes façam referência ao mesmo dado?\".\n",
        "\n",
        "- Se a sua intenção é a segunda, faça `y = x`.\n",
        "- Se é a segunda, os objetos mutáveis tem um método `.copy()` exatamente para isso, faca `y = x.copy()`"
      ]
    },
    {
      "cell_type": "markdown",
      "metadata": {
        "id": "Cie6bz08SRyg"
      },
      "source": [
        "<div class=\"double-hrule\"></div>\n",
        "\n",
        "## Recapitulando!\n",
        "\n",
        "1. Conceitos importantes de OOP\n",
        "*   Classe: Estrutura dos objetos\n",
        "*   Objeto: A base de tudo\n",
        "*   Encapsulamento: Os dados e operações são protegidos, é necessário conhecimento prévio para interagir com uma classe\n",
        "*   Herança: Uma classe (subclasse) pode reutilizar códigos de outras classes (superclasses)\n",
        "*   Poliformismo: Classes podem adotar métodos com o mesmo nome, mas que geram comportamentos diferentes\n",
        "*   Abstração: Os dados e operações são parcialmente ocultos, para simplificar o uso\n",
        "2. Tipos de coleções (estruturas de dados)\n",
        "*   Listas: ordenada, mutável, \"[]\"\n",
        "*   Tuplas: ordenada, imutável,\"()\"\n",
        "*   Dicts: ordenada, mutável, acesso dos itens por meio de chaves, \"{}\"\n",
        "*   Sets: desordenada, mutável, \"{}\"\n",
        "3. Variáveis\n",
        "*   Variável = nome associado a um valor, pense nisso como numa equação matemática \"f(x)\" em que podemos atribuir valores quaisquer a x, que seria o nome da variável, a fim de encontrar um resultado y.\n",
        "*   Nós podemos mudar os valores das variáveis após a definição de uma variável, no nosso exemplo, podemos no mesmo código escrever que x vale 1 e depois mudar para x = 2, por exemplo.\n",
        "*   Em python, variáveis são mutáveis!"
      ]
    },
    {
      "cell_type": "markdown",
      "metadata": {
        "id": "Que1r3wNSRyh"
      },
      "source": [
        "<div class=\"double-hrule\"></div>\n",
        "\n",
        "## Extras\n",
        "<!--Realizar melhorias nessa seção é secundário-->\n",
        "\n",
        "<!--Resumir (em tópicos) o que será visto nesta seção, e como os alunos devem abordar o estudo desses temas (avisar se é algo bem avançado, difícil de entender, se é algo mais \"decoreba\", etc-->"
      ]
    },
    {
      "cell_type": "markdown",
      "metadata": {
        "id": "53UlsofASRyh"
      },
      "source": [
        "### f-strings\n",
        "\n",
        "É uma forma simples de estruturar uma string (texto) dentro do python. Isso permite personalizar mensagens de forma rápida."
      ]
    },
    {
      "cell_type": "code",
      "source": [
        "#Exemplo de f-string\n",
        "\n",
        "nome = 'Maria'\n",
        "idade = 30\n",
        "\n",
        "# Usando f-string para formar a mensagem\n",
        "mensagem = f'{nome} tem {idade} anos.'\n",
        "print(mensagem)"
      ],
      "metadata": {
        "id": "dK4ZFbgwBfYt"
      },
      "execution_count": null,
      "outputs": []
    },
    {
      "cell_type": "markdown",
      "metadata": {
        "id": "mOx1_sGWSRyh"
      },
      "source": [
        "### Funções Úteis\n",
        "\n",
        "<!--Melhorar os exemplos, e adicionar markdown explicando. Muitos exemplos não rodam, ou não tem seu resultado printado, corrigir isso.-->"
      ]
    },
    {
      "cell_type": "markdown",
      "metadata": {
        "id": "BE9X-0edSRyh"
      },
      "source": [
        "Daqui em diante, a aula é 100% expositiva. Vamos explicar as funções mais essenciais, e o resto fica aqui de consulta para vocês.\n",
        "\n",
        "Referência: https://docs.python.org/3/library/functions.html"
      ]
    },
    {
      "cell_type": "markdown",
      "metadata": {
        "id": "5LqkrxJKSRyh"
      },
      "source": [
        "#### Funções relacionadas à tipos de variáveis"
      ]
    },
    {
      "cell_type": "code",
      "execution_count": null,
      "metadata": {
        "id": "iM0CZT9tSRyh",
        "outputId": "c6f4e51e-d4be-42ad-a6cc-d7f1fa1d6356"
      },
      "outputs": [
        {
          "data": {
            "text/plain": [
              "(False, True, True)"
            ]
          },
          "execution_count": 155,
          "metadata": {},
          "output_type": "execute_result"
        }
      ],
      "source": [
        "# O que é: bool é a classe \"binária\", ou seja, fala se o valor, no output, é \"certo\" ou \"errado\". Se o argumento (o que está escrito entre parênteses) conter um zero, nenhum número, ou não é o que estamos procurando, este processo retornará com um \"false\". Caso contrário, o output será \"true\".\n",
        "\n",
        "# Para que serve: essa classe é na verdade uma subclasse da classe \"int\" (classe apresentada na seção \"Funções relacionadas à tipos de variáveis\"). Ela é usada para decobrirmos se um argumento é verdadeiro/falso.\n",
        "\n",
        "bool(0), bool(1), bool(1811275162543)"
      ]
    },
    {
      "cell_type": "code",
      "execution_count": null,
      "metadata": {
        "id": "W15hHFjQSRyh",
        "outputId": "d0cbd3e8-d0f2-43ed-b595-e0f6c1c3914a"
      },
      "outputs": [
        {
          "data": {
            "text/plain": [
              "(10.0, 3.5, 3.5)"
            ]
          },
          "execution_count": 156,
          "metadata": {},
          "output_type": "execute_result"
        }
      ],
      "source": [
        "# O que é: float() é a classe que transforma um número escrito sem ponto ou como uma mistura de letras e números em um número com número decimais.\n",
        "\n",
        "# Para que serve: essa classe é na verdade uma subclasse da classe \"int\" (classe apresentada na seção \"Funções relacionadas à tipos de variáveis\"). Ela é usada para conseguirmos trabalhar com números mais precisos e menores, sem zeros demais, por exemplo.\n",
        "\n",
        "float(10), float(3.5), float('3.5')"
      ]
    },
    {
      "cell_type": "code",
      "execution_count": null,
      "metadata": {
        "id": "8fcUr51oSRyi",
        "outputId": "e56179de-f0d4-4ca1-e8cd-2c589952cd0a"
      },
      "outputs": [
        {
          "data": {
            "text/plain": [
              "'8'"
            ]
          },
          "execution_count": 157,
          "metadata": {},
          "output_type": "execute_result"
        }
      ],
      "source": [
        "# O que é: int() é a classe que transforma um número escrito com número decimais ou como uma mistura de letras e números em um número sem número decimais e arrendodado. Quando não colocamos número, o output é zero.\n",
        "\n",
        "# Para que serve: essa classe é usada para podermos trabalhar com números sem decimais, e também para ajudar a evitar bugs ao rodar o código com números com muitas casas decimais.\n",
        "\n",
        "int('8'), int(10.7)"
      ]
    },
    {
      "cell_type": "code",
      "source": [
        "# O que é: str() é a classe que transforma em string o que está em parênteses, independente do que seja.\n",
        "\n",
        "# Para que serve: essa classe é usada para os bytes, como tudo está escrito nos parênteses, por padrão, serem convertidos em string. Esse método funciona sem que os argumentos sejam codificados ou seja, os eventuais erros de codificação não são apresentados.\n",
        "\n",
        "str(8)"
      ],
      "metadata": {
        "colab": {
          "base_uri": "https://localhost:8080/",
          "height": 35
        },
        "id": "fOpK5jFr2KXH",
        "outputId": "91d1a9a1-1fba-465c-f7da-3d7667940870"
      },
      "execution_count": null,
      "outputs": [
        {
          "output_type": "execute_result",
          "data": {
            "text/plain": [
              "'8'"
            ],
            "application/vnd.google.colaboratory.intrinsic+json": {
              "type": "string"
            }
          },
          "metadata": {},
          "execution_count": 1
        }
      ]
    },
    {
      "cell_type": "code",
      "execution_count": null,
      "metadata": {
        "id": "G1gDLNXFSRyi",
        "outputId": "7dd7e451-47be-4a68-be54-150678b757d5",
        "colab": {
          "base_uri": "https://localhost:8080/"
        }
      },
      "outputs": [
        {
          "output_type": "execute_result",
          "data": {
            "text/plain": [
              "list"
            ]
          },
          "metadata": {},
          "execution_count": 2
        }
      ],
      "source": [
        "# O que é: type() é a classe que identifica o que está escrito entre parênteses.\n",
        "\n",
        "# Para que serve: essa classe é usada para identificar qualquer tipo de módulo padrão, que são os tipos incorporados por padrão (são todos os módulos vistos até aqui até o final da seção \"Outras funções\").\n",
        "\n",
        "type([1, 2])"
      ]
    },
    {
      "cell_type": "markdown",
      "metadata": {
        "id": "qLTTkWj3SRyn"
      },
      "source": [
        "#### Funções sobre criação de variáveis"
      ]
    },
    {
      "cell_type": "code",
      "execution_count": null,
      "metadata": {
        "id": "qxTpG-DISRyn",
        "outputId": "b9166422-e6a1-4c67-de75-5b21baa59315"
      },
      "outputs": [
        {
          "data": {
            "text/plain": [
              "{1: False, 2: False, 3: True, 4: True}"
            ]
          },
          "execution_count": 159,
          "metadata": {},
          "output_type": "execute_result"
        }
      ],
      "source": [
        "# O que é: dict() é a classe que cria um \"dicionário\" entre palavras e números (sejam eles com decimais, ou não).\n",
        "\n",
        "# Para que serve:\n",
        "a = dict(one=1, two=2, three=3.2)\n",
        "b = {'one': 1, 'two': 2, 'three': 3.2}\n",
        "c = dict(zip(['one', 'two', 'three'], [1, 2, 3.2]))\n",
        "a == b == c"
      ]
    },
    {
      "cell_type": "code",
      "execution_count": null,
      "metadata": {
        "id": "EC-MIeNYSRyn",
        "outputId": "9d1c877f-27ce-49b1-964c-9bd5d9b7d2c1"
      },
      "outputs": [
        {
          "data": {
            "text/plain": [
              "[]"
            ]
          },
          "execution_count": 160,
          "metadata": {},
          "output_type": "execute_result"
        }
      ],
      "source": [
        "list()"
      ]
    },
    {
      "cell_type": "code",
      "execution_count": null,
      "metadata": {
        "id": "YHlE_w7KSRyo",
        "outputId": "924fcfc9-fdc4-412f-d528-2b6bfed4357f"
      },
      "outputs": [
        {
          "data": {
            "text/plain": [
              "{1, 2, 3, 4}"
            ]
          },
          "execution_count": 161,
          "metadata": {},
          "output_type": "execute_result"
        }
      ],
      "source": [
        "set([1,2,2,3,4])"
      ]
    },
    {
      "cell_type": "code",
      "execution_count": null,
      "metadata": {
        "id": "wYcDgFAkSRyo",
        "outputId": "5b7425ab-a189-4cb0-c90f-799e1ea98e81"
      },
      "outputs": [
        {
          "data": {
            "text/plain": [
              "(1, 2, 3, 4)"
            ]
          },
          "execution_count": 162,
          "metadata": {},
          "output_type": "execute_result"
        }
      ],
      "source": [
        "tuple(my_list)"
      ]
    },
    {
      "cell_type": "code",
      "execution_count": null,
      "metadata": {
        "id": "ZcOLAZMYSRyo",
        "outputId": "59c244bd-3836-463e-d339-4cd36a76a272"
      },
      "outputs": [
        {
          "data": {
            "text/plain": [
              "tuple"
            ]
          },
          "execution_count": 163,
          "metadata": {},
          "output_type": "execute_result"
        }
      ],
      "source": [
        "type((1, 2))"
      ]
    },
    {
      "cell_type": "markdown",
      "metadata": {
        "id": "Y__R1O4xSRyo"
      },
      "source": [
        "#### Outras funções"
      ]
    },
    {
      "cell_type": "code",
      "execution_count": null,
      "metadata": {
        "id": "_4x-gQRDSRyo",
        "outputId": "c39944dd-c3ac-4a2a-a59f-087c0235b75f"
      },
      "outputs": [
        {
          "data": {
            "text/plain": [
              "([1, 2, 3, 4], '[1, 2, 3, 4]', [1, 2, 3, 4], 3)"
            ]
          },
          "execution_count": 164,
          "metadata": {},
          "output_type": "execute_result"
        }
      ],
      "source": [
        "my_list, repr(my_list), eval(repr(my_list)), eval('1+2')\n",
        "# eval(): avalia um string para ver se tem como fazer contas lá dentro → se der, devolve quanto que dá"
      ]
    },
    {
      "cell_type": "code",
      "execution_count": null,
      "metadata": {
        "id": "SzPbmpvsSRyp",
        "outputId": "4c629305-1c44-427b-c5e5-d819bca245c5"
      },
      "outputs": [
        {
          "data": {
            "text/plain": [
              "''"
            ]
          },
          "execution_count": 165,
          "metadata": {},
          "output_type": "execute_result"
        }
      ],
      "source": [
        "input(\"A aula tá legal? \") #recebe algum valor do terminal"
      ]
    },
    {
      "cell_type": "markdown",
      "metadata": {
        "id": "uoZh0QDhSRyp"
      },
      "source": [
        "#### Funções matemáticas e lógicas"
      ]
    },
    {
      "cell_type": "code",
      "execution_count": 1,
      "metadata": {
        "id": "QRqLS7V1SRyp",
        "outputId": "47962f7a-91d6-46d0-d7c3-a4e2e0c5d32f",
        "colab": {
          "base_uri": "https://localhost:8080/",
          "height": 211
        }
      },
      "outputs": [
        {
          "output_type": "error",
          "ename": "TypeError",
          "evalue": "abs() takes exactly one argument (0 given)",
          "traceback": [
            "\u001b[0;31m---------------------------------------------------------------------------\u001b[0m",
            "\u001b[0;31mTypeError\u001b[0m                                 Traceback (most recent call last)",
            "\u001b[0;32m<ipython-input-1-e41fc4f9105a>\u001b[0m in \u001b[0;36m<cell line: 1>\u001b[0;34m()\u001b[0m\n\u001b[0;32m----> 1\u001b[0;31m \u001b[0mabs\u001b[0m\u001b[0;34m(\u001b[0m\u001b[0;34m)\u001b[0m \u001b[0;31m#módulo\u001b[0m\u001b[0;34m\u001b[0m\u001b[0;34m\u001b[0m\u001b[0m\n\u001b[0m\u001b[1;32m      2\u001b[0m \u001b[0mdivmod\u001b[0m\u001b[0;34m(\u001b[0m\u001b[0;34m)\u001b[0m \u001b[0;31m#número, divisor. resultado: (parte inteira, resto)\u001b[0m\u001b[0;34m\u001b[0m\u001b[0;34m\u001b[0m\u001b[0m\n\u001b[1;32m      3\u001b[0m \u001b[0mmax\u001b[0m\u001b[0;34m(\u001b[0m\u001b[0;34m)\u001b[0m\u001b[0;34m\u001b[0m\u001b[0;34m\u001b[0m\u001b[0m\n\u001b[1;32m      4\u001b[0m \u001b[0mmin\u001b[0m\u001b[0;34m(\u001b[0m\u001b[0;34m)\u001b[0m\u001b[0;34m\u001b[0m\u001b[0;34m\u001b[0m\u001b[0m\n\u001b[1;32m      5\u001b[0m \u001b[0mpow\u001b[0m\u001b[0;34m(\u001b[0m\u001b[0;34m)\u001b[0m \u001b[0;31m#base, expoente\u001b[0m\u001b[0;34m\u001b[0m\u001b[0;34m\u001b[0m\u001b[0m\n",
            "\u001b[0;31mTypeError\u001b[0m: abs() takes exactly one argument (0 given)"
          ]
        }
      ],
      "source": [
        "abs() #módulo\n",
        "divmod() #número, divisor. resultado: (parte inteira, resto)\n",
        "max()\n",
        "min()\n",
        "pow() #base, expoente\n",
        "round() #número, dígitos\n",
        "sum()\n",
        "all([True, True, False]) # True se todos os argumentos são true\n",
        "any([True, True, False]) # True se pelo menos um argumento é verdadeiro"
      ]
    },
    {
      "cell_type": "code",
      "execution_count": 4,
      "metadata": {
        "id": "hrRWJbvESRyp",
        "colab": {
          "base_uri": "https://localhost:8080/"
        },
        "outputId": "abcecb99-fc7c-4d96-adc3-31c00bdf7d6d"
      },
      "outputs": [
        {
          "output_type": "execute_result",
          "data": {
            "text/plain": [
              "(3, 3)"
            ]
          },
          "metadata": {},
          "execution_count": 4
        }
      ],
      "source": [
        "abs(-3), abs(3)"
      ]
    },
    {
      "cell_type": "code",
      "execution_count": 3,
      "metadata": {
        "id": "7vWg7dWcSRyp",
        "colab": {
          "base_uri": "https://localhost:8080/"
        },
        "outputId": "15ed0700-20a6-444c-dd1b-d47b17a2a788"
      },
      "outputs": [
        {
          "output_type": "execute_result",
          "data": {
            "text/plain": [
              "(1, 2)"
            ]
          },
          "metadata": {},
          "execution_count": 3
        }
      ],
      "source": [
        "divmod(7, 5)"
      ]
    },
    {
      "cell_type": "code",
      "execution_count": 2,
      "metadata": {
        "id": "H22LS8cQSRyp",
        "colab": {
          "base_uri": "https://localhost:8080/"
        },
        "outputId": "54408fb6-d705-4144-b8ee-510813619969"
      },
      "outputs": [
        {
          "output_type": "execute_result",
          "data": {
            "text/plain": [
              "3.1264"
            ]
          },
          "metadata": {},
          "execution_count": 2
        }
      ],
      "source": [
        "round(3.1263817241864518742612, 4)"
      ]
    },
    {
      "cell_type": "markdown",
      "metadata": {
        "id": "1PyaDjE0SRyq"
      },
      "source": [
        "#### Funções relacionadas à tipos de variáveis"
      ]
    },
    {
      "cell_type": "code",
      "execution_count": null,
      "metadata": {
        "id": "Fdl8i65KSRyq"
      },
      "outputs": [],
      "source": [
        "bin(10)\n",
        "hex(445125215) # números hexadecimais\n",
        "int('1000', 2) # \"1000 base 2\"\n",
        "ord('a'), chr(97) # o item numero 97 no 'dicionário' UNICODE\n",
        "chr(ord('a'))\n",
        "ord(chr(98))"
      ]
    },
    {
      "cell_type": "markdown",
      "metadata": {
        "id": "Cn3OyV_FSRyq"
      },
      "source": [
        "#### Funções sobre armazenamento de variáveis"
      ]
    },
    {
      "cell_type": "code",
      "execution_count": null,
      "metadata": {
        "id": "JJ1aY1xCSRyq"
      },
      "outputs": [],
      "source": [
        "a = 10 #lembre deste 10!\n",
        "repr(dir())\n",
        "# repr: retorna um string do objeto\n",
        "# dir: todas os nomes no diretório atual"
      ]
    },
    {
      "cell_type": "code",
      "execution_count": null,
      "metadata": {
        "id": "ntwLw0WjSRyq"
      },
      "outputs": [],
      "source": [
        "repr(dir([1,3]))"
      ]
    },
    {
      "cell_type": "code",
      "execution_count": null,
      "metadata": {
        "id": "anCMDJgrSRyq"
      },
      "outputs": [],
      "source": [
        "list(globals().items())[1:5]"
      ]
    },
    {
      "cell_type": "code",
      "execution_count": null,
      "metadata": {
        "id": "-sPn6LDJSRyr"
      },
      "outputs": [],
      "source": [
        "dict(list(globals().items()))\n",
        "dict(list(globals().items()))['__name__']"
      ]
    },
    {
      "cell_type": "markdown",
      "metadata": {
        "id": "AHn46_wrSRyr"
      },
      "source": [
        "#### Outras funções"
      ]
    },
    {
      "cell_type": "code",
      "execution_count": null,
      "metadata": {
        "id": "hv-rHJMTSRyr"
      },
      "outputs": [],
      "source": [
        "open(file_path, mode) #abre um arquivo\n",
        "#Mode: 'r', 'w', 'x', 'a'; '+'; 'b' ou 't'\n",
        "# 'r' = read\n",
        "# 'w' = write\n",
        "# 'x' = Create\n",
        "# 'a' = Append\n",
        "# 'b' = Binary\n",
        "# 't' = Text"
      ]
    },
    {
      "cell_type": "code",
      "execution_count": null,
      "metadata": {
        "id": "oycCcI19SRyr"
      },
      "outputs": [],
      "source": [
        "help() #abre o prompt de ajuda no terminal"
      ]
    },
    {
      "cell_type": "markdown",
      "metadata": {
        "id": "wesNRvmeSRyr"
      },
      "source": [
        "### Bibliotecas\n",
        "\n",
        "<!--Texto (enxuto, objetivo) de o que são bibliotecas. Explicar a diferença de biblioteca, pacote, e módulo, e padronizar a nomenclatura deste documento-->\n",
        "\n",
        "<!--Melhorar os exemplos, e adicionar markdown explicando. Muitos exemplos não rodam, ou não tem seu resultado printado, corrigir isso-->"
      ]
    },
    {
      "cell_type": "markdown",
      "metadata": {
        "id": "jmn5zKWzSRyr"
      },
      "source": [
        "#### Como Instalar Bibliotecas"
      ]
    },
    {
      "cell_type": "markdown",
      "metadata": {
        "id": "zhh1tNnHSRyr"
      },
      "source": [
        "Referência: https://packaging.python.org/en/latest/tutorials/installing-packages/\n",
        "\n",
        "Checar instalação do python (digitar no terminal):\n",
        "> py --version\n",
        "\n",
        "Checar instalação do pip, o instalador de pacotes:\n",
        "> py -m pip --version\n",
        "\n",
        "Instalar o pacote pelo nome:\n",
        "> py -m pip install nome_do_pacote"
      ]
    },
    {
      "cell_type": "markdown",
      "metadata": {
        "id": "_XAJpY80SRys"
      },
      "source": [
        "#### Módulo math"
      ]
    },
    {
      "cell_type": "markdown",
      "metadata": {
        "id": "Ol-79y_lSRys"
      },
      "source": [
        "Referência: https://docs.python.org/3/library/math.html"
      ]
    },
    {
      "cell_type": "code",
      "execution_count": null,
      "metadata": {
        "id": "dr5OG9PFSRys"
      },
      "outputs": [],
      "source": [
        "import math"
      ]
    },
    {
      "cell_type": "code",
      "execution_count": null,
      "metadata": {
        "id": "PJ3rJImuSRys"
      },
      "outputs": [],
      "source": [
        "round(math.pi, 3)"
      ]
    },
    {
      "cell_type": "code",
      "execution_count": null,
      "metadata": {
        "id": "kADzAwQzSRys"
      },
      "outputs": [],
      "source": [
        "math.ceil()\n",
        "math.floor()\n",
        "math.trunc()\n",
        "math.modf(5.256) #(0.2560000000000002, 5.0)"
      ]
    },
    {
      "cell_type": "code",
      "execution_count": null,
      "metadata": {
        "id": "NDDopmDgSRys"
      },
      "outputs": [],
      "source": [
        "math.comb(k_items, n_opções) #n! / (k! * (n - k)!) ) (sem ordem, sem repetição)\n",
        "math.perm(k_items, n_opções) #n! / (n - k)! (com ordem, sem repetição)\n",
        "math.factorial(n)\n"
      ]
    },
    {
      "cell_type": "code",
      "execution_count": null,
      "metadata": {
        "id": "A4qdFN8LSRys"
      },
      "outputs": [],
      "source": [
        "math.gcd() #mdc\n",
        "math.lcm() #mmc"
      ]
    },
    {
      "cell_type": "code",
      "execution_count": null,
      "metadata": {
        "id": "IHkCH4T6SRyt"
      },
      "outputs": [],
      "source": [
        "# abs(a-b) <= max(rel_tol * max(abs(a), abs(b)), abs_tol)\n",
        "# rel_tol = tolerância relativa\n",
        "# abs_tol = tolerância absoluta\n",
        "print(math.isclose(5, 10, rel_tol=0.49, abs_tol=0))\n",
        "print(math.isclose(5, 10, rel_tol=0, abs_tol=5))"
      ]
    },
    {
      "cell_type": "code",
      "execution_count": null,
      "metadata": {
        "id": "PwrhlR2OSRyt"
      },
      "outputs": [],
      "source": [
        "math.isfinite()\n",
        "math.isinf()"
      ]
    },
    {
      "cell_type": "code",
      "execution_count": null,
      "metadata": {
        "id": "ksNcA3IDSRyt"
      },
      "outputs": [],
      "source": [
        "\n",
        "2**(0.5), math.sqrt(2)"
      ]
    },
    {
      "cell_type": "code",
      "execution_count": null,
      "metadata": {
        "id": "NklPDk8SSRyt"
      },
      "outputs": [],
      "source": [
        "print(math.dist((0,0), [1,1])) # distância euclidiana\n",
        "print(math.hypot(1,1,1,1,1)) # norma euclidiana → distância da origem até o ponto"
      ]
    },
    {
      "cell_type": "code",
      "execution_count": null,
      "metadata": {
        "id": "V5NMSga4SRyt"
      },
      "outputs": [],
      "source": [
        "math.cos(), math.sin(), math.tan() #etc.\n",
        "math.degrees(), math.radians() #conversão de um pro outro"
      ]
    },
    {
      "cell_type": "code",
      "execution_count": null,
      "metadata": {
        "id": "L08EqbXDSRyt"
      },
      "outputs": [],
      "source": [
        "math.e, math.pi, math.inf"
      ]
    },
    {
      "cell_type": "markdown",
      "metadata": {
        "id": "8xGwWWH3SRyu"
      },
      "source": [
        "#### Módulo statistics\n"
      ]
    },
    {
      "cell_type": "markdown",
      "metadata": {
        "id": "OuDkWJgfSRyu"
      },
      "source": [
        "Referência: https://docs.python.org/3/library/statistics.html"
      ]
    },
    {
      "cell_type": "code",
      "execution_count": null,
      "metadata": {
        "id": "QUeJM--9SRyu"
      },
      "outputs": [],
      "source": [
        "import statistics as stat"
      ]
    },
    {
      "cell_type": "code",
      "execution_count": null,
      "metadata": {
        "id": "8Eo6amzeSRyu"
      },
      "outputs": [],
      "source": [
        "stat.mean()\n",
        "stat.geometric_mean()\n",
        "stat.harmonic_mean()\n",
        "stat.median()\n",
        "stat.mode('aaabbb'), stat.multimode('aaabbbc') #('a', ['a', 'b'])"
      ]
    },
    {
      "cell_type": "code",
      "execution_count": null,
      "metadata": {
        "id": "Kq8MDB6jSRyu"
      },
      "outputs": [],
      "source": [
        "stat.quantiles(iterable, n_quantis, method) #método 'inclusive' se a amostra tiver os maiores valores da população, e 'exclusive' (default) c.c."
      ]
    },
    {
      "cell_type": "code",
      "execution_count": null,
      "metadata": {
        "id": "CHgVnEKESRyu"
      },
      "outputs": [],
      "source": [
        "stat.stdev(), stat.pstdev()\n",
        "stat.variance(), stat.pvariance()\n",
        "#versões amostrais e populacionais, respectivamente"
      ]
    },
    {
      "cell_type": "code",
      "execution_count": null,
      "metadata": {
        "id": "iWh9yPriSRyu"
      },
      "outputs": [],
      "source": [
        "stat.covariance()\n",
        "stat.correlation()"
      ]
    },
    {
      "cell_type": "markdown",
      "metadata": {
        "id": "i3xiwCBuSRyu"
      },
      "source": [
        "#### Módulo random\n"
      ]
    },
    {
      "cell_type": "markdown",
      "metadata": {
        "id": "IDCXzgSMSRyu"
      },
      "source": [
        "Referência: https://docs.python.org/3/library/random.html"
      ]
    },
    {
      "cell_type": "code",
      "execution_count": null,
      "metadata": {
        "id": "GbRN6wMnSRyu"
      },
      "outputs": [],
      "source": [
        "import random as rd"
      ]
    },
    {
      "cell_type": "code",
      "execution_count": null,
      "metadata": {
        "id": "zFSR2nyHSRyv"
      },
      "outputs": [],
      "source": [
        "rd.seed(seed)"
      ]
    },
    {
      "cell_type": "code",
      "execution_count": null,
      "metadata": {
        "id": "dUJMwnYySRyv"
      },
      "outputs": [],
      "source": [
        "rd.randint(1, 10), rd.random()"
      ]
    },
    {
      "cell_type": "code",
      "execution_count": null,
      "metadata": {
        "id": "NGQfx2dfSRyv"
      },
      "outputs": [],
      "source": [
        "rd.choices(my_list, weights=[0, 10, 80, 10], cum_weights=None, k=10)\n",
        "#rd.choices(my_list, weights=None, cum_weights=[0,m, 10, 90, 100], k=10)"
      ]
    },
    {
      "cell_type": "code",
      "execution_count": null,
      "metadata": {
        "id": "Z2JZMb4bSRyv"
      },
      "outputs": [],
      "source": [
        "print(my_list)\n",
        "rd.shuffle(my_list) #nenhum output\n",
        "my_list #alterou a lista"
      ]
    },
    {
      "cell_type": "code",
      "execution_count": null,
      "metadata": {
        "id": "V2Nya_vESRyv"
      },
      "outputs": [],
      "source": [
        "print(rd.sample(my_list, len(my_list), counts=None)) #nova lista\n",
        "print(my_list) #não alterou a lista\n",
        "print(rd.sample(my_list, 7, counts=[1, 2, 5, 2]))\n",
        "#a lista usada foi [3, 2, 2, 4, 4, 4, 4, 4, 1, 1]"
      ]
    },
    {
      "cell_type": "code",
      "execution_count": null,
      "metadata": {
        "id": "CAVWHt8cSRyv"
      },
      "outputs": [],
      "source": [
        "rd.uniform(2, 8)\n",
        "rd.gauss(mu, sigma)"
      ]
    },
    {
      "cell_type": "markdown",
      "metadata": {
        "id": "1eCDXPk7SRyv"
      },
      "source": [
        "#### Módulo os\n"
      ]
    },
    {
      "cell_type": "markdown",
      "metadata": {
        "id": "hPzFfRJFSRyv"
      },
      "source": [
        "Referências: https://docs.python.org/3/library/os.html,\n",
        " https://www.youtube.com/watch?v=tJxcKyFMTGo,\n",
        "https://www.programiz.com/python-programming/methods/built-in/repr\n"
      ]
    },
    {
      "cell_type": "code",
      "execution_count": null,
      "metadata": {
        "id": "RqvmT6GWSRyv"
      },
      "outputs": [],
      "source": [
        "import os"
      ]
    },
    {
      "cell_type": "code",
      "execution_count": null,
      "metadata": {
        "id": "XKYSbBDdSRyv",
        "colab": {
          "base_uri": "https://localhost:8080/"
        },
        "outputId": "bc9554d7-f9a8-4c94-aea3-5f58b66b598d"
      },
      "outputs": [
        {
          "output_type": "stream",
          "name": "stdout",
          "text": [
            "[1, 2, 3, 4, 5]\n"
          ]
        }
      ],
      "source": [
        "# \"repr()\"\n",
        "\n",
        "# O que é: esta função significa representation (representação). Ela retorna uma representação em string de um objeto que, idealmente, pode ser usada para recriar o objeto, facilitando a depuração.\n",
        "\n",
        "# Para que serve: esta função serve para inspecionarmos objetos, fornecendo uma representação de tudos os objetos. Tal inspecionamento é conhecido como depuração.\n",
        "\n",
        "# Ex.:\n",
        "numbers = [1, 2, 3, 4, 5]\n",
        "# Output da lista printada\n",
        "printable_numbers = repr(numbers)\n",
        "print(printable_numbers)"
      ]
    },
    {
      "cell_type": "code",
      "execution_count": null,
      "metadata": {
        "id": "HnYf9NJ9SRyw"
      },
      "outputs": [],
      "source": [
        "# \"os.getcwd()\"\n",
        "\n",
        "# O que é: esta função significa \"get current working directory\" (obter o diretório de trabalho atual).\n",
        "  # É uma função da biblioteca os (sistema operacional) que retorna o caminho do diretório de trabalho atual, ou seja, o diretório em que o programa está sendo executado da própria biblioteca os.\n",
        "\n",
        "# Para que serve: esta função serve para descobrirmos/relembramos onde está o script no sistema de arquivos (arquivo de código que usamos para programar em Python).\n",
        "\n",
        "# Ex. de comandos para executar essa função:\n",
        "#diretorio_atual = os.getcwd() # 1) Comando para obtermos o diretório de trabalho atual\n",
        "\n",
        "#print(\"Diretório de Trabalho Atual:\", diretorio_atual) # # 2) Comando para imprimirmos o diretório de trabalho atual.\n",
        "                                                            # Nesse exemplo não há diretório especificado, mas o seu nome apareceria antes de \"/content\" e depois dos dois pontos (\":\")."
      ]
    },
    {
      "cell_type": "code",
      "execution_count": null,
      "metadata": {
        "id": "w2pA8KdqSRyw"
      },
      "outputs": [],
      "source": [
        "# \"os.listdir()\"\n",
        "\n",
        "# O que é: esta função é conhecida como \"listdir\" (list + diretory/ lista + diretório). É uma função da biblioteca os (sistema operacional).\n",
        "  # Ela retorna a lista com os nomes dos arquivos regulares e diretórios contidos em um diretório especificado\n",
        "\n",
        "# Para que serve: esta função serve para listarmos o conteúdo de pastas no sistema de arquivos. Se nenhum diretório for especificado, ela usa o diretório de trabalho atual\n",
        "\n",
        "# Ex. de comandos para executar essa função:\n",
        "#import os #1) Importamos a biblioteca necessária para executar esta função.\n",
        "\n",
        "#diretorio = '.' # 2) Comando para especificarmos o diretório (use '.' para o diretório atual).\n",
        "\n",
        "#conteudo = os.listdir(diretorio) # 3) Comando para obtermos a lista de arquivos regulares e diretórios.\n",
        "\n",
        "#print(\"Conteúdo do diretório:\", conteudo) # 4) Comando para imprimir a lista."
      ]
    },
    {
      "cell_type": "code",
      "execution_count": null,
      "metadata": {
        "id": "1ZRZu6TxSRyw"
      },
      "outputs": [],
      "source": [
        "# \"os.rmdir()\"\n",
        "\n",
        "# O que é: a função \"rmdir\" é a abreviatura de \"remove\" + \"diretory\" (remover diretório). É uma função da biblioteca os (sistema operacional). Ela remove um diretório vazio.\n",
        "\n",
        "# Para que serve: esta função serve para limpar diretórios que não contêm mais arquivos ou subdiretórios. Se algum diretório não estiver vazio, a função apontará que não foi possível deletá-lo.\n",
        "\n",
        "# Ex. de comandos para executar essa função:\n",
        "\n",
        "#import os #1) Importamos a biblioteca necessária para executar esta função.\n",
        "\n",
        "#diretorio = 'diretorio_vazio' # 2) Especificamos o caminho do diretório que desejamos remover.\n",
        "\n",
        "#try: # 3) Opções dos comandos para os possíveis resultados:\n",
        "    #os.rmdir(diretorio)\n",
        "    #print(f\"O diretório '{diretorio}' foi removido com sucesso.\") # 3a) Comando para imprimir que tal diretório foi encontrado e removido.\n",
        "#except FileNotFoundError:\n",
        "    #print(f\"O diretório '{diretorio}' não foi encontrado.\") # 3b) Comando para imprimir que tal diretório não foi encontrado e por isso não foi removido.\n",
        "#except OSError:\n",
        "    #print(f\"O diretório '{diretorio}' não está vazio ou não pode ser removido.\") # 3c) Comando para imprimir que tal diretório não está vazio e por isso não foi removido."
      ]
    },
    {
      "cell_type": "code",
      "execution_count": null,
      "metadata": {
        "id": "k-nzQRoRSRyw"
      },
      "outputs": [],
      "source": [
        "# \"os.removedirs()\"\n",
        "\n",
        "# O que é: a função \"rmdir\" é a abreviatura de \"remove\" + \"diretories\" (remover diretórios).\n",
        "  # É uma função da biblioteca os (sistema operacional). Ela remove um diretório e todos os seus diretórios \"pais\" (originários), se estiverem vazios\n",
        "\n",
        "# Para que serve: está função serve para excluir uma estrutura de diretórios de uma vez, desde o mais aparente (interno) até o externo, garantindo que todos os diretórios vazios sejam removidos.\n",
        "  # Se algum diretório não estiver vazio, a função apontará que não foi possível deletá-lo.\n",
        "\n",
        "# Ex. de comandos para executar essa função:\n",
        "\n",
        "#import os #1) Importamos a biblioteca necessária para executar esta função.\n",
        "\n",
        "#os.makedirs('pasta/pasta_interna', exist_ok=True) # Criamos uma estrutura de diretórios para executarmos o comando.\n",
        "\n",
        "#try: # 3) Opções dos comandos para os possíveis resultados:\n",
        "    #os.removedirs('pasta/pasta_interna')\n",
        "    #print(\"Diretórios removidos com sucesso.\") # 3a) Comando para imprimir que tal parte da estrutura de diretórios foi encontrada e removida.\n",
        "#except FileNotFoundError:\n",
        "  #print(\"Um ou mais diretórios não foram encontrados.\") # 3b) Comando para imprimir que tal parte da estrutura de diretório não foi encontrada e por isso não foi removida.\n",
        "#except OSError:\n",
        "    #print(\"Um ou mais diretórios não estão vazios ou não podem ser removidos.\") # 3c) Comando para imprimir que tal parte da estrutura de diretório não está vazia e por isso não foi removida."
      ]
    },
    {
      "cell_type": "code",
      "execution_count": null,
      "metadata": {
        "id": "k4ajCqmvSRyw"
      },
      "outputs": [],
      "source": [
        "# \"os.rename\"\n",
        "\n",
        "# O que é: esta função se chama \"rename\" (renomear). É a função da biblioteca os (sistema operacional) que renomeia arquivos ou diretórios e os substitui pelo de mesmo nome.\n",
        "\n",
        "# Para que serve: ela pode ser usada para renomear um item (arquivo ou diretório), especificando o caminho atual e o novo nome desejado, e também para susbtituir arquivos.\n",
        "  # Sua principal utilidade é organizacional: dos arquivos e dos diretórios no sistema de arquivos.\n",
        "\n",
        "# 1. Ex.: comandos para renomear itens:\n",
        "\n",
        "#import os #1) Importamos a biblioteca necessária para executar esta função.\n",
        "\n",
        "# item_antigo = 'item_original.txt' # 2a) Especificamos o nome antigo que desejamos renomear.\n",
        "# item_novo = 'item_renomeado.txt' # 2b) Especificamos o nome novo que desejamos renomear.\n",
        "\n",
        "# try: # 3) Opções dos comandos para os possíveis resultados:\n",
        "    #os.rename(item_antigo, item_novo)\n",
        "    #print(f\"O arquivo foi renomeado para '{item_novo}'.\") # 3a) Comando para imprimir que tal item não foi encontrado\n",
        "#except FileNotFoundError:\n",
        "    #print(f\"O item '{item_antigo}' não foi encontrado.\") # 3b) Comando para imprimir que tal item não foi encontrado e por isso não foi renomeado.\n",
        "#except OSError:\n",
        "    #print(f\"O item '{item_antigo}' não está vazio ou não pode ser removido.\") # 3c) Comando para imprimir que tal item não existe e por isso não foi renomeado.\n",
        "\n",
        "# 2. Ex.: comandos para substituir itens:\n",
        "\n",
        "#import os #1) Importamos a biblioteca necessária para executar esta função.\n",
        "\n",
        "# item_antigo = 'item_original.txt' # 2a) Especificamos o nome antigo que desejamos substiruir. Lembre que é necessário especificar o tipo de item para a entendermos melhor o que o comando irá fazer.\n",
        "# item_novo = 'item_substituto.txt' # 2b) Especificamos o nome novo que desejamos substiruir. Lembre que é necessário especificar o tipo de item para a entendermos melhor o que o comando irá fazer.\n",
        "\n",
        "# try: # 4) Opções dos comandos para os possíveis resultados:\n",
        "    #os.rename(item_antigo, item_novo)\n",
        "    #print(f\"O arquivo foi substituído para '{item_novo}'.\") # 4a) Comando para imprimir que tal item foi encontrado e substituído.\n",
        "#except FileNotFoundError:\n",
        "    #print(f\"O item '{item_antigo}' não foi encontrado.\") # 4b) Comando para imprimir que tal item não foi encontrado e por isso não foi substituído.\n",
        "#except OSError:\n",
        "    #print(f\"O item '{item_antigo}' não está vazio ou não pode ser removido.\") # 3c) Comando para imprimir que tal item não existe e por isso não foi substituído."
      ]
    },
    {
      "cell_type": "code",
      "source": [
        "# \"os.stat\"\n",
        "\n",
        "# O que é: esta função é um método do objeto de caminho da biblioteca os ou da biblioteca pathlib que retorna informações sobre um arquivo regular ou diretório, como tamanho, permissões, data de modificação, etc.\n",
        "  #  Essa função fornece um objeto que contém vários atributos, permitindo acessar detalhes específicos sobre o arquivo regular ou diretório em questão.\n",
        "\n",
        "# Para que serve: esta função serve para obtermos metadados (dados de dados) sem precisar abrir o arquivo. Tais metadados são importantes para entendemos melhor atributos de um dado e não seu conteúdo.\n",
        "\n",
        "# Ex. de comandos para executar essa função:\n",
        "\n",
        "#import os\n",
        "#import time #1) Importamos as bibliotecas necessárias para executarmos esta função.\n",
        "\n",
        "#arquivo = 'exemplo.txt' # 2) Especificamos o nome do arquivo para o qual desejamos obter informações.\n",
        "\n",
        "#info = os.stat(arquivo) 3) Comando para sinalizarmos que queremos obter informações sobre o arquivo (metadados do arquivo).\n",
        "\n",
        "#print(\"Tamanho do arquivo:\", info.st_size, \"bytes\") # 4) Comando para imprimirmos o tamanho do arquivo.\n",
        "#print(f\"Data da última modificação: {time.ctime(info.st_mtime)}\") # 5) Comando para imprimirmos data e hora da última modificação.\n",
        "#print(f\"Permissões do arquivo: {oct(info.st_mode)}\") # 6) Comando para imprimirmos as permissões do arquivo.\n",
        "# 7) Comando para verificarmos qual o tipo de arquivo:\n",
        "#if stat.S_ISDIR(info.st_mode):\n",
        "    #print(f\"{info} é um diretório.\") # 7a) Comando para descobrimos se é um diretório.\n",
        "#elif stat.S_ISREG(info.st_mode):\n",
        "    #print(f\"{info} é um arquivo.\") # 7b) Comando para descobrirmos se é um arquivo regular.\n",
        "#else:\n",
        "    #print(f\"{info} é de um tipo desconhecido.\") # 7c) Comando para o código não travar se não for arquivo regular ou diretório o arquivo que está sendo analisado."
      ],
      "metadata": {
        "id": "Y-0J3K775Tfi"
      },
      "execution_count": null,
      "outputs": []
    },
    {
      "cell_type": "markdown",
      "metadata": {
        "id": "GPzKb0bFSRyw"
      },
      "source": [
        "#### Módulo ScyPy\n"
      ]
    },
    {
      "cell_type": "markdown",
      "metadata": {
        "id": "qAu3AmmDSRyw"
      },
      "source": [
        "Referências: https://docs.scipy.org/doc/scipy/tutorial/index.html#user-guide\n",
        "\n",
        "+ Estatística: https://scipy.github.io/devdocs/reference/stats.html\n",
        "+ Otimização: https://scipy.github.io/devdocs/reference/optimize.html\n",
        "+ Álgebra linear: https://scipy.github.io/devdocs/reference/linalg.html\n",
        "+ Interpolação: https://scipy.github.io/devdocs/reference/generated/scipy.interpolate.interp1d.html#scipy.interpolate.interp1d"
      ]
    },
    {
      "cell_type": "code",
      "execution_count": null,
      "metadata": {
        "id": "ueDb5dTnSRyw"
      },
      "outputs": [],
      "source": [
        "import scipy.stats # é um módulo da biblioteca SciPy em Python que fornece uma ampla gama de funções e classes para trabalhar com estatísticas e distribuições de probabilidade."
      ]
    },
    {
      "cell_type": "code",
      "execution_count": null,
      "metadata": {
        "id": "1YmrXGdJSRyw"
      },
      "outputs": [],
      "source": [
        "# O que é: esta função do módulo scipy.stats que realiza uma regressão linear entre duas variáveis\n",
        "\n",
        "# Para que serve: esta função retorna várias informações úteis sobre a relação linear entre os dados.\n",
        "\n",
        "# Ex. de comandos para executarmos essa função\n",
        "   # não precisamos conversar agora a fundo sobre essas analises, pois veremos na segunda parte do trainee.\n",
        "\n",
        "#import numpy as np # 0) biblioteca que veremos na próxima aula.\n",
        "#from scipy import stats # 1) Importamos as bibliotecas necessárias para executarmos esta função.\n",
        "\n",
        "#x = np.array([1, 2, 3, 4, 5])\n",
        "#y = np.array([2, 3, 5, 7, 11]) # 2) Definimos os números naturais em cada eixo de uma plano bidimensional.\n",
        "\n",
        "#print(\"Resultados da Regressão Linear:\") # 3) Comando para imprimirmos título das análises.\n",
        "#print(f\"Inclinação (slope): {slope}\") # 3a) Comando para imprimir análise em slope.\n",
        "#print(f\"Intercepto (intercept): {intercept}\") # 3b) Comando para imprimimos análise de intercepção.\n",
        "#print(f\"Coeficiente de Correlação (r-value): {r_value}\") # 3c) Comando para imprimirmos análise de coeficiente de correlação.\n",
        "#print(f\"Valor de p (p-value): {p_value}\") # 3d) Comando para imprimirmos análise de valor de p.\n",
        "#print(f\"Erro Padrão (std_err): {std_err}\") # 3e) Comando para código não não travar se tiver algum erro."
      ]
    },
    {
      "cell_type": "markdown",
      "metadata": {
        "id": "PFa_-d0rSRyw"
      },
      "source": [
        "Aqui, as funções menos essenciais, de consulta para vocês."
      ]
    },
    {
      "cell_type": "markdown",
      "metadata": {
        "id": "gkTgUekVSRyx"
      },
      "source": [
        "Referência: https://docs.python.org/3/library/functions.html"
      ]
    }
  ],
  "metadata": {
    "kernelspec": {
      "display_name": "Python 3",
      "language": "python",
      "name": "python3"
    },
    "language_info": {
      "codemirror_mode": {
        "name": "ipython",
        "version": 3
      },
      "file_extension": ".py",
      "mimetype": "text/x-python",
      "name": "python",
      "nbconvert_exporter": "python",
      "pygments_lexer": "ipython3",
      "version": "3.12.0"
    },
    "colab": {
      "provenance": [],
      "collapsed_sections": [
        "81HUXx0zSRyZ",
        "LkQaG-ILSRya",
        "CPoavNvRSRyd",
        "tEtc11mISRyd",
        "TTS7Lh8qSRyd",
        "Mh69Lb0SSRyd",
        "hsDgvIkYSRye",
        "53UlsofASRyh",
        "mOx1_sGWSRyh",
        "jmn5zKWzSRyr",
        "_XAJpY80SRys",
        "8xGwWWH3SRyu",
        "i3xiwCBuSRyu",
        "1eCDXPk7SRyv",
        "GPzKb0bFSRyw"
      ]
    }
  },
  "nbformat": 4,
  "nbformat_minor": 0
}